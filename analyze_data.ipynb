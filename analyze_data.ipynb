{
 "cells": [
  {
   "cell_type": "code",
   "execution_count": 1,
   "metadata": {},
   "outputs": [],
   "source": [
    "CONFIG_PATH = \"configs/finetune_CURIO_tmp.yml\""
   ]
  },
  {
   "cell_type": "code",
   "execution_count": 2,
   "metadata": {},
   "outputs": [
    {
     "name": "stdout",
     "output_type": "stream",
     "text": [
      "为了使用邮件提醒功能，请设置环境变量MY_QQ_EMAIL（QQ邮箱地址）与MY_QQ_EMAIL_PWD（QQ邮箱授权码）\n",
      "\u001b[1;33m------------------\u001b[0m\u001b[1;31m 2022-10-24 16:22:17 \u001b[0m\u001b[1;33m------------------\u001b[0m\n",
      "GPU ready...\n",
      "\u001b[1;33m------------------\u001b[0m\u001b[1;31m 2022-10-24 16:22:19 \u001b[0m\u001b[1;33m------------------\u001b[0m\n",
      "\u001b[1;33m\u001b[0m\u001b[1;32mDEBUG:\u001b[0m\u001b[1;33m at \u001b[0m\u001b[1;32m/home/TableSense/largedisk/wanrong/Curation-Modeling/process_data.py:364 get_model_input\u001b[0m\u001b[1;33m\u001b[0m\n",
      "\u001b[1;33m\u001b[0m\u001b[1;36mLoading prepared data...\u001b[0m\u001b[1;33m\u001b[0m\n",
      "\u001b[1;33m------------------\u001b[0m\u001b[1;31m 2022-10-24 16:22:19 \u001b[0m\u001b[1;33m------------------\u001b[0m\n"
     ]
    },
    {
     "name": "stderr",
     "output_type": "stream",
     "text": [
      "Version 7.5.0 of praw is outdated. Version 7.6.0 was released Tuesday May 10, 2022.\n"
     ]
    }
   ],
   "source": [
    "\n",
    "from utils import get_config\n",
    "from superdebug import debug\n",
    "from collections import Counter\n",
    "from urllib.parse import urlparse\n",
    "from process_data import get_model_input\n",
    "config = get_config(CONFIG_PATH, print_config = False) # default config\n",
    "target, original_feature_map, categorical_features, string_features, train_data, test_data, test_data_info, train_submission_upvote_df, num_all_users = get_model_input(config)"
   ]
  },
  {
   "cell_type": "code",
   "execution_count": 3,
   "metadata": {},
   "outputs": [
    {
     "name": "stdout",
     "output_type": "stream",
     "text": [
      "Counter({'r/The Positive Corner': 832, 'r/Trivia': 756, 'r/Out of Context Quotes': 752, 'r/Team Mignon': 712, 'r/Food': 540, 'r/LOLCHI': 441, 'r/Team Llama': 420, 'r/Random': 374, 'r/Team PhThree': 98, 'r/Stanford HCI': 20})\n"
     ]
    }
   ],
   "source": [
    "subreddit_datapoint_counter = Counter(train_data[\"SUBREDDIT\"]) + Counter(test_data[\"SUBREDDIT\"])\n",
    "print(subreddit_datapoint_counter)"
   ]
  },
  {
   "cell_type": "code",
   "execution_count": 4,
   "metadata": {},
   "outputs": [],
   "source": [
    "url_counter = Counter([urlparse(_).netloc for _ in train_data[\"SUBMISSION_URL\"].to_list()])"
   ]
  },
  {
   "cell_type": "code",
   "execution_count": 5,
   "metadata": {},
   "outputs": [
    {
     "name": "stdout",
     "output_type": "stream",
     "text": [
      "\u001b[1;33m------------------\u001b[0m\u001b[1;31m 2022-10-24 16:22:21 \u001b[0m\u001b[1;33m------------------\u001b[0m\n",
      "\u001b[1;33m\u001b[0m\u001b[1;32mDEBUG:\u001b[0m\u001b[1;33m 4 vars: ['train_upvote', 'train_downvote', 'test_upvote', 'test_downvote'], at \u001b[0m\u001b[1;32m<ipython-input-5-bf241b5dc052>:5 <module>\u001b[0m\u001b[1;33m\u001b[0m\n",
      "\u001b[1;33m0 / 1.\u001b[0m \u001b[1;33m \u001b[0m\u001b[1;36mtrain_upvote\u001b[0m\u001b[1;33m num val: 565\u001b[0m\n",
      "\u001b[1;33m1 / 2.\u001b[0m \u001b[1;33m \u001b[0m\u001b[1;36mtrain_downvote\u001b[0m\u001b[1;33m num val: 3391\u001b[0m\n",
      "\u001b[1;33m2 / 3.\u001b[0m \u001b[1;33m \u001b[0m\u001b[1;36mtest_upvote\u001b[0m\u001b[1;33m num val: 141\u001b[0m\n",
      "\u001b[1;33m3 / 4.\u001b[0m \u001b[1;33m \u001b[0m\u001b[1;36mtest_downvote\u001b[0m\u001b[1;33m num val: 848\u001b[0m\n",
      "\u001b[1;33m------------------\u001b[0m\u001b[1;31m 2022-10-24 16:22:21 \u001b[0m\u001b[1;33m------------------\u001b[0m\n"
     ]
    }
   ],
   "source": [
    "from collections import Counter, defaultdict, OrderedDict\n",
    "debug(train_upvote = sum(train_data[\"VOTE\"] == 1),\n",
    "    train_downvote = sum(train_data[\"VOTE\"] == 0),\n",
    "    test_upvote = sum(test_data[\"VOTE\"] == 1),\n",
    "    test_downvote = sum(test_data[\"VOTE\"] == 0),\n",
    "    )\n",
    "user_votes = Counter()\n",
    "submission_votes = Counter()\n",
    "subreddit_subreddit_votes = defaultdict(Counter)\n",
    "for row_i, row in train_data.iterrows():\n",
    "    submission_votes[row[\"SUBMISSION_ID\"]] += 1\n",
    "    user_votes[row[\"USERNAME\"]] += 1\n",
    "    subreddit_subreddit_votes[row[\"SUBREDDIT\"]][row[\"VOTE\"]] += 1\n",
    "    if \"users\" not in subreddit_subreddit_votes[row[\"SUBREDDIT\"]]:\n",
    "        subreddit_subreddit_votes[row[\"SUBREDDIT\"]][\"users\"] = set()\n",
    "    subreddit_subreddit_votes[row[\"SUBREDDIT\"]][\"users\"].add(row[\"USERNAME\"])\n"
   ]
  },
  {
   "cell_type": "code",
   "execution_count": 6,
   "metadata": {},
   "outputs": [
    {
     "name": "stdout",
     "output_type": "stream",
     "text": [
      "\u001b[1;33m------------------\u001b[0m\u001b[1;31m 2022-10-24 16:22:22 \u001b[0m\u001b[1;33m------------------\u001b[0m\n",
      "\u001b[1;33m\u001b[0m\u001b[1;32mDEBUG:\u001b[0m\u001b[1;33m 1 vars: ['distribution'], at \u001b[0m\u001b[1;32m<ipython-input-6-07c3b14be516>:12 draw_histogram\u001b[0m\u001b[1;33m\u001b[0m\n",
      "\u001b[1;33m0 / 5.\u001b[0m \u001b[1;33m \u001b[0m\u001b[1;36mdistribution\u001b[0m\u001b[1;33m str len 257: OrderedDict([(31, 1), (37, 1), (38, 1), (43, 2), (56, 1), (57, 1), (104, 1), (105, 1), (120, 1), (135, 1), (136, 1), (140, 1), (149, 1), (151, 1), (168, 1), (182, 1), (206, 1), (210, 1), (223, 1), (227, 1), (243, 1), (244, 1), (299, 1), (300, 1), (309, 1)])\u001b[0m\n",
      "\u001b[1;33m------------------\u001b[0m\u001b[1;31m 2022-10-24 16:22:22 \u001b[0m\u001b[1;33m------------------\u001b[0m\n",
      "\u001b[1;33m------------------\u001b[0m\u001b[1;31m 2022-10-24 16:22:22 \u001b[0m\u001b[1;33m------------------\u001b[0m\n",
      "\u001b[1;33m\u001b[0m\u001b[1;32mDEBUG:\u001b[0m\u001b[1;33m at \u001b[0m\u001b[1;32m<ipython-input-6-07c3b14be516>:14 draw_histogram\u001b[0m\u001b[1;33m\u001b[0m\n",
      "\u001b[1;33m\u001b[0m\u001b[1;36m10% of x take up 7.6923% of distribution\u001b[0m\u001b[1;33m\u001b[0m\n",
      "\u001b[1;33m------------------\u001b[0m\u001b[1;31m 2022-10-24 16:22:22 \u001b[0m\u001b[1;33m------------------\u001b[0m\n"
     ]
    },
    {
     "data": {
      "image/png": "[encoded data removed]",
      "text/plain": [
       "<Figure size 432x288 with 1 Axes>"
      ]
     },
     "metadata": {},
     "output_type": "display_data"
    },
    {
     "name": "stdout",
     "output_type": "stream",
     "text": [
      "\u001b[1;33m------------------\u001b[0m\u001b[1;31m 2022-10-24 16:22:22 \u001b[0m\u001b[1;33m------------------\u001b[0m\n",
      "\u001b[1;33m\u001b[0m\u001b[1;32mDEBUG:\u001b[0m\u001b[1;33m at \u001b[0m\u001b[1;32m<ipython-input-6-07c3b14be516>:19 draw_histogram\u001b[0m\u001b[1;33m\u001b[0m\n",
      "\u001b[1;33m\u001b[0m\u001b[1;36mFigure saved in output/user_votes_distribution.png\u001b[0m\u001b[1;33m\u001b[0m\n",
      "\u001b[1;33m------------------\u001b[0m\u001b[1;31m 2022-10-24 16:22:22 \u001b[0m\u001b[1;33m------------------\u001b[0m\n",
      "\u001b[1;33m------------------\u001b[0m\u001b[1;31m 2022-10-24 16:22:22 \u001b[0m\u001b[1;33m------------------\u001b[0m\n",
      "\u001b[1;33m\u001b[0m\u001b[1;32mDEBUG:\u001b[0m\u001b[1;33m 1 vars: ['distribution'], at \u001b[0m\u001b[1;32m<ipython-input-6-07c3b14be516>:12 draw_histogram\u001b[0m\u001b[1;33m\u001b[0m\n",
      "\u001b[1;33m0 / 6.\u001b[0m \u001b[1;33m \u001b[0m\u001b[1;36mdistribution\u001b[0m\u001b[1;33m str len 197: OrderedDict([(1, 1), (3, 3), (4, 29), (5, 36), (6, 52), (7, 36), (8, 17), (9, 2), (10, 8), (11, 12), (12, 27), (13, 35), (14, 46), (15, 32), (16, 21), (17, 14), (18, 7), (19, 4), (20, 1), (21, 1)])\u001b[0m\n",
      "\u001b[1;33m------------------\u001b[0m\u001b[1;31m 2022-10-24 16:22:22 \u001b[0m\u001b[1;33m------------------\u001b[0m\n",
      "\u001b[1;33m------------------\u001b[0m\u001b[1;31m 2022-10-24 16:22:22 \u001b[0m\u001b[1;33m------------------\u001b[0m\n",
      "\u001b[1;33m\u001b[0m\u001b[1;32mDEBUG:\u001b[0m\u001b[1;33m at \u001b[0m\u001b[1;32m<ipython-input-6-07c3b14be516>:14 draw_histogram\u001b[0m\u001b[1;33m\u001b[0m\n",
      "\u001b[1;33m\u001b[0m\u001b[1;36m10% of x take up 1.0417% of distribution\u001b[0m\u001b[1;33m\u001b[0m\n",
      "\u001b[1;33m------------------\u001b[0m\u001b[1;31m 2022-10-24 16:22:22 \u001b[0m\u001b[1;33m------------------\u001b[0m\n"
     ]
    },
    {
     "data": {
      "image/png": "[encoded data removed]",
      "text/plain": [
       "<Figure size 432x288 with 1 Axes>"
      ]
     },
     "metadata": {},
     "output_type": "display_data"
    },
    {
     "name": "stdout",
     "output_type": "stream",
     "text": [
      "\u001b[1;33m------------------\u001b[0m\u001b[1;31m 2022-10-24 16:22:23 \u001b[0m\u001b[1;33m------------------\u001b[0m\n",
      "\u001b[1;33m\u001b[0m\u001b[1;32mDEBUG:\u001b[0m\u001b[1;33m at \u001b[0m\u001b[1;32m<ipython-input-6-07c3b14be516>:19 draw_histogram\u001b[0m\u001b[1;33m\u001b[0m\n",
      "\u001b[1;33m\u001b[0m\u001b[1;36mFigure saved in output/submission_votes_distribution.png\u001b[0m\u001b[1;33m\u001b[0m\n",
      "\u001b[1;33m------------------\u001b[0m\u001b[1;31m 2022-10-24 16:22:23 \u001b[0m\u001b[1;33m------------------\u001b[0m\n"
     ]
    }
   ],
   "source": [
    "from importlib_metadata import distribution\n",
    "from matplotlib import pyplot as plt\n",
    "import matplotlib\n",
    "import pandas as pd\n",
    "import seaborn as sns\n",
    "def draw_histogram(nums:list, file_name):\n",
    "    sns.set_theme(style=\"whitegrid\")\n",
    "    ax = sns.histplot(data=nums)\n",
    "    ax.set_yscale('log')\n",
    "    # ax.set_xscale('log')\n",
    "    distribution = OrderedDict(sorted(list(Counter(nums).items())))\n",
    "    debug(distribution=str(distribution))\n",
    "    # ax.text(-0.15, 1.1, distribution, fontsize=7, transform=ax.transAxes)\n",
    "    debug(f\"10% of x take up {sum(OrderedDict(list(distribution.items())[:len(distribution)//10]).values()) / sum(distribution.values()) * 100:.4f}% of distribution\")\n",
    "    save_path = f\"output/{file_name}.png\"\n",
    "    plt.show()\n",
    "    plt.savefig(save_path, dpi = 300)\n",
    "    plt.close()\n",
    "    debug(f\"Figure saved in {save_path}\")\n",
    "\n",
    "draw_histogram(list(user_votes.values()), \"user_votes_distribution\")\n",
    "draw_histogram(list(submission_votes.values()), \"submission_votes_distribution\")"
   ]
  },
  {
   "cell_type": "code",
   "execution_count": 7,
   "metadata": {},
   "outputs": [
    {
     "ename": "KeyError",
     "evalue": "'r/Team Mignon'",
     "output_type": "error",
     "traceback": [
      "\u001b[0;31m---------------------------------------------------------------------------\u001b[0m",
      "\u001b[0;31mKeyError\u001b[0m                                  Traceback (most recent call last)",
      "\u001b[0;32m<ipython-input-7-301709a3aa7a>\u001b[0m in \u001b[0;36m<module>\u001b[0;34m\u001b[0m\n\u001b[1;32m      1\u001b[0m \u001b[0;32mfor\u001b[0m \u001b[0msubreddit\u001b[0m \u001b[0;32min\u001b[0m \u001b[0msubreddit_subreddit_votes\u001b[0m\u001b[0;34m:\u001b[0m\u001b[0;34m\u001b[0m\u001b[0;34m\u001b[0m\u001b[0m\n\u001b[1;32m      2\u001b[0m     \u001b[0msubreddit_subreddit_votes\u001b[0m\u001b[0;34m[\u001b[0m\u001b[0msubreddit\u001b[0m\u001b[0;34m]\u001b[0m\u001b[0;34m[\u001b[0m\u001b[0;34m\"downvote_rate\"\u001b[0m\u001b[0;34m]\u001b[0m \u001b[0;34m=\u001b[0m \u001b[0;36m100\u001b[0m \u001b[0;34m*\u001b[0m \u001b[0msubreddit_subreddit_votes\u001b[0m\u001b[0;34m[\u001b[0m\u001b[0msubreddit\u001b[0m\u001b[0;34m]\u001b[0m\u001b[0;34m[\u001b[0m\u001b[0;36m0\u001b[0m\u001b[0;34m]\u001b[0m \u001b[0;34m/\u001b[0m \u001b[0;34m(\u001b[0m\u001b[0msubreddit_subreddit_votes\u001b[0m\u001b[0;34m[\u001b[0m\u001b[0msubreddit\u001b[0m\u001b[0;34m]\u001b[0m\u001b[0;34m[\u001b[0m\u001b[0;36m1\u001b[0m\u001b[0;34m]\u001b[0m \u001b[0;34m+\u001b[0m \u001b[0msubreddit_subreddit_votes\u001b[0m\u001b[0;34m[\u001b[0m\u001b[0msubreddit\u001b[0m\u001b[0;34m]\u001b[0m\u001b[0;34m[\u001b[0m\u001b[0;36m0\u001b[0m\u001b[0;34m]\u001b[0m\u001b[0;34m)\u001b[0m\u001b[0;34m\u001b[0m\u001b[0;34m\u001b[0m\u001b[0m\n\u001b[0;32m----> 3\u001b[0;31m     \u001b[0msubreddit_subreddit_votes\u001b[0m\u001b[0;34m[\u001b[0m\u001b[0msubreddit\u001b[0m\u001b[0;34m]\u001b[0m\u001b[0;34m[\u001b[0m\u001b[0;34m\"subreddit\"\u001b[0m\u001b[0;34m]\u001b[0m \u001b[0;34m=\u001b[0m \u001b[0moriginal_feature_map\u001b[0m\u001b[0;34m[\u001b[0m\u001b[0;34m\"SUBREDDIT\"\u001b[0m\u001b[0;34m]\u001b[0m\u001b[0;34m[\u001b[0m\u001b[0msubreddit\u001b[0m\u001b[0;34m]\u001b[0m\u001b[0;34m\u001b[0m\u001b[0;34m\u001b[0m\u001b[0m\n\u001b[0m\u001b[1;32m      4\u001b[0m     \u001b[0msubreddit_subreddit_votes\u001b[0m\u001b[0;34m[\u001b[0m\u001b[0msubreddit\u001b[0m\u001b[0;34m]\u001b[0m\u001b[0;34m[\u001b[0m\u001b[0;34m\"users\"\u001b[0m\u001b[0;34m]\u001b[0m \u001b[0;34m=\u001b[0m \u001b[0mstr\u001b[0m\u001b[0;34m(\u001b[0m\u001b[0msubreddit_subreddit_votes\u001b[0m\u001b[0;34m[\u001b[0m\u001b[0msubreddit\u001b[0m\u001b[0;34m]\u001b[0m\u001b[0;34m[\u001b[0m\u001b[0;34m\"users\"\u001b[0m\u001b[0;34m]\u001b[0m\u001b[0;34m)\u001b[0m\u001b[0;34m\u001b[0m\u001b[0;34m\u001b[0m\u001b[0m\n\u001b[1;32m      5\u001b[0m \u001b[0msubreddit_subreddit_votes\u001b[0m \u001b[0;34m=\u001b[0m \u001b[0mpd\u001b[0m\u001b[0;34m.\u001b[0m\u001b[0mDataFrame\u001b[0m\u001b[0;34m(\u001b[0m\u001b[0mlist\u001b[0m\u001b[0;34m(\u001b[0m\u001b[0msubreddit_subreddit_votes\u001b[0m\u001b[0;34m.\u001b[0m\u001b[0mvalues\u001b[0m\u001b[0;34m(\u001b[0m\u001b[0;34m)\u001b[0m\u001b[0;34m)\u001b[0m\u001b[0;34m)\u001b[0m\u001b[0;34m.\u001b[0m\u001b[0mset_index\u001b[0m\u001b[0;34m(\u001b[0m\u001b[0;34m\"subreddit\"\u001b[0m\u001b[0;34m)\u001b[0m\u001b[0;34m\u001b[0m\u001b[0;34m\u001b[0m\u001b[0m\n",
      "\u001b[0;31mKeyError\u001b[0m: 'r/Team Mignon'"
     ]
    }
   ],
   "source": [
    "for subreddit in subreddit_subreddit_votes:\n",
    "    subreddit_subreddit_votes[subreddit][\"downvote_rate\"] = 100 * subreddit_subreddit_votes[subreddit][0] / (subreddit_subreddit_votes[subreddit][1] + subreddit_subreddit_votes[subreddit][0])\n",
    "    subreddit_subreddit_votes[subreddit][\"subreddit\"] = original_feature_map[\"SUBREDDIT\"][subreddit]\n",
    "    subreddit_subreddit_votes[subreddit][\"users\"] = str(subreddit_subreddit_votes[subreddit][\"users\"])\n",
    "subreddit_subreddit_votes = pd.DataFrame(list(subreddit_subreddit_votes.values())).set_index(\"subreddit\")\n",
    "debug(subreddit_votes=subreddit_subreddit_votes)\n",
    "save_path = \"output/subreddit_votes_users.csv\"\n",
    "subreddit_subreddit_votes.to_csv(save_path)\n",
    "debug(f\"Votes of each subreddit is saved to {save_path}\")"
   ]
  }
 ],
 "metadata": {
  "kernelspec": {
   "display_name": "Python 3.6.12 ('cr4')",
   "language": "python",
   "name": "python3"
  },
  "language_info": {
   "codemirror_mode": {
    "name": "ipython",
    "version": 3
   },
   "file_extension": ".py",
   "mimetype": "text/x-python",
   "name": "python",
   "nbconvert_exporter": "python",
   "pygments_lexer": "ipython3",
   "version": "3.6.12"
  },
  "vscode": {
   "interpreter": {
    "hash": "740471d2bc5e6e0b41d12bdc2e64373746aa6a34800f381ff958ff5f02fa0c53"
   }
  }
 },
 "nbformat": 4,
 "nbformat_minor": 2
}
