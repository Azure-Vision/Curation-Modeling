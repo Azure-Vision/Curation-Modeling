{
 "cells": [
  {
   "cell_type": "code",
   "execution_count": 1,
   "metadata": {},
   "outputs": [],
   "source": [
    "CONFIG_PATH = \"configs/subreddit_minority.yml\""
   ]
  },
  {
   "cell_type": "code",
   "execution_count": 2,
   "metadata": {},
   "outputs": [
    {
     "name": "stdout",
     "output_type": "stream",
     "text": [
      "为了使用邮件提醒功能，请设置环境变量MY_QQ_EMAIL（QQ邮箱地址）与MY_QQ_EMAIL_PWD（QQ邮箱授权码）\n",
      "\u001b[1;33m------------------\u001b[0m\u001b[1;31m 2022-08-20 08:22:44 \u001b[0m\u001b[1;33m------------------\u001b[0m\n"
     ]
    },
    {
     "name": "stderr",
     "output_type": "stream",
     "text": [
      "Version 7.5.0 of praw is outdated. Version 7.6.0 was released Tuesday May 10, 2022.\n"
     ]
    },
    {
     "name": "stdout",
     "output_type": "stream",
     "text": [
      "GPU ready...\n",
      "\u001b[1;33m------------------\u001b[0m\u001b[1;31m 2022-08-20 08:22:46 \u001b[0m\u001b[1;33m------------------\u001b[0m\n",
      "\u001b[1;33m\u001b[0m\u001b[1;32mDEBUG:\u001b[0m\u001b[1;33m at \u001b[0m\u001b[1;32m/home/TableSense/largedisk/wanrong/Curation-Modeling/process_data.py:363 get_model_input\u001b[0m\u001b[1;33m\u001b[0m\n",
      "\u001b[1;33m\u001b[0m\u001b[1;36mLoading prepared data...\u001b[0m\u001b[1;33m\u001b[0m\n",
      "\u001b[1;33m------------------\u001b[0m\u001b[1;31m 2022-08-20 08:22:46 \u001b[0m\u001b[1;33m------------------\u001b[0m\n"
     ]
    }
   ],
   "source": [
    "\n",
    "from utils import get_config\n",
    "from superdebug import debug\n",
    "from process_data import get_model_input\n",
    "config = get_config(CONFIG_PATH, print_config = False) # default config\n",
    "target, original_feature_map, categorical_features, string_features, train_data, test_data, test_data_info, train_submission_upvote_df, num_all_users = get_model_input(config)"
   ]
  },
  {
   "cell_type": "code",
   "execution_count": 7,
   "metadata": {},
   "outputs": [
    {
     "data": {
      "text/plain": [
       "{'r/Conservative',\n",
       " 'r/Feminism',\n",
       " 'r/LesbianActually',\n",
       " 'r/Liberal',\n",
       " 'r/MensRights',\n",
       " 'r/Republican',\n",
       " 'r/ScienceFacts',\n",
       " 'r/Showerthoughts',\n",
       " 'r/VoteBlue',\n",
       " 'r/democrats',\n",
       " 'r/gay',\n",
       " 'r/politics',\n",
       " 'r/science',\n",
       " 'r/shittyaskscience',\n",
       " 'r/technology',\n",
       " 'r/teenagers',\n",
       " 'r/trans'}"
      ]
     },
     "execution_count": 7,
     "metadata": {},
     "output_type": "execute_result"
    }
   ],
   "source": [
    "set(train_data[\"SUBREDDIT\"])"
   ]
  },
  {
   "cell_type": "code",
   "execution_count": 3,
   "metadata": {},
   "outputs": [
    {
     "data": {
      "text/html": [
       "<div>\n",
       "<style scoped>\n",
       "    .dataframe tbody tr th:only-of-type {\n",
       "        vertical-align: middle;\n",
       "    }\n",
       "\n",
       "    .dataframe tbody tr th {\n",
       "        vertical-align: top;\n",
       "    }\n",
       "\n",
       "    .dataframe thead th {\n",
       "        text-align: right;\n",
       "    }\n",
       "</style>\n",
       "<table border=\"1\" class=\"dataframe\">\n",
       "  <thead>\n",
       "    <tr style=\"text-align: right;\">\n",
       "      <th></th>\n",
       "      <th>SUBMISSION_ID</th>\n",
       "      <th>SUBREDDIT</th>\n",
       "      <th>CREATED_TIME</th>\n",
       "      <th>USERNAME</th>\n",
       "      <th>VOTE</th>\n",
       "      <th>TITLE</th>\n",
       "      <th>AUTHOR</th>\n",
       "      <th>#_COMMENTS</th>\n",
       "      <th>NSFW</th>\n",
       "      <th>SCORE</th>\n",
       "      <th>UPVOTED_%</th>\n",
       "      <th>LINK</th>\n",
       "      <th>SUBMISSION_TEXT</th>\n",
       "      <th>SUBMISSION_URL</th>\n",
       "      <th>UPVOTED_USERS</th>\n",
       "      <th>USERNAME_</th>\n",
       "      <th>DOWNVOTED_USERS</th>\n",
       "    </tr>\n",
       "  </thead>\n",
       "  <tbody>\n",
       "    <tr>\n",
       "      <th>3</th>\n",
       "      <td>t3_f4tktz</td>\n",
       "      <td>r/politics</td>\n",
       "      <td>Sun Feb 16 2020</td>\n",
       "      <td>175666</td>\n",
       "      <td>1.0</td>\n",
       "      <td>White House Memo Admits There Was No “Imminent...</td>\n",
       "      <td>107096</td>\n",
       "      <td>2802</td>\n",
       "      <td>false</td>\n",
       "      <td>53918</td>\n",
       "      <td>0.87</td>\n",
       "      <td>https://www.reddit.com/r/politics/comments/f4t...</td>\n",
       "      <td>White House Memo Admits There Was No “Imminent...</td>\n",
       "      <td>https://slate.com/news-and-politics/2020/02/wh...</td>\n",
       "      <td>[]</td>\n",
       "      <td>{175666}</td>\n",
       "      <td>[]</td>\n",
       "    </tr>\n",
       "    <tr>\n",
       "      <th>4</th>\n",
       "      <td>t3_b28a24</td>\n",
       "      <td>r/politics</td>\n",
       "      <td>Sun Mar 17 2019</td>\n",
       "      <td>169341</td>\n",
       "      <td>0.0</td>\n",
       "      <td>Trump is 'dangerous' and 'may fabricate' anoth...</td>\n",
       "      <td>91349</td>\n",
       "      <td>2690</td>\n",
       "      <td>false</td>\n",
       "      <td>37366</td>\n",
       "      <td>0.78</td>\n",
       "      <td>https://www.reddit.com/r/politics/comments/b28...</td>\n",
       "      <td>Trump is 'dangerous' and 'may fabricate' anoth...</td>\n",
       "      <td>https://www.newsweek.com/trump-dangerous-fabri...</td>\n",
       "      <td>[]</td>\n",
       "      <td>{169341}</td>\n",
       "      <td>[]</td>\n",
       "    </tr>\n",
       "    <tr>\n",
       "      <th>5</th>\n",
       "      <td>t3_etfhop</td>\n",
       "      <td>r/politics</td>\n",
       "      <td>Fri Jan 24 2020</td>\n",
       "      <td>85862</td>\n",
       "      <td>1.0</td>\n",
       "      <td>Trump wants you to think ‘everyone does it.’ N...</td>\n",
       "      <td>124351</td>\n",
       "      <td>223</td>\n",
       "      <td>false</td>\n",
       "      <td>8916</td>\n",
       "      <td>0.97</td>\n",
       "      <td>https://www.reddit.com/r/politics/comments/etf...</td>\n",
       "      <td>Trump wants you to think ‘everyone does it.’ N...</td>\n",
       "      <td>https://www.washingtonpost.com/opinions/2020/0...</td>\n",
       "      <td>[]</td>\n",
       "      <td>{85862}</td>\n",
       "      <td>[]</td>\n",
       "    </tr>\n",
       "    <tr>\n",
       "      <th>8</th>\n",
       "      <td>t3_c0nb9a</td>\n",
       "      <td>r/politics</td>\n",
       "      <td>Fri Jun 14 2019</td>\n",
       "      <td>75607</td>\n",
       "      <td>1.0</td>\n",
       "      <td>Jared and Ivanka, Who “Sacrificed” Everything ...</td>\n",
       "      <td>139806</td>\n",
       "      <td>313</td>\n",
       "      <td>false</td>\n",
       "      <td>8334</td>\n",
       "      <td>0.97</td>\n",
       "      <td>https://www.reddit.com/r/politics/comments/c0n...</td>\n",
       "      <td>Jared and Ivanka, Who “Sacrificed” Everything ...</td>\n",
       "      <td>https://www.vanityfair.com/news/2019/06/ivanka...</td>\n",
       "      <td>[]</td>\n",
       "      <td>{75607}</td>\n",
       "      <td>[]</td>\n",
       "    </tr>\n",
       "    <tr>\n",
       "      <th>9</th>\n",
       "      <td>t3_eeqt19</td>\n",
       "      <td>r/politics</td>\n",
       "      <td>Mon Dec 23 2019</td>\n",
       "      <td>26320</td>\n",
       "      <td>0.0</td>\n",
       "      <td>Obama Is Reportedly Talking Up Elizabeth Warre...</td>\n",
       "      <td>163033</td>\n",
       "      <td>270</td>\n",
       "      <td>false</td>\n",
       "      <td>695</td>\n",
       "      <td>0.90</td>\n",
       "      <td>https://www.reddit.com/r/politics/comments/eeq...</td>\n",
       "      <td>Obama Is Reportedly Talking Up Elizabeth Warre...</td>\n",
       "      <td>https://www.huffpost.com/entry/barack-obama-el...</td>\n",
       "      <td>[]</td>\n",
       "      <td>{26320}</td>\n",
       "      <td>[]</td>\n",
       "    </tr>\n",
       "  </tbody>\n",
       "</table>\n",
       "</div>"
      ],
      "text/plain": [
       "  SUBMISSION_ID   SUBREDDIT     CREATED_TIME  USERNAME  VOTE  \\\n",
       "3     t3_f4tktz  r/politics  Sun Feb 16 2020    175666   1.0   \n",
       "4     t3_b28a24  r/politics  Sun Mar 17 2019    169341   0.0   \n",
       "5     t3_etfhop  r/politics  Fri Jan 24 2020     85862   1.0   \n",
       "8     t3_c0nb9a  r/politics  Fri Jun 14 2019     75607   1.0   \n",
       "9     t3_eeqt19  r/politics  Mon Dec 23 2019     26320   0.0   \n",
       "\n",
       "                                               TITLE  AUTHOR  #_COMMENTS  \\\n",
       "3  White House Memo Admits There Was No “Imminent...  107096        2802   \n",
       "4  Trump is 'dangerous' and 'may fabricate' anoth...   91349        2690   \n",
       "5  Trump wants you to think ‘everyone does it.’ N...  124351         223   \n",
       "8  Jared and Ivanka, Who “Sacrificed” Everything ...  139806         313   \n",
       "9  Obama Is Reportedly Talking Up Elizabeth Warre...  163033         270   \n",
       "\n",
       "    NSFW  SCORE  UPVOTED_%                                               LINK  \\\n",
       "3  false  53918       0.87  https://www.reddit.com/r/politics/comments/f4t...   \n",
       "4  false  37366       0.78  https://www.reddit.com/r/politics/comments/b28...   \n",
       "5  false   8916       0.97  https://www.reddit.com/r/politics/comments/etf...   \n",
       "8  false   8334       0.97  https://www.reddit.com/r/politics/comments/c0n...   \n",
       "9  false    695       0.90  https://www.reddit.com/r/politics/comments/eeq...   \n",
       "\n",
       "                                     SUBMISSION_TEXT  \\\n",
       "3  White House Memo Admits There Was No “Imminent...   \n",
       "4  Trump is 'dangerous' and 'may fabricate' anoth...   \n",
       "5  Trump wants you to think ‘everyone does it.’ N...   \n",
       "8  Jared and Ivanka, Who “Sacrificed” Everything ...   \n",
       "9  Obama Is Reportedly Talking Up Elizabeth Warre...   \n",
       "\n",
       "                                      SUBMISSION_URL UPVOTED_USERS USERNAME_  \\\n",
       "3  https://slate.com/news-and-politics/2020/02/wh...            []  {175666}   \n",
       "4  https://www.newsweek.com/trump-dangerous-fabri...            []  {169341}   \n",
       "5  https://www.washingtonpost.com/opinions/2020/0...            []   {85862}   \n",
       "8  https://www.vanityfair.com/news/2019/06/ivanka...            []   {75607}   \n",
       "9  https://www.huffpost.com/entry/barack-obama-el...            []   {26320}   \n",
       "\n",
       "  DOWNVOTED_USERS  \n",
       "3              []  \n",
       "4              []  \n",
       "5              []  \n",
       "8              []  \n",
       "9              []  "
      ]
     },
     "execution_count": 3,
     "metadata": {},
     "output_type": "execute_result"
    }
   ],
   "source": [
    "test_data[test_data[\"SUBREDDIT\"] == \"r/politics\"].head()"
   ]
  },
  {
   "cell_type": "code",
   "execution_count": 4,
   "metadata": {},
   "outputs": [
    {
     "name": "stdout",
     "output_type": "stream",
     "text": [
      "\u001b[1;33m------------------\u001b[0m\u001b[1;31m 2022-08-20 08:23:04 \u001b[0m\u001b[1;33m------------------\u001b[0m\n",
      "\u001b[1;33m\u001b[0m\u001b[1;32mDEBUG:\u001b[0m\u001b[1;33m 4 vars: ['train_upvote', 'train_downvote', 'test_upvote', 'test_downvote'], at \u001b[0m\u001b[1;32m<ipython-input-4-bf241b5dc052>:5 <module>\u001b[0m\u001b[1;33m\u001b[0m\n",
      "\u001b[1;33m0 / 1.\u001b[0m \u001b[1;33m \u001b[0m\u001b[1;36mtrain_upvote\u001b[0m\u001b[1;33m num val: 1078466\u001b[0m\n",
      "\u001b[1;33m1 / 2.\u001b[0m \u001b[1;33m \u001b[0m\u001b[1;36mtrain_downvote\u001b[0m\u001b[1;33m num val: 383670\u001b[0m\n",
      "\u001b[1;33m2 / 3.\u001b[0m \u001b[1;33m \u001b[0m\u001b[1;36mtest_upvote\u001b[0m\u001b[1;33m num val: 269610\u001b[0m\n",
      "\u001b[1;33m3 / 4.\u001b[0m \u001b[1;33m \u001b[0m\u001b[1;36mtest_downvote\u001b[0m\u001b[1;33m num val: 95924\u001b[0m\n",
      "\u001b[1;33m------------------\u001b[0m\u001b[1;31m 2022-08-20 08:23:04 \u001b[0m\u001b[1;33m------------------\u001b[0m\n"
     ]
    }
   ],
   "source": [
    "from collections import Counter, defaultdict, OrderedDict\n",
    "debug(train_upvote = sum(train_data[\"VOTE\"] == 1),\n",
    "    train_downvote = sum(train_data[\"VOTE\"] == 0),\n",
    "    test_upvote = sum(test_data[\"VOTE\"] == 1),\n",
    "    test_downvote = sum(test_data[\"VOTE\"] == 0),\n",
    "    )\n",
    "user_votes = Counter()\n",
    "submission_votes = Counter()\n",
    "subreddit_subreddit_votes = defaultdict(Counter)\n",
    "for row_i, row in train_data.iterrows():\n",
    "    submission_votes[row[\"SUBMISSION_ID\"]] += 1\n",
    "    user_votes[row[\"USERNAME\"]] += 1\n",
    "    subreddit_subreddit_votes[row[\"SUBREDDIT\"]][row[\"VOTE\"]] += 1\n",
    "    if \"users\" not in subreddit_subreddit_votes[row[\"SUBREDDIT\"]]:\n",
    "        subreddit_subreddit_votes[row[\"SUBREDDIT\"]][\"users\"] = set()\n",
    "    subreddit_subreddit_votes[row[\"SUBREDDIT\"]][\"users\"].add(row[\"USERNAME\"])\n"
   ]
  },
  {
   "cell_type": "code",
   "execution_count": 6,
   "metadata": {},
   "outputs": [
    {
     "name": "stdout",
     "output_type": "stream",
     "text": [
      "\u001b[1;33m------------------\u001b[0m\u001b[1;31m 2022-08-20 08:29:26 \u001b[0m\u001b[1;33m------------------\u001b[0m\n",
      "\u001b[1;33m\u001b[0m\u001b[1;32mDEBUG:\u001b[0m\u001b[1;33m 1 vars: ['distribution'], at \u001b[0m\u001b[1;32m<ipython-input-6-07c3b14be516>:12 draw_histogram\u001b[0m\u001b[1;33m\u001b[0m\n",
      "\u001b[1;33m0 / 6.\u001b[0m \u001b[1;33m \u001b[0m\u001b[1;36mdistribution\u001b[0m\u001b[1;33m str len 8505: OrderedDict([(1, 2629), (2, 1783), (3, 1397), (4, 1130), (5, 956), (6, 851), (7, 757), (8, 698), (9, 679), (10, 622), (11, 530), (12, 534), (13, 492), (14, 457), (15, 417), (16, 445), (17, 417), (18, 347), (19, 348), (20, 342), (21, 331), (22, 301), (23, 286), (24, 274), (25, 255), (26, 244), (27, 251), (28, 241), (29, 191), (30, 223), (31, 209), (32, 192), (33, 201), (34, 181), (35, 180), (36, 184), (37, 191), (38, 150), (39, 156), (40, 155), (41, 132), (42, 120), (43, 121), (44, 124), (45, 124), (46, 103), (47, 1 ... 517, 1), (5336, 1)])\u001b[0m\n",
      "\u001b[1;33m------------------\u001b[0m\u001b[1;31m 2022-08-20 08:29:26 \u001b[0m\u001b[1;33m------------------\u001b[0m\n",
      "\u001b[1;33m------------------\u001b[0m\u001b[1;31m 2022-08-20 08:29:26 \u001b[0m\u001b[1;33m------------------\u001b[0m\n",
      "\u001b[1;33m\u001b[0m\u001b[1;32mDEBUG:\u001b[0m\u001b[1;33m at \u001b[0m\u001b[1;32m<ipython-input-6-07c3b14be516>:14 draw_histogram\u001b[0m\u001b[1;33m\u001b[0m\n",
      "\u001b[1;33m\u001b[0m\u001b[1;36m10% of x take up 86.0559% of distribution\u001b[0m\u001b[1;33m\u001b[0m\n",
      "\u001b[1;33m------------------\u001b[0m\u001b[1;31m 2022-08-20 08:29:26 \u001b[0m\u001b[1;33m------------------\u001b[0m\n"
     ]
    },
    {
     "data": {
      "image/png": "[encoded data removed]",
      "text/plain": [
       "<Figure size 432x288 with 1 Axes>"
      ]
     },
     "metadata": {},
     "output_type": "display_data"
    },
    {
     "name": "stdout",
     "output_type": "stream",
     "text": [
      "\u001b[1;33m------------------\u001b[0m\u001b[1;31m 2022-08-20 08:29:29 \u001b[0m\u001b[1;33m------------------\u001b[0m\n",
      "\u001b[1;33m\u001b[0m\u001b[1;32mDEBUG:\u001b[0m\u001b[1;33m at \u001b[0m\u001b[1;32m<ipython-input-6-07c3b14be516>:19 draw_histogram\u001b[0m\u001b[1;33m\u001b[0m\n",
      "\u001b[1;33m\u001b[0m\u001b[1;36mFigure saved in output/user_votes_distribution.png\u001b[0m\u001b[1;33m\u001b[0m\n",
      "\u001b[1;33m------------------\u001b[0m\u001b[1;31m 2022-08-20 08:29:29 \u001b[0m\u001b[1;33m------------------\u001b[0m\n",
      "\u001b[1;33m------------------\u001b[0m\u001b[1;31m 2022-08-20 08:29:45 \u001b[0m\u001b[1;33m------------------\u001b[0m\n",
      "\u001b[1;33m\u001b[0m\u001b[1;32mDEBUG:\u001b[0m\u001b[1;33m 1 vars: ['distribution'], at \u001b[0m\u001b[1;32m<ipython-input-6-07c3b14be516>:12 draw_histogram\u001b[0m\u001b[1;33m\u001b[0m\n",
      "\u001b[1;33m0 / 7.\u001b[0m \u001b[1;33m \u001b[0m\u001b[1;36mdistribution\u001b[0m\u001b[1;33m str len 2922: OrderedDict([(1, 278980), (2, 55900), (3, 25263), (4, 14118), (5, 9452), (6, 6368), (7, 4801), (8, 3672), (9, 2888), (10, 2390), (11, 1999), (12, 1672), (13, 1495), (14, 1274), (15, 1098), (16, 955), (17, 858), (18, 838), (19, 694), (20, 679), (21, 613), (22, 550), (23, 469), (24, 448), (25, 453), (26, 419), (27, 344), (28, 311), (29, 307), (30, 295), (31, 275), (32, 257), (33, 262), (34, 225), (35, 241), (36, 181), (37, 201), (38, 166), (39, 124), (40, 168), (41, 135), (42, 127), (43, 143), (44, 127), (45, 140), ( ... (386, 1), (514, 1)])\u001b[0m\n",
      "\u001b[1;33m------------------\u001b[0m\u001b[1;31m 2022-08-20 08:29:45 \u001b[0m\u001b[1;33m------------------\u001b[0m\n",
      "\u001b[1;33m------------------\u001b[0m\u001b[1;31m 2022-08-20 08:29:45 \u001b[0m\u001b[1;33m------------------\u001b[0m\n",
      "\u001b[1;33m\u001b[0m\u001b[1;32mDEBUG:\u001b[0m\u001b[1;33m at \u001b[0m\u001b[1;32m<ipython-input-6-07c3b14be516>:14 draw_histogram\u001b[0m\u001b[1;33m\u001b[0m\n",
      "\u001b[1;33m\u001b[0m\u001b[1;36m10% of x take up 98.2537% of distribution\u001b[0m\u001b[1;33m\u001b[0m\n",
      "\u001b[1;33m------------------\u001b[0m\u001b[1;31m 2022-08-20 08:29:45 \u001b[0m\u001b[1;33m------------------\u001b[0m\n"
     ]
    },
    {
     "data": {
      "image/png": "[encoded data removed]",
      "text/plain": [
       "<Figure size 432x288 with 1 Axes>"
      ]
     },
     "metadata": {},
     "output_type": "display_data"
    },
    {
     "name": "stdout",
     "output_type": "stream",
     "text": [
      "\u001b[1;33m------------------\u001b[0m\u001b[1;31m 2022-08-20 08:30:13 \u001b[0m\u001b[1;33m------------------\u001b[0m\n",
      "\u001b[1;33m\u001b[0m\u001b[1;32mDEBUG:\u001b[0m\u001b[1;33m at \u001b[0m\u001b[1;32m<ipython-input-6-07c3b14be516>:19 draw_histogram\u001b[0m\u001b[1;33m\u001b[0m\n",
      "\u001b[1;33m\u001b[0m\u001b[1;36mFigure saved in output/submission_votes_distribution.png\u001b[0m\u001b[1;33m\u001b[0m\n",
      "\u001b[1;33m------------------\u001b[0m\u001b[1;31m 2022-08-20 08:30:13 \u001b[0m\u001b[1;33m------------------\u001b[0m\n"
     ]
    }
   ],
   "source": [
    "from importlib_metadata import distribution\n",
    "from matplotlib import pyplot as plt\n",
    "import matplotlib\n",
    "import pandas as pd\n",
    "import seaborn as sns\n",
    "def draw_histogram(nums:list, file_name):\n",
    "    sns.set_theme(style=\"whitegrid\")\n",
    "    ax = sns.histplot(data=nums)\n",
    "    ax.set_yscale('log')\n",
    "    # ax.set_xscale('log')\n",
    "    distribution = OrderedDict(sorted(list(Counter(nums).items())))\n",
    "    debug(distribution=str(distribution))\n",
    "    # ax.text(-0.15, 1.1, distribution, fontsize=7, transform=ax.transAxes)\n",
    "    debug(f\"10% of x take up {sum(OrderedDict(list(distribution.items())[:len(distribution)//10]).values()) / sum(distribution.values()) * 100:.4f}% of distribution\")\n",
    "    save_path = f\"output/{file_name}.png\"\n",
    "    plt.show()\n",
    "    plt.savefig(save_path, dpi = 300)\n",
    "    plt.close()\n",
    "    debug(f\"Figure saved in {save_path}\")\n",
    "\n",
    "draw_histogram(list(user_votes.values()), \"user_votes_distribution\")\n",
    "draw_histogram(list(submission_votes.values()), \"submission_votes_distribution\")"
   ]
  },
  {
   "cell_type": "code",
   "execution_count": null,
   "metadata": {},
   "outputs": [
    {
     "ename": "KeyError",
     "evalue": "'r/teenagers'",
     "output_type": "error",
     "traceback": [
      "\u001b[0;31m---------------------------------------------------------------------------\u001b[0m",
      "\u001b[0;31mKeyError\u001b[0m                                  Traceback (most recent call last)",
      "\u001b[0;32m<ipython-input-6-301709a3aa7a>\u001b[0m in \u001b[0;36m<module>\u001b[0;34m\u001b[0m\n\u001b[1;32m      1\u001b[0m \u001b[0;32mfor\u001b[0m \u001b[0msubreddit\u001b[0m \u001b[0;32min\u001b[0m \u001b[0msubreddit_subreddit_votes\u001b[0m\u001b[0;34m:\u001b[0m\u001b[0;34m\u001b[0m\u001b[0;34m\u001b[0m\u001b[0m\n\u001b[1;32m      2\u001b[0m     \u001b[0msubreddit_subreddit_votes\u001b[0m\u001b[0;34m[\u001b[0m\u001b[0msubreddit\u001b[0m\u001b[0;34m]\u001b[0m\u001b[0;34m[\u001b[0m\u001b[0;34m\"downvote_rate\"\u001b[0m\u001b[0;34m]\u001b[0m \u001b[0;34m=\u001b[0m \u001b[0;36m100\u001b[0m \u001b[0;34m*\u001b[0m \u001b[0msubreddit_subreddit_votes\u001b[0m\u001b[0;34m[\u001b[0m\u001b[0msubreddit\u001b[0m\u001b[0;34m]\u001b[0m\u001b[0;34m[\u001b[0m\u001b[0;36m0\u001b[0m\u001b[0;34m]\u001b[0m \u001b[0;34m/\u001b[0m \u001b[0;34m(\u001b[0m\u001b[0msubreddit_subreddit_votes\u001b[0m\u001b[0;34m[\u001b[0m\u001b[0msubreddit\u001b[0m\u001b[0;34m]\u001b[0m\u001b[0;34m[\u001b[0m\u001b[0;36m1\u001b[0m\u001b[0;34m]\u001b[0m \u001b[0;34m+\u001b[0m \u001b[0msubreddit_subreddit_votes\u001b[0m\u001b[0;34m[\u001b[0m\u001b[0msubreddit\u001b[0m\u001b[0;34m]\u001b[0m\u001b[0;34m[\u001b[0m\u001b[0;36m0\u001b[0m\u001b[0;34m]\u001b[0m\u001b[0;34m)\u001b[0m\u001b[0;34m\u001b[0m\u001b[0;34m\u001b[0m\u001b[0m\n\u001b[0;32m----> 3\u001b[0;31m     \u001b[0msubreddit_subreddit_votes\u001b[0m\u001b[0;34m[\u001b[0m\u001b[0msubreddit\u001b[0m\u001b[0;34m]\u001b[0m\u001b[0;34m[\u001b[0m\u001b[0;34m\"subreddit\"\u001b[0m\u001b[0;34m]\u001b[0m \u001b[0;34m=\u001b[0m \u001b[0moriginal_feature_map\u001b[0m\u001b[0;34m[\u001b[0m\u001b[0;34m\"SUBREDDIT\"\u001b[0m\u001b[0;34m]\u001b[0m\u001b[0;34m[\u001b[0m\u001b[0msubreddit\u001b[0m\u001b[0;34m]\u001b[0m\u001b[0;34m\u001b[0m\u001b[0;34m\u001b[0m\u001b[0m\n\u001b[0m\u001b[1;32m      4\u001b[0m     \u001b[0msubreddit_subreddit_votes\u001b[0m\u001b[0;34m[\u001b[0m\u001b[0msubreddit\u001b[0m\u001b[0;34m]\u001b[0m\u001b[0;34m[\u001b[0m\u001b[0;34m\"users\"\u001b[0m\u001b[0;34m]\u001b[0m \u001b[0;34m=\u001b[0m \u001b[0mstr\u001b[0m\u001b[0;34m(\u001b[0m\u001b[0msubreddit_subreddit_votes\u001b[0m\u001b[0;34m[\u001b[0m\u001b[0msubreddit\u001b[0m\u001b[0;34m]\u001b[0m\u001b[0;34m[\u001b[0m\u001b[0;34m\"users\"\u001b[0m\u001b[0;34m]\u001b[0m\u001b[0;34m)\u001b[0m\u001b[0;34m\u001b[0m\u001b[0;34m\u001b[0m\u001b[0m\n\u001b[1;32m      5\u001b[0m \u001b[0msubreddit_subreddit_votes\u001b[0m \u001b[0;34m=\u001b[0m \u001b[0mpd\u001b[0m\u001b[0;34m.\u001b[0m\u001b[0mDataFrame\u001b[0m\u001b[0;34m(\u001b[0m\u001b[0mlist\u001b[0m\u001b[0;34m(\u001b[0m\u001b[0msubreddit_subreddit_votes\u001b[0m\u001b[0;34m.\u001b[0m\u001b[0mvalues\u001b[0m\u001b[0;34m(\u001b[0m\u001b[0;34m)\u001b[0m\u001b[0;34m)\u001b[0m\u001b[0;34m)\u001b[0m\u001b[0;34m.\u001b[0m\u001b[0mset_index\u001b[0m\u001b[0;34m(\u001b[0m\u001b[0;34m\"subreddit\"\u001b[0m\u001b[0;34m)\u001b[0m\u001b[0;34m\u001b[0m\u001b[0;34m\u001b[0m\u001b[0m\n",
      "\u001b[0;31mKeyError\u001b[0m: 'r/teenagers'"
     ]
    }
   ],
   "source": [
    "for subreddit in subreddit_subreddit_votes:\n",
    "    subreddit_subreddit_votes[subreddit][\"downvote_rate\"] = 100 * subreddit_subreddit_votes[subreddit][0] / (subreddit_subreddit_votes[subreddit][1] + subreddit_subreddit_votes[subreddit][0])\n",
    "    subreddit_subreddit_votes[subreddit][\"subreddit\"] = original_feature_map[\"SUBREDDIT\"][subreddit]\n",
    "    subreddit_subreddit_votes[subreddit][\"users\"] = str(subreddit_subreddit_votes[subreddit][\"users\"])\n",
    "subreddit_subreddit_votes = pd.DataFrame(list(subreddit_subreddit_votes.values())).set_index(\"subreddit\")\n",
    "debug(subreddit_votes=subreddit_subreddit_votes)\n",
    "save_path = \"output/subreddit_votes_users.csv\"\n",
    "subreddit_subreddit_votes.to_csv(save_path)\n",
    "debug(f\"Votes of each subreddit is saved to {save_path}\")"
   ]
  }
 ],
 "metadata": {
  "kernelspec": {
   "display_name": "Python 3.6.12 ('cr4')",
   "language": "python",
   "name": "python3"
  },
  "language_info": {
   "codemirror_mode": {
    "name": "ipython",
    "version": 3
   },
   "file_extension": ".py",
   "mimetype": "text/x-python",
   "name": "python",
   "nbconvert_exporter": "python",
   "pygments_lexer": "ipython3",
   "version": "3.6.12"
  },
  "vscode": {
   "interpreter": {
    "hash": "740471d2bc5e6e0b41d12bdc2e64373746aa6a34800f381ff958ff5f02fa0c53"
   }
  }
 },
 "nbformat": 4,
 "nbformat_minor": 2
}
