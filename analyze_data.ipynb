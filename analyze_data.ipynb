{
 "cells": [
  {
   "cell_type": "code",
   "execution_count": null,
   "metadata": {},
   "outputs": [],
   "source": [
    "CONFIG_PATH = \"configs/debug_med_LM.yml\""
   ]
  },
  {
   "cell_type": "code",
   "execution_count": 7,
   "metadata": {},
   "outputs": [
    {
     "name": "stdout",
     "output_type": "stream",
     "text": [
      "GPU ready...\n",
      "Smart using cuda:2\n",
      "\u001b[1;33m------------------\u001b[0m\u001b[1;31m 2022-07-19 21:14:54 \u001b[0m\u001b[1;33m------------------\u001b[0m\n",
      "\u001b[1;33m\u001b[0m\u001b[1;32mDEBUG:\u001b[0m\u001b[1;33m at \u001b[0m\u001b[1;32m/home/TableSense/largedisk/wanrong/Curation-Modeling/data.py:187 get_model_input\u001b[0m\u001b[1;33m\u001b[0m\n",
      "\u001b[1;33m\u001b[0m\u001b[1;36mLoading prepared data...\u001b[0m\u001b[1;33m\u001b[0m\n",
      "\u001b[1;33m------------------\u001b[0m\u001b[1;31m 2022-07-19 21:14:54 \u001b[0m\u001b[1;33m------------------\u001b[0m\n",
      "\u001b[1;33m------------------\u001b[0m\u001b[1;31m 2022-07-19 21:15:00 \u001b[0m\u001b[1;33m------------------\u001b[0m\n",
      "\u001b[1;33m\u001b[0m\u001b[1;32mDEBUG:\u001b[0m\u001b[1;33m 1 vars: ['max_voted_users'], at \u001b[0m\u001b[1;32m<ipython-input-7-1737157bf73a>:8 <module>\u001b[0m\u001b[1;33m\u001b[0m\n",
      "\u001b[1;33m0 / 3.\u001b[0m \u001b[1;33m \u001b[0m\u001b[1;36mmax_voted_users\u001b[0m\u001b[1;33m num val: 8\u001b[0m\n",
      "\u001b[1;33m------------------\u001b[0m\u001b[1;31m 2022-07-19 21:15:00 \u001b[0m\u001b[1;33m------------------\u001b[0m\n"
     ]
    }
   ],
   "source": [
    "\n",
    "from utils import get_config\n",
    "from superdebug import debug\n",
    "from data import get_model_input\n",
    "config = get_config(CONFIG_PATH) # default config\n",
    "all_feature_columns, target, train_model_input, test_model_input, feature_names, original_feature_map, max_voted_users, train_data, test_data = get_model_input(config)\n",
    "debug(max_voted_users=max_voted_users)"
   ]
  },
  {
   "cell_type": "code",
   "execution_count": 8,
   "metadata": {},
   "outputs": [
    {
     "name": "stdout",
     "output_type": "stream",
     "text": [
      "\u001b[1;33m------------------\u001b[0m\u001b[1;31m 2022-07-19 21:15:12 \u001b[0m\u001b[1;33m------------------\u001b[0m\n",
      "\u001b[1;33m\u001b[0m\u001b[1;32mDEBUG:\u001b[0m\u001b[1;33m 4 vars: ['train_upvote', 'train_downvote', 'test_upvote', 'test_downvote'], at \u001b[0m\u001b[1;32m<ipython-input-8-bf241b5dc052>:5 <module>\u001b[0m\u001b[1;33m\u001b[0m\n",
      "\u001b[1;33m0 / 4.\u001b[0m \u001b[1;33m \u001b[0m\u001b[1;36mtrain_upvote\u001b[0m\u001b[1;33m num val: 85251\u001b[0m\n",
      "\u001b[1;33m1 / 5.\u001b[0m \u001b[1;33m \u001b[0m\u001b[1;36mtrain_downvote\u001b[0m\u001b[1;33m num val: 85317\u001b[0m\n",
      "\u001b[1;33m2 / 6.\u001b[0m \u001b[1;33m \u001b[0m\u001b[1;36mtest_upvote\u001b[0m\u001b[1;33m num val: 21355\u001b[0m\n",
      "\u001b[1;33m3 / 7.\u001b[0m \u001b[1;33m \u001b[0m\u001b[1;36mtest_downvote\u001b[0m\u001b[1;33m num val: 21288\u001b[0m\n",
      "\u001b[1;33m------------------\u001b[0m\u001b[1;31m 2022-07-19 21:15:12 \u001b[0m\u001b[1;33m------------------\u001b[0m\n"
     ]
    }
   ],
   "source": [
    "from collections import Counter, defaultdict, OrderedDict\n",
    "debug(train_upvote = sum(train_data[\"VOTE\"] == 1),\n",
    "    train_downvote = sum(train_data[\"VOTE\"] == 0),\n",
    "    test_upvote = sum(test_data[\"VOTE\"] == 1),\n",
    "    test_downvote = sum(test_data[\"VOTE\"] == 0),\n",
    "    )\n",
    "user_votes = Counter()\n",
    "submission_votes = Counter()\n",
    "subreddit_subreddit_votes = defaultdict(Counter)\n",
    "for row_i, row in train_data.iterrows():\n",
    "    submission_votes[row[\"SUBMISSION_ID\"]] += 1\n",
    "    user_votes[row[\"USERNAME\"]] += 1\n",
    "    subreddit_subreddit_votes[row[\"SUBREDDIT\"]][row[\"VOTE\"]] += 1\n",
    "    if \"users\" not in subreddit_subreddit_votes[row[\"SUBREDDIT\"]]:\n",
    "        subreddit_subreddit_votes[row[\"SUBREDDIT\"]][\"users\"] = set()\n",
    "    subreddit_subreddit_votes[row[\"SUBREDDIT\"]][\"users\"].add(row[\"USERNAME\"])\n"
   ]
  },
  {
   "cell_type": "code",
   "execution_count": 21,
   "metadata": {},
   "outputs": [
    {
     "name": "stdout",
     "output_type": "stream",
     "text": [
      "\u001b[1;33m------------------\u001b[0m\u001b[1;31m 2022-07-19 21:28:06 \u001b[0m\u001b[1;33m------------------\u001b[0m\n",
      "\u001b[1;33m\u001b[0m\u001b[1;32mDEBUG:\u001b[0m\u001b[1;33m 1 vars: ['distribution'], at \u001b[0m\u001b[1;32m<ipython-input-21-c97ac91a4c4a>:18 draw_histogram\u001b[0m\u001b[1;33m\u001b[0m\n",
      "\u001b[1;33m0 / 10.\u001b[0m \u001b[1;33m \u001b[0m\u001b[1;36mdistribution\u001b[0m\u001b[1;33m str len 2701: OrderedDict([(1, 2), (2, 1), (3, 4), (4, 1), (5, 7), (6, 4), (7, 3), (8, 1), (9, 4), (10, 2), (11, 3), (12, 1), (14, 2), (15, 2), (16, 3), (17, 2), (18, 2), (19, 1), (20, 2), (21, 1), (22, 1), (23, 1), (24, 2), (25, 2), (26, 1), (27, 1), (29, 2), (31, 1), (32, 3), (33, 3), (34, 1), (36, 2), (37, 4), (39, 2), (41, 1), (42, 2), (44, 1), (45, 1), (46, 3), (48, 1), (51, 1), (52, 2), (54, 2), (55, 1), (60, 3), (63, 2), (64, 1), (67, 1), (71, 2), (77, 1), (78, 2), (80, 2), (82, 3), (84, 1), (89, 1), (90, 2), (91, 3), (92 ... 83, 1), (10771, 1)])\u001b[0m\n",
      "\u001b[1;33m------------------\u001b[0m\u001b[1;31m 2022-07-19 21:28:06 \u001b[0m\u001b[1;33m------------------\u001b[0m\n"
     ]
    },
    {
     "data": {
      "image/png": "[encoded data removed]",
      "text/plain": [
       "<Figure size 432x288 with 1 Axes>"
      ]
     },
     "metadata": {},
     "output_type": "display_data"
    },
    {
     "name": "stdout",
     "output_type": "stream",
     "text": [
      "\u001b[1;33m------------------\u001b[0m\u001b[1;31m 2022-07-19 21:28:06 \u001b[0m\u001b[1;33m------------------\u001b[0m\n",
      "\u001b[1;33m\u001b[0m\u001b[1;32mDEBUG:\u001b[0m\u001b[1;33m at \u001b[0m\u001b[1;32m<ipython-input-21-c97ac91a4c4a>:24 draw_histogram\u001b[0m\u001b[1;33m\u001b[0m\n",
      "\u001b[1;33m\u001b[0m\u001b[1;36mFigure saved in output/user_votes_distribution.png\u001b[0m\u001b[1;33m\u001b[0m\n",
      "\u001b[1;33m------------------\u001b[0m\u001b[1;31m 2022-07-19 21:28:06 \u001b[0m\u001b[1;33m------------------\u001b[0m\n",
      "\u001b[1;33m------------------\u001b[0m\u001b[1;31m 2022-07-19 21:28:07 \u001b[0m\u001b[1;33m------------------\u001b[0m\n",
      "\u001b[1;33m\u001b[0m\u001b[1;32mDEBUG:\u001b[0m\u001b[1;33m 1 vars: ['distribution'], at \u001b[0m\u001b[1;32m<ipython-input-21-c97ac91a4c4a>:18 draw_histogram\u001b[0m\u001b[1;33m\u001b[0m\n",
      "\u001b[1;33m0 / 11.\u001b[0m \u001b[1;33m \u001b[0m\u001b[1;36mdistribution\u001b[0m\u001b[1;33m str len 81: OrderedDict([(1, 162932), (2, 3184), (3, 320), (4, 55), (5, 10), (6, 4), (7, 2)])\u001b[0m\n",
      "\u001b[1;33m------------------\u001b[0m\u001b[1;31m 2022-07-19 21:28:07 \u001b[0m\u001b[1;33m------------------\u001b[0m\n"
     ]
    },
    {
     "data": {
      "image/png": "[encoded data removed]",
      "text/plain": [
       "<Figure size 432x288 with 1 Axes>"
      ]
     },
     "metadata": {},
     "output_type": "display_data"
    },
    {
     "name": "stdout",
     "output_type": "stream",
     "text": [
      "\u001b[1;33m------------------\u001b[0m\u001b[1;31m 2022-07-19 21:28:07 \u001b[0m\u001b[1;33m------------------\u001b[0m\n",
      "\u001b[1;33m\u001b[0m\u001b[1;32mDEBUG:\u001b[0m\u001b[1;33m at \u001b[0m\u001b[1;32m<ipython-input-21-c97ac91a4c4a>:24 draw_histogram\u001b[0m\u001b[1;33m\u001b[0m\n",
      "\u001b[1;33m\u001b[0m\u001b[1;36mFigure saved in output/submission_votes_distribution.png\u001b[0m\u001b[1;33m\u001b[0m\n",
      "\u001b[1;33m------------------\u001b[0m\u001b[1;31m 2022-07-19 21:28:07 \u001b[0m\u001b[1;33m------------------\u001b[0m\n"
     ]
    }
   ],
   "source": [
    "from importlib_metadata import distribution\n",
    "from matplotlib import pyplot as plt\n",
    "import matplotlib\n",
    "import pandas as pd\n",
    "import seaborn as sns\n",
    "def draw_histogram(num_votes:list, file_name):\n",
    "    # df_dict = {\"#votes=n\": [], \"count\": []}\n",
    "    # counter = OrderedDict(sorted(list(counter.items()), key = lambda x:x[0]))\n",
    "    # for item in counter.items():\n",
    "    #     df_dict[\"#votes=n\"].append(item[0])\n",
    "    #     df_dict[\"count\"].append(item[1])\n",
    "    # df = pd.DataFrame(df_dict)\n",
    "    sns.set_theme(style=\"whitegrid\")\n",
    "    ax = sns.histplot(data=num_votes)\n",
    "    ax.set_yscale('log')\n",
    "    # ax.set_xscale('log')\n",
    "    distribution = OrderedDict(sorted(list(Counter(num_votes).items())))\n",
    "    debug(distribution=str(distribution))\n",
    "    # ax.text(-0.15, 1.1, distribution, fontsize=7, transform=ax.transAxes)\n",
    "    save_path = f\"output/{file_name}.png\"\n",
    "    plt.show()\n",
    "    plt.savefig(save_path, dpi = 300)\n",
    "    plt.close()\n",
    "    debug(f\"Figure saved in {save_path}\")\n",
    "\n",
    "draw_histogram(list(user_votes.values()), \"user_votes_distribution\")\n",
    "draw_histogram(list(submission_votes.values()), \"submission_votes_distribution\")"
   ]
  },
  {
   "cell_type": "code",
   "execution_count": 22,
   "metadata": {},
   "outputs": [
    {
     "name": "stdout",
     "output_type": "stream",
     "text": [
      "\u001b[1;33m------------------\u001b[0m\u001b[1;31m 2022-07-19 21:28:45 \u001b[0m\u001b[1;33m------------------\u001b[0m\n",
      "\u001b[1;33m\u001b[0m\u001b[1;32mDEBUG:\u001b[0m\u001b[1;33m 1 vars: ['subreddit_votes'], at \u001b[0m\u001b[1;32m<ipython-input-22-301709a3aa7a>:6 <module>\u001b[0m\u001b[1;33m\u001b[0m\n",
      "\u001b[1;33m0 / 12.\u001b[0m \u001b[1;33m \u001b[0m\u001b[1;36msubreddit_votes\u001b[0m\u001b[1;33m pandas.core.frame.DataFrame with props ['_is_copy', '_mgr', '_item_cache', '_attrs']\u001b[0m\u001b[1;33m val:                               0  \\\n",
      "subreddit                         \n",
      "r/Fire_Emblem_R34           6.0   \n",
      "r/CrazyAOC                 47.0   \n",
      "r/PokemonSwordAndShield     2.0   \n",
      "r/tf2                     254.0   \n",
      "r/pics                   2203.0   \n",
      "...                         ...   \n",
      "r/shittyMBTI                1.0   \n",
      "r/EDAnonymous               NaN   \n",
      "r/polarsaurusrex            NaN   \n",
      "r/ImaginaryWorldEaters      NaN   \n",
      "r/GakiNoTsukai              1.0   \n",
      "\n",
      "                                                                     users  \\\n",
      "subreddit                                                                    \n",
      "r/Fire_Emblem_R34                                                     {14}   \n",
      "r/CrazyAOC                                                            {29}   \n",
      "r/PokemonSwordAndShield                  {4, 102, 138, 142, 336, 117, 282}   \n",
      "r/tf2                    {131, 8, 138, 14, 280, 27, 155, 29, 163, 164, ...   \n",
      "r/pics                   {4, 5, 7, 8, 10, 11, 12, 13, 15, 17, 18, 20, 2...   \n",
      "...                                                                    ...   \n",
      "r/shittyMBTI                                                          {47}   \n",
      "r/EDAnonymous                                                        {243}   \n",
      "r/polarsaurusrex                                                     {257}   \n",
      "r/ImaginaryWorldEaters                                                 {4}   \n",
      "r/GakiNoTsukai                                                       {222}   \n",
      "\n",
      "                              1  downvote_rate  \n",
      "subreddit                                       \n",
      "r/Fire_Emblem_R34          50.0      10.714286  \n",
      "r/CrazyAOC                  NaN     100.000000  \n",
      "r/PokemonSwordAndShield    56.0       3.448276  \n",
      "r/tf2                      70.0      78.395062  \n",
      "r/pics                   1337.0      62.231638  \n",
      "...                         ...            ...  \n",
      "r/shittyMBTI                NaN     100.000000  \n",
      "r/EDAnonymous               1.0       0.000000  \n",
      "r/polarsaurusrex            1.0       0.000000  \n",
      "r/ImaginaryWorldEaters      1.0       0.000000  \n",
      "r/GakiNoTsukai              NaN     100.000000  \n",
      "\n",
      "[8932 rows x 4 columns]\u001b[0m\n",
      "\u001b[1;33m------------------\u001b[0m\u001b[1;31m 2022-07-19 21:28:45 \u001b[0m\u001b[1;33m------------------\u001b[0m\n",
      "\u001b[1;33m------------------\u001b[0m\u001b[1;31m 2022-07-19 21:28:45 \u001b[0m\u001b[1;33m------------------\u001b[0m\n",
      "\u001b[1;33m\u001b[0m\u001b[1;32mDEBUG:\u001b[0m\u001b[1;33m at \u001b[0m\u001b[1;32m<ipython-input-22-301709a3aa7a>:9 <module>\u001b[0m\u001b[1;33m\u001b[0m\n",
      "\u001b[1;33m\u001b[0m\u001b[1;36mVotes of each subreddit is saved to output/subreddit_votes_users.csv\u001b[0m\u001b[1;33m\u001b[0m\n",
      "\u001b[1;33m------------------\u001b[0m\u001b[1;31m 2022-07-19 21:28:45 \u001b[0m\u001b[1;33m------------------\u001b[0m\n"
     ]
    }
   ],
   "source": [
    "for subreddit in subreddit_subreddit_votes:\n",
    "    subreddit_subreddit_votes[subreddit][\"downvote_rate\"] = 100 * subreddit_subreddit_votes[subreddit][0] / (subreddit_subreddit_votes[subreddit][1] + subreddit_subreddit_votes[subreddit][0])\n",
    "    subreddit_subreddit_votes[subreddit][\"subreddit\"] = original_feature_map[\"SUBREDDIT\"][subreddit]\n",
    "    subreddit_subreddit_votes[subreddit][\"users\"] = str(subreddit_subreddit_votes[subreddit][\"users\"])\n",
    "subreddit_subreddit_votes = pd.DataFrame(list(subreddit_subreddit_votes.values())).set_index(\"subreddit\")\n",
    "debug(subreddit_votes=subreddit_subreddit_votes)\n",
    "save_path = \"output/subreddit_votes_users.csv\"\n",
    "subreddit_subreddit_votes.to_csv(save_path)\n",
    "debug(f\"Votes of each subreddit is saved to {save_path}\")"
   ]
  }
 ],
 "metadata": {
  "kernelspec": {
   "display_name": "Python 3.6.12 ('cr4')",
   "language": "python",
   "name": "python3"
  },
  "language_info": {
   "codemirror_mode": {
    "name": "ipython",
    "version": 3
   },
   "file_extension": ".py",
   "mimetype": "text/x-python",
   "name": "python",
   "nbconvert_exporter": "python",
   "pygments_lexer": "ipython3",
   "version": "3.6.12"
  },
  "orig_nbformat": 4,
  "vscode": {
   "interpreter": {
    "hash": "740471d2bc5e6e0b41d12bdc2e64373746aa6a34800f381ff958ff5f02fa0c53"
   }
  }
 },
 "nbformat": 4,
 "nbformat_minor": 2
}
