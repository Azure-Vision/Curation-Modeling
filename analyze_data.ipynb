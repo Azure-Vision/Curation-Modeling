{
 "cells": [
  {
   "cell_type": "code",
   "execution_count": 2,
   "metadata": {},
   "outputs": [],
   "source": [
    "CONFIG_PATH = \"configs/tmp.yml\""
   ]
  },
  {
   "cell_type": "code",
   "execution_count": 4,
   "metadata": {},
   "outputs": [
    {
     "name": "stdout",
     "output_type": "stream",
     "text": [
      "\u001b[1;33m------------------\u001b[0m\u001b[1;31m 2022-07-30 05:32:37 \u001b[0m\u001b[1;33m------------------\u001b[0m\n",
      "\u001b[1;33m\u001b[0m\u001b[1;32mDEBUG:\u001b[0m\u001b[1;33m 1 vars: ['custom_config'], at \u001b[0m\u001b[1;32m/home/TableSense/largedisk/wanrong/Curation-Modeling/utils.py:24 get_config\u001b[0m\u001b[1;33m\u001b[0m\n",
      "\u001b[1;33m0 / 2.\u001b[0m \u001b[1;33m \u001b[0m\u001b[1;36mcustom_config\u001b[0m\u001b[1;33m dict {...} with 19 keys ['prepared_data_path', 'sample_method', 'categorical_features', 'string_features', 'model_type', 'encoder_hidden_dim', 'language_model_encoder_name', 'sample_ratio', 'train_at_least_n_votes', 'l2_normalization', 'train_test_different_submissions', 'learning_rate', 'num_epochs', 'downvote_weight', 'user_normalization', 'batch_size', 'sample_part_voted_users', 'use_voted_users_feature', 'add_target_user_ratio']\u001b[0m\u001b[1;33m\u001b[0m\n",
      "\u001b[1;33m    \u001b[0m\u001b[1;36mprepared_data_path\u001b[0m\u001b[1;33m str len 25: data/reddit/tmp_linear.pt\u001b[0m\n",
      "\u001b[1;33m    \u001b[0m\u001b[1;36msample_method\u001b[0m\u001b[1;33m list size: 1\u001b[0m\u001b[1;33m val: ['SUBMISSION_ID']\u001b[0m\n",
      "\u001b[1;33m    \u001b[0m\u001b[1;36mcategorical_features\u001b[0m\u001b[1;33m list size: 5\u001b[0m\u001b[1;33m val: ['USERNAME', 'AUTHOR', 'SUBMISSION_ID', 'SUBREDDIT', 'NSFW']\u001b[0m\n",
      "\u001b[1;33m    \u001b[0m\u001b[1;36mstring_features\u001b[0m\u001b[1;33m list size: 0\u001b[0m\u001b[1;33m []\u001b[0m\n",
      "\u001b[1;33m    \u001b[0m\u001b[1;36mmodel_type\u001b[0m\u001b[1;33m str len 6: linear\u001b[0m\n",
      "\u001b[1;33m    \u001b[0m\u001b[1;36mencoder_hidden_dim\u001b[0m\u001b[1;33m num val: 128\u001b[0m\n",
      "\u001b[1;33m    \u001b[0m\u001b[1;36mlanguage_model_encoder_name\u001b[0m\u001b[1;33m str len 15: bert-base-cased\u001b[0m\n",
      "\u001b[1;33m    \u001b[0m\u001b[1;36msample_ratio\u001b[0m\u001b[1;33m num val: 0.01\u001b[0m\n",
      "\u001b[1;33m    \u001b[0m\u001b[1;36mtrain_at_least_n_votes\u001b[0m\u001b[1;33m num val: 0\u001b[0m\n",
      "\u001b[1;33m    \u001b[0m\u001b[1;36ml2_normalization\u001b[0m\u001b[1;33m num val: 0.01\u001b[0m\n",
      "\u001b[1;33m    \u001b[0m\u001b[1;36mtrain_test_different_submissions\u001b[0m\u001b[1;33m bool: False\u001b[0m\n",
      "\u001b[1;33m    \u001b[0m\u001b[1;36mlearning_rate\u001b[0m\u001b[1;33m num val: 0.001\u001b[0m\n",
      "\u001b[1;33m    \u001b[0m\u001b[1;36mnum_epochs\u001b[0m\u001b[1;33m num val: 20\u001b[0m\n",
      "\u001b[1;33m    \u001b[0m\u001b[1;36mdownvote_weight\u001b[0m\u001b[1;33m num val: 6\u001b[0m\n",
      "\u001b[1;33m    \u001b[0m\u001b[1;36muser_normalization\u001b[0m\u001b[1;33m str len 5: equal\u001b[0m\n",
      "\u001b[1;33m    \u001b[0m\u001b[1;36mbatch_size\u001b[0m\u001b[1;33m num val: 1024\u001b[0m\n",
      "\u001b[1;33m    \u001b[0m\u001b[1;36msample_part_voted_users\u001b[0m\u001b[1;33m bool: False\u001b[0m\n",
      "\u001b[1;33m    \u001b[0m\u001b[1;36muse_voted_users_feature\u001b[0m\u001b[1;33m bool: False\u001b[0m\n",
      "\u001b[1;33m    \u001b[0m\u001b[1;36madd_target_user_ratio\u001b[0m\u001b[1;33m num val: 0.3\u001b[0m\n",
      "\u001b[1;33m------------------\u001b[0m\u001b[1;31m 2022-07-30 05:32:37 \u001b[0m\u001b[1;33m------------------\u001b[0m\n",
      "GPU ready...\n",
      "Smart using cuda:0\n",
      "\u001b[1;33m------------------\u001b[0m\u001b[1;31m 2022-07-30 05:32:37 \u001b[0m\u001b[1;33m------------------\u001b[0m\n",
      "\u001b[1;33m\u001b[0m\u001b[1;32mDEBUG:\u001b[0m\u001b[1;33m at \u001b[0m\u001b[1;32m/home/TableSense/largedisk/wanrong/Curation-Modeling/process_data.py:321 get_model_input\u001b[0m\u001b[1;33m\u001b[0m\n",
      "\u001b[1;33m\u001b[0m\u001b[1;36mLoading prepared data...\u001b[0m\u001b[1;33m\u001b[0m\n",
      "\u001b[1;33m------------------\u001b[0m\u001b[1;31m 2022-07-30 05:32:37 \u001b[0m\u001b[1;33m------------------\u001b[0m\n"
     ]
    }
   ],
   "source": [
    "\n",
    "from utils import get_config\n",
    "from superdebug import debug\n",
    "from process_data import get_model_input\n",
    "config = get_config(CONFIG_PATH) # default config\n",
    "target, original_feature_map, categorical_features, string_features, train_data, test_data, test_data_info, train_submission_upvote_df, num_all_users = get_model_input(config)"
   ]
  },
  {
   "cell_type": "code",
   "execution_count": 10,
   "metadata": {},
   "outputs": [
    {
     "data": {
      "text/plain": [
       "SUBMISSION_ID                                                 187537\n",
       "SUBREDDIT                                                      17230\n",
       "CREATED_TIME                                             1.58317e+09\n",
       "USERNAME                                                       20233\n",
       "VOTE                                                               1\n",
       "TITLE                               (F) Risky exhib in public toilet\n",
       "AUTHOR                                                         29937\n",
       "#_COMMENTS                                                        12\n",
       "NSFW                                                               0\n",
       "SCORE                                                            243\n",
       "UPVOTED_%                                                       0.98\n",
       "LINK               https://www.reddit.com/r/gwpublic/comments/fce...\n",
       "SUBMISSION_TEXT                     (F) Risky exhib in public toilet\n",
       "Name: 395167, dtype: object"
      ]
     },
     "execution_count": 10,
     "metadata": {},
     "output_type": "execute_result"
    }
   ],
   "source": [
    "train_data.loc[395167]"
   ]
  },
  {
   "cell_type": "code",
   "execution_count": null,
   "metadata": {},
   "outputs": [
    {
     "name": "stdout",
     "output_type": "stream",
     "text": [
      "\u001b[1;33m------------------\u001b[0m\u001b[1;31m 2022-07-20 17:21:38 \u001b[0m\u001b[1;33m------------------\u001b[0m\n",
      "\u001b[1;33m\u001b[0m\u001b[1;32mDEBUG:\u001b[0m\u001b[1;33m 4 vars: ['train_upvote', 'train_downvote', 'test_upvote', 'test_downvote'], at \u001b[0m\u001b[1;32m<ipython-input-6-bf241b5dc052>:5 <module>\u001b[0m\u001b[1;33m\u001b[0m\n",
      "\u001b[1;33m0 / 2.\u001b[0m \u001b[1;33m \u001b[0m\u001b[1;36mtrain_upvote\u001b[0m\u001b[1;33m num val: 20684\u001b[0m\n",
      "\u001b[1;33m1 / 3.\u001b[0m \u001b[1;33m \u001b[0m\u001b[1;36mtrain_downvote\u001b[0m\u001b[1;33m num val: 20504\u001b[0m\n",
      "\u001b[1;33m2 / 4.\u001b[0m \u001b[1;33m \u001b[0m\u001b[1;36mtest_upvote\u001b[0m\u001b[1;33m num val: 5227\u001b[0m\n",
      "\u001b[1;33m3 / 5.\u001b[0m \u001b[1;33m \u001b[0m\u001b[1;36mtest_downvote\u001b[0m\u001b[1;33m num val: 5071\u001b[0m\n",
      "\u001b[1;33m------------------\u001b[0m\u001b[1;31m 2022-07-20 17:21:38 \u001b[0m\u001b[1;33m------------------\u001b[0m\n"
     ]
    }
   ],
   "source": [
    "from collections import Counter, defaultdict, OrderedDict\n",
    "debug(train_upvote = sum(train_data[\"VOTE\"] == 1),\n",
    "    train_downvote = sum(train_data[\"VOTE\"] == 0),\n",
    "    test_upvote = sum(test_data[\"VOTE\"] == 1),\n",
    "    test_downvote = sum(test_data[\"VOTE\"] == 0),\n",
    "    )\n",
    "user_votes = Counter()\n",
    "submission_votes = Counter()\n",
    "subreddit_subreddit_votes = defaultdict(Counter)\n",
    "for row_i, row in train_data.iterrows():\n",
    "    submission_votes[row[\"SUBMISSION_ID\"]] += 1\n",
    "    user_votes[row[\"USERNAME\"]] += 1\n",
    "    subreddit_subreddit_votes[row[\"SUBREDDIT\"]][row[\"VOTE\"]] += 1\n",
    "    if \"users\" not in subreddit_subreddit_votes[row[\"SUBREDDIT\"]]:\n",
    "        subreddit_subreddit_votes[row[\"SUBREDDIT\"]][\"users\"] = set()\n",
    "    subreddit_subreddit_votes[row[\"SUBREDDIT\"]][\"users\"].add(row[\"USERNAME\"])\n"
   ]
  },
  {
   "cell_type": "code",
   "execution_count": null,
   "metadata": {},
   "outputs": [
    {
     "name": "stdout",
     "output_type": "stream",
     "text": [
      "\u001b[1;33m------------------\u001b[0m\u001b[1;31m 2022-07-20 17:21:45 \u001b[0m\u001b[1;33m------------------\u001b[0m\n",
      "\u001b[1;33m\u001b[0m\u001b[1;32mDEBUG:\u001b[0m\u001b[1;33m 1 vars: ['distribution'], at \u001b[0m\u001b[1;32m<ipython-input-7-43b29e4ea0c5>:12 draw_histogram\u001b[0m\u001b[1;33m\u001b[0m\n",
      "\u001b[1;33m0 / 6.\u001b[0m \u001b[1;33m \u001b[0m\u001b[1;36mdistribution\u001b[0m\u001b[1;33m str len 924: OrderedDict([(1, 1280), (2, 2580), (3, 687), (4, 757), (5, 375), (6, 337), (7, 222), (8, 178), (9, 121), (10, 110), (11, 106), (12, 79), (13, 54), (14, 57), (15, 44), (16, 40), (17, 30), (18, 44), (19, 31), (20, 19), (21, 26), (22, 17), (23, 14), (24, 16), (25, 10), (26, 17), (27, 7), (28, 14), (29, 11), (30, 9), (31, 13), (32, 6), (33, 8), (34, 1), (35, 8), (36, 9), (37, 7), (38, 3), (39, 4), (40, 5), (41, 3), (42, 2), (43, 2), (44, 3), (45, 4), (46, 4), (47, 6), (48, 4), (49, 2), (50, 3), (51, 4), (52, 1), (53, 4 ... (170, 1), (257, 1)])\u001b[0m\n",
      "\u001b[1;33m------------------\u001b[0m\u001b[1;31m 2022-07-20 17:21:45 \u001b[0m\u001b[1;33m------------------\u001b[0m\n"
     ]
    },
    {
     "data": {
      "image/png": "[encoded data removed]",
      "text/plain": [
       "<Figure size 432x288 with 1 Axes>"
      ]
     },
     "metadata": {},
     "output_type": "display_data"
    },
    {
     "name": "stdout",
     "output_type": "stream",
     "text": [
      "\u001b[1;33m------------------\u001b[0m\u001b[1;31m 2022-07-20 17:21:47 \u001b[0m\u001b[1;33m------------------\u001b[0m\n",
      "\u001b[1;33m\u001b[0m\u001b[1;32mDEBUG:\u001b[0m\u001b[1;33m at \u001b[0m\u001b[1;32m<ipython-input-7-43b29e4ea0c5>:18 draw_histogram\u001b[0m\u001b[1;33m\u001b[0m\n",
      "\u001b[1;33m\u001b[0m\u001b[1;36mFigure saved in output/user_votes_distribution.png\u001b[0m\u001b[1;33m\u001b[0m\n",
      "\u001b[1;33m------------------\u001b[0m\u001b[1;31m 2022-07-20 17:21:47 \u001b[0m\u001b[1;33m------------------\u001b[0m\n",
      "\u001b[1;33m------------------\u001b[0m\u001b[1;31m 2022-07-20 17:21:48 \u001b[0m\u001b[1;33m------------------\u001b[0m\n",
      "\u001b[1;33m\u001b[0m\u001b[1;32mDEBUG:\u001b[0m\u001b[1;33m 1 vars: ['distribution'], at \u001b[0m\u001b[1;32m<ipython-input-7-43b29e4ea0c5>:12 draw_histogram\u001b[0m\u001b[1;33m\u001b[0m\n",
      "\u001b[1;33m0 / 7.\u001b[0m \u001b[1;33m \u001b[0m\u001b[1;36mdistribution\u001b[0m\u001b[1;33m str len 856: OrderedDict([(5, 3), (6, 6), (7, 10), (8, 20), (9, 24), (10, 30), (11, 42), (12, 43), (13, 72), (14, 72), (15, 86), (16, 106), (17, 80), (18, 79), (19, 73), (20, 84), (21, 75), (22, 65), (23, 84), (24, 55), (25, 55), (26, 41), (27, 59), (28, 40), (29, 35), (30, 34), (31, 31), (32, 25), (33, 20), (34, 26), (35, 14), (36, 13), (37, 15), (38, 5), (39, 11), (40, 9), (41, 4), (42, 10), (43, 14), (44, 11), (45, 7), (46, 8), (47, 7), (48, 9), (49, 4), (50, 1), (51, 3), (52, 2), (53, 2), (54, 2), (55, 2), (56, 5), (57, 2), ... (209, 1), (214, 1)])\u001b[0m\n",
      "\u001b[1;33m------------------\u001b[0m\u001b[1;31m 2022-07-20 17:21:48 \u001b[0m\u001b[1;33m------------------\u001b[0m\n"
     ]
    },
    {
     "data": {
      "image/png": "[encoded data removed]",
      "text/plain": [
       "<Figure size 432x288 with 1 Axes>"
      ]
     },
     "metadata": {},
     "output_type": "display_data"
    },
    {
     "name": "stdout",
     "output_type": "stream",
     "text": [
      "\u001b[1;33m------------------\u001b[0m\u001b[1;31m 2022-07-20 17:21:48 \u001b[0m\u001b[1;33m------------------\u001b[0m\n",
      "\u001b[1;33m\u001b[0m\u001b[1;32mDEBUG:\u001b[0m\u001b[1;33m at \u001b[0m\u001b[1;32m<ipython-input-7-43b29e4ea0c5>:18 draw_histogram\u001b[0m\u001b[1;33m\u001b[0m\n",
      "\u001b[1;33m\u001b[0m\u001b[1;36mFigure saved in output/submission_votes_distribution.png\u001b[0m\u001b[1;33m\u001b[0m\n",
      "\u001b[1;33m------------------\u001b[0m\u001b[1;31m 2022-07-20 17:21:48 \u001b[0m\u001b[1;33m------------------\u001b[0m\n"
     ]
    }
   ],
   "source": [
    "from importlib_metadata import distribution\n",
    "from matplotlib import pyplot as plt\n",
    "import matplotlib\n",
    "import pandas as pd\n",
    "import seaborn as sns\n",
    "def draw_histogram(nums:list, file_name):\n",
    "    sns.set_theme(style=\"whitegrid\")\n",
    "    ax = sns.histplot(data=nums)\n",
    "    ax.set_yscale('log')\n",
    "    # ax.set_xscale('log')\n",
    "    distribution = OrderedDict(sorted(list(Counter(nums).items())))\n",
    "    debug(distribution=str(distribution))\n",
    "    # ax.text(-0.15, 1.1, distribution, fontsize=7, transform=ax.transAxes)\n",
    "    save_path = f\"output/{file_name}.png\"\n",
    "    plt.show()\n",
    "    plt.savefig(save_path, dpi = 300)\n",
    "    plt.close()\n",
    "    debug(f\"Figure saved in {save_path}\")\n",
    "\n",
    "draw_histogram(list(user_votes.values()), \"user_votes_distribution\")\n",
    "draw_histogram(list(submission_votes.values()), \"submission_votes_distribution\")"
   ]
  },
  {
   "cell_type": "code",
   "execution_count": null,
   "metadata": {},
   "outputs": [
    {
     "name": "stdout",
     "output_type": "stream",
     "text": [
      "\u001b[1;33m------------------\u001b[0m\u001b[1;31m 2022-07-20 17:21:48 \u001b[0m\u001b[1;33m------------------\u001b[0m\n",
      "\u001b[1;33m\u001b[0m\u001b[1;32mDEBUG:\u001b[0m\u001b[1;33m 1 vars: ['subreddit_votes'], at \u001b[0m\u001b[1;32m<ipython-input-8-301709a3aa7a>:6 <module>\u001b[0m\u001b[1;33m\u001b[0m\n",
      "\u001b[1;33m0 / 8.\u001b[0m \u001b[1;33m \u001b[0m\u001b[1;36msubreddit_votes\u001b[0m\u001b[1;33m pandas.core.frame.DataFrame with props ['_is_copy', '_mgr', '_item_cache', '_attrs']\u001b[0m\u001b[1;33m val:                            0  \\\n",
      "subreddit                      \n",
      "r/AskReddit           1364.0   \n",
      "r/pics                3304.0   \n",
      "r/politics            2545.0   \n",
      "r/worldnews           2082.0   \n",
      "r/UpliftingNews         75.0   \n",
      "...                      ...   \n",
      "r/memes                  7.0   \n",
      "r/quityourbullshit       5.0   \n",
      "r/facepalm              12.0   \n",
      "r/PraiseTheCameraMan    14.0   \n",
      "r/dataisbeautiful        NaN   \n",
      "\n",
      "                                                                  users     1  \\\n",
      "subreddit                                                                       \n",
      "r/AskReddit           {2049, 6147, 2052, 4, 4102, 7, 4103, 4101, 615...   493   \n",
      "r/pics                {0, 1, 5, 9, 17, 24, 26, 31, 33, 35, 37, 38, 3...  2802   \n",
      "r/politics            {1, 7, 11, 13, 18, 19, 22, 24, 28, 29, 33, 35,...  2329   \n",
      "r/worldnews           {1, 5, 7, 8, 11, 17, 23, 24, 29, 33, 36, 40, 4...  2648   \n",
      "r/UpliftingNews       {3589, 6661, 7, 522, 3595, 1547, 4629, 5146, 7...    63   \n",
      "...                                                                 ...   ...   \n",
      "r/memes               {4643, 7492, 1796, 5242, 3834, 6090, 1900, 12,...    10   \n",
      "r/quityourbullshit    {7179, 6673, 3990, 5658, 3366, 4137, 4525, 261...    18   \n",
      "r/facepalm            {128, 6657, 2145, 4258, 2150, 808, 1439, 1322,...     3   \n",
      "r/PraiseTheCameraMan  {1928, 1301, 4889, 1563, 7582, 3250, 4403, 747...    10   \n",
      "r/dataisbeautiful     {7105, 4614, 4808, 680, 1489, 3794, 51, 3124, ...    13   \n",
      "\n",
      "                      downvote_rate  \n",
      "subreddit                            \n",
      "r/AskReddit               73.451804  \n",
      "r/pics                    54.110711  \n",
      "r/politics                52.215839  \n",
      "r/worldnews               44.016913  \n",
      "r/UpliftingNews           54.347826  \n",
      "...                             ...  \n",
      "r/memes                   41.176471  \n",
      "r/quityourbullshit        21.739130  \n",
      "r/facepalm                80.000000  \n",
      "r/PraiseTheCameraMan      58.333333  \n",
      "r/dataisbeautiful          0.000000  \n",
      "\n",
      "[149 rows x 4 columns]\u001b[0m\n",
      "\u001b[1;33m------------------\u001b[0m\u001b[1;31m 2022-07-20 17:21:48 \u001b[0m\u001b[1;33m------------------\u001b[0m\n",
      "\u001b[1;33m------------------\u001b[0m\u001b[1;31m 2022-07-20 17:21:48 \u001b[0m\u001b[1;33m------------------\u001b[0m\n",
      "\u001b[1;33m\u001b[0m\u001b[1;32mDEBUG:\u001b[0m\u001b[1;33m at \u001b[0m\u001b[1;32m<ipython-input-8-301709a3aa7a>:9 <module>\u001b[0m\u001b[1;33m\u001b[0m\n",
      "\u001b[1;33m\u001b[0m\u001b[1;36mVotes of each subreddit is saved to output/subreddit_votes_users.csv\u001b[0m\u001b[1;33m\u001b[0m\n",
      "\u001b[1;33m------------------\u001b[0m\u001b[1;31m 2022-07-20 17:21:48 \u001b[0m\u001b[1;33m------------------\u001b[0m\n"
     ]
    }
   ],
   "source": [
    "for subreddit in subreddit_subreddit_votes:\n",
    "    subreddit_subreddit_votes[subreddit][\"downvote_rate\"] = 100 * subreddit_subreddit_votes[subreddit][0] / (subreddit_subreddit_votes[subreddit][1] + subreddit_subreddit_votes[subreddit][0])\n",
    "    subreddit_subreddit_votes[subreddit][\"subreddit\"] = original_feature_map[\"SUBREDDIT\"][subreddit]\n",
    "    subreddit_subreddit_votes[subreddit][\"users\"] = str(subreddit_subreddit_votes[subreddit][\"users\"])\n",
    "subreddit_subreddit_votes = pd.DataFrame(list(subreddit_subreddit_votes.values())).set_index(\"subreddit\")\n",
    "debug(subreddit_votes=subreddit_subreddit_votes)\n",
    "save_path = \"output/subreddit_votes_users.csv\"\n",
    "subreddit_subreddit_votes.to_csv(save_path)\n",
    "debug(f\"Votes of each subreddit is saved to {save_path}\")"
   ]
  }
 ],
 "metadata": {
  "kernelspec": {
   "display_name": "Python 3",
   "language": "python",
   "name": "python3"
  },
  "language_info": {
   "codemirror_mode": {
    "name": "ipython",
    "version": 3
   },
   "file_extension": ".py",
   "mimetype": "text/x-python",
   "name": "python",
   "nbconvert_exporter": "python",
   "pygments_lexer": "ipython3",
   "version": "3.6.12"
  },
  "vscode": {
   "interpreter": {
    "hash": "31f2aee4e71d21fbe5cf8b01ff0e069b9275f58929596ceb00d14d90e3e16cd6"
   }
  }
 },
 "nbformat": 4,
 "nbformat_minor": 2
}
