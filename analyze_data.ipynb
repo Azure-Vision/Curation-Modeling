{
 "cells": [
  {
   "cell_type": "code",
   "execution_count": 1,
   "metadata": {},
   "outputs": [],
   "source": [
    "CONFIG_PATH = \"configs/subreddit_minority_no_peer_new.yml\""
   ]
  },
  {
   "cell_type": "code",
   "execution_count": 2,
   "metadata": {},
   "outputs": [
    {
     "name": "stdout",
     "output_type": "stream",
     "text": [
      "为了使用邮件提醒功能，请设置环境变量MY_QQ_EMAIL（QQ邮箱地址）与MY_QQ_EMAIL_PWD（QQ邮箱授权码）\n",
      "\u001b[1;33m------------------\u001b[0m\u001b[1;31m 2022-08-31 21:30:26 \u001b[0m\u001b[1;33m------------------\u001b[0m\n"
     ]
    },
    {
     "name": "stderr",
     "output_type": "stream",
     "text": [
      "Version 7.5.0 of praw is outdated. Version 7.6.0 was released Tuesday May 10, 2022.\n"
     ]
    },
    {
     "name": "stdout",
     "output_type": "stream",
     "text": [
      "GPU ready...\n",
      "\u001b[1;33m------------------\u001b[0m\u001b[1;31m 2022-08-31 21:30:29 \u001b[0m\u001b[1;33m------------------\u001b[0m\n",
      "\u001b[1;33m\u001b[0m\u001b[1;32mDEBUG:\u001b[0m\u001b[1;33m at \u001b[0m\u001b[1;32m/home/TableSense/largedisk/wanrong/Curation-Modeling/process_data.py:363 get_model_input\u001b[0m\u001b[1;33m\u001b[0m\n",
      "\u001b[1;33m\u001b[0m\u001b[1;36mLoading prepared data...\u001b[0m\u001b[1;33m\u001b[0m\n",
      "\u001b[1;33m------------------\u001b[0m\u001b[1;31m 2022-08-31 21:30:29 \u001b[0m\u001b[1;33m------------------\u001b[0m\n"
     ]
    }
   ],
   "source": [
    "\n",
    "from utils import get_config\n",
    "from superdebug import debug\n",
    "from collections import Counter\n",
    "from urllib.parse import urlparse\n",
    "from process_data import get_model_input\n",
    "config = get_config(CONFIG_PATH, print_config = False) # default config\n",
    "target, original_feature_map, categorical_features, string_features, train_data, test_data, test_data_info, train_submission_upvote_df, num_all_users = get_model_input(config)"
   ]
  },
  {
   "cell_type": "code",
   "execution_count": 10,
   "metadata": {},
   "outputs": [
    {
     "data": {
      "text/plain": [
       "[('r/politics', 1082006),\n",
       " ('r/Conservative', 63132),\n",
       " ('r/Liberal', 2076),\n",
       " ('r/Republican', 7245),\n",
       " ('r/democrats', 6890),\n",
       " ('r/VoteBlue', 7732),\n",
       " ('r/Jokes', 138451),\n",
       " ('r/science', 111857),\n",
       " ('r/ScienceFacts', 137),\n",
       " ('r/technology', 102203),\n",
       " ('r/shittyaskscience', 7992),\n",
       " ('r/Feminism', 5482),\n",
       " ('r/MensRights', 24682),\n",
       " ('r/lesbian', 0),\n",
       " ('r/LesbianActually', 2483),\n",
       " ('r/gay', 4257),\n",
       " ('r/trans', 2597),\n",
       " ('r/teenagers', 144444),\n",
       " ('r/Showerthoughts', 252455)]"
      ]
     },
     "execution_count": 10,
     "metadata": {},
     "output_type": "execute_result"
    }
   ],
   "source": [
    "subreddit_datapoint_counter = Counter(train_data[\"SUBREDDIT\"]) + Counter(test_data[\"SUBREDDIT\"])\n",
    "subreddit_datapoint_counter = [(k, subreddit_datapoint_counter[k]) for k in config[\"selected_subreddits\"]]\n",
    "subreddit_datapoint_counter"
   ]
  },
  {
   "cell_type": "code",
   "execution_count": 4,
   "metadata": {},
   "outputs": [],
   "source": [
    "url_counter = Counter([urlparse(_).netloc for _ in train_data[\"SUBMISSION_URL\"].to_list()])"
   ]
  },
  {
   "cell_type": "code",
   "execution_count": 5,
   "metadata": {},
   "outputs": [
    {
     "name": "stdout",
     "output_type": "stream",
     "text": [
      "4912 13062 9781\n",
      "21258 5294 18324\n"
     ]
    }
   ],
   "source": [
    "# clickbait news\n",
    "print(url_counter[\"www.buzzfeednews.com\"], url_counter[\"www.huffpost.com\"], url_counter[\"www.breitbart.com\"])\n",
    "# long-form relatively neutral news\n",
    "print(url_counter[\"www.nytimes.com\"], url_counter[\"www.theatlantic.com\"], url_counter[\"www.theguardian.com\"])"
   ]
  },
  {
   "cell_type": "code",
   "execution_count": 6,
   "metadata": {},
   "outputs": [
    {
     "name": "stdout",
     "output_type": "stream",
     "text": [
      "\u001b[1;33m------------------\u001b[0m\u001b[1;31m 2022-08-31 21:30:48 \u001b[0m\u001b[1;33m------------------\u001b[0m\n",
      "\u001b[1;33m\u001b[0m\u001b[1;32mDEBUG:\u001b[0m\u001b[1;33m 4 vars: ['train_upvote', 'train_downvote', 'test_upvote', 'test_downvote'], at \u001b[0m\u001b[1;32m<ipython-input-6-bf241b5dc052>:5 <module>\u001b[0m\u001b[1;33m\u001b[0m\n",
      "\u001b[1;33m0 / 1.\u001b[0m \u001b[1;33m \u001b[0m\u001b[1;36mtrain_upvote\u001b[0m\u001b[1;33m num val: 1151115\u001b[0m\n",
      "\u001b[1;33m1 / 2.\u001b[0m \u001b[1;33m \u001b[0m\u001b[1;36mtrain_downvote\u001b[0m\u001b[1;33m num val: 421782\u001b[0m\n",
      "\u001b[1;33m2 / 3.\u001b[0m \u001b[1;33m \u001b[0m\u001b[1;36mtest_upvote\u001b[0m\u001b[1;33m num val: 288360\u001b[0m\n",
      "\u001b[1;33m3 / 4.\u001b[0m \u001b[1;33m \u001b[0m\u001b[1;36mtest_downvote\u001b[0m\u001b[1;33m num val: 104864\u001b[0m\n",
      "\u001b[1;33m------------------\u001b[0m\u001b[1;31m 2022-08-31 21:30:48 \u001b[0m\u001b[1;33m------------------\u001b[0m\n"
     ]
    }
   ],
   "source": [
    "from collections import Counter, defaultdict, OrderedDict\n",
    "debug(train_upvote = sum(train_data[\"VOTE\"] == 1),\n",
    "    train_downvote = sum(train_data[\"VOTE\"] == 0),\n",
    "    test_upvote = sum(test_data[\"VOTE\"] == 1),\n",
    "    test_downvote = sum(test_data[\"VOTE\"] == 0),\n",
    "    )\n",
    "user_votes = Counter()\n",
    "submission_votes = Counter()\n",
    "subreddit_subreddit_votes = defaultdict(Counter)\n",
    "for row_i, row in train_data.iterrows():\n",
    "    submission_votes[row[\"SUBMISSION_ID\"]] += 1\n",
    "    user_votes[row[\"USERNAME\"]] += 1\n",
    "    subreddit_subreddit_votes[row[\"SUBREDDIT\"]][row[\"VOTE\"]] += 1\n",
    "    if \"users\" not in subreddit_subreddit_votes[row[\"SUBREDDIT\"]]:\n",
    "        subreddit_subreddit_votes[row[\"SUBREDDIT\"]][\"users\"] = set()\n",
    "    subreddit_subreddit_votes[row[\"SUBREDDIT\"]][\"users\"].add(row[\"USERNAME\"])\n"
   ]
  },
  {
   "cell_type": "code",
   "execution_count": 7,
   "metadata": {},
   "outputs": [
    {
     "name": "stdout",
     "output_type": "stream",
     "text": [
      "\u001b[1;33m------------------\u001b[0m\u001b[1;31m 2022-08-31 21:34:24 \u001b[0m\u001b[1;33m------------------\u001b[0m\n",
      "\u001b[1;33m\u001b[0m\u001b[1;32mDEBUG:\u001b[0m\u001b[1;33m 1 vars: ['distribution'], at \u001b[0m\u001b[1;32m<ipython-input-7-07c3b14be516>:12 draw_histogram\u001b[0m\u001b[1;33m\u001b[0m\n",
      "\u001b[1;33m0 / 5.\u001b[0m \u001b[1;33m \u001b[0m\u001b[1;36mdistribution\u001b[0m\u001b[1;33m str len 8490: OrderedDict([(1, 2461), (2, 1620), (3, 1260), (4, 1063), (5, 927), (6, 828), (7, 707), (8, 691), (9, 671), (10, 573), (11, 558), (12, 511), (13, 530), (14, 427), (15, 425), (16, 420), (17, 390), (18, 395), (19, 405), (20, 369), (21, 318), (22, 329), (23, 303), (24, 328), (25, 275), (26, 255), (27, 256), (28, 275), (29, 238), (30, 244), (31, 194), (32, 216), (33, 213), (34, 197), (35, 185), (36, 183), (37, 180), (38, 181), (39, 155), (40, 169), (41, 158), (42, 153), (43, 140), (44, 162), (45, 130), (46, 137), (47, 1 ... 627, 1), (5302, 1)])\u001b[0m\n",
      "\u001b[1;33m------------------\u001b[0m\u001b[1;31m 2022-08-31 21:34:24 \u001b[0m\u001b[1;33m------------------\u001b[0m\n",
      "\u001b[1;33m------------------\u001b[0m\u001b[1;31m 2022-08-31 21:34:24 \u001b[0m\u001b[1;33m------------------\u001b[0m\n",
      "\u001b[1;33m\u001b[0m\u001b[1;32mDEBUG:\u001b[0m\u001b[1;33m at \u001b[0m\u001b[1;32m<ipython-input-7-07c3b14be516>:14 draw_histogram\u001b[0m\u001b[1;33m\u001b[0m\n",
      "\u001b[1;33m\u001b[0m\u001b[1;36m10% of x take up 84.8107% of distribution\u001b[0m\u001b[1;33m\u001b[0m\n",
      "\u001b[1;33m------------------\u001b[0m\u001b[1;31m 2022-08-31 21:34:24 \u001b[0m\u001b[1;33m------------------\u001b[0m\n"
     ]
    },
    {
     "data": {
      "image/png": "[encoded data removed]",
      "text/plain": [
       "<Figure size 432x288 with 1 Axes>"
      ]
     },
     "metadata": {},
     "output_type": "display_data"
    },
    {
     "name": "stdout",
     "output_type": "stream",
     "text": [
      "\u001b[1;33m------------------\u001b[0m\u001b[1;31m 2022-08-31 21:34:28 \u001b[0m\u001b[1;33m------------------\u001b[0m\n",
      "\u001b[1;33m\u001b[0m\u001b[1;32mDEBUG:\u001b[0m\u001b[1;33m at \u001b[0m\u001b[1;32m<ipython-input-7-07c3b14be516>:19 draw_histogram\u001b[0m\u001b[1;33m\u001b[0m\n",
      "\u001b[1;33m\u001b[0m\u001b[1;36mFigure saved in output/user_votes_distribution.png\u001b[0m\u001b[1;33m\u001b[0m\n",
      "\u001b[1;33m------------------\u001b[0m\u001b[1;31m 2022-08-31 21:34:28 \u001b[0m\u001b[1;33m------------------\u001b[0m\n",
      "\u001b[1;33m------------------\u001b[0m\u001b[1;31m 2022-08-31 21:34:45 \u001b[0m\u001b[1;33m------------------\u001b[0m\n",
      "\u001b[1;33m\u001b[0m\u001b[1;32mDEBUG:\u001b[0m\u001b[1;33m 1 vars: ['distribution'], at \u001b[0m\u001b[1;32m<ipython-input-7-07c3b14be516>:12 draw_histogram\u001b[0m\u001b[1;33m\u001b[0m\n",
      "\u001b[1;33m0 / 6.\u001b[0m \u001b[1;33m \u001b[0m\u001b[1;36mdistribution\u001b[0m\u001b[1;33m str len 2926: OrderedDict([(1, 310819), (2, 59804), (3, 26512), (4, 15165), (5, 9837), (6, 6930), (7, 5146), (8, 3970), (9, 3127), (10, 2507), (11, 2207), (12, 1847), (13, 1623), (14, 1316), (15, 1242), (16, 1097), (17, 959), (18, 827), (19, 789), (20, 699), (21, 660), (22, 575), (23, 542), (24, 506), (25, 458), (26, 419), (27, 398), (28, 391), (29, 352), (30, 329), (31, 274), (32, 252), (33, 263), (34, 271), (35, 210), (36, 203), (37, 232), (38, 209), (39, 188), (40, 169), (41, 155), (42, 132), (43, 161), (44, 137), (45, 151),  ... (379, 1), (525, 1)])\u001b[0m\n",
      "\u001b[1;33m------------------\u001b[0m\u001b[1;31m 2022-08-31 21:34:45 \u001b[0m\u001b[1;33m------------------\u001b[0m\n",
      "\u001b[1;33m------------------\u001b[0m\u001b[1;31m 2022-08-31 21:34:45 \u001b[0m\u001b[1;33m------------------\u001b[0m\n",
      "\u001b[1;33m\u001b[0m\u001b[1;32mDEBUG:\u001b[0m\u001b[1;33m at \u001b[0m\u001b[1;32m<ipython-input-7-07c3b14be516>:14 draw_histogram\u001b[0m\u001b[1;33m\u001b[0m\n",
      "\u001b[1;33m\u001b[0m\u001b[1;36m10% of x take up 98.2953% of distribution\u001b[0m\u001b[1;33m\u001b[0m\n",
      "\u001b[1;33m------------------\u001b[0m\u001b[1;31m 2022-08-31 21:34:45 \u001b[0m\u001b[1;33m------------------\u001b[0m\n"
     ]
    },
    {
     "data": {
      "image/png": "[encoded data removed]",
      "text/plain": [
       "<Figure size 432x288 with 1 Axes>"
      ]
     },
     "metadata": {},
     "output_type": "display_data"
    },
    {
     "name": "stdout",
     "output_type": "stream",
     "text": [
      "\u001b[1;33m------------------\u001b[0m\u001b[1;31m 2022-08-31 21:35:15 \u001b[0m\u001b[1;33m------------------\u001b[0m\n",
      "\u001b[1;33m\u001b[0m\u001b[1;32mDEBUG:\u001b[0m\u001b[1;33m at \u001b[0m\u001b[1;32m<ipython-input-7-07c3b14be516>:19 draw_histogram\u001b[0m\u001b[1;33m\u001b[0m\n",
      "\u001b[1;33m\u001b[0m\u001b[1;36mFigure saved in output/submission_votes_distribution.png\u001b[0m\u001b[1;33m\u001b[0m\n",
      "\u001b[1;33m------------------\u001b[0m\u001b[1;31m 2022-08-31 21:35:15 \u001b[0m\u001b[1;33m------------------\u001b[0m\n"
     ]
    }
   ],
   "source": [
    "from importlib_metadata import distribution\n",
    "from matplotlib import pyplot as plt\n",
    "import matplotlib\n",
    "import pandas as pd\n",
    "import seaborn as sns\n",
    "def draw_histogram(nums:list, file_name):\n",
    "    sns.set_theme(style=\"whitegrid\")\n",
    "    ax = sns.histplot(data=nums)\n",
    "    ax.set_yscale('log')\n",
    "    # ax.set_xscale('log')\n",
    "    distribution = OrderedDict(sorted(list(Counter(nums).items())))\n",
    "    debug(distribution=str(distribution))\n",
    "    # ax.text(-0.15, 1.1, distribution, fontsize=7, transform=ax.transAxes)\n",
    "    debug(f\"10% of x take up {sum(OrderedDict(list(distribution.items())[:len(distribution)//10]).values()) / sum(distribution.values()) * 100:.4f}% of distribution\")\n",
    "    save_path = f\"output/{file_name}.png\"\n",
    "    plt.show()\n",
    "    plt.savefig(save_path, dpi = 300)\n",
    "    plt.close()\n",
    "    debug(f\"Figure saved in {save_path}\")\n",
    "\n",
    "draw_histogram(list(user_votes.values()), \"user_votes_distribution\")\n",
    "draw_histogram(list(submission_votes.values()), \"submission_votes_distribution\")"
   ]
  },
  {
   "cell_type": "code",
   "execution_count": 8,
   "metadata": {},
   "outputs": [
    {
     "ename": "KeyError",
     "evalue": "'r/Showerthoughts'",
     "output_type": "error",
     "traceback": [
      "\u001b[0;31m---------------------------------------------------------------------------\u001b[0m",
      "\u001b[0;31mKeyError\u001b[0m                                  Traceback (most recent call last)",
      "\u001b[0;32m<ipython-input-8-301709a3aa7a>\u001b[0m in \u001b[0;36m<module>\u001b[0;34m\u001b[0m\n\u001b[1;32m      1\u001b[0m \u001b[0;32mfor\u001b[0m \u001b[0msubreddit\u001b[0m \u001b[0;32min\u001b[0m \u001b[0msubreddit_subreddit_votes\u001b[0m\u001b[0;34m:\u001b[0m\u001b[0;34m\u001b[0m\u001b[0;34m\u001b[0m\u001b[0m\n\u001b[1;32m      2\u001b[0m     \u001b[0msubreddit_subreddit_votes\u001b[0m\u001b[0;34m[\u001b[0m\u001b[0msubreddit\u001b[0m\u001b[0;34m]\u001b[0m\u001b[0;34m[\u001b[0m\u001b[0;34m\"downvote_rate\"\u001b[0m\u001b[0;34m]\u001b[0m \u001b[0;34m=\u001b[0m \u001b[0;36m100\u001b[0m \u001b[0;34m*\u001b[0m \u001b[0msubreddit_subreddit_votes\u001b[0m\u001b[0;34m[\u001b[0m\u001b[0msubreddit\u001b[0m\u001b[0;34m]\u001b[0m\u001b[0;34m[\u001b[0m\u001b[0;36m0\u001b[0m\u001b[0;34m]\u001b[0m \u001b[0;34m/\u001b[0m \u001b[0;34m(\u001b[0m\u001b[0msubreddit_subreddit_votes\u001b[0m\u001b[0;34m[\u001b[0m\u001b[0msubreddit\u001b[0m\u001b[0;34m]\u001b[0m\u001b[0;34m[\u001b[0m\u001b[0;36m1\u001b[0m\u001b[0;34m]\u001b[0m \u001b[0;34m+\u001b[0m \u001b[0msubreddit_subreddit_votes\u001b[0m\u001b[0;34m[\u001b[0m\u001b[0msubreddit\u001b[0m\u001b[0;34m]\u001b[0m\u001b[0;34m[\u001b[0m\u001b[0;36m0\u001b[0m\u001b[0;34m]\u001b[0m\u001b[0;34m)\u001b[0m\u001b[0;34m\u001b[0m\u001b[0;34m\u001b[0m\u001b[0m\n\u001b[0;32m----> 3\u001b[0;31m     \u001b[0msubreddit_subreddit_votes\u001b[0m\u001b[0;34m[\u001b[0m\u001b[0msubreddit\u001b[0m\u001b[0;34m]\u001b[0m\u001b[0;34m[\u001b[0m\u001b[0;34m\"subreddit\"\u001b[0m\u001b[0;34m]\u001b[0m \u001b[0;34m=\u001b[0m \u001b[0moriginal_feature_map\u001b[0m\u001b[0;34m[\u001b[0m\u001b[0;34m\"SUBREDDIT\"\u001b[0m\u001b[0;34m]\u001b[0m\u001b[0;34m[\u001b[0m\u001b[0msubreddit\u001b[0m\u001b[0;34m]\u001b[0m\u001b[0;34m\u001b[0m\u001b[0;34m\u001b[0m\u001b[0m\n\u001b[0m\u001b[1;32m      4\u001b[0m     \u001b[0msubreddit_subreddit_votes\u001b[0m\u001b[0;34m[\u001b[0m\u001b[0msubreddit\u001b[0m\u001b[0;34m]\u001b[0m\u001b[0;34m[\u001b[0m\u001b[0;34m\"users\"\u001b[0m\u001b[0;34m]\u001b[0m \u001b[0;34m=\u001b[0m \u001b[0mstr\u001b[0m\u001b[0;34m(\u001b[0m\u001b[0msubreddit_subreddit_votes\u001b[0m\u001b[0;34m[\u001b[0m\u001b[0msubreddit\u001b[0m\u001b[0;34m]\u001b[0m\u001b[0;34m[\u001b[0m\u001b[0;34m\"users\"\u001b[0m\u001b[0;34m]\u001b[0m\u001b[0;34m)\u001b[0m\u001b[0;34m\u001b[0m\u001b[0;34m\u001b[0m\u001b[0m\n\u001b[1;32m      5\u001b[0m \u001b[0msubreddit_subreddit_votes\u001b[0m \u001b[0;34m=\u001b[0m \u001b[0mpd\u001b[0m\u001b[0;34m.\u001b[0m\u001b[0mDataFrame\u001b[0m\u001b[0;34m(\u001b[0m\u001b[0mlist\u001b[0m\u001b[0;34m(\u001b[0m\u001b[0msubreddit_subreddit_votes\u001b[0m\u001b[0;34m.\u001b[0m\u001b[0mvalues\u001b[0m\u001b[0;34m(\u001b[0m\u001b[0;34m)\u001b[0m\u001b[0;34m)\u001b[0m\u001b[0;34m)\u001b[0m\u001b[0;34m.\u001b[0m\u001b[0mset_index\u001b[0m\u001b[0;34m(\u001b[0m\u001b[0;34m\"subreddit\"\u001b[0m\u001b[0;34m)\u001b[0m\u001b[0;34m\u001b[0m\u001b[0;34m\u001b[0m\u001b[0m\n",
      "\u001b[0;31mKeyError\u001b[0m: 'r/Showerthoughts'"
     ]
    }
   ],
   "source": [
    "for subreddit in subreddit_subreddit_votes:\n",
    "    subreddit_subreddit_votes[subreddit][\"downvote_rate\"] = 100 * subreddit_subreddit_votes[subreddit][0] / (subreddit_subreddit_votes[subreddit][1] + subreddit_subreddit_votes[subreddit][0])\n",
    "    subreddit_subreddit_votes[subreddit][\"subreddit\"] = original_feature_map[\"SUBREDDIT\"][subreddit]\n",
    "    subreddit_subreddit_votes[subreddit][\"users\"] = str(subreddit_subreddit_votes[subreddit][\"users\"])\n",
    "subreddit_subreddit_votes = pd.DataFrame(list(subreddit_subreddit_votes.values())).set_index(\"subreddit\")\n",
    "debug(subreddit_votes=subreddit_subreddit_votes)\n",
    "save_path = \"output/subreddit_votes_users.csv\"\n",
    "subreddit_subreddit_votes.to_csv(save_path)\n",
    "debug(f\"Votes of each subreddit is saved to {save_path}\")"
   ]
  }
 ],
 "metadata": {
  "kernelspec": {
   "display_name": "Python 3.6.12 ('cr4')",
   "language": "python",
   "name": "python3"
  },
  "language_info": {
   "codemirror_mode": {
    "name": "ipython",
    "version": 3
   },
   "file_extension": ".py",
   "mimetype": "text/x-python",
   "name": "python",
   "nbconvert_exporter": "python",
   "pygments_lexer": "ipython3",
   "version": "3.6.12"
  },
  "vscode": {
   "interpreter": {
    "hash": "740471d2bc5e6e0b41d12bdc2e64373746aa6a34800f381ff958ff5f02fa0c53"
   }
  }
 },
 "nbformat": 4,
 "nbformat_minor": 2
}
