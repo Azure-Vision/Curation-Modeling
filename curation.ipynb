{
 "cells": [
  {
   "cell_type": "code",
   "execution_count": 43,
   "metadata": {},
   "outputs": [
    {
     "name": "stdout",
     "output_type": "stream",
     "text": [
      "GPU ready...\n",
      "Smart using cuda:3\n"
     ]
    }
   ],
   "source": [
    "CONFIG_PATH = \"configs/small_sample_sub_minority.yml\"\n",
    "from utils import get_config, join_sets, load_model, print_log, save_model, load_model_dict\n",
    "config = get_config(CONFIG_PATH, \"_curation\", print_config = False)\n",
    "active_user_votes_thres = config[\"active_user_votes_thres\"]\n",
    "batch_size = config[\"batch_size\"]"
   ]
  },
  {
   "cell_type": "code",
   "execution_count": 44,
   "metadata": {},
   "outputs": [],
   "source": [
    "from collections import Counter, defaultdict\n",
    "import os\n",
    "import random\n",
    "import shutil\n",
    "import numpy as np\n",
    "import pandas as pd\n",
    "from superdebug import debug\n",
    "import torch\n",
    "from process_data import get_model_input\n",
    "from model import get_best_model\n",
    "from matplotlib import pyplot as plt\n",
    "from venn import venn, pseudovenn\n",
    "from utils import get_user_reps, get_bool_vec, record_existing_votes\n",
    "import time\n",
    "import re\n",
    "submission_sentiment_map = {}\n",
    "submission_class_map = {}"
   ]
  },
  {
   "cell_type": "markdown",
   "metadata": {},
   "source": [
    "##### Preprocess"
   ]
  },
  {
   "cell_type": "markdown",
   "metadata": {},
   "source": [
    "Load model and data"
   ]
  },
  {
   "cell_type": "code",
   "execution_count": 45,
   "metadata": {},
   "outputs": [
    {
     "name": "stdout",
     "output_type": "stream",
     "text": [
      "\u001b[1;33m------------------\u001b[0m\u001b[1;31m 2022-08-10 08:10:17 \u001b[0m\u001b[1;33m------------------\u001b[0m\n",
      "\u001b[1;33m\u001b[0m\u001b[1;32mDEBUG:\u001b[0m\u001b[1;33m at \u001b[0m\u001b[1;32m/home/TableSense/largedisk/wanrong/Curation-Modeling/process_data.py:349 get_model_input\u001b[0m\u001b[1;33m\u001b[0m\n",
      "\u001b[1;33m\u001b[0m\u001b[1;36mLoading prepared data...\u001b[0m\u001b[1;33m\u001b[0m\n",
      "\u001b[1;33m------------------\u001b[0m\u001b[1;31m 2022-08-10 08:10:17 \u001b[0m\u001b[1;33m------------------\u001b[0m\n",
      "\u001b[1;33m------------------\u001b[0m\u001b[1;31m 2022-08-10 08:10:20 \u001b[0m\u001b[1;33m------------------\u001b[0m\n",
      "\u001b[1;33m\u001b[0m\u001b[1;32mDEBUG:\u001b[0m\u001b[1;33m 1 vars: ['original_token_num'], at \u001b[0m\u001b[1;32m/home/TableSense/largedisk/wanrong/Curation-Modeling/model.py:248 get_tokenizer\u001b[0m\u001b[1;33m\u001b[0m\n",
      "\u001b[1;33m0 / 24782.\u001b[0m \u001b[1;33m \u001b[0m\u001b[1;36moriginal_token_num\u001b[0m\u001b[1;33m num val: 30522\u001b[0m\n",
      "\u001b[1;33m------------------\u001b[0m\u001b[1;31m 2022-08-10 08:10:20 \u001b[0m\u001b[1;33m------------------\u001b[0m\n",
      "\u001b[1;33m------------------\u001b[0m\u001b[1;31m 2022-08-10 08:10:21 \u001b[0m\u001b[1;33m------------------\u001b[0m\n",
      "\u001b[1;33m\u001b[0m\u001b[1;32mDEBUG:\u001b[0m\u001b[1;33m 1 vars: ['latest_token_num'], at \u001b[0m\u001b[1;32m/home/TableSense/largedisk/wanrong/Curation-Modeling/model.py:260 get_tokenizer\u001b[0m\u001b[1;33m\u001b[0m\n",
      "\u001b[1;33m0 / 24783.\u001b[0m \u001b[1;33m \u001b[0m\u001b[1;36mlatest_token_num\u001b[0m\u001b[1;33m num val: 153833\u001b[0m\n",
      "\u001b[1;33m------------------\u001b[0m\u001b[1;31m 2022-08-10 08:10:21 \u001b[0m\u001b[1;33m------------------\u001b[0m\n"
     ]
    },
    {
     "name": "stderr",
     "output_type": "stream",
     "text": [
      "Some weights of the model checkpoint at prajjwal1/bert-mini were not used when initializing BertModel: ['cls.seq_relationship.weight', 'cls.predictions.transform.dense.weight', 'cls.seq_relationship.bias', 'cls.predictions.transform.LayerNorm.weight', 'cls.predictions.transform.dense.bias', 'cls.predictions.transform.LayerNorm.bias', 'cls.predictions.decoder.weight', 'cls.predictions.decoder.bias', 'cls.predictions.bias']\n",
      "- This IS expected if you are initializing BertModel from the checkpoint of a model trained on another task or with another architecture (e.g. initializing a BertForSequenceClassification model from a BertForPreTraining model).\n",
      "- This IS NOT expected if you are initializing BertModel from the checkpoint of a model that you expect to be exactly identical (initializing a BertForSequenceClassification model from a BertForSequenceClassification model).\n"
     ]
    },
    {
     "name": "stdout",
     "output_type": "stream",
     "text": [
      "\u001b[1;33m------------------\u001b[0m\u001b[1;31m 2022-08-10 08:10:22 \u001b[0m\u001b[1;33m------------------\u001b[0m\n",
      "\u001b[1;33m\u001b[0m\u001b[1;32mDEBUG:\u001b[0m\u001b[1;33m at \u001b[0m\u001b[1;32m/home/TableSense/largedisk/wanrong/Curation-Modeling/utils.py:110 load_model\u001b[0m\u001b[1;33m\u001b[0m\n",
      "\u001b[1;33m\u001b[0m\u001b[1;36mLoading best model...\u001b[0m\u001b[1;33m\u001b[0m\n",
      "\u001b[1;33m------------------\u001b[0m\u001b[1;31m 2022-08-10 08:10:22 \u001b[0m\u001b[1;33m------------------\u001b[0m\n"
     ]
    }
   ],
   "source": [
    "target, original_feature_map, categorical_features, string_features, train_data, test_data, test_data_info, train_submission_upvote_df, num_all_users = get_model_input(config)\n",
    "extra_input = (categorical_features, string_features, target)\n",
    "model, token_embedding = get_best_model(config, categorical_features, string_features, original_feature_map)\n",
    "model.eval()\n",
    "all_users = list(range(num_all_users + 1))"
   ]
  },
  {
   "cell_type": "markdown",
   "metadata": {},
   "source": [
    "Collect submissions and active users in different subreddits"
   ]
  },
  {
   "cell_type": "code",
   "execution_count": 46,
   "metadata": {},
   "outputs": [],
   "source": [
    "def get_subreddits_submissions(train_data:pd.DataFrame, test_data:pd.DataFrame, user_votes_thres = 0):\n",
    "    subreddit_votes_counter = Counter()\n",
    "    subreddit_active_users = defaultdict(Counter)\n",
    "    subreddit_train_submissions = defaultdict(dict)\n",
    "    subreddit_test_submissions = defaultdict(dict)\n",
    "    all_submissions = dict()\n",
    "    for i, row in train_data.iterrows():\n",
    "        subreddit_votes_counter[row[\"SUBREDDIT\"]] += 1\n",
    "        subreddit_active_users[row[\"SUBREDDIT\"]][row[\"USERNAME\"]] += 1\n",
    "        if row[\"SUBMISSION_ID\"] not in subreddit_train_submissions[row[\"SUBREDDIT\"]]:\n",
    "            subreddit_train_submissions[row[\"SUBREDDIT\"]][row[\"SUBMISSION_ID\"]] = row\n",
    "            all_submissions[row[\"SUBMISSION_ID\"]] = row\n",
    "    for subreddit in subreddit_active_users:\n",
    "        users_vote_count = subreddit_active_users[subreddit]\n",
    "        subreddit_active_users[subreddit] = {user for user in users_vote_count if users_vote_count[user] >= user_votes_thres}\n",
    "    for i, row in test_data.iterrows():\n",
    "        if row[\"SUBMISSION_ID\"] not in subreddit_test_submissions[row[\"SUBREDDIT\"]]:\n",
    "            subreddit_test_submissions[row[\"SUBREDDIT\"]][row[\"SUBMISSION_ID\"]] = row\n",
    "            all_submissions[row[\"SUBMISSION_ID\"]] = row\n",
    "    return subreddit_votes_counter, subreddit_active_users, subreddit_train_submissions, subreddit_test_submissions, all_submissions\n",
    "\n",
    "subreddit_votes_counter, subreddit_active_users, subreddit_train_submissions, subreddit_test_submissions, all_submissions = get_subreddits_submissions(train_data, test_data, user_votes_thres = active_user_votes_thres) # subreddit_votes_counter, subreddit_users, subreddit_train_submissions are based on train_data, subreddit_test_submissions are based on test_data"
   ]
  },
  {
   "cell_type": "markdown",
   "metadata": {},
   "source": [
    "Record down existing votes\n",
    "\n",
    "So that we can use them to substitute the predicted votes"
   ]
  },
  {
   "cell_type": "code",
   "execution_count": 47,
   "metadata": {},
   "outputs": [],
   "source": [
    "existing_votes, existing_user_votes, existing_user_updown_votes, existing_submission_votes = record_existing_votes(train_data)"
   ]
  },
  {
   "cell_type": "markdown",
   "metadata": {},
   "source": [
    "#### Predict votes for all the users on all submissions\n",
    "\n",
    "Define required functions"
   ]
  },
  {
   "cell_type": "code",
   "execution_count": 81,
   "metadata": {},
   "outputs": [],
   "source": [
    "from typing import Union\n",
    "# from tqdm import tqdm\n",
    "from tqdm.notebook import tqdm\n",
    "from train import evaluate_model\n",
    "from model import get_tokenizer\n",
    "\n",
    "def convert_group_users_subreddit_submissions_data(group_users:Union[set,list], unique_submissions:dict):\n",
    "    group_users_submissions_data = []\n",
    "    if type(unique_submissions) == dict:\n",
    "        unique_submissions = pd.DataFrame(list(unique_submissions.values()))\n",
    "\n",
    "    for user in tqdm(group_users):\n",
    "        # for submission_id in unique_submissions:\n",
    "        #     submission:pd.DataFrame = unique_submissions[submission_id].copy(deep=True)\n",
    "        #     submission[\"USERNAME\"] = user\n",
    "        #     group_users_submissions_data.append(submission)\n",
    "        submissions = unique_submissions.copy(deep=True)\n",
    "        submissions[\"USERNAME\"] = [user] * len(submissions) # it doesn't matter whether the user itself is in UPVOTED_USERS / DOWNVOTED_USERS: we will substitute it with real votes\n",
    "        group_users_submissions_data.append(submissions)\n",
    "\n",
    "    group_users_submissions_data = pd.concat(group_users_submissions_data,axis=0)\n",
    "    return group_users_submissions_data\n",
    "def predict_group_users_submissions_votes(model, group_users_submissions_data, batch_size):\n",
    "    # predict unseen votes\n",
    "    return evaluate_model(config, model, data=group_users_submissions_data, weights = None, batch_size=config[\"batch_size\"], sample_voted_users=False, extra_input = extra_input, ret = \"prediction\") # ndarray size: (3423664, 1)\n",
    "pred_all_user_submission_vote_score_matrix = None\n",
    "\n",
    "# model.device = \"cuda:0\"\n",
    "def get_group_user_submission_vote_score_matrix(predicted_group_users_submissions_votes:np.ndarray, group_users, group_users_submissions_data:pd.DataFrame, existing_votes, existing_pred_user_submission_vote_score_matrix = None, upvote_confidence_thres = 0):\n",
    "    all_sub_ids = group_users_submissions_data[\"SUBMISSION_ID\"].unique()\n",
    "    if existing_pred_user_submission_vote_score_matrix is not None:\n",
    "        pred_user_submission_vote_score_matrix = existing_pred_user_submission_vote_score_matrix\n",
    "    else:\n",
    "        pred_user_submission_vote_score_matrix = pd.DataFrame(- np.ones([max(group_users) + 1, len(all_sub_ids)], dtype = float), columns=all_sub_ids)\n",
    "    pred_user_submission_vote_matrix = pd.DataFrame(- np.ones([max(group_users) + 1, len(all_sub_ids)], dtype = int), columns=all_sub_ids) # use ground truth vote if available, -1 for not in data\n",
    "    each_submission_votes = {}\n",
    "    each_user_confidence = defaultdict(list)\n",
    "    submission_ids = group_users_submissions_data[\"SUBMISSION_ID\"].to_numpy()\n",
    "    usernames = group_users_submissions_data[\"USERNAME\"].to_numpy()\n",
    "    for row_i in tqdm(range(len(group_users_submissions_data))):\n",
    "        submission_id = submission_ids[row_i]\n",
    "        username = usernames[row_i]\n",
    "        if existing_pred_user_submission_vote_score_matrix is not None:\n",
    "            vote_score = existing_pred_user_submission_vote_score_matrix.at[username, submission_id]\n",
    "            vote_score = float(vote_score)\n",
    "            assert vote_score != -1, f\"BUG: submission_id: {submission_id}, username: {username}, vote_score: {vote_score}\"\n",
    "        else:\n",
    "            vote_score = predicted_group_users_submissions_votes[row_i, 0]\n",
    "            pred_user_submission_vote_score_matrix.loc[username, submission_id] = vote_score\n",
    "        if f'{username}-{submission_id}' not in existing_votes:\n",
    "            vote = int(vote_score >= (0.5 + upvote_confidence_thres))\n",
    "        else: # use existing votes if available\n",
    "            vote = int(existing_votes[f'{username}-{submission_id}'] >= 0.5)\n",
    "            \n",
    "        if submission_id not in each_submission_votes:\n",
    "            each_submission_votes[submission_id] = [0, 0]\n",
    "        each_user_confidence[username].append(abs(vote_score - 0.5))\n",
    "        pred_user_submission_vote_matrix.at[username, submission_id] = vote\n",
    "        each_submission_votes[submission_id][vote] += 1\n",
    "    assert (pred_user_submission_vote_matrix.to_numpy() != -1).sum() > 0\n",
    "    \n",
    "    # analyze user confidence\n",
    "    for username in each_user_confidence:\n",
    "        each_user_confidence[username] = float(np.mean(each_user_confidence[username]))\n",
    "        \n",
    "    # calculate %upvotes for each submission\n",
    "    for submission_id in each_submission_votes:\n",
    "        each_submission_votes[submission_id].append(each_submission_votes[submission_id][1] / (each_submission_votes[submission_id][0] + each_submission_votes[submission_id][1])) # %upvotes\n",
    "    return each_submission_votes, each_user_confidence, pred_user_submission_vote_score_matrix, pred_user_submission_vote_matrix\n",
    "def get_group_users_preferred_submissions(each_submission_votes:dict, upvote_ratio_thres = 0.5):\n",
    "    # sort submissions using %upvotes\n",
    "    group_submissions_ranking = list(each_submission_votes.keys())\n",
    "    group_submissions_ranking.sort(reverse=True, key=lambda id: each_submission_votes[id][-1])\n",
    "    \n",
    "    # include submissions to preferred_submissions where %upvotes is higher than threshold\n",
    "    group_preferred_submissions = set()\n",
    "    for submission_id in group_submissions_ranking:\n",
    "        if each_submission_votes[submission_id][-1] >= upvote_ratio_thres:\n",
    "            group_preferred_submissions.add(submission_id)\n",
    "    \n",
    "    return group_preferred_submissions, group_submissions_ranking\n",
    "\n",
    "def get_group_users_real_vote(group_users:Union[set,list], unique_submissions:dict, existing_votes, metric = \"upvote_rate\"):\n",
    "    all_sub_ids = list(unique_submissions.keys())\n",
    "    pred_user_submission_vote_score_matrix = pd.DataFrame(- np.ones([max(group_users) + 1, len(all_sub_ids)], dtype = float), columns=all_sub_ids)\n",
    "    pred_user_submission_vote_matrix = pd.DataFrame(- np.ones([max(group_users) + 1, len(all_sub_ids)], dtype = int), columns=all_sub_ids)\n",
    "    each_submission_votes = {}\n",
    "    for submission_id in unique_submissions:\n",
    "        each_submission_votes[submission_id] = [0, 0]\n",
    "    for username in group_users:\n",
    "        for submission_id in unique_submissions:\n",
    "            if f'{username}-{submission_id}' in existing_votes:\n",
    "                vote = int(existing_votes[f'{username}-{submission_id}'] >= 0.5)\n",
    "                pred_user_submission_vote_matrix.at[username, submission_id] = vote\n",
    "                pred_user_submission_vote_score_matrix[username, submission_id] = vote\n",
    "                each_submission_votes[submission_id][vote] += 1\n",
    "                \n",
    "    each_user_confidence = {user: [0.5] for user in group_users}\n",
    "    \n",
    "    # calculate %upvotes for each submission\n",
    "    for submission_id in each_submission_votes:\n",
    "        if metric == \"upvote_rate\":\n",
    "            if each_submission_votes[submission_id][0] + each_submission_votes[submission_id][1] == 0:\n",
    "                metric_res = -1\n",
    "            else:\n",
    "                metric_res = each_submission_votes[submission_id][1] / (each_submission_votes[submission_id][0] + each_submission_votes[submission_id][1])\n",
    "        elif metric == \"#upvote-#downvote\":\n",
    "            metric_res = each_submission_votes[submission_id][1] - each_submission_votes[submission_id][0]\n",
    "        each_submission_votes[submission_id].append(metric_res)\n",
    "        \n",
    "    \n",
    "    return each_submission_votes, each_user_confidence, pred_user_submission_vote_score_matrix, pred_user_submission_vote_matrix"
   ]
  },
  {
   "cell_type": "markdown",
   "metadata": {},
   "source": [
    "Convert data to model input, then run model to make predictions, and obtain prediction score matrix and vote matrix. Note that we use actual votes to replace predicted votes when available.\n",
    "\n",
    "_!!! This process can be time consuming & need more than 200G memory for medium sized dataset, and is not necessary if we use user_embedding to cluster active users_"
   ]
  },
  {
   "cell_type": "code",
   "execution_count": 49,
   "metadata": {},
   "outputs": [],
   "source": [
    "if config[\"user_grouping_method\"] == \"predict_all_submissions\":\n",
    "    # Convert data to model input\n",
    "    # TODO: not all users\n",
    "    all_users_submissions_data = convert_group_users_subreddit_submissions_data(all_users, all_submissions)\n",
    "\n",
    "    # run model to make predictions\n",
    "    model.to(model.device)\n",
    "    predicted_all_users_submissions_votes = predict_group_users_submissions_votes(model, all_users_submissions_data, batch_size)\n",
    "    debug(predicted_all_users_submissions_votes=predicted_all_users_submissions_votes)\n",
    "\n",
    "    import pickle\n",
    "    pickle.dump(predicted_all_users_submissions_votes, open(\"output/predicted_all_users_submissions_votes.pt\", \"wb\"))\n",
    "    # predicted_all_users_submissions_votes = pickle.load(open(\"output/predicted_all_users_submissions_votes.pt\", \"rb\"))\n",
    "\n",
    "    # Obtain prediction score matrix and vote matrix. We use actual votes to replace predicted votes when available\n",
    "    all_submission_votes, all_users_confidence, pred_all_user_submission_vote_score_matrix, pred_all_user_submission_vote_matrix = get_group_user_submission_vote_score_matrix(predicted_all_users_submissions_votes, all_users, all_users_submissions_data, existing_votes)\n",
    "    \n",
    "    # all_users_preferred_submissions, all_preferred_submissions_ranking = get_group_users_preferred_submissions(all_submission_votes, upvote_ratio_thres = config[\"upvote_ratio_thres\"])"
   ]
  },
  {
   "cell_type": "markdown",
   "metadata": {},
   "source": [
    "Calculate Pearson correlation between users"
   ]
  },
  {
   "cell_type": "code",
   "execution_count": 50,
   "metadata": {},
   "outputs": [],
   "source": [
    "if config[\"user_grouping_method\"] == \"predict_all_submissions\":\n",
    "    debug((pred_all_user_submission_vote_matrix==-1).any())\n",
    "    debug(pred_all_user_submission_vote_score_matrix=pred_all_user_submission_vote_score_matrix, pred_all_user_submission_vote_matrix=pred_all_user_submission_vote_matrix)\n",
    "    vote_score_pearson_corr = np.corrcoef(pred_all_user_submission_vote_score_matrix) # (697, 697)\n",
    "    debug(vote_score_pearson_corr=vote_score_pearson_corr)"
   ]
  },
  {
   "cell_type": "markdown",
   "metadata": {},
   "source": [
    "#### Perform curation on a subreddit"
   ]
  },
  {
   "cell_type": "markdown",
   "metadata": {},
   "source": [
    "Select a subreddit from the most popular subreddits"
   ]
  },
  {
   "cell_type": "code",
   "execution_count": 51,
   "metadata": {},
   "outputs": [
    {
     "name": "stdout",
     "output_type": "stream",
     "text": [
      "\u001b[1;33m------------------\u001b[0m\u001b[1;31m 2022-08-10 08:11:04 \u001b[0m\u001b[1;33m------------------\u001b[0m\n",
      "\u001b[1;33m\u001b[0m\u001b[1;32mDEBUG:\u001b[0m\u001b[1;33m at \u001b[0m\u001b[1;32m/home/TableSense/largedisk/wanrong/Curation-Modeling/utils.py:123 print_log\u001b[0m\u001b[1;33m\u001b[0m\n",
      "\u001b[1;33m\u001b[0m\u001b[1;36mSelected subreddit: r/funny\u001b[0m\u001b[1;33m\u001b[0m\n",
      "\u001b[1;33m------------------\u001b[0m\u001b[1;31m 2022-08-10 08:11:04 \u001b[0m\u001b[1;33m------------------\u001b[0m\n",
      "\u001b[1;33m------------------\u001b[0m\u001b[1;31m 2022-08-10 08:11:04 \u001b[0m\u001b[1;33m------------------\u001b[0m\n",
      "\u001b[1;33m\u001b[0m\u001b[1;32mDEBUG:\u001b[0m\u001b[1;33m at \u001b[0m\u001b[1;32m/home/TableSense/largedisk/wanrong/Curation-Modeling/utils.py:123 print_log\u001b[0m\u001b[1;33m\u001b[0m\n",
      "\u001b[1;33m\u001b[0m\u001b[1;36mIn train data, subreddit r/funny have 47 active users (who votes >= 5 times), 4722 votes and 1539 unique submissions. In test data, subreddit r/funny have 604 unique submissions.\u001b[0m\u001b[1;33m\u001b[0m\n",
      "\u001b[1;33m------------------\u001b[0m\u001b[1;31m 2022-08-10 08:11:04 \u001b[0m\u001b[1;33m------------------\u001b[0m\n"
     ]
    }
   ],
   "source": [
    "common_subreddits_counts = subreddit_votes_counter.most_common(20)\n",
    "prompt = []\n",
    "for subreddit_id, vote_counts in common_subreddits_counts:\n",
    "    subreddit_name_str = (original_feature_map['SUBREDDIT'][subreddit_id] + ', ') if 'SUBREDDIT' in original_feature_map else ''\n",
    "    prompt.append(f\"Subreddit {subreddit_id}: {subreddit_name_str}{vote_counts} votes\")\n",
    "prompt = \"\\n\".join(prompt)\n",
    "a_subreddit = input(f\"{prompt}\\nSelect a subreddit: \")\n",
    "if 'SUBREDDIT' in original_feature_map:\n",
    "    a_subreddit = int(a_subreddit)\n",
    "    subreddit_name_str = (f\" ({original_feature_map['SUBREDDIT'][a_subreddit]})\")\n",
    "else:\n",
    "    subreddit_name_str =  ''\n",
    "print_log(config[\"log_path\"], f\"Selected subreddit: {a_subreddit}{subreddit_name_str}\")\n",
    "a_subreddit_active_users:set = subreddit_active_users[a_subreddit]\n",
    "print_log(config[\"log_path\"], f\"In train data, subreddit {a_subreddit} have {len(a_subreddit_active_users)} active users (who votes >= {active_user_votes_thres} times), {subreddit_votes_counter[a_subreddit]} votes and {len(subreddit_train_submissions[a_subreddit])} unique submissions. In test data, subreddit {a_subreddit} have {len(subreddit_test_submissions[a_subreddit])} unique submissions.\") "
   ]
  },
  {
   "cell_type": "code",
   "execution_count": 52,
   "metadata": {},
   "outputs": [
    {
     "name": "stdout",
     "output_type": "stream",
     "text": [
      "\u001b[1;33m------------------\u001b[0m\u001b[1;31m 2022-08-10 08:11:04 \u001b[0m\u001b[1;33m------------------\u001b[0m\n",
      "\u001b[1;33m\u001b[0m\u001b[1;32mDEBUG:\u001b[0m\u001b[1;33m 1 vars: ['user_grouping_method'], at \u001b[0m\u001b[1;32m<ipython-input-52-4724b0236aa0>:5 <module>\u001b[0m\u001b[1;33m\u001b[0m\n",
      "\u001b[1;33m0 / 24784.\u001b[0m \u001b[1;33m \u001b[0m\u001b[1;36muser_grouping_method\u001b[0m\u001b[1;33m str len 5: votes\u001b[0m\n",
      "\u001b[1;33m------------------\u001b[0m\u001b[1;31m 2022-08-10 08:11:04 \u001b[0m\u001b[1;33m------------------\u001b[0m\n"
     ]
    }
   ],
   "source": [
    "user_grouping_method = config[\"user_grouping_method\"]\n",
    "# user_grouping_method =  \"manual\" # \"manual\" #TODO: change this\n",
    "manual_user_groups = config[\"manual_user_groups\"]\n",
    "# manual_user_groups = {\"Conservative\": {66, 39, 10, 44, 16, 60}, \"Democratic\":{0, 65, 64, 37, 49, 52, 20, 22, 23, 26, 29}}\n",
    "debug(user_grouping_method=user_grouping_method)\n"
   ]
  },
  {
   "cell_type": "markdown",
   "metadata": {},
   "source": [
    "##### Obtain representations for active users\n",
    "\n",
    "User representation will be used to cluster users into groups if `user_grouping_method` is \"`neural`\" or \"`vote`\""
   ]
  },
  {
   "cell_type": "markdown",
   "metadata": {},
   "source": [
    "Either use this one... (clustering using vote prediction score on submissions in this subreddit, make sure `pred_all_user_submission_vote_score_matrix` is available)"
   ]
  },
  {
   "cell_type": "code",
   "execution_count": 54,
   "metadata": {},
   "outputs": [],
   "source": [
    "if pred_all_user_submission_vote_score_matrix is not None:\n",
    "    debug(pred_all_user_submission_vote_score_matrix=pred_all_user_submission_vote_score_matrix)\n",
    "    subreddit_submissions_bool_vec = get_bool_vec(subreddit_test_submissions[a_subreddit].keys(), pred_all_user_submission_vote_score_matrix.shape[1])\n",
    "    a_subreddit_active_users_reps, a_subreddit_active_user_i_user_map = get_user_reps(a_subreddit_active_users, all_user_embedding=pred_all_user_submission_vote_score_matrix[:, subreddit_submissions_bool_vec], train_data=train_data, selected_submissions = subreddit_train_submissions[a_subreddit], method = user_grouping_method)"
   ]
  },
  {
   "cell_type": "markdown",
   "metadata": {},
   "source": [
    "Or this one... (cluster using user_embedding or sparse actual votes)"
   ]
  },
  {
   "cell_type": "code",
   "execution_count": 55,
   "metadata": {},
   "outputs": [
    {
     "name": "stdout",
     "output_type": "stream",
     "text": [
      "\u001b[1;33m------------------\u001b[0m\u001b[1;31m 2022-08-10 08:11:24 \u001b[0m\u001b[1;33m------------------\u001b[0m\n",
      "\u001b[1;33m\u001b[0m\u001b[1;32mDEBUG:\u001b[0m\u001b[1;33m 1 vars: ['selected_users_reps_before_PCA'], at \u001b[0m\u001b[1;32m<ipython-input-53-ebd605a469f0>:36 get_user_reps\u001b[0m\u001b[1;33m\u001b[0m\n",
      "\u001b[1;33m0 / 24785.\u001b[0m \u001b[1;33m \u001b[0m\u001b[1;36mselected_users_reps_before_PCA\u001b[0m\u001b[1;33m torch.Size with val:  torch.Size([47, 1539])\u001b[0m\n",
      "\u001b[1;33m------------------\u001b[0m\u001b[1;31m 2022-08-10 08:11:24 \u001b[0m\u001b[1;33m------------------\u001b[0m\n",
      "\u001b[1;33m------------------\u001b[0m\u001b[1;31m 2022-08-10 08:11:24 \u001b[0m\u001b[1;33m------------------\u001b[0m\n",
      "\u001b[1;33m\u001b[0m\u001b[1;32mDEBUG:\u001b[0m\u001b[1;33m 1 vars: ['selected_users_reps_after_PCA'], at \u001b[0m\u001b[1;32m<ipython-input-53-ebd605a469f0>:39 get_user_reps\u001b[0m\u001b[1;33m\u001b[0m\n",
      "\u001b[1;33m0 / 24786.\u001b[0m \u001b[1;33m \u001b[0m\u001b[1;36mselected_users_reps_after_PCA\u001b[0m\u001b[1;33m tuple size: 2\u001b[0m\u001b[1;33m (..)\u001b[0m\n",
      "\u001b[1;33m    \u001b[0m\u001b[1;36mitem 0: \u001b[0m\u001b[1;33m num val: 47\u001b[0m\n",
      "\u001b[1;33m    \u001b[0m\u001b[1;36mitem 1: \u001b[0m\u001b[1;33m num val: 41\u001b[0m\n",
      "\u001b[1;33m------------------\u001b[0m\u001b[1;31m 2022-08-10 08:11:24 \u001b[0m\u001b[1;33m------------------\u001b[0m\n",
      "\u001b[1;33m------------------\u001b[0m\u001b[1;31m 2022-08-10 08:11:24 \u001b[0m\u001b[1;33m------------------\u001b[0m\n",
      "\u001b[1;33m\u001b[0m\u001b[1;32mDEBUG:\u001b[0m\u001b[1;33m 1 vars: ['a_subreddit_active_users_reps'], at \u001b[0m\u001b[1;32m<ipython-input-55-6d87cb7ec640>:9 <module>\u001b[0m\u001b[1;33m\u001b[0m\n",
      "\u001b[1;33m0 / 24787.\u001b[0m \u001b[1;33m \u001b[0m\u001b[1;36ma_subreddit_active_users_reps\u001b[0m\u001b[1;33m ndarray size: (47, 41) val: [[-0.25890883 -0.11345328  0.5527872  ... -0.17322755 -0.26432184\n",
      "  -0.59624279]\n",
      " [-0.22600384 -0.2881086  -0.15077428 ... -0.06213044 -0.07388871\n",
      "   0.24266361]\n",
      " [-0.19233876 -0.06853775 -0.01138292 ... -0.01035731 -0.02543764\n",
      "   0.05338689]\n",
      " ...\n",
      " [-0.2615407   0.01218455 -0.10054993 ... -1.10443874  0.53358253\n",
      "   0.04647484]\n",
      " [ 0.0198609  -0.97788323 -0.26807736 ...  0.32113076 -0.10214377\n",
      "   0.35736494]\n",
      " [-0.21304744 -0.2317038  -0.07850846 ... -0.00783067 -0.09919357\n",
      "   0.53045949]]\u001b[0m\n",
      "\u001b[1;33m------------------\u001b[0m\u001b[1;31m 2022-08-10 08:11:24 \u001b[0m\u001b[1;33m------------------\u001b[0m\n"
     ]
    }
   ],
   "source": [
    "if pred_all_user_submission_vote_score_matrix is None:\n",
    "    all_username_tokens = [f\"USERNAME_{user_i}\" for user_i in all_users]\n",
    "    all_username_token_ids = torch.tensor(model.tokenizer.convert_tokens_to_ids(all_username_tokens))\n",
    "    all_username_token_ids = all_username_token_ids.to(model.device); model = model.to(model.device)\n",
    "    with torch.no_grad():\n",
    "        user_embedding = model.lm_encoder.embeddings.word_embeddings(all_username_token_ids)\n",
    "    # debug(all_username_tokens=all_username_tokens, all_username_token_ids=all_username_token_ids, user_embedding=user_embedding)\n",
    "    a_subreddit_active_users_reps, a_subreddit_active_user_i_user_map = get_user_reps(a_subreddit_active_users, all_user_embedding=user_embedding, train_data=train_data, selected_submissions = subreddit_train_submissions[a_subreddit], user_grouping_method = user_grouping_method)\n",
    "    debug(a_subreddit_active_users_reps=a_subreddit_active_users_reps)"
   ]
  },
  {
   "cell_type": "markdown",
   "metadata": {},
   "source": [
    "##### Cluster active users into multiple groups"
   ]
  },
  {
   "cell_type": "code",
   "execution_count": 56,
   "metadata": {},
   "outputs": [
    {
     "name": "stdout",
     "output_type": "stream",
     "text": [
      "\u001b[1;33m------------------\u001b[0m\u001b[1;31m 2022-08-10 08:11:24 \u001b[0m\u001b[1;33m------------------\u001b[0m\n",
      "\u001b[1;33m\u001b[0m\u001b[1;32mDEBUG:\u001b[0m\u001b[1;33m 2 vars: ['num_selected_users', 'n_groups'], at \u001b[0m\u001b[1;32m<ipython-input-56-2adc11a26ad7>:31 get_user_groups\u001b[0m\u001b[1;33m\u001b[0m\n",
      "\u001b[1;33m0 / 24788.\u001b[0m \u001b[1;33m \u001b[0m\u001b[1;36mnum_selected_users\u001b[0m\u001b[1;33m num val: 47\u001b[0m\n",
      "\u001b[1;33m1 / 24789.\u001b[0m \u001b[1;33m \u001b[0m\u001b[1;36mn_groups\u001b[0m\u001b[1;33m num val: 9\u001b[0m\n",
      "\u001b[1;33m------------------\u001b[0m\u001b[1;31m 2022-08-10 08:11:24 \u001b[0m\u001b[1;33m------------------\u001b[0m\n",
      "\u001b[1;33m------------------\u001b[0m\u001b[1;31m 2022-08-10 08:11:24 \u001b[0m\u001b[1;33m------------------\u001b[0m\n",
      "\u001b[1;33m\u001b[0m\u001b[1;32mDEBUG:\u001b[0m\u001b[1;33m at \u001b[0m\u001b[1;32m<ipython-input-56-2adc11a26ad7>:32 get_user_groups\u001b[0m\u001b[1;33m\u001b[0m\n",
      "\u001b[1;33m\u001b[0m\u001b[1;36mBegin grouping...\u001b[0m\u001b[1;33m\u001b[0m\n",
      "\u001b[1;33m------------------\u001b[0m\u001b[1;31m 2022-08-10 08:11:24 \u001b[0m\u001b[1;33m------------------\u001b[0m\n",
      "\u001b[1;33m------------------\u001b[0m\u001b[1;31m 2022-08-10 08:11:24 \u001b[0m\u001b[1;33m------------------\u001b[0m\n",
      "\u001b[1;33m\u001b[0m\u001b[1;32mDEBUG:\u001b[0m\u001b[1;33m 1 vars: ['group_user_num'], at \u001b[0m\u001b[1;32m<ipython-input-56-2adc11a26ad7>:53 get_user_groups\u001b[0m\u001b[1;33m\u001b[0m\n",
      "\u001b[1;33m0 / 24790.\u001b[0m \u001b[1;33m \u001b[0m\u001b[1;36mgroup_user_num\u001b[0m\u001b[1;33m str len 55: {1: 28, 3: 1, 7: 1, 8: 8, 4: 1, 0: 1, 5: 5, 6: 1, 2: 1}\u001b[0m\n",
      "\u001b[1;33m------------------\u001b[0m\u001b[1;31m 2022-08-10 08:11:24 \u001b[0m\u001b[1;33m------------------\u001b[0m\n",
      "\u001b[1;33m------------------\u001b[0m\u001b[1;31m 2022-08-10 08:11:24 \u001b[0m\u001b[1;33m------------------\u001b[0m\n",
      "\u001b[1;33m\u001b[0m\u001b[1;32mDEBUG:\u001b[0m\u001b[1;33m 1 vars: ['usernames_in_groups'], at \u001b[0m\u001b[1;32m<ipython-input-56-2adc11a26ad7>:54 get_user_groups\u001b[0m\u001b[1;33m\u001b[0m\n",
      "\u001b[1;33m0 / 24791.\u001b[0m \u001b[1;33m \u001b[0m\u001b[1;36musernames_in_groups\u001b[0m\u001b[1;33m str len 736: defaultdict(<class 'set'>, {1: {'IAppreciatesReality', 'reggie991', 'aaaaa', 'Cassieisnotclever', 'TigerWylde', 'ChokingTermite', 'jezebel_jessi', 'exhuma', 'vinsite', 'milleribsen', 'Simba7', 'CallMeJase', 'dilkoman', 'greifinn24', 'MRteddybear29', 'okay12', 'Tekuzo', 'LoftyGoat', 'kalel1980', 'relaxedguy', 'yoduh4077', 'Kahandran', 'pmcall221', 'Babi_Gurrl', 'Johnlovesyou', 'blurbie', 'LifeIsProbablyMadeUp', 'JoA_MoN'}, 3: {'LinkBrokeMyPots'}, 7: {'LoGMunKy'}, 8: {'texanstor', 'Swamptor', 'Seeminus', 'hosieryadvo ...  2: {'claudesoph'}})\u001b[0m\n",
      "\u001b[1;33m------------------\u001b[0m\u001b[1;31m 2022-08-10 08:11:24 \u001b[0m\u001b[1;33m------------------\u001b[0m\n"
     ]
    }
   ],
   "source": [
    "from reddit import get_user_info\n",
    "\n",
    "def get_user_groups(selected_users_reps, selected_user_i_user_map:dict, user_grouping_method = \"neural\", existing_user_votes=None, manual_user_groups=None, train_data=None):\n",
    "    group_centers = None\n",
    "    users_in_groups = defaultdict(set)\n",
    "    \n",
    "    if \"manual\" in user_grouping_method:\n",
    "        if manual_user_groups is not None:\n",
    "            users_in_groups.update(manual_user_groups)\n",
    "        else:\n",
    "            user_preferences = defaultdict(dict)\n",
    "            usernames = train_data[\"USERNAME\"].to_list()\n",
    "            votes = train_data[\"VOTE\"].to_list()\n",
    "            submissions_text = train_data[\"SUBMISSION_TEXT\"].to_list()\n",
    "            for row_i, username in enumerate(usernames):\n",
    "                vote = votes[row_i]\n",
    "                submission_text = submissions_text[row_i]\n",
    "                if vote not in user_preferences[username]:\n",
    "                    user_preferences[username][vote] = []\n",
    "                user_preferences[username][vote].append(submission_text)\n",
    "            all_users = list(user_preferences.keys())\n",
    "            group_x = len(users_in_groups)\n",
    "            for _ in range(20):\n",
    "                possible_user = random.choice(all_users)\n",
    "                user_info, user_info_str = get_user_info(possible_user)\n",
    "                if len(input(f\"Include user {possible_user}? \\n{user_info_str} \\n{user_preferences[possible_user]}\")) > 0:\n",
    "                    users_in_groups[group_x].add(possible_user)\n",
    "            \n",
    "    if \"neural\" in user_grouping_method or \"votes\" in user_grouping_method:\n",
    "        n_groups = int(len(selected_user_i_user_map) / 5) # TODO: change how many users in a group\n",
    "        debug(num_selected_users = len(selected_user_i_user_map), n_groups=n_groups) # n_groups: 118\n",
    "        debug(\"Begin grouping...\")\n",
    "        from sklearn.cluster import KMeans\n",
    "        grouping = KMeans(n_clusters = n_groups, random_state = 42, verbose = 0).fit(selected_users_reps)\n",
    "        group_centers = grouping.cluster_centers_\n",
    "        \"\"\"\n",
    "        from sklearn.cluster import AgglomerativeClustering\n",
    "        grouping = AgglomerativeClustering(linkage = \"complete\").fit(selected_users_reps)\n",
    "        \"\"\"\n",
    "        \"\"\"\n",
    "        from sklearn.cluster import SpectralClustering\n",
    "        grouping = SpectralClustering(n_groups, random_state = 42, verbose = 0).fit(selected_users_reps)\n",
    "        \"\"\"\n",
    "        labels = grouping.labels_ # grouping.labels_: [584 350 948 ... 813 938 152]\n",
    "        \"\"\"\n",
    "        from sklearn.mixture import GaussianMixture\n",
    "        labels = GaussianMixture(n_groups, random_state = 42, verbose = 0).fit_predict(selected_users_reps)\n",
    "        \"\"\"\n",
    "        usernames_in_groups = defaultdict(set)\n",
    "        for user_i, group_x in enumerate(labels): \n",
    "            users_in_groups[group_x].add(selected_user_i_user_map[user_i])\n",
    "            usernames_in_groups[group_x].add(original_feature_map[\"USERNAME\"][selected_user_i_user_map[user_i]])\n",
    "        debug(group_user_num=str({group_x: len(users_in_groups[group_x]) for group_x in users_in_groups}))\n",
    "        debug(usernames_in_groups=str(usernames_in_groups))\n",
    "        \n",
    "    if  \"single_user_as_group\" in user_grouping_method or  \"all_user_as_group\" in user_grouping_method:\n",
    "        assert existing_user_votes is not None\n",
    "        all_users = list(selected_user_i_user_map.values())\n",
    "        all_users.sort(key=lambda x:existing_user_votes[x])\n",
    "        if  \"single_user_as_group\" in user_grouping_method:\n",
    "            all_users = all_users[:10] + all_users[-10:]\n",
    "            for i, user in enumerate(all_users):\n",
    "                users_in_groups[i] = {user}\n",
    "            # users_in_groups = {i: {user} for i,user in selected_user_i_user_map.items()}\n",
    "        if  \"all_user_as_group\" in user_grouping_method:\n",
    "            users_in_groups[len(users_in_groups)] = all_users\n",
    "    \n",
    "    if \"none\" in user_grouping_method:\n",
    "        users_in_groups[len(users_in_groups)] = []\n",
    "            \n",
    "    return users_in_groups, group_centers\n",
    "\n",
    "if type(a_subreddit_active_users_reps) == torch.tensor: a_subreddit_active_users_reps = a_subreddit_active_users_reps.cpu()\n",
    "users_in_groups, group_centers = get_user_groups(a_subreddit_active_users_reps, a_subreddit_active_user_i_user_map, user_grouping_method=user_grouping_method, existing_user_votes=existing_user_votes, manual_user_groups=manual_user_groups, train_data = train_data)"
   ]
  },
  {
   "cell_type": "markdown",
   "metadata": {},
   "source": [
    "##### Predict preferred submissions of each group"
   ]
  },
  {
   "cell_type": "markdown",
   "metadata": {},
   "source": [
    "Select submissions to curate. Test submissions in this Subreddit or customized submission"
   ]
  },
  {
   "cell_type": "code",
   "execution_count": 57,
   "metadata": {},
   "outputs": [],
   "source": [
    "if config[\"submission_source\"] == \"test_data\":\n",
    "    submissions_before_curation:dict = subreddit_test_submissions[a_subreddit]\n",
    "elif config[\"submission_source\"] == \"custom\":\n",
    "    custom_submission_id = \"custom_\" + str(random.randint(1000000000000000, 9999999999999999))\n",
    "    custom_username = input(\"Input author's username: \") # TODO:\n",
    "    custom_title = input(\"Input post title: \") # 'Employee of the year' 'This is so funny!!!'\n",
    "    custom_content = input(\"Input post content: \")\n",
    "    custom_submission = pd.Series({\n",
    "        'SUBMISSION_ID': custom_submission_id,\n",
    "        'SUBREDDIT': a_subreddit,\n",
    "        'CREATED_TIME': re.sub(\"[0-9][0-9]:[0-9][0-9]:[0-9][0-9] \", \"\", time.ctime(time.time())),\n",
    "        'USERNAME': 9271, # TODO:\n",
    "        'VOTE': 1.0,\n",
    "        'TITLE': custom_title,\n",
    "        'AUTHOR': custom_username,\n",
    "        '#_COMMENTS': 0,\n",
    "        'NSFW': 'false',\n",
    "        'SCORE': 0,\n",
    "        'UPVOTED_%': 0.5,\n",
    "        'LINK': '',\n",
    "        'SUBMISSION_TEXT': (custom_title + \" [SEP] \" + custom_content) if custom_content != \"\" else custom_title,\n",
    "        'UPVOTED_USERS': [], # TODO:\n",
    "        'DOWNVOTED_USERS': []}\n",
    "    )\n",
    "    submissions_before_curation = {custom_submission_id: custom_submission}\n",
    "    print(submissions_before_curation)\n",
    "    \n",
    "pred_group_votes_info = {}"
   ]
  },
  {
   "cell_type": "markdown",
   "metadata": {},
   "source": [
    "Analyze submissions content"
   ]
  },
  {
   "cell_type": "code",
   "execution_count": 58,
   "metadata": {},
   "outputs": [],
   "source": [
    "import os\n",
    "os.environ[\"GOOGLE_APPLICATION_CREDENTIALS\"] = \"google-service-account-file.json\"\n",
    "from google.cloud import language_v1\n",
    "import multiprocessing\n",
    "client = language_v1.LanguageServiceClient()\n",
    "\n",
    "\n",
    "# submission_text_map = test_data[[\"SUBMISSION_ID\", \"SUBMISSION_TEXT\"]].drop_duplicates(\"SUBMISSION_ID\").set_index(\"SUBMISSION_ID\").to_dict()['SUBMISSION_TEXT']\n",
    "\n",
    "def get_submissions_text(submission_ids):\n",
    "    submissions_text = []\n",
    "    for submission_id in submission_ids:\n",
    "        # if \"SUBMISSION_ID\" in original_feature_map:\n",
    "        #     submission_id = original_feature_map[\"SUBMISSION_ID\"][submission_id]\n",
    "        # submissions_text.append(submission_text_map[submission_id])\n",
    "        submissions_text.append(submissions_before_curation[submission_id][\"SUBMISSION_TEXT\"])\n",
    "        \n",
    "    return submissions_text\n",
    "\n",
    "\n",
    "\n",
    "def post_analysis(content):\n",
    "    document = language_v1.Document(\n",
    "        content=content, type_=language_v1.Document.Type.PLAIN_TEXT\n",
    "    )\n",
    "    try:\n",
    "        sentiment_score = client.analyze_sentiment(document=document).document_sentiment.score\n",
    "        content_classes = [cls.name for cls in client.classify_text(document=document).categories]\n",
    "        return (sentiment_score, content_classes)\n",
    "    except Exception as e:\n",
    "        return (None, [])\n",
    "\n",
    "def post_analysis_batch(contents:list):\n",
    "    cores = multiprocessing.cpu_count()\n",
    "    pool = multiprocessing.Pool(processes=cores)\n",
    "    return pool.map(post_analysis, contents)\n",
    "\n",
    "\n",
    "submissions_before_curation_ids = list(submissions_before_curation.keys())\n",
    "submissions_before_curation_text = get_submissions_text(submissions_before_curation_ids)\n",
    "submissions_text_analysis = post_analysis_batch(submissions_before_curation_text)\n",
    "for sub_i, submission_id in enumerate(submissions_before_curation_ids):\n",
    "    sentiment_score, content_classes = submissions_text_analysis[sub_i]\n",
    "    submission_sentiment_map[submission_id] = sentiment_score\n",
    "    submission_class_map[submission_id] = content_classes"
   ]
  },
  {
   "cell_type": "markdown",
   "metadata": {},
   "source": [
    "Set parameters"
   ]
  },
  {
   "cell_type": "code",
   "execution_count": 96,
   "metadata": {},
   "outputs": [],
   "source": [
    "batch_size = 1024\n",
    "upvote_ratio_thres = 0.5 # TODO: # config[\"upvote_ratio_thres\"]\n",
    "upvote_confidence_thres = 0 # config[\"upvote_confidence_thres\"] # TODO:"
   ]
  },
  {
   "cell_type": "markdown",
   "metadata": {},
   "source": [
    "Predict and show their relationship using venn."
   ]
  },
  {
   "cell_type": "code",
   "execution_count": 97,
   "metadata": {},
   "outputs": [
    {
     "name": "stdout",
     "output_type": "stream",
     "text": [
      "\u001b[1;33m------------------\u001b[0m\u001b[1;31m 2022-08-10 08:36:28 \u001b[0m\u001b[1;33m------------------\u001b[0m\n",
      "\u001b[1;33m\u001b[0m\u001b[1;32mDEBUG:\u001b[0m\u001b[1;33m at \u001b[0m\u001b[1;32m/home/TableSense/largedisk/wanrong/Curation-Modeling/utils.py:123 print_log\u001b[0m\u001b[1;33m\u001b[0m\n",
      "\u001b[1;33m\u001b[0m\u001b[1;36mPredicting group 1 with users {26240, 7811, 27395, 31107, 14601, 7563, 15381, 17190, 8617, 8757, 25272, 26812, 30407, 2507, 7509, 23254, 2904, 20313, 1501, 21985, 6629, 9067, 18539, 21103, 2676, 23669, 27384, 13436}\u001b[0m\u001b[1;33m\u001b[0m\n",
      "\u001b[1;33m------------------\u001b[0m\u001b[1;31m 2022-08-10 08:36:28 \u001b[0m\u001b[1;33m------------------\u001b[0m\n"
     ]
    },
    {
     "data": {
      "application/vnd.jupyter.widget-view+json": {
       "model_id": "d029665d90d541728e7bde26c99a93d6",
       "version_major": 2,
       "version_minor": 0
      },
      "text/plain": [
       "  0%|          | 0/28 [00:00<?, ?it/s]"
      ]
     },
     "metadata": {},
     "output_type": "display_data"
    },
    {
     "name": "stdout",
     "output_type": "stream",
     "text": [
      "\u001b[1;33m------------------\u001b[0m\u001b[1;31m 2022-08-10 08:36:28 \u001b[0m\u001b[1;33m------------------\u001b[0m\n",
      "\u001b[1;33m\u001b[0m\u001b[1;32mDEBUG:\u001b[0m\u001b[1;33m at \u001b[0m\u001b[1;32m<ipython-input-97-31698e1682c2>:37 predict_groups_preferences\u001b[0m\u001b[1;33m\u001b[0m\n",
      "\u001b[1;33m\u001b[0m\u001b[1;36mUsing existing pred_group_votes_info\u001b[0m\u001b[1;33m\u001b[0m\n",
      "\u001b[1;33m------------------\u001b[0m\u001b[1;31m 2022-08-10 08:36:28 \u001b[0m\u001b[1;33m------------------\u001b[0m\n"
     ]
    },
    {
     "data": {
      "application/vnd.jupyter.widget-view+json": {
       "model_id": "83615d753a474cc5b538414b3885598c",
       "version_major": 2,
       "version_minor": 0
      },
      "text/plain": [
       "  0%|          | 0/16912 [00:00<?, ?it/s]"
      ]
     },
     "metadata": {},
     "output_type": "display_data"
    },
    {
     "name": "stdout",
     "output_type": "stream",
     "text": [
      "\u001b[1;33m------------------\u001b[0m\u001b[1;31m 2022-08-10 08:36:29 \u001b[0m\u001b[1;33m------------------\u001b[0m\n",
      "\u001b[1;33m\u001b[0m\u001b[1;32mDEBUG:\u001b[0m\u001b[1;33m at \u001b[0m\u001b[1;32m/home/TableSense/largedisk/wanrong/Curation-Modeling/utils.py:123 print_log\u001b[0m\u001b[1;33m\u001b[0m\n",
      "\u001b[1;33m\u001b[0m\u001b[1;36mUsers in group 1 prefers 91/604 submissions (%upvotes ≥ 0.5) (sorted using %upvotes): ['t3_md913', 't3_15qe1y', 't3_fvq7yd', 't3_g6zcob', 't3_aulb9j', 't3_5cqifz', 't3_2n1uw3', 't3_fuwd5r', 't3_e5nibh', 't3_dmfz86', 't3_ccpp0y', 't3_gmpml5', 't3_dlhdzo', 't3_dt6vkd', 't3_5sthtf', 't3_eh3jb5', 't3_f3k2u0', 't3_2juyum', 't3_2u36lw', 't3_bbvdqo', 't3_fmd3iy', 't3_e2nil3', 't3_fcy7tu', 't3_el93md', 't3_g5vxg0', 't3_anzoaz', 't3_e82hy0', 't3_ekva9n', 't3_7h8lnf', 't3_fe9au5', 't3_gafqwy', 't3_g18axx', 't3_56h87o', 't3_lcqya', 't3_f2xgwv', 't3_c5jyab', 't3_agu62w', 't3_e6m2pe', 't3_f5xl4z', 't3_wttoq', 't3_fwwgm8', 't3_ez08ee', 't3_no1i7', 't3_dn0rap', 't3_eb8riu', 't3_20ao4w', 't3_g1h0rg', 't3_2wp2bk', 't3_3idh5d', 't3_5ymnpn', 't3_apl0ny', 't3_fo5ca8', 't3_eckfty', 't3_cqcce5', 't3_c3hzsd', 't3_ekv4k1', 't3_ed2v5s', 't3_ftrjcs', 't3_7jn8b6', 't3_em1xil', 't3_ewmiqd', 't3_2uf0xa', 't3_g45zki', 't3_bmx040', 't3_bf5s8w', 't3_e7t6ed', 't3_9q81oj', 't3_bb1pit', 't3_100751', 't3_evckld', 't3_1sontb', 't3_2q2i2r', 't3_emgocr', 't3_cbuf01', 't3_g35qbq', 't3_ds5ggm', 't3_5usdbf', 't3_da19pg', 't3_2jh7fb', 't3_30wb4q', 't3_dn0kju', 't3_fkaiy7', 't3_w6y01', 't3_d2vvsd', 't3_cz3xci', 't3_71zsws', 't3_dsrjvl', 't3_as08h6', 't3_d2tabg', 't3_e3v33z', 't3_a8oo11'], with text ['Since everyone loves showing their Cats...here is mine', 'Oh Nigel, you so stealthy.', 'I saw this at my local CVS', 'Does anybody know the correct dosage for the UV light injection?', 'Steve Irwin', 'This offbrand Yoda looks like it should a Aqua Teen Hunger Force character.', 'I came home from Uni for the weekend, my little sister had baked me a cake &lt;3', 'This tag on my daughter’s reusable swim diaper.', '4th grade me coming back to school from my doctors appointment', 'The racoon king', \"Can't wait for someone to spot this\", 'So, should I do weed or not?', 'Upgrading to the latest iPhone has never been cheaper', 'Deadly Weapon.', 'Notes from my bf used to be much sweeter. At least he made me lunch!', 'Like Pumba always says, Hakuna Matata!', 'New Full Self Driving \"Tesla Killer\" hits the road', 'When I get on reddit and there are no new links.', 'Anna Kendrick addresses r/gonewild', 'Too relatable', 'Sometimes, all you need to do be a superhero is to stay home!', 'Looking forward to Thanksgiving arguments', 'How to cook a burger as a student', 'Still coming', 'So quick to judge...', 'Just what we need', 'My buddy’s wife got an embroidery machine, this is the first thing he made on it.', 'And some say college is a waste of money ..', 'Your seasonal reminder of the greatest tree ornament of all time.', 'Luminescence', 'It’s hyperbole... [SEP] [deleted]', 'Good enough', 'Hell', 'Mom brought this home... Thought it was a vase. ', 'Heck’n road range', 'So much respect for this guy............', 'Dad is fooled by water bottle magic trick', 'Guilty', 'His face at the end.....', 'Wildebeest (x-post from r/gifs)', 'Say “what” again....', '3D printed easy-access condom holder', 'What I feel like starting my own business. ', 'Banana', 'Watching UP and suddenly...', 'So my buddy makes balloon art...', 'The Zoom Corner!', \"Let's take this joke to the checkout line\", 'This (P90x) Amazon review cracks me up everytime', 'Metal detecting is serious business', 'Hard Data', 'i can do this', 'From the tap please?', 'Gotta do it the right way', 'felt cute, might extinguish some fires later idk', 'Legends know no limits', 'It’s TOTALLY fine, I don’t need it', 'Social Distancing by a cat [SEP] [deleted]', \"A store in Japan thought fuckin' was just American slang for really good\", 'Apparently this is what my kid drew in kindergarten today. And yes- It’s a naked man looking between his legs.. and that is indeed his butt-crack.', 'Goat eats pastries then leaves on a motorcycle with its owner.', \"For those who couldn't give two shits about who wins or loses today\", 'My 4 yo son reassembled my Keyboard after cleaning..', 'When r/LifeProTips and r/IllegalLifeProTips collide', 'Don’t get on his bad side', 'But why', 'Way too accurate', \"This little girl can't say Ice cream😂\", 'Anyone can draw, they said...', \"Can't tell if I need to get the manager or put on some My Chemical Romance..\", 'I guess we have the same amount of chicks', 'This is the BEST troll you will ever see. Srs.', 'Hold on boss, lemme flip this bacon', 'Works great!!', \"That little dude's loving his life!\", 'Perfect recreation', 'Selling stuff on Craigslist', 'Note left behind by guy at my university who parked in the grass', 'Nike Free', 'This guy has it straight', 'I’m both horrified and impressed with my reddit feed right now...', 'Unexpected talent', 'Friend zone level: fallen comrade.', 'Stop the pain, I give up... Wait', 'Crossover', 'Main benefit', 'I wonder how soon it’ll be here.', 'I feel you too Emily. I feel you too.', 'F', 'Jingle beak Jingle beak', 'Cheers mate']\u001b[0m\u001b[1;33m\u001b[0m\n",
      "\u001b[1;33m------------------\u001b[0m\u001b[1;31m 2022-08-10 08:36:29 \u001b[0m\u001b[1;33m------------------\u001b[0m\n",
      "\u001b[1;33m------------------\u001b[0m\u001b[1;31m 2022-08-10 08:36:29 \u001b[0m\u001b[1;33m------------------\u001b[0m\n",
      "\u001b[1;33m\u001b[0m\u001b[1;32mDEBUG:\u001b[0m\u001b[1;33m at \u001b[0m\u001b[1;32m/home/TableSense/largedisk/wanrong/Curation-Modeling/utils.py:123 print_log\u001b[0m\u001b[1;33m\u001b[0m\n",
      "\u001b[1;33m\u001b[0m\u001b[1;36mPredicting group 8 with users {13088, 29313, 20552, 22410, 14290, 19539, 12155, 24350}\u001b[0m\u001b[1;33m\u001b[0m\n",
      "\u001b[1;33m------------------\u001b[0m\u001b[1;31m 2022-08-10 08:36:29 \u001b[0m\u001b[1;33m------------------\u001b[0m\n"
     ]
    },
    {
     "data": {
      "application/vnd.jupyter.widget-view+json": {
       "model_id": "992958ca2e4b4367817666770714d600",
       "version_major": 2,
       "version_minor": 0
      },
      "text/plain": [
       "  0%|          | 0/8 [00:00<?, ?it/s]"
      ]
     },
     "metadata": {},
     "output_type": "display_data"
    },
    {
     "name": "stdout",
     "output_type": "stream",
     "text": [
      "\u001b[1;33m------------------\u001b[0m\u001b[1;31m 2022-08-10 08:36:29 \u001b[0m\u001b[1;33m------------------\u001b[0m\n",
      "\u001b[1;33m\u001b[0m\u001b[1;32mDEBUG:\u001b[0m\u001b[1;33m at \u001b[0m\u001b[1;32m<ipython-input-97-31698e1682c2>:37 predict_groups_preferences\u001b[0m\u001b[1;33m\u001b[0m\n",
      "\u001b[1;33m\u001b[0m\u001b[1;36mUsing existing pred_group_votes_info\u001b[0m\u001b[1;33m\u001b[0m\n",
      "\u001b[1;33m------------------\u001b[0m\u001b[1;31m 2022-08-10 08:36:29 \u001b[0m\u001b[1;33m------------------\u001b[0m\n"
     ]
    },
    {
     "data": {
      "application/vnd.jupyter.widget-view+json": {
       "model_id": "5881b6931729464eae633b8c99df26ee",
       "version_major": 2,
       "version_minor": 0
      },
      "text/plain": [
       "  0%|          | 0/4832 [00:00<?, ?it/s]"
      ]
     },
     "metadata": {},
     "output_type": "display_data"
    },
    {
     "name": "stdout",
     "output_type": "stream",
     "text": [
      "\u001b[1;33m------------------\u001b[0m\u001b[1;31m 2022-08-10 08:36:29 \u001b[0m\u001b[1;33m------------------\u001b[0m\n",
      "\u001b[1;33m\u001b[0m\u001b[1;32mDEBUG:\u001b[0m\u001b[1;33m at \u001b[0m\u001b[1;32m/home/TableSense/largedisk/wanrong/Curation-Modeling/utils.py:123 print_log\u001b[0m\u001b[1;33m\u001b[0m\n",
      "\u001b[1;33m\u001b[0m\u001b[1;36mUsers in group 8 prefers 161/604 submissions (%upvotes ≥ 0.5) (sorted using %upvotes): ['t3_15qe1y', 't3_g6zcob', 't3_fuwd5r', 't3_e5nibh', 't3_fvq7yd', 't3_bbvdqo', 't3_f5xl4z', 't3_fmd3iy', 't3_e2nil3', 't3_gmpml5', 't3_fe9au5', 't3_lcqya', 't3_5sthtf', 't3_fcy7tu', 't3_dmfz86', 't3_eh3jb5', 't3_el93md', 't3_f3k2u0', 't3_2juyum', 't3_c5jyab', 't3_gafqwy', 't3_md913', 't3_g18axx', 't3_aulb9j', 't3_g5vxg0', 't3_dlhdzo', 't3_ccpp0y', 't3_5cqifz', 't3_anzoaz', 't3_apl0ny', 't3_dt6vkd', 't3_eb8riu', 't3_2n1uw3', 't3_eckfty', 't3_2uf0xa', 't3_2u36lw', 't3_wttoq', 't3_ekv4k1', 't3_fwwgm8', 't3_g1h0rg', 't3_ez08ee', 't3_bf5s8w', 't3_2wp2bk', 't3_3idh5d', 't3_bb1pit', 't3_no1i7', 't3_dn0rap', 't3_5ymnpn', 't3_1sontb', 't3_e82hy0', 't3_fo5ca8', 't3_agu62w', 't3_d2vvsd', 't3_ekva9n', 't3_e6m2pe', 't3_2bsypa', 't3_cz3xci', 't3_71zsws', 't3_20ao4w', 't3_cqcce5', 't3_g35qbq', 't3_c3hzsd', 't3_56h87o', 't3_ed2v5s', 't3_7h8lnf', 't3_2tg2lj', 't3_g45zki', 't3_bmx040', 't3_8f185s', 't3_2jh7fb', 't3_f2xgwv', 't3_e7t6ed', 't3_8ogqq9', 't3_9q81oj', 't3_a8oo11', 't3_9vubmz', 't3_8qpmje', 't3_dn0kju', 't3_100751', 't3_w6y01', 't3_2q2i2r', 't3_dud5zk', 't3_celebf', 't3_cbuf01', 't3_ds5ggm', 't3_dsrjvl', 't3_5usdbf', 't3_f1ym3j', 't3_54vmx1', 't3_as08h6', 't3_8cat7v', 't3_f0ibgs', 't3_b0x8qx', 't3_9dvj7c', 't3_9t5a7q', 't3_5ilcp2', 't3_64y9o3', 't3_dt5wfg', 't3_2587ux', 't3_6b1axj', 't3_cweocu', 't3_ftrjcs', 't3_1wlf0c', 't3_3ei237', 't3_30wb4q', 't3_7jn8b6', 't3_vjdxh', 't3_evckld', 't3_bzrpyf', 't3_2cah4j', 't3_ffscqn', 't3_ewmiqd', 't3_1s82tt', 't3_emgocr', 't3_4ngojm', 't3_fkcb74', 't3_bo8dqf', 't3_qqm5b', 't3_f7gaxk', 't3_ddy0mp', 't3_bgrv56', 't3_2gurmc', 't3_1un43g', 't3_edb8eg', 't3_da19pg', 't3_gr9b3a', 't3_71l0xt', 't3_13deob', 't3_gqwnp0', 't3_1fl94r', 't3_d11dq6', 't3_gc0gy2', 't3_cyanof', 't3_duq8qs', 't3_ejale4', 't3_fhwj42', 't3_fdvryn', 't3_eokeki', 't3_fscb6z', 't3_fhz3wm', 't3_5f6283', 't3_5priml', 't3_e43gks', 't3_e7idtd', 't3_6vkw67', 't3_fwntb9', 't3_fki2g8', 't3_46m199', 't3_3ii3s8', 't3_e3v33z', 't3_3c8ar2', 't3_33hrs7', 't3_shpt0', 't3_175q8q', 't3_ewi5hc', 't3_fsqytt', 't3_t6qri', 't3_5btrq5', 't3_fkaiy7', 't3_em1xil', 't3_3dz2qc'], with text ['Oh Nigel, you so stealthy.', 'Does anybody know the correct dosage for the UV light injection?', 'This tag on my daughter’s reusable swim diaper.', '4th grade me coming back to school from my doctors appointment', 'I saw this at my local CVS', 'Too relatable', 'His face at the end.....', 'Sometimes, all you need to do be a superhero is to stay home!', 'Looking forward to Thanksgiving arguments', 'So, should I do weed or not?', 'Luminescence', 'Mom brought this home... Thought it was a vase. ', 'Notes from my bf used to be much sweeter. At least he made me lunch!', 'How to cook a burger as a student', 'The racoon king', 'Like Pumba always says, Hakuna Matata!', 'Still coming', 'New Full Self Driving \"Tesla Killer\" hits the road', 'When I get on reddit and there are no new links.', 'So much respect for this guy............', 'It’s hyperbole... [SEP] [deleted]', 'Since everyone loves showing their Cats...here is mine', 'Good enough', 'Steve Irwin', 'So quick to judge...', 'Upgrading to the latest iPhone has never been cheaper', \"Can't wait for someone to spot this\", 'This offbrand Yoda looks like it should a Aqua Teen Hunger Force character.', 'Just what we need', 'Hard Data', 'Deadly Weapon.', 'Watching UP and suddenly...', 'I came home from Uni for the weekend, my little sister had baked me a cake &lt;3', 'From the tap please?', \"For those who couldn't give two shits about who wins or loses today\", 'Anna Kendrick addresses r/gonewild', 'Wildebeest (x-post from r/gifs)', 'Legends know no limits', 'Say “what” again....', 'The Zoom Corner!', '3D printed easy-access condom holder', 'Don’t get on his bad side', \"Let's take this joke to the checkout line\", 'This (P90x) Amazon review cracks me up everytime', \"This little girl can't say Ice cream😂\", 'What I feel like starting my own business. ', 'Banana', 'Metal detecting is serious business', 'I guess we have the same amount of chicks', 'My buddy’s wife got an embroidery machine, this is the first thing he made on it.', 'i can do this', 'Dad is fooled by water bottle magic trick', 'Stop the pain, I give up... Wait', 'And some say college is a waste of money ..', 'Guilty', 'I aged my cat 60 years with an aging app.', 'Crossover', 'Main benefit', 'So my buddy makes balloon art...', 'Gotta do it the right way', \"That little dude's loving his life!\", 'felt cute, might extinguish some fires later idk', 'Hell', 'It’s TOTALLY fine, I don’t need it', 'Your seasonal reminder of the greatest tree ornament of all time.', 'Goodyear sign', 'My 4 yo son reassembled my Keyboard after cleaning..', 'When r/LifeProTips and r/IllegalLifeProTips collide', 'Man needs his taco!', 'Nike Free', 'Heck’n road range', 'But why', 'Locked and Loaded', 'Way too accurate', 'Cheers mate', 'A PSA from the Royal Canadian police', 'Elephant finds a giant elastic ribbon, has the most fun ever', 'I’m both horrified and impressed with my reddit feed right now...', 'Anyone can draw, they said...', 'Friend zone level: fallen comrade.', 'This is the BEST troll you will ever see. Srs.', '“Silence, small human. Your wails are unsettling.”', 'But what about the snakes?', 'Works great!!', 'Perfect recreation', 'I wonder how soon it’ll be here.', 'Selling stuff on Craigslist', 'I work at a company whose staff is 85% female and we just hired 3 new male team members. The ladies are taking it well.', 'Rules Of Employment', 'I feel you too Emily. I feel you too.', 'This is why you keep your windows closed.', 'The unfortunate consequences of playing guitar properly with no bra and huge tits.', 'Cute couples share milkshakes', 'Alright now Nike has really crossed a line', 'Pennywise: \"We all knit down here\" Me: \"I\\'ve always wanted to learn to knit.\"', 'Standing out all night to catch a glimpse of the holiday train', 'Cat trips toddler', 'The quiet kid', 'Beer headshot', 'Dick on acid', 'Pray for the horse', 'Social Distancing by a cat [SEP] [deleted]', 'This student emailed her teacher on a snow day, throwing all capitalization and punctuation to the wayside. This is the response.', 'TOKYO 2020 LOGO & Grave marker of JAPAN', 'This guy has it straight', \"A store in Japan thought fuckin' was just American slang for really good\", 'Whatcha thinking about?', \"Can't tell if I need to get the manager or put on some My Chemical Romance..\", 'Shower Arguements', 'Employee of the year', 'Two best friends.', 'Goat eats pastries then leaves on a motorcycle with its owner.', 'Netflix just posted this on their Facebook page.', 'Hold on boss, lemme flip this bacon', 'Fireflies', 'New Yorkers keep the spirits up', 'Bill Nye not the same Bill Nye we used to know.', 'Feels so good to rub!', 'How to pronounce number Six', 'Best use of roof chopper.', 'Best Job I Ever Had', 'Best Buy opened 2 hours early for iPhone 6. Here is the crowd.', 'He really can balance anything on his head.', 'The custodian at my elementary school is definitely in the Christmas spirit! And he is a fellow Redditor! Can we give him some love !?', 'Note left behind by guy at my university who parked in the grass', 'Was so excited for dinner tonight, turned out the wife made all of this from cake and candy.', 'My brother and I became uncles this week to twins. First impressions are important, so naturally we shaved and dressed to impress', \"It's one of those of days\", 'If anti-maskers existed during WWII', \"'merica\", 'The sky today in Alabama', 'The teacher who did this sign needs a raise', 'Well. He’s not wrong.', 'Lightly salted.', 'Instant regret', 'Bidet gang!!!!!!', 'Walmart Wrestling - SF2 Edit', 'Someone at General Mills should get a big fat raise. I had to take a picture of the box. Hilarious!', '***What surprises you most today?***', 'Coronavirus', 'Googled albino elephant while studying and was not disappointed', 'Wait for it', 'lol', 'Relationship in a nutshell', 'Woman vs. Mechanical Bull', \"Oh my God I'm rock\", 'My buddy 3d printed this and made cover art and everything', 'Did you just steal a carrot?', 'Disney Classics....', 'Jingle beak Jingle beak', 'High-class Miami restaurant said \" no tank tops\"...but girlfriends\\'s extra blouse is fine!', 'The Sun needs to chill out.', 'How to describe a kiss.', 'Oh, is that right?  I had no idea.', 'Show this to the an alien civilization and let them experience our culture', 'Thought this was hilarious [SEP] [deleted]', 'Troll level: old man', 'focus', 'Unexpected talent', 'Apparently this is what my kid drew in kindergarten today. And yes- It’s a naked man looking between his legs.. and that is indeed his butt-crack.', 'The look of betrayal.']\u001b[0m\u001b[1;33m\u001b[0m\n",
      "\u001b[1;33m------------------\u001b[0m\u001b[1;31m 2022-08-10 08:36:29 \u001b[0m\u001b[1;33m------------------\u001b[0m\n"
     ]
    },
    {
     "data": {
      "image/png": "[encoded data removed]",
      "text/plain": [
       "<Figure size 576x576 with 1 Axes>"
      ]
     },
     "metadata": {},
     "output_type": "display_data"
    },
    {
     "name": "stdout",
     "output_type": "stream",
     "text": [
      "\u001b[1;33m------------------\u001b[0m\u001b[1;31m 2022-08-10 08:36:29 \u001b[0m\u001b[1;33m------------------\u001b[0m\n",
      "\u001b[1;33m\u001b[0m\u001b[1;32mDEBUG:\u001b[0m\u001b[1;33m at \u001b[0m\u001b[1;32m<ipython-input-97-31698e1682c2>:73 predict_groups_preferences\u001b[0m\u001b[1;33m\u001b[0m\n",
      "\u001b[1;33m\u001b[0m\u001b[1;36mFigure saved in output/figures/preferred_subs/2_groups.png\u001b[0m\u001b[1;33m\u001b[0m\n",
      "\u001b[1;33m------------------\u001b[0m\u001b[1;31m 2022-08-10 08:36:29 \u001b[0m\u001b[1;33m------------------\u001b[0m\n",
      "\u001b[1;33m------------------\u001b[0m\u001b[1;31m 2022-08-10 08:36:29 \u001b[0m\u001b[1;33m------------------\u001b[0m\n",
      "\u001b[1;33m\u001b[0m\u001b[1;32mDEBUG:\u001b[0m\u001b[1;33m at \u001b[0m\u001b[1;32m/home/TableSense/largedisk/wanrong/Curation-Modeling/utils.py:123 print_log\u001b[0m\u001b[1;33m\u001b[0m\n",
      "\u001b[1;33m\u001b[0m\u001b[1;36mPredicting group 5 with users {27461, 25042, 15029, 21211, 27548}\u001b[0m\u001b[1;33m\u001b[0m\n",
      "\u001b[1;33m------------------\u001b[0m\u001b[1;31m 2022-08-10 08:36:29 \u001b[0m\u001b[1;33m------------------\u001b[0m\n"
     ]
    },
    {
     "data": {
      "application/vnd.jupyter.widget-view+json": {
       "model_id": "3577dde596854b978dda03a76c940c4d",
       "version_major": 2,
       "version_minor": 0
      },
      "text/plain": [
       "  0%|          | 0/5 [00:00<?, ?it/s]"
      ]
     },
     "metadata": {},
     "output_type": "display_data"
    },
    {
     "name": "stdout",
     "output_type": "stream",
     "text": [
      "\u001b[1;33m------------------\u001b[0m\u001b[1;31m 2022-08-10 08:36:29 \u001b[0m\u001b[1;33m------------------\u001b[0m\n",
      "\u001b[1;33m\u001b[0m\u001b[1;32mDEBUG:\u001b[0m\u001b[1;33m at \u001b[0m\u001b[1;32m<ipython-input-97-31698e1682c2>:37 predict_groups_preferences\u001b[0m\u001b[1;33m\u001b[0m\n",
      "\u001b[1;33m\u001b[0m\u001b[1;36mUsing existing pred_group_votes_info\u001b[0m\u001b[1;33m\u001b[0m\n",
      "\u001b[1;33m------------------\u001b[0m\u001b[1;31m 2022-08-10 08:36:29 \u001b[0m\u001b[1;33m------------------\u001b[0m\n"
     ]
    },
    {
     "data": {
      "application/vnd.jupyter.widget-view+json": {
       "model_id": "bf46b7676631452fa38ed8004694080b",
       "version_major": 2,
       "version_minor": 0
      },
      "text/plain": [
       "  0%|          | 0/3020 [00:00<?, ?it/s]"
      ]
     },
     "metadata": {},
     "output_type": "display_data"
    },
    {
     "name": "stdout",
     "output_type": "stream",
     "text": [
      "\u001b[1;33m------------------\u001b[0m\u001b[1;31m 2022-08-10 08:36:30 \u001b[0m\u001b[1;33m------------------\u001b[0m\n",
      "\u001b[1;33m\u001b[0m\u001b[1;32mDEBUG:\u001b[0m\u001b[1;33m at \u001b[0m\u001b[1;32m/home/TableSense/largedisk/wanrong/Curation-Modeling/utils.py:123 print_log\u001b[0m\u001b[1;33m\u001b[0m\n",
      "\u001b[1;33m\u001b[0m\u001b[1;36mUsers in group 5 prefers 118/604 submissions (%upvotes ≥ 0.5) (sorted using %upvotes): ['t3_15qe1y', 't3_2juyum', 't3_md913', 't3_5cqifz', 't3_2n1uw3', 't3_e82hy0', 't3_g6zcob', 't3_fuwd5r', 't3_e5nibh', 't3_fvq7yd', 't3_bbvdqo', 't3_f5xl4z', 't3_wttoq', 't3_e2nil3', 't3_d11dq6', 't3_lcqya', 't3_5sthtf', 't3_dmfz86', 't3_eh3jb5', 't3_el93md', 't3_2wp2bk', 't3_c5jyab', 't3_3idh5d', 't3_aulb9j', 't3_dlhdzo', 't3_ccpp0y', 't3_no1i7', 't3_5ymnpn', 't3_1sontb', 't3_fo5ca8', 't3_agu62w', 't3_d2vvsd', 't3_eckfty', 't3_ekva9n', 't3_e6m2pe', 't3_2uf0xa', 't3_emgocr', 't3_2u36lw', 't3_2bsypa', 't3_cz3xci', 't3_71zsws', 't3_celebf', 't3_20ao4w', 't3_cqcce5', 't3_bgrv56', 't3_ds5ggm', 't3_c3hzsd', 't3_56h87o', 't3_2gurmc', 't3_1un43g', 't3_dsrjvl', 't3_5usdbf', 't3_ekv4k1', 't3_ed2v5s', 't3_edb8eg', 't3_da19pg', 't3_54vmx1', 't3_13deob', 't3_7h8lnf', 't3_9s7uhn', 't3_fmd3iy', 't3_fwwgm8', 't3_2tg2lj', 't3_as08h6', 't3_8cat7v', 't3_gmpml5', 't3_cyanof', 't3_g1h0rg', 't3_fe9au5', 't3_9dvj7c', 't3_eokeki', 't3_5f6283', 't3_5priml', 't3_fcy7tu', 't3_ez08ee', 't3_g45zki', 't3_6vkw67', 't3_d2tabg', 't3_bmx040', 't3_bf5s8w', 't3_8f185s', 't3_5ilcp2', 't3_46m199', 't3_f3k2u0', 't3_2jh7fb', 't3_3ii3s8', 't3_f2xgwv', 't3_e7t6ed', 't3_64y9o3', 't3_3c8ar2', 't3_8ogqq9', 't3_9q81oj', 't3_33hrs7', 't3_gafqwy', 't3_2587ux', 't3_a8oo11', 't3_bb1pit', 't3_shpt0', 't3_ftrjcs', 't3_g18axx', 't3_8qpmje', 't3_g5vxg0', 't3_30wb4q', 't3_dn0kju', 't3_175q8q', 't3_dn0rap', 't3_anzoaz', 't3_7jn8b6', 't3_vjdxh', 't3_100751', 't3_apl0ny', 't3_dt6vkd', 't3_eb8riu', 't3_bzrpyf', 't3_w6y01', 't3_em1xil', 't3_2q2i2r', 't3_3dz2qc'], with text ['Oh Nigel, you so stealthy.', 'When I get on reddit and there are no new links.', 'Since everyone loves showing their Cats...here is mine', 'This offbrand Yoda looks like it should a Aqua Teen Hunger Force character.', 'I came home from Uni for the weekend, my little sister had baked me a cake &lt;3', 'My buddy’s wife got an embroidery machine, this is the first thing he made on it.', 'Does anybody know the correct dosage for the UV light injection?', 'This tag on my daughter’s reusable swim diaper.', '4th grade me coming back to school from my doctors appointment', 'I saw this at my local CVS', 'Too relatable', 'His face at the end.....', 'Wildebeest (x-post from r/gifs)', 'Looking forward to Thanksgiving arguments', 'The sky today in Alabama', 'Mom brought this home... Thought it was a vase. ', 'Notes from my bf used to be much sweeter. At least he made me lunch!', 'The racoon king', 'Like Pumba always says, Hakuna Matata!', 'Still coming', \"Let's take this joke to the checkout line\", 'So much respect for this guy............', 'This (P90x) Amazon review cracks me up everytime', 'Steve Irwin', 'Upgrading to the latest iPhone has never been cheaper', \"Can't wait for someone to spot this\", 'What I feel like starting my own business. ', 'Metal detecting is serious business', 'I guess we have the same amount of chicks', 'i can do this', 'Dad is fooled by water bottle magic trick', 'Stop the pain, I give up... Wait', 'From the tap please?', 'And some say college is a waste of money ..', 'Guilty', \"For those who couldn't give two shits about who wins or loses today\", 'Hold on boss, lemme flip this bacon', 'Anna Kendrick addresses r/gonewild', 'I aged my cat 60 years with an aging app.', 'Crossover', 'Main benefit', 'But what about the snakes?', 'So my buddy makes balloon art...', 'Gotta do it the right way', 'Best Job I Ever Had', 'Perfect recreation', 'felt cute, might extinguish some fires later idk', 'Hell', 'Best Buy opened 2 hours early for iPhone 6. Here is the crowd.', 'He really can balance anything on his head.', 'I wonder how soon it’ll be here.', 'Selling stuff on Craigslist', 'Legends know no limits', 'It’s TOTALLY fine, I don’t need it', 'The custodian at my elementary school is definitely in the Christmas spirit! And he is a fellow Redditor! Can we give him some love !?', 'Note left behind by guy at my university who parked in the grass', 'Rules Of Employment', \"It's one of those of days\", 'Your seasonal reminder of the greatest tree ornament of all time.', 'Not many will understand', 'Sometimes, all you need to do be a superhero is to stay home!', 'Say “what” again....', 'Goodyear sign', 'I feel you too Emily. I feel you too.', 'This is why you keep your windows closed.', 'So, should I do weed or not?', 'Well. He’s not wrong.', 'The Zoom Corner!', 'Luminescence', 'Alright now Nike has really crossed a line', 'Someone at General Mills should get a big fat raise. I had to take a picture of the box. Hilarious!', 'Googled albino elephant while studying and was not disappointed', 'Wait for it', 'How to cook a burger as a student', '3D printed easy-access condom holder', 'My 4 yo son reassembled my Keyboard after cleaning..', 'Woman vs. Mechanical Bull', 'F', 'When r/LifeProTips and r/IllegalLifeProTips collide', 'Don’t get on his bad side', 'Man needs his taco!', 'Standing out all night to catch a glimpse of the holiday train', 'Did you just steal a carrot?', 'New Full Self Driving \"Tesla Killer\" hits the road', 'Nike Free', 'Disney Classics....', 'Heck’n road range', 'But why', 'Cat trips toddler', 'High-class Miami restaurant said \" no tank tops\"...but girlfriends\\'s extra blouse is fine!', 'Locked and Loaded', 'Way too accurate', 'The Sun needs to chill out.', 'It’s hyperbole... [SEP] [deleted]', 'Beer headshot', 'Cheers mate', \"This little girl can't say Ice cream😂\", 'How to describe a kiss.', 'Social Distancing by a cat [SEP] [deleted]', 'Good enough', 'Elephant finds a giant elastic ribbon, has the most fun ever', 'So quick to judge...', 'This guy has it straight', 'I’m both horrified and impressed with my reddit feed right now...', 'Oh, is that right?  I had no idea.', 'Banana', 'Just what we need', \"A store in Japan thought fuckin' was just American slang for really good\", 'Whatcha thinking about?', 'Anyone can draw, they said...', 'Hard Data', 'Deadly Weapon.', 'Watching UP and suddenly...', 'Shower Arguements', 'Friend zone level: fallen comrade.', 'Apparently this is what my kid drew in kindergarten today. And yes- It’s a naked man looking between his legs.. and that is indeed his butt-crack.', 'This is the BEST troll you will ever see. Srs.', 'The look of betrayal.']\u001b[0m\u001b[1;33m\u001b[0m\n",
      "\u001b[1;33m------------------\u001b[0m\u001b[1;31m 2022-08-10 08:36:30 \u001b[0m\u001b[1;33m------------------\u001b[0m\n"
     ]
    },
    {
     "data": {
      "image/png": "[encoded data removed]",
      "text/plain": [
       "<Figure size 576x576 with 1 Axes>"
      ]
     },
     "metadata": {},
     "output_type": "display_data"
    },
    {
     "name": "stdout",
     "output_type": "stream",
     "text": [
      "\u001b[1;33m------------------\u001b[0m\u001b[1;31m 2022-08-10 08:36:30 \u001b[0m\u001b[1;33m------------------\u001b[0m\n",
      "\u001b[1;33m\u001b[0m\u001b[1;32mDEBUG:\u001b[0m\u001b[1;33m at \u001b[0m\u001b[1;32m<ipython-input-97-31698e1682c2>:73 predict_groups_preferences\u001b[0m\u001b[1;33m\u001b[0m\n",
      "\u001b[1;33m\u001b[0m\u001b[1;36mFigure saved in output/figures/preferred_subs/3_groups.png\u001b[0m\u001b[1;33m\u001b[0m\n",
      "\u001b[1;33m------------------\u001b[0m\u001b[1;31m 2022-08-10 08:36:30 \u001b[0m\u001b[1;33m------------------\u001b[0m\n"
     ]
    }
   ],
   "source": [
    "def predict_groups_preferences(users_in_groups, unique_submissions:dict, upvote_ratio_thres = 0.5, group_centers=None, user_grouping_method = \"rep\", existing_votes = None, existing_user_updown_votes = None, pred_group_votes_info = None):\n",
    "    # users_in_groups = existing_user_votes.most_common(3)\n",
    "    groups_preferred_submissions = {}\n",
    "    groups_preferred_submissions_text = {}\n",
    "    groups_submission_upvote_count_matrix = np.zeros([len(users_in_groups), len(unique_submissions)])\n",
    "    unique_submissions_ids = list(unique_submissions.keys())\n",
    "    used_group_centers = []\n",
    "    if os.path.exists(config[\"preferred_submissions_venn_figure_dir\"]):\n",
    "        shutil.rmtree(config[\"preferred_submissions_venn_figure_dir\"])\n",
    "    os.makedirs(config[\"preferred_submissions_venn_figure_dir\"], exist_ok=True)\n",
    "    for group_x in users_in_groups:\n",
    "        if ((not (\"single_user_as_group\" in user_grouping_method and len(users_in_groups[group_x]) == 1)) and (not (\"none\" in user_grouping_method and len(users_in_groups[group_x]) == 0)) and len(users_in_groups[group_x]) <= config[\"group_user_num_lower_thres\"]) or (\"all_user_as_group\" not in user_grouping_method and len(users_in_groups[group_x]) > config[\"group_user_num_upper_thres\"]): # keep middle sized centers\n",
    "            continue\n",
    "        if group_centers is not None: # only keep not similar centers\n",
    "            group_x_center = group_centers[group_x]\n",
    "            similar_center = False\n",
    "            for center in used_group_centers:\n",
    "                if np.dot(group_x_center, center) > 0:\n",
    "                    similar_center = True\n",
    "                    break\n",
    "            if similar_center:\n",
    "                # continue\n",
    "                print_log(config[\"log_path\"], \"Have similar center with existing group\")\n",
    "            used_group_centers.append(group_x_center)\n",
    "\n",
    "        ################ predicting votes of some users and some submissions ##################\n",
    "        print_log(config[\"log_path\"], f\"Predicting group {group_x} with users {users_in_groups[group_x]}\")\n",
    "        \n",
    "        if len(users_in_groups[group_x]) > 0:\n",
    "            group_x_subreddit_submissions_data = convert_group_users_subreddit_submissions_data(users_in_groups[group_x], unique_submissions)\n",
    "            if group_x not in pred_group_votes_info:\n",
    "                predicted_group_x_submissions_votes = predict_group_users_submissions_votes(model, group_x_subreddit_submissions_data, batch_size)\n",
    "                group_x_submission_votes, group_x_confidence, pred_group_x_subreddit_submission_vote_score_matrix, pred_group_x_subreddit_submission_vote_matrix = get_group_user_submission_vote_score_matrix(predicted_group_x_submissions_votes, users_in_groups[group_x], group_x_subreddit_submissions_data, existing_votes, upvote_confidence_thres=upvote_confidence_thres)\n",
    "                \n",
    "                pred_group_votes_info[group_x] = pred_group_x_subreddit_submission_vote_score_matrix\n",
    "            else:\n",
    "                debug(\"Using existing pred_group_votes_info\")\n",
    "                pred_group_x_subreddit_submission_vote_score_matrix = pred_group_votes_info[group_x]\n",
    "                group_x_submission_votes, group_x_confidence, pred_group_x_subreddit_submission_vote_score_matrix, pred_group_x_subreddit_submission_vote_matrix = get_group_user_submission_vote_score_matrix(None, users_in_groups[group_x], group_x_subreddit_submissions_data, existing_votes, existing_pred_user_submission_vote_score_matrix=pred_group_x_subreddit_submission_vote_score_matrix, upvote_confidence_thres=upvote_confidence_thres)\n",
    "                # group_x_submission_votes, group_x_confidence, pred_group_x_subreddit_submission_vote_score_matrix, pred_group_x_subreddit_submission_vote_matrix = pred_group_votes_info[group_x]\n",
    "        elif len(users_in_groups[group_x]) == 0: # no user in this group, i.e., without curation, just count real votes\n",
    "            group_x_submission_votes, group_x_confidence, pred_group_x_subreddit_submission_vote_score_matrix, pred_group_x_subreddit_submission_vote_matrix = get_group_users_real_vote(list(a_subreddit_active_user_i_user_map.values()), unique_submissions, existing_votes, metric = \"upvote_rate\")\n",
    "        \n",
    "        group_x_preferred_submissions, group_x_preferred_submissions_ranking = get_group_users_preferred_submissions(group_x_submission_votes, upvote_ratio_thres = upvote_ratio_thres)\n",
    "    \n",
    "        pred_group_x_subreddit_submission_vote_matrix_np = pred_group_x_subreddit_submission_vote_matrix[unique_submissions_ids].to_numpy()\n",
    "        pred_group_x_subreddit_submission_vote_matrix_np = pred_group_x_subreddit_submission_vote_matrix_np[pred_group_x_subreddit_submission_vote_matrix_np.sum(axis=1) >= 0]\n",
    "        groups_submission_upvote_count_matrix[group_x] = pred_group_x_subreddit_submission_vote_matrix_np.sum(axis=0).astype(float)/len(pred_group_x_subreddit_submission_vote_matrix_np)\n",
    "        \n",
    "\n",
    "        ################# Display submissions preferred by each group of users ######################\n",
    "\n",
    "        if \"single_user_as_group\" in user_grouping_method:\n",
    "            user_train_vote_prompt = f\"voted {existing_user_updown_votes[list(users_in_groups[group_x])[0]]} in training data, prediction confidence {list(group_x_confidence.values())[0]}, \"\n",
    "        else:\n",
    "            user_train_vote_prompt = \"\"\n",
    "            \n",
    "        group_x_preferred_ranked_submissions = group_x_preferred_submissions_ranking[:len(group_x_preferred_submissions)]\n",
    "        groups_preferred_submissions[f\"Group {group_x}\"] = group_x_preferred_submissions\n",
    "        \n",
    "        # convert submission text content\n",
    "        group_x_preferred_ranked_submissions_text = get_submissions_text(group_x_preferred_ranked_submissions)\n",
    "        groups_preferred_submissions_text[f\"Group {group_x}\"] = group_x_preferred_ranked_submissions_text\n",
    "            \n",
    "        print_log(config[\"log_path\"], f\"Users in group {group_x} {user_train_vote_prompt}prefers {len(group_x_preferred_submissions)}/{len(unique_submissions)} submissions (%upvotes ≥ {upvote_ratio_thres}) (sorted using %upvotes): {group_x_preferred_ranked_submissions}, with text {group_x_preferred_ranked_submissions_text}\") # \n",
    "\n",
    "        # draw venn diagram            \n",
    "        if len(groups_preferred_submissions) > 1 and len(groups_preferred_submissions) <=6 and sum([len(_) for _ in groups_preferred_submissions.values()]) > 0:\n",
    "            ax = venn(groups_preferred_submissions) if len(groups_preferred_submissions) <=5 else pseudovenn(groups_preferred_submissions)\n",
    "            plt.show()\n",
    "            figure_path = f\"{config['preferred_submissions_venn_figure_dir']}/{len(groups_preferred_submissions)}_groups.png\"\n",
    "            ax.figure.savefig(figure_path)\n",
    "            debug(f\"Figure saved in {figure_path}\")\n",
    "    return groups_preferred_submissions, groups_preferred_submissions_text, groups_submission_upvote_count_matrix\n",
    "\n",
    "model = model.to(model.device); model.eval()\n",
    "groups_preferred_submissions, groups_preferred_submissions_text, groups_submission_upvote_count_matrix = predict_groups_preferences(users_in_groups, submissions_before_curation, group_centers=group_centers, user_grouping_method=user_grouping_method, existing_votes=existing_votes, existing_user_updown_votes=existing_user_updown_votes, pred_group_votes_info = pred_group_votes_info, upvote_ratio_thres = upvote_ratio_thres)\n",
    "if config[\"submission_source\"] == \"custom\":\n",
    "    debug(groups_submission_upvote_count_matrix)\n",
    "    print(f\"You can post immediately in {[group_x for group_x in groups_preferred_submissions if len(groups_preferred_submissions[group_x]) > 0]}. You will need to wait for more votes to post in {[group_x for group_x in groups_preferred_submissions if len(groups_preferred_submissions[group_x]) == 0]} -- your post will stay in the background first. Currently, \", end = \"\")\n",
    "    for group_x in groups_preferred_submissions:\n",
    "        group_x_int = int(group_x.split(\" \")[-1])\n",
    "        print(f\"{100 * groups_submission_upvote_count_matrix[group_x_int, 0]}% of the curators in {group_x} are predicted to upvote on your post; \", end = \"\")\n",
    "        \n"
   ]
  },
  {
   "cell_type": "markdown",
   "metadata": {},
   "source": [
    "##### Calculate Pearson correlation of different groups"
   ]
  },
  {
   "cell_type": "code",
   "execution_count": 98,
   "metadata": {},
   "outputs": [
    {
     "name": "stdout",
     "output_type": "stream",
     "text": [
      "\u001b[1;33m------------------\u001b[0m\u001b[1;31m 2022-08-10 08:36:30 \u001b[0m\u001b[1;33m------------------\u001b[0m\n",
      "\u001b[1;33m\u001b[0m\u001b[1;32mDEBUG:\u001b[0m\u001b[1;33m 1 vars: ['?'], at \u001b[0m\u001b[1;32m<ipython-input-98-378e9067c5e8>:4 <module>\u001b[0m\u001b[1;33m\u001b[0m\n",
      "\u001b[1;33m0 / 24800.\u001b[0m \u001b[1;33m \u001b[0m\u001b[1;36m?\u001b[0m\u001b[1;33m ndarray size: (3, 3) val: [[1.         0.89496603 0.93684987]\n",
      " [0.89496603 1.         0.89923336]\n",
      " [0.93684987 0.89923336 1.        ]]\u001b[0m\n",
      "\u001b[1;33m------------------\u001b[0m\u001b[1;31m 2022-08-10 08:36:30 \u001b[0m\u001b[1;33m------------------\u001b[0m\n"
     ]
    }
   ],
   "source": [
    "# print(groups_submission_upvote_count_matrix)\n",
    "groups_submission_upvote_count_matrix_nonzero = groups_submission_upvote_count_matrix[groups_submission_upvote_count_matrix.sum(axis = 1) != 0]\n",
    "group_preference_pearson_corr = np.corrcoef(groups_submission_upvote_count_matrix_nonzero) # (697, 697)\n",
    "debug(group_preference_pearson_corr)"
   ]
  },
  {
   "cell_type": "code",
   "execution_count": 99,
   "metadata": {},
   "outputs": [
    {
     "name": "stdout",
     "output_type": "stream",
     "text": [
      "Group 1: average sentiment 0.2250, all classes {\"/People & Society/Kids & Teens/Children's Interests\": 0.01098901098901099}\n"
     ]
    },
    {
     "data": {
      "image/png": "[encoded data removed]",
      "text/plain": [
       "<Figure size 432x288 with 1 Axes>"
      ]
     },
     "metadata": {
      "needs_background": "light"
     },
     "output_type": "display_data"
    },
    {
     "name": "stdout",
     "output_type": "stream",
     "text": [
      "Group 8: average sentiment 0.2250, all classes {\"/People & Society/Kids & Teens/Children's Interests\": 0.006211180124223602, '/Food & Drink': 0.006211180124223602, '/Jobs & Education/Education': 0.006211180124223602, '/Books & Literature': 0.012422360248447204, '/Food & Drink/Restaurants': 0.006211180124223602}\n"
     ]
    },
    {
     "data": {
      "image/png": "[encoded data removed]",
      "text/plain": [
       "<Figure size 432x288 with 1 Axes>"
      ]
     },
     "metadata": {
      "needs_background": "light"
     },
     "output_type": "display_data"
    },
    {
     "name": "stdout",
     "output_type": "stream",
     "text": [
      "Group 5: average sentiment 0.2250, all classes {\"/People & Society/Kids & Teens/Children's Interests\": 0.00847457627118644, '/Food & Drink/Restaurants': 0.00847457627118644}\n"
     ]
    },
    {
     "data": {
      "image/png": "[encoded data removed]",
      "text/plain": [
       "<Figure size 432x288 with 1 Axes>"
      ]
     },
     "metadata": {
      "needs_background": "light"
     },
     "output_type": "display_data"
    }
   ],
   "source": [
    "import seaborn as sns\n",
    "all_classes = set()\n",
    "groups_class_counter_rate = {}\n",
    "for group_x in groups_preferred_submissions:\n",
    "    submission_sentiments = []\n",
    "    submission_classes = []\n",
    "    group_preferred_submissions = groups_preferred_submissions[group_x]\n",
    "    for submission_id in group_preferred_submissions:\n",
    "        if submission_sentiment_map[submission_id]:\n",
    "            submission_sentiments.append(submission_sentiment_map[submission_id])\n",
    "        submission_classes.extend(submission_class_map[submission_id])\n",
    "    avg_sentiment = np.mean(submission_sentiments) if len(submission_sentiments) > 0 else 0\n",
    "    class_counter = Counter(submission_classes)\n",
    "    all_classes.update(class_counter.keys())\n",
    "    class_counter_rate = {k: v/len(group_preferred_submissions) for k, v in class_counter.items()}\n",
    "    groups_class_counter_rate[group_x] = class_counter_rate\n",
    "all_classes = list(all_classes)\n",
    "for group_x in groups_class_counter_rate:\n",
    "    class_counter_rate = groups_class_counter_rate[group_x]\n",
    "    print(f\"{group_x}: average sentiment {avg_sentiment:.4f}, all classes {class_counter_rate}\")\n",
    "    class_counter_rate = {cls: [class_counter_rate.get(cls, 0)] for cls in all_classes}\n",
    "    class_counter_rate_df = pd.DataFrame.from_dict(class_counter_rate).transpose()\n",
    "    ax = sns.barplot(x=class_counter_rate_df.index, y=class_counter_rate_df[0])\n",
    "    ax.set(ylim=(0, 0.2))\n",
    "    plt.show()\n",
    "    plt.close()"
   ]
  }
 ],
 "metadata": {
  "kernelspec": {
   "display_name": "Python 3.6.12 ('cr4')",
   "language": "python",
   "name": "python3"
  },
  "language_info": {
   "codemirror_mode": {
    "name": "ipython",
    "version": 3
   },
   "file_extension": ".py",
   "mimetype": "text/x-python",
   "name": "python",
   "nbconvert_exporter": "python",
   "pygments_lexer": "ipython3",
   "version": "3.6.12"
  },
  "orig_nbformat": 4,
  "vscode": {
   "interpreter": {
    "hash": "740471d2bc5e6e0b41d12bdc2e64373746aa6a34800f381ff958ff5f02fa0c53"
   }
  }
 },
 "nbformat": 4,
 "nbformat_minor": 2
}
