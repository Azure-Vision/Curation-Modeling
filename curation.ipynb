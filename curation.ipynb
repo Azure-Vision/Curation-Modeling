{
 "cells": [
  {
   "cell_type": "code",
   "execution_count": 7,
   "metadata": {},
   "outputs": [],
   "source": [
    "CONFIG_PATH = \"configs/small_sample_sub_no_peer.yml\""
   ]
  },
  {
   "cell_type": "code",
   "execution_count": 8,
   "metadata": {},
   "outputs": [],
   "source": [
    "from collections import Counter, defaultdict\n",
    "import os\n",
    "import random\n",
    "import shutil\n",
    "import numpy as np\n",
    "import pandas as pd\n",
    "from superdebug import debug\n",
    "import torch\n",
    "from process_data import get_model_input\n",
    "from utils import get_config, join_sets, load_model, print_log, save_model, load_model_dict\n",
    "from model import get_best_model\n",
    "from venn import venn, pseudovenn"
   ]
  },
  {
   "cell_type": "markdown",
   "metadata": {},
   "source": [
    "##### Preprocess"
   ]
  },
  {
   "cell_type": "markdown",
   "metadata": {},
   "source": [
    "Load model and data"
   ]
  },
  {
   "cell_type": "code",
   "execution_count": 16,
   "metadata": {},
   "outputs": [
    {
     "name": "stdout",
     "output_type": "stream",
     "text": [
      "GPU ready...\n",
      "Smart using cuda:3\n",
      "\u001b[1;33m------------------\u001b[0m\u001b[1;31m 2022-08-01 09:00:04 \u001b[0m\u001b[1;33m------------------\u001b[0m\n",
      "\u001b[1;33m\u001b[0m\u001b[1;32mDEBUG:\u001b[0m\u001b[1;33m at \u001b[0m\u001b[1;32m/home/TableSense/largedisk/wanrong/Curation-Modeling/process_data.py:327 get_model_input\u001b[0m\u001b[1;33m\u001b[0m\n",
      "\u001b[1;33m\u001b[0m\u001b[1;36mLoading prepared data...\u001b[0m\u001b[1;33m\u001b[0m\n",
      "\u001b[1;33m------------------\u001b[0m\u001b[1;31m 2022-08-01 09:00:04 \u001b[0m\u001b[1;33m------------------\u001b[0m\n",
      "\u001b[1;33m------------------\u001b[0m\u001b[1;31m 2022-08-01 09:00:04 \u001b[0m\u001b[1;33m------------------\u001b[0m\n",
      "\u001b[1;33m\u001b[0m\u001b[1;32mDEBUG:\u001b[0m\u001b[1;33m at \u001b[0m\u001b[1;32m/home/TableSense/largedisk/wanrong/Curation-Modeling/model.py:239 get_tokenizer\u001b[0m\u001b[1;33m\u001b[0m\n",
      "\u001b[1;33m\u001b[0m\u001b[1;36mInitializing the tokenizer from sbert-base-uncased\u001b[0m\u001b[1;33m\u001b[0m\n",
      "\u001b[1;33m------------------\u001b[0m\u001b[1;31m 2022-08-01 09:00:04 \u001b[0m\u001b[1;33m------------------\u001b[0m\n",
      "\u001b[1;33m------------------\u001b[0m\u001b[1;31m 2022-08-01 09:00:05 \u001b[0m\u001b[1;33m------------------\u001b[0m\n",
      "\u001b[1;33m\u001b[0m\u001b[1;32mDEBUG:\u001b[0m\u001b[1;33m 1 vars: ['original_token_num'], at \u001b[0m\u001b[1;32m/home/TableSense/largedisk/wanrong/Curation-Modeling/model.py:242 get_tokenizer\u001b[0m\u001b[1;33m\u001b[0m\n",
      "\u001b[1;33m0 / 7.\u001b[0m \u001b[1;33m \u001b[0m\u001b[1;36moriginal_token_num\u001b[0m\u001b[1;33m num val: 30522\u001b[0m\n",
      "\u001b[1;33m------------------\u001b[0m\u001b[1;31m 2022-08-01 09:00:05 \u001b[0m\u001b[1;33m------------------\u001b[0m\n",
      "\u001b[1;33m------------------\u001b[0m\u001b[1;31m 2022-08-01 09:00:05 \u001b[0m\u001b[1;33m------------------\u001b[0m\n",
      "\u001b[1;33m\u001b[0m\u001b[1;32mDEBUG:\u001b[0m\u001b[1;33m 1 vars: ['latest_token_num'], at \u001b[0m\u001b[1;32m/home/TableSense/largedisk/wanrong/Curation-Modeling/model.py:254 get_tokenizer\u001b[0m\u001b[1;33m\u001b[0m\n",
      "\u001b[1;33m0 / 8.\u001b[0m \u001b[1;33m \u001b[0m\u001b[1;36mlatest_token_num\u001b[0m\u001b[1;33m num val: 53257\u001b[0m\n",
      "\u001b[1;33m------------------\u001b[0m\u001b[1;31m 2022-08-01 09:00:05 \u001b[0m\u001b[1;33m------------------\u001b[0m\n",
      "\u001b[1;33m------------------\u001b[0m\u001b[1;31m 2022-08-01 09:00:06 \u001b[0m\u001b[1;33m------------------\u001b[0m\n",
      "\u001b[1;33m\u001b[0m\u001b[1;32mDEBUG:\u001b[0m\u001b[1;33m at \u001b[0m\u001b[1;32m/home/TableSense/largedisk/wanrong/Curation-Modeling/utils.py:110 load_model\u001b[0m\u001b[1;33m\u001b[0m\n",
      "\u001b[1;33m\u001b[0m\u001b[1;36mLoading best model...\u001b[0m\u001b[1;33m\u001b[0m\n",
      "\u001b[1;33m------------------\u001b[0m\u001b[1;31m 2022-08-01 09:00:06 \u001b[0m\u001b[1;33m------------------\u001b[0m\n"
     ]
    }
   ],
   "source": [
    "config = get_config(CONFIG_PATH, \"_curation\", print_config = False)\n",
    "target, original_feature_map, categorical_features, string_features, train_data, test_data, test_data_info, num_all_users = get_model_input(config)\n",
    "extra_input = (categorical_features, string_features, target)\n",
    "model, token_embedding = get_best_model(config, categorical_features, string_features, original_feature_map)\n",
    "active_user_votes_thres = config[\"active_user_votes_thres\"]"
   ]
  },
  {
   "cell_type": "markdown",
   "metadata": {},
   "source": [
    "Collect submissions and active users in different subreddits"
   ]
  },
  {
   "cell_type": "code",
   "execution_count": 12,
   "metadata": {},
   "outputs": [],
   "source": [
    "def get_subreddits_submissions(train_data:pd.DataFrame, test_data:pd.DataFrame, user_votes_thres = 0):\n",
    "    subreddit_votes_counter = Counter()\n",
    "    subreddit_active_users = defaultdict(Counter)\n",
    "    subreddit_train_submissions = defaultdict(dict)\n",
    "    subreddit_test_submissions = defaultdict(dict)\n",
    "    all_submissions = dict()\n",
    "    for i, row in train_data.iterrows():\n",
    "        subreddit_votes_counter[row[\"SUBREDDIT\"]] += 1\n",
    "        subreddit_active_users[row[\"SUBREDDIT\"]][row[\"USERNAME\"]] += 1\n",
    "        if row[\"SUBMISSION_ID\"] not in subreddit_train_submissions[row[\"SUBREDDIT\"]]:\n",
    "            subreddit_train_submissions[row[\"SUBREDDIT\"]][row[\"SUBMISSION_ID\"]] = row\n",
    "            all_submissions[row[\"SUBMISSION_ID\"]] = row\n",
    "    for subreddit in subreddit_active_users:\n",
    "        users_vote_count = subreddit_active_users[subreddit]\n",
    "        subreddit_active_users[subreddit] = {user for user in users_vote_count if users_vote_count[user] >= user_votes_thres}\n",
    "    for i, row in test_data.iterrows():\n",
    "        if row[\"SUBMISSION_ID\"] not in subreddit_test_submissions[row[\"SUBREDDIT\"]]:\n",
    "            subreddit_test_submissions[row[\"SUBREDDIT\"]][row[\"SUBMISSION_ID\"]] = row\n",
    "            all_submissions[row[\"SUBMISSION_ID\"]] = row\n",
    "    return subreddit_votes_counter, subreddit_active_users, subreddit_train_submissions, subreddit_test_submissions, all_submissions\n",
    "subreddit_votes_counter, subreddit_active_users, subreddit_train_submissions, subreddit_test_submissions, all_submissions = get_subreddits_submissions(train_data, test_data, user_votes_thres = active_user_votes_thres) # subreddit_votes_counter, subreddit_users, subreddit_train_submissions are based on train_data, subreddit_test_submissions are based on test_data"
   ]
  },
  {
   "cell_type": "markdown",
   "metadata": {},
   "source": [
    "Record down existing votes\n",
    "\n",
    "So that we can use them to substitute the predicted votes"
   ]
  },
  {
   "cell_type": "code",
   "execution_count": 13,
   "metadata": {},
   "outputs": [],
   "source": [
    "def record_existing_votes(train_data:pd.DataFrame):\n",
    "    # collect existing votes\n",
    "    existing_votes = {}\n",
    "    existing_user_updown_votes = defaultdict(Counter)\n",
    "    existing_user_votes = Counter()\n",
    "    existing_submission_votes = defaultdict(Counter)\n",
    "    for row_i, row in train_data.iterrows():\n",
    "        existing_votes[f'{row[\"USERNAME\"]}-{row[\"SUBMISSION_ID\"]}'] = row[\"VOTE\"]\n",
    "        existing_user_updown_votes[row[\"USERNAME\"]][row[\"VOTE\"]] += 1\n",
    "        existing_user_votes[row[\"USERNAME\"]] += 1\n",
    "        existing_submission_votes[row[\"SUBMISSION_ID\"]][row[\"VOTE\"]] += 1\n",
    "    return existing_votes, existing_user_votes, existing_user_updown_votes, existing_submission_votes\n",
    "existing_votes, existing_user_votes, existing_user_updown_votes, existing_submission_votes = record_existing_votes(train_data)\n"
   ]
  },
  {
   "cell_type": "markdown",
   "metadata": {},
   "source": [
    "#### Predict votes for all the users on all submissions\n",
    "\n",
    "_!!! This process can be time consuming & need more than 200G memory for medium sized dataset, and is not necessary if we use user_embedding to cluster active users_"
   ]
  },
  {
   "cell_type": "markdown",
   "metadata": {},
   "source": [
    "First convert data to model input"
   ]
  },
  {
   "cell_type": "code",
   "execution_count": 14,
   "metadata": {},
   "outputs": [
    {
     "name": "stderr",
     "output_type": "stream",
     "text": [
      "100%|██████████| 21364/21364 [00:10<00:00, 2125.41it/s]\n"
     ]
    }
   ],
   "source": [
    "from typing import Union\n",
    "\n",
    "from tqdm import tqdm\n",
    "from train import evaluate_model\n",
    "from model import get_tokenizer\n",
    "\n",
    "def convert_group_users_subreddit_submissions_data(group_users:Union[set,list], unique_submissions:dict):\n",
    "    group_users_submissions_data = []\n",
    "    if type(unique_submissions) == dict:\n",
    "        unique_submissions = pd.DataFrame(list(unique_submissions.values()))\n",
    "\n",
    "    for user in tqdm(group_users):\n",
    "        # for submission_id in unique_submissions:\n",
    "        #     submission:pd.DataFrame = unique_submissions[submission_id].copy(deep=True)\n",
    "        #     submission[\"USERNAME\"] = user\n",
    "        #     group_users_submissions_data.append(submission)\n",
    "        submissions = unique_submissions.copy(deep=True)\n",
    "        submissions[\"USERNAME\"] = [user] * len(submissions)\n",
    "        group_users_submissions_data.append(submissions)\n",
    "\n",
    "    group_users_submissions_data = pd.concat(group_users_submissions_data,axis=0)\n",
    "    return group_users_submissions_data\n",
    "max_username = max(max(train_data[\"USERNAME\"]), max(test_data[\"USERNAME\"]))\n",
    "all_users = list(range(max_username + 1))\n",
    "all_users_submissions_data = convert_group_users_subreddit_submissions_data(all_users, all_submissions)\n"
   ]
  },
  {
   "cell_type": "markdown",
   "metadata": {},
   "source": [
    "Run model to make predictions."
   ]
  },
  {
   "cell_type": "code",
   "execution_count": 18,
   "metadata": {},
   "outputs": [
    {
     "name": "stderr",
     "output_type": "stream",
     "text": [
      "100%|██████████| 14542/14542 [12:02<00:00, 20.13it/s]\n"
     ]
    },
    {
     "name": "stdout",
     "output_type": "stream",
     "text": [
      "\u001b[1;33m------------------\u001b[0m\u001b[1;31m 2022-08-01 09:12:50 \u001b[0m\u001b[1;33m------------------\u001b[0m\n",
      "\u001b[1;33m\u001b[0m\u001b[1;32mDEBUG:\u001b[0m\u001b[1;33m 1 vars: ['predicted_all_users_submissions_votes'], at \u001b[0m\u001b[1;32m<ipython-input-18-84ea59833998>:7 <module>\u001b[0m\u001b[1;33m\u001b[0m\n",
      "\u001b[1;33m0 / 9.\u001b[0m \u001b[1;33m \u001b[0m\u001b[1;36mpredicted_all_users_submissions_votes\u001b[0m\u001b[1;33m ndarray size: (14890708, 1) val: [[0.83064836]\n",
      " [0.99098259]\n",
      " [0.97458208]\n",
      " ...\n",
      " [0.07421567]\n",
      " [0.06805612]\n",
      " [0.0690349 ]]\u001b[0m\n",
      "\u001b[1;33m------------------\u001b[0m\u001b[1;31m 2022-08-01 09:12:50 \u001b[0m\u001b[1;33m------------------\u001b[0m\n"
     ]
    }
   ],
   "source": [
    "model.to(model.device)\n",
    "def predict_group_users_submissions_votes(model, group_users_submissions_data):\n",
    "    # predict unseen votes\n",
    "    return evaluate_model(config, model, data=group_users_submissions_data, weights = None, batch_size=config[\"batch_size\"], sample_voted_users=False, extra_input = extra_input, return_prediction = True) # ndarray size: (3423664, 1)\n",
    "\n",
    "predicted_all_users_submissions_votes = predict_group_users_submissions_votes(model, all_users_submissions_data)\n",
    "debug(predicted_all_users_submissions_votes=predicted_all_users_submissions_votes)\n"
   ]
  },
  {
   "cell_type": "code",
   "execution_count": null,
   "metadata": {},
   "outputs": [],
   "source": [
    "import pickle\n",
    "pickle.dump(predicted_all_users_submissions_votes, open(\"output/predicted_all_users_submissions_votes.pt\", \"wb\"))\n",
    "# predicted_all_users_submissions_votes = pickle.load(open(\"output/predicted_all_users_submissions_votes.pt\", \"rb\"))\n"
   ]
  },
  {
   "cell_type": "code",
   "execution_count": 20,
   "metadata": {},
   "outputs": [],
   "source": [
    "# model.device = \"cuda:0\"\n",
    "def get_group_users_preferred_submissions(model, predicted_group_users_submissions_votes:np.ndarray, group_users, group_users_submissions_data:pd.DataFrame, train_data:pd.DataFrame, existing_votes, thres = 0.9, existing_pred_submission_user_vote_score_matrix = None):\n",
    "    debug(max_sub_id = max(group_users_submissions_data[\"SUBMISSION_ID\"]), max_username = max(group_users))\n",
    "    if existing_pred_submission_user_vote_score_matrix is not None:\n",
    "        pred_submission_user_vote_score_matrix = existing_pred_submission_user_vote_score_matrix\n",
    "    else:\n",
    "        pred_submission_user_vote_score_matrix = - np.ones([max(group_users) + 1, max(group_users_submissions_data[\"SUBMISSION_ID\"]) + 1], dtype = float)\n",
    "    pred_submission_user_vote_matrix = - np.ones([max(group_users) + 1, max(group_users_submissions_data[\"SUBMISSION_ID\"]) + 1], dtype = int) # use ground truth vote if available, -1 for not in data\n",
    "    each_submission_votes = {}\n",
    "    each_user_confidence = defaultdict(list)\n",
    "    submission_ids = group_users_submissions_data[\"SUBMISSION_ID\"].to_numpy()\n",
    "    usernames = group_users_submissions_data[\"USERNAME\"].to_numpy()\n",
    "    for row_i in tqdm(range(len(group_users_submissions_data))):\n",
    "        submission_id = submission_ids[row_i]\n",
    "        username = usernames[row_i]\n",
    "        if existing_pred_submission_user_vote_score_matrix is not None:\n",
    "            vote_score = existing_pred_submission_user_vote_score_matrix[username, submission_id]\n",
    "        else:\n",
    "            vote_score = predicted_group_users_submissions_votes[row_i, 0]\n",
    "            pred_submission_user_vote_score_matrix[username, submission_id] = vote_score\n",
    "        if submission_id not in each_submission_votes:\n",
    "            each_submission_votes[submission_id] = [0, 0]\n",
    "        each_user_confidence[username].append(abs(vote_score - 0.5))\n",
    "        if f'{username}-{submission_id}' not in existing_votes:\n",
    "            vote = int(vote_score >= 0.5)\n",
    "        else: # use existing votes if available\n",
    "            vote = existing_votes[f'{username}-{submission_id}']\n",
    "        pred_submission_user_vote_matrix[username, submission_id] = vote\n",
    "        each_submission_votes[submission_id][vote] += 1\n",
    "\n",
    "    # analyze user confidence\n",
    "    for username in each_user_confidence:\n",
    "        each_user_confidence[username] = float(np.mean(each_user_confidence[username]))\n",
    "\n",
    "    # include submissions to preferred_submissions where %upvotes is higher than threshold\n",
    "    group_preferred_submissions = set()\n",
    "    for submission_id in each_submission_votes:\n",
    "        each_submission_votes[submission_id].append(each_submission_votes[submission_id][1] / (each_submission_votes[submission_id][0] + each_submission_votes[submission_id][1])) # %upvotes\n",
    "        if each_submission_votes[submission_id][-1] >= thres:\n",
    "            group_preferred_submissions.add(submission_id)\n",
    "\n",
    "    # sort submissions using %upvotes\n",
    "    group_submissions_ranking = list(each_submission_votes.keys())\n",
    "    group_submissions_ranking.sort(reverse=True, key=lambda id: each_submission_votes[id][-1])\n",
    "    return group_preferred_submissions, group_submissions_ranking, each_submission_votes, each_user_confidence, pred_submission_user_vote_score_matrix, pred_submission_user_vote_matrix"
   ]
  },
  {
   "cell_type": "markdown",
   "metadata": {},
   "source": [
    "Get prediction score matrix and vote matrix.\n",
    "\n",
    "We use actual votes to replace predicted votes when available"
   ]
  },
  {
   "cell_type": "code",
   "execution_count": 21,
   "metadata": {},
   "outputs": [
    {
     "name": "stdout",
     "output_type": "stream",
     "text": [
      "\u001b[1;33m------------------\u001b[0m\u001b[1;31m 2022-08-01 09:14:41 \u001b[0m\u001b[1;33m------------------\u001b[0m\n",
      "\u001b[1;33m\u001b[0m\u001b[1;32mDEBUG:\u001b[0m\u001b[1;33m 2 vars: ['max_sub_id', 'max_username'], at \u001b[0m\u001b[1;32m<ipython-input-20-26dbd8be3ee9>:3 get_group_users_preferred_submissions\u001b[0m\u001b[1;33m\u001b[0m\n",
      "\u001b[1;33m0 / 10.\u001b[0m \u001b[1;33m \u001b[0m\u001b[1;36mmax_sub_id\u001b[0m\u001b[1;33m num val: 696\u001b[0m\n",
      "\u001b[1;33m1 / 11.\u001b[0m \u001b[1;33m \u001b[0m\u001b[1;36mmax_username\u001b[0m\u001b[1;33m num val: 21363\u001b[0m\n",
      "\u001b[1;33m------------------\u001b[0m\u001b[1;31m 2022-08-01 09:14:41 \u001b[0m\u001b[1;33m------------------\u001b[0m\n"
     ]
    },
    {
     "name": "stderr",
     "output_type": "stream",
     "text": [
      "100%|██████████| 14890708/14890708 [00:44<00:00, 333971.68it/s]\n"
     ]
    }
   ],
   "source": [
    "all_users_preferred_submissions, all_preferred_submissions_ranking, all_submission_votes, all_users_confidence, pred_all_submission_user_vote_score_matrix, pred_all_submission_user_vote_matrix = get_group_users_preferred_submissions(model, predicted_all_users_submissions_votes, all_users, all_users_submissions_data, train_data, existing_votes, thres = config[\"upvote_downvote_ratio_thres\"])\n"
   ]
  },
  {
   "cell_type": "markdown",
   "metadata": {},
   "source": [
    "Calculate Pearson correlation between users"
   ]
  },
  {
   "cell_type": "code",
   "execution_count": 22,
   "metadata": {},
   "outputs": [
    {
     "name": "stdout",
     "output_type": "stream",
     "text": [
      "\u001b[1;33m------------------\u001b[0m\u001b[1;31m 2022-08-01 09:15:33 \u001b[0m\u001b[1;33m------------------\u001b[0m\n",
      "\u001b[1;33m\u001b[0m\u001b[1;32mDEBUG:\u001b[0m\u001b[1;33m 1 vars: ['?'], at \u001b[0m\u001b[1;32m<ipython-input-22-1981fee88399>:1 <module>\u001b[0m\u001b[1;33m\u001b[0m\n",
      "\u001b[1;33m0 / 12.\u001b[0m \u001b[1;33m \u001b[0m\u001b[1;36m?\u001b[0m\u001b[1;33m numpy.bool_ with val:  False\u001b[0m\n",
      "\u001b[1;33m------------------\u001b[0m\u001b[1;31m 2022-08-01 09:15:33 \u001b[0m\u001b[1;33m------------------\u001b[0m\n",
      "\u001b[1;33m------------------\u001b[0m\u001b[1;31m 2022-08-01 09:15:33 \u001b[0m\u001b[1;33m------------------\u001b[0m\n",
      "\u001b[1;33m\u001b[0m\u001b[1;32mDEBUG:\u001b[0m\u001b[1;33m 2 vars: ['pred_all_submission_user_vote_score_matrix', 'pred_all_submission_user_vote_matrix'], at \u001b[0m\u001b[1;32m<ipython-input-22-1981fee88399>:2 <module>\u001b[0m\u001b[1;33m\u001b[0m\n",
      "\u001b[1;33m0 / 13.\u001b[0m \u001b[1;33m \u001b[0m\u001b[1;36mpred_all_submission_user_vote_score_matrix\u001b[0m\u001b[1;33m ndarray size: (21364, 697) val: [[0.45956928 0.98877317 0.93096149 ... 0.98191148 0.98756951 0.99354517]\n",
      " [0.00211777 0.09170436 0.01183194 ... 0.05042478 0.0737794  0.20661458]\n",
      " [0.12724268 0.97054088 0.74610621 ... 0.94489491 0.9657774  0.98576283]\n",
      " ...\n",
      " [0.02396497 0.78031093 0.23468372 ... 0.65130347 0.74127489 0.89445138]\n",
      " [0.11599034 0.97097009 0.74321872 ... 0.94290709 0.96481174 0.98612088]\n",
      " [0.00407325 0.17725961 0.0248001  ... 0.10472968 0.14752102 0.34384057]]\u001b[0m\n",
      "\u001b[1;33m1 / 14.\u001b[0m \u001b[1;33m \u001b[0m\u001b[1;36mpred_all_submission_user_vote_matrix\u001b[0m\u001b[1;33m ndarray size: (21364, 697) val: [[0 1 1 ... 1 1 1]\n",
      " [0 0 0 ... 0 0 0]\n",
      " [0 1 1 ... 1 1 1]\n",
      " ...\n",
      " [0 1 0 ... 1 1 1]\n",
      " [0 1 1 ... 1 1 1]\n",
      " [0 0 0 ... 0 0 0]]\u001b[0m\n",
      "\u001b[1;33m------------------\u001b[0m\u001b[1;31m 2022-08-01 09:15:35 \u001b[0m\u001b[1;33m------------------\u001b[0m\n",
      "\u001b[1;33m------------------\u001b[0m\u001b[1;31m 2022-08-01 09:15:40 \u001b[0m\u001b[1;33m------------------\u001b[0m\n",
      "\u001b[1;33m\u001b[0m\u001b[1;32mDEBUG:\u001b[0m\u001b[1;33m 1 vars: ['vote_score_pearson_corr'], at \u001b[0m\u001b[1;32m<ipython-input-22-1981fee88399>:4 <module>\u001b[0m\u001b[1;33m\u001b[0m\n",
      "\u001b[1;33m0 / 15.\u001b[0m \u001b[1;33m \u001b[0m\u001b[1;36mvote_score_pearson_corr\u001b[0m\u001b[1;33m ndarray size: (21364, 21364) val: [[1.         0.27646046 0.94022009 ... 0.56013814 0.9372232  0.3163098 ]\n",
      " [0.27646046 1.         0.41652288 ... 0.77922481 0.41542036 0.99009733]\n",
      " [0.94022009 0.41652288 1.         ... 0.75361458 0.99984381 0.4722299 ]\n",
      " ...\n",
      " [0.56013814 0.77922481 0.75361458 ... 1.         0.7542286  0.84744853]\n",
      " [0.9372232  0.41542036 0.99984381 ... 0.7542286  1.         0.47130032]\n",
      " [0.3163098  0.99009733 0.4722299  ... 0.84744853 0.47130032 1.        ]]\u001b[0m\n",
      "\u001b[1;33m------------------\u001b[0m\u001b[1;31m 2022-08-01 09:16:08 \u001b[0m\u001b[1;33m------------------\u001b[0m\n"
     ]
    }
   ],
   "source": [
    "debug((pred_all_submission_user_vote_matrix==-1).any())\n",
    "debug(pred_all_submission_user_vote_score_matrix=pred_all_submission_user_vote_score_matrix, pred_all_submission_user_vote_matrix=pred_all_submission_user_vote_matrix)\n",
    "vote_score_pearson_corr = np.corrcoef(pred_all_submission_user_vote_score_matrix) # (697, 697)\n",
    "debug(vote_score_pearson_corr=vote_score_pearson_corr)"
   ]
  },
  {
   "cell_type": "markdown",
   "metadata": {},
   "source": [
    "#### Perform curation on a subreddit"
   ]
  },
  {
   "cell_type": "markdown",
   "metadata": {},
   "source": [
    "Select a subreddit from the most popular subreddits"
   ]
  },
  {
   "cell_type": "code",
   "execution_count": 23,
   "metadata": {},
   "outputs": [
    {
     "name": "stdout",
     "output_type": "stream",
     "text": [
      "Subreddit 67: r/pics, 30485 votes\n",
      "Subreddit 84: r/worldnews, 28910 votes\n",
      "Subreddit 69: r/politics, 27319 votes\n",
      "Subreddit 60: r/news, 10627 votes\n",
      "Subreddit 50: r/funny, 9629 votes\n",
      "Subreddit 79: r/todayilearned, 7099 votes\n",
      "Subreddit 52: r/gifs, 5375 votes\n",
      "Subreddit 82: r/videos, 4631 votes\n",
      "Subreddit 1: r/AskReddit, 4050 votes\n",
      "Subreddit 43: r/aww, 3406 votes\n",
      "Subreddit 51: r/gaming, 3246 votes\n",
      "Subreddit 58: r/movies, 2832 votes\n",
      "Subreddit 33: r/Showerthoughts, 2622 votes\n",
      "Subreddit 30: r/PublicFreakout, 2122 votes\n",
      "Subreddit 15: r/HongKong, 1783 votes\n",
      "Subreddit 74: r/technology, 1611 votes\n",
      "Subreddit 31: r/SandersForPresident, 1553 votes\n",
      "Subreddit 40: r/WhitePeopleTwitter, 1463 votes\n",
      "Subreddit 19: r/IsTodayFridayThe13th, 1329 votes\n",
      "Subreddit 11: r/Futurology, 1291 votes\n",
      "\u001b[1;33m------------------\u001b[0m\u001b[1;31m 2022-08-01 09:16:25 \u001b[0m\u001b[1;33m------------------\u001b[0m\n",
      "\u001b[1;33m\u001b[0m\u001b[1;32mDEBUG:\u001b[0m\u001b[1;33m at \u001b[0m\u001b[1;32m/home/TableSense/largedisk/wanrong/Curation-Modeling/utils.py:123 print_log\u001b[0m\u001b[1;33m\u001b[0m\n",
      "\u001b[1;33m\u001b[0m\u001b[1;36mSelected subreddit: 69 (r/politics)\u001b[0m\u001b[1;33m\u001b[0m\n",
      "\u001b[1;33m------------------\u001b[0m\u001b[1;31m 2022-08-01 09:16:25 \u001b[0m\u001b[1;33m------------------\u001b[0m\n",
      "\u001b[1;33m------------------\u001b[0m\u001b[1;31m 2022-08-01 09:16:25 \u001b[0m\u001b[1;33m------------------\u001b[0m\n",
      "\u001b[1;33m\u001b[0m\u001b[1;32mDEBUG:\u001b[0m\u001b[1;33m at \u001b[0m\u001b[1;32m/home/TableSense/largedisk/wanrong/Curation-Modeling/utils.py:123 print_log\u001b[0m\u001b[1;33m\u001b[0m\n",
      "\u001b[1;33m\u001b[0m\u001b[1;36mIn train data, subreddit 69 have 1738 active users (who votes >= 5 times), 27319 votes and 89 unique submissions. In test data, subreddit 69 have 21 unique submissions.\u001b[0m\u001b[1;33m\u001b[0m\n",
      "\u001b[1;33m------------------\u001b[0m\u001b[1;31m 2022-08-01 09:16:25 \u001b[0m\u001b[1;33m------------------\u001b[0m\n"
     ]
    }
   ],
   "source": [
    "common_subreddits_counts = subreddit_votes_counter.most_common(20)\n",
    "for subreddit_id, vote_counts in common_subreddits_counts:\n",
    "    print(f\"Subreddit {subreddit_id}: {original_feature_map['SUBREDDIT'][subreddit_id]}, {vote_counts} votes\")\n",
    "a_subreddit = int(input(\"Select a subreddit: \")) # common_subreddits_counts[0][0]\n",
    "print_log(config[\"log_path\"], f\"Selected subreddit: {a_subreddit} ({original_feature_map['SUBREDDIT'][a_subreddit]})\")\n",
    "a_subreddit_active_users:set = subreddit_active_users[a_subreddit]\n",
    "print_log(config[\"log_path\"], f\"In train data, subreddit {a_subreddit} have {len(a_subreddit_active_users)} active users (who votes >= {active_user_votes_thres} times), {subreddit_votes_counter[a_subreddit]} votes and {len(subreddit_train_submissions[a_subreddit])} unique submissions. In test data, subreddit {a_subreddit} have {len(subreddit_test_submissions[a_subreddit])} unique submissions.\") "
   ]
  },
  {
   "cell_type": "code",
   "execution_count": 24,
   "metadata": {},
   "outputs": [
    {
     "name": "stdout",
     "output_type": "stream",
     "text": [
      "\u001b[1;33m------------------\u001b[0m\u001b[1;31m 2022-08-01 09:16:30 \u001b[0m\u001b[1;33m------------------\u001b[0m\n",
      "\u001b[1;33m\u001b[0m\u001b[1;32mDEBUG:\u001b[0m\u001b[1;33m 1 vars: ['user_grouping_method'], at \u001b[0m\u001b[1;32m<ipython-input-24-27c6d0d6f711>:5 <module>\u001b[0m\u001b[1;33m\u001b[0m\n",
      "\u001b[1;33m0 / 16.\u001b[0m \u001b[1;33m \u001b[0m\u001b[1;36muser_grouping_method\u001b[0m\u001b[1;33m str len 6: neural\u001b[0m\n",
      "\u001b[1;33m------------------\u001b[0m\u001b[1;31m 2022-08-01 09:16:30 \u001b[0m\u001b[1;33m------------------\u001b[0m\n"
     ]
    }
   ],
   "source": [
    "user_grouping_method = config[\"user_grouping_method\"]\n",
    "# user_grouping_method = \"neural\"\n",
    "manual_user_groups = config[\"manual_user_groups\"]\n",
    "# manual_user_groups = {\"Conservative\": {66, 39, 10, 44, 16, 60}, \"Democratic\":{0, 65, 64, 37, 49, 52, 20, 22, 23, 26, 29}}\n",
    "debug(user_grouping_method=user_grouping_method)\n"
   ]
  },
  {
   "cell_type": "code",
   "execution_count": 25,
   "metadata": {},
   "outputs": [],
   "source": [
    "def get_bool_vec(selected_ids, vec_size):\n",
    "    bool_vec = torch.zeros([vec_size], dtype = bool)\n",
    "    for user in selected_ids:\n",
    "        bool_vec[user] = True\n",
    "    return bool_vec\n",
    "\n",
    "def get_user_reps(selected_users, all_user_embedding, train_data:pd.DataFrame = None, selected_submissions = None, method = \"neural\"):\n",
    "    assert all_user_embedding is not None\n",
    "    selected_users_bool_vec = get_bool_vec(selected_users, all_user_embedding.shape[0])\n",
    "    # user_user_i_map = {}\n",
    "    selected_user_i_user_map = {}\n",
    "    user_i = 0\n",
    "    for user, in_subreddit in enumerate(selected_users_bool_vec):\n",
    "        if in_subreddit:\n",
    "            # user_user_i_map[user] = user_i\n",
    "            selected_user_i_user_map[user_i] = user\n",
    "            user_i += 1\n",
    "    # assert len(user_user_i_map) == len(user_i_user_map)\n",
    "    selected_users_reps = None\n",
    "    if method == \"neural\":\n",
    "        selected_users_reps = all_user_embedding[selected_users_bool_vec, :]\n",
    "    elif method == \"votes\":\n",
    "        assert train_data is not None and selected_submissions is not None\n",
    "        sub_sub_i_map = {sub: sub_i for sub_i, sub in enumerate(list(selected_submissions.keys()))}\n",
    "        users_reps = torch.zeros([all_user_embedding.shape[0], len(selected_submissions)])\n",
    "        for row_i, row in train_data.iterrows():\n",
    "            if row[\"USERNAME\"] in selected_users and row[\"SUBMISSION_ID\"] in selected_submissions:\n",
    "                vote = 1 if row[\"VOTE\"] == 1 else -1\n",
    "                users_reps[row[\"USERNAME\"], sub_sub_i_map[row[\"SUBMISSION_ID\"]]] = vote\n",
    "        selected_users_reps = users_reps[selected_users_bool_vec, :]\n",
    "        users_vote_sum = (selected_users_reps * selected_users_reps).sum(axis = -1, keepdim= True)\n",
    "        assert (users_vote_sum != 0).all()\n",
    "        selected_users_reps = selected_users_reps / users_vote_sum # average votes on each submission\n",
    "        debug(selected_users_reps = selected_users_reps)\n",
    "\n",
    "    return selected_users_reps, selected_user_i_user_map\n"
   ]
  },
  {
   "cell_type": "markdown",
   "metadata": {},
   "source": [
    "##### Obtain representations for active users\n",
    "\n",
    "User representation will be used to cluster users into groups if `user_grouping_method` is \"`neural`\" or \"`vote`\""
   ]
  },
  {
   "cell_type": "markdown",
   "metadata": {},
   "source": [
    "Either use this one... (clustering using vote prediction score on submissions in this subreddit, make sure `pred_all_submission_user_vote_score_matrix` is available)"
   ]
  },
  {
   "cell_type": "code",
   "execution_count": 26,
   "metadata": {},
   "outputs": [],
   "source": [
    "subreddit_submissions_bool_vec = get_bool_vec(subreddit_test_submissions[a_subreddit].keys(), pred_all_submission_user_vote_score_matrix.shape[1])\n",
    "a_subreddit_active_users_reps, a_subreddit_active_user_i_user_map = get_user_reps(a_subreddit_active_users, all_user_embedding=pred_all_submission_user_vote_score_matrix[:, subreddit_submissions_bool_vec], train_data=train_data, selected_submissions = subreddit_train_submissions[a_subreddit], method = user_grouping_method)"
   ]
  },
  {
   "cell_type": "markdown",
   "metadata": {},
   "source": [
    "Or this one... (cluster using user_embedding or sparse actual votes)"
   ]
  },
  {
   "cell_type": "code",
   "execution_count": null,
   "metadata": {},
   "outputs": [],
   "source": [
    "a_subreddit_active_users_reps, a_subreddit_active_user_i_user_map = get_user_reps(a_subreddit_active_users, all_user_embedding=user_embedding, train_data=train_data, selected_submissions = subreddit_train_submissions[a_subreddit], method = user_grouping_method)"
   ]
  },
  {
   "cell_type": "markdown",
   "metadata": {},
   "source": [
    "##### Cluster active users into multiple groups"
   ]
  },
  {
   "cell_type": "code",
   "execution_count": 31,
   "metadata": {},
   "outputs": [
    {
     "name": "stdout",
     "output_type": "stream",
     "text": [
      "\u001b[1;33m------------------\u001b[0m\u001b[1;31m 2022-08-01 09:22:56 \u001b[0m\u001b[1;33m------------------\u001b[0m\n",
      "\u001b[1;33m\u001b[0m\u001b[1;32mDEBUG:\u001b[0m\u001b[1;33m 2 vars: ['pred_all_submission_user_vote_score_matrix', 'a_subreddit_active_users_reps'], at \u001b[0m\u001b[1;32m<ipython-input-31-b3e2b741f9f1>:1 <module>\u001b[0m\u001b[1;33m\u001b[0m\n",
      "\u001b[1;33m0 / 369.\u001b[0m \u001b[1;33m \u001b[0m\u001b[1;36mpred_all_submission_user_vote_score_matrix\u001b[0m\u001b[1;33m ndarray size: (21364, 697) val: [[0.45956928 0.98877317 0.93096149 ... 0.98191148 0.98756951 0.99354517]\n",
      " [0.00211777 0.09170436 0.01183194 ... 0.05042478 0.0737794  0.20661458]\n",
      " [0.12724268 0.97054088 0.74610621 ... 0.94489491 0.9657774  0.98576283]\n",
      " ...\n",
      " [0.02396497 0.78031093 0.23468372 ... 0.65130347 0.74127489 0.89445138]\n",
      " [0.11599034 0.97097009 0.74321872 ... 0.94290709 0.96481174 0.98612088]\n",
      " [0.00407325 0.17725961 0.0248001  ... 0.10472968 0.14752102 0.34384057]]\u001b[0m\n",
      "\u001b[1;33m1 / 370.\u001b[0m \u001b[1;33m \u001b[0m\u001b[1;36ma_subreddit_active_users_reps\u001b[0m\u001b[1;33m ndarray size: (1738, 21) val: [[0.97839922 0.97836626 0.9897967  ... 0.98645765 0.98135775 0.98929334]\n",
      " [0.97939909 0.97967231 0.9896372  ... 0.98656797 0.98224497 0.9891907 ]\n",
      " [0.54157966 0.54885256 0.76790005 ... 0.69696939 0.5857529  0.75072211]\n",
      " ...\n",
      " [0.03365448 0.0353382  0.06919997 ... 0.05903991 0.03842792 0.0657248 ]\n",
      " [0.99013621 0.99014789 0.9946385  ... 0.99323553 0.99131244 0.9944666 ]\n",
      " [0.9600541  0.96134514 0.98045784 ... 0.97546357 0.96550792 0.97935188]]\u001b[0m\n",
      "\u001b[1;33m------------------\u001b[0m\u001b[1;31m 2022-08-01 09:22:57 \u001b[0m\u001b[1;33m------------------\u001b[0m\n",
      "\u001b[1;33m------------------\u001b[0m\u001b[1;31m 2022-08-01 09:22:57 \u001b[0m\u001b[1;33m------------------\u001b[0m\n",
      "\u001b[1;33m\u001b[0m\u001b[1;32mDEBUG:\u001b[0m\u001b[1;33m 2 vars: ['num_selected_users', 'n_groups'], at \u001b[0m\u001b[1;32m<ipython-input-31-b3e2b741f9f1>:16 get_user_groups\u001b[0m\u001b[1;33m\u001b[0m\n",
      "\u001b[1;33m0 / 371.\u001b[0m \u001b[1;33m \u001b[0m\u001b[1;36mnum_selected_users\u001b[0m\u001b[1;33m num val: 1738\u001b[0m\n",
      "\u001b[1;33m1 / 372.\u001b[0m \u001b[1;33m \u001b[0m\u001b[1;36mn_groups\u001b[0m\u001b[1;33m num val: 34\u001b[0m\n",
      "\u001b[1;33m------------------\u001b[0m\u001b[1;31m 2022-08-01 09:22:57 \u001b[0m\u001b[1;33m------------------\u001b[0m\n",
      "\u001b[1;33m------------------\u001b[0m\u001b[1;31m 2022-08-01 09:22:57 \u001b[0m\u001b[1;33m------------------\u001b[0m\n",
      "\u001b[1;33m\u001b[0m\u001b[1;32mDEBUG:\u001b[0m\u001b[1;33m at \u001b[0m\u001b[1;32m<ipython-input-31-b3e2b741f9f1>:17 get_user_groups\u001b[0m\u001b[1;33m\u001b[0m\n",
      "\u001b[1;33m\u001b[0m\u001b[1;36mBegin grouping...\u001b[0m\u001b[1;33m\u001b[0m\n",
      "\u001b[1;33m------------------\u001b[0m\u001b[1;31m 2022-08-01 09:22:57 \u001b[0m\u001b[1;33m------------------\u001b[0m\n",
      "\u001b[1;33m------------------\u001b[0m\u001b[1;31m 2022-08-01 09:22:58 \u001b[0m\u001b[1;33m------------------\u001b[0m\n",
      "\u001b[1;33m\u001b[0m\u001b[1;32mDEBUG:\u001b[0m\u001b[1;33m 1 vars: ['group_user_num'], at \u001b[0m\u001b[1;32m<ipython-input-31-b3e2b741f9f1>:40 get_user_groups\u001b[0m\u001b[1;33m\u001b[0m\n",
      "\u001b[1;33m0 / 373.\u001b[0m \u001b[1;33m \u001b[0m\u001b[1;36mgroup_user_num\u001b[0m\u001b[1;33m str len 268: {4: 237, 2: 19, 27: 200, 24: 26, 10: 161, 21: 127, 25: 26, 30: 16, 16: 21, 19: 14, 6: 15, 3: 65, 5: 33, 29: 166, 23: 14, 18: 45, 9: 17, 20: 22, 22: 108, 11: 48, 28: 47, 12: 18, 7: 33, 32: 22, 1: 76, 17: 16, 13: 24, 0: 18, 31: 17, 14: 14, 33: 24, 8: 19, 15: 14, 26: 16}\u001b[0m\n",
      "\u001b[1;33m------------------\u001b[0m\u001b[1;31m 2022-08-01 09:22:58 \u001b[0m\u001b[1;33m------------------\u001b[0m\n",
      "\u001b[1;33m------------------\u001b[0m\u001b[1;31m 2022-08-01 09:22:58 \u001b[0m\u001b[1;33m------------------\u001b[0m\n",
      "\u001b[1;33m\u001b[0m\u001b[1;32mDEBUG:\u001b[0m\u001b[1;33m 1 vars: ['usernames_in_groups'], at \u001b[0m\u001b[1;32m<ipython-input-31-b3e2b741f9f1>:41 get_user_groups\u001b[0m\u001b[1;33m\u001b[0m\n",
      "\u001b[1;33m0 / 374.\u001b[0m \u001b[1;33m \u001b[0m\u001b[1;36musernames_in_groups\u001b[0m\u001b[1;33m str len 26014: defaultdict(<class 'set'>, {4: {'mclanea', 'StendhalSyndrome', 'jtchicago', 'NoFascistsAllowed', 'supercoolgamedude', 'J0K3R2', 'IllegalThoughts', 'GuidetoRealGrilling', 'DoubleExposure', 'SuperCoolGuyMan', 'oarabbus', 'Chickenpark', 'Snaker12', 'superflippy', 'prykor', 'SMTCubes', 'tenoshikami', 'redditmat', 'Ghoulv2o', 'thismatters', 'bennychacha', 'PBR_hipster420', 'resimulated', 'spark0', 'SmokeCloud', 'helsreach', 'silas0069', 'thebildo9000', 'jftitan', 'skiskate', 'Kjata1013', 'djazzie', 'Avatar_of_Green', 'S ... , 'DustinForever'}})\u001b[0m\n",
      "\u001b[1;33m------------------\u001b[0m\u001b[1;31m 2022-08-01 09:22:58 \u001b[0m\u001b[1;33m------------------\u001b[0m\n"
     ]
    }
   ],
   "source": [
    "debug(pred_all_submission_user_vote_score_matrix=pred_all_submission_user_vote_score_matrix, a_subreddit_active_users_reps=a_subreddit_active_users_reps)\n",
    "\n",
    "def get_user_groups(selected_users_reps, selected_user_i_user_map:dict, user_grouping_method = \"neural\", existing_user_votes=None, manual_user_groups=None):\n",
    "    group_centers = None\n",
    "    if user_grouping_method == \"single_user_as_group\":\n",
    "        assert existing_user_votes is not None\n",
    "        users_in_groups = list(selected_user_i_user_map.values())\n",
    "        users_in_groups.sort(key=lambda x:existing_user_votes[x])\n",
    "        users_in_groups = users_in_groups[:10] + users_in_groups[-10:]\n",
    "        users_in_groups = {i: {user} for i,user in enumerate(users_in_groups)}\n",
    "        # users_in_groups = {i: {user} for i,user in selected_user_i_user_map.items()}\n",
    "    elif user_grouping_method == \"manual\":\n",
    "        users_in_groups = manual_user_groups\n",
    "    else:\n",
    "        n_groups = int(len(selected_user_i_user_map) / 50)\n",
    "        debug(num_selected_users = len(selected_user_i_user_map), n_groups=n_groups) # n_groups: 118\n",
    "        debug(\"Begin grouping...\")\n",
    "        from sklearn.cluster import KMeans\n",
    "        grouping = KMeans(n_clusters = n_groups, random_state = 42, verbose = 0).fit(selected_users_reps)\n",
    "        group_centers = grouping.cluster_centers_\n",
    "        \"\"\"\n",
    "        from sklearn.cluster import AgglomerativeClustering\n",
    "        grouping = AgglomerativeClustering(linkage = \"complete\").fit(selected_users_reps)\n",
    "        \"\"\"\n",
    "        \"\"\"\n",
    "        from sklearn.cluster import SpectralClustering\n",
    "        grouping = SpectralClustering(n_groups, random_state = 42, verbose = 0).fit(selected_users_reps)\n",
    "        \"\"\"\n",
    "        labels = grouping.labels_ # grouping.labels_: [584 350 948 ... 813 938 152]\n",
    "        \"\"\"\n",
    "        from sklearn.mixture import GaussianMixture\n",
    "        labels = GaussianMixture(n_groups, random_state = 42, verbose = 0).fit_predict(selected_users_reps)\n",
    "        \"\"\"\n",
    "        users_in_groups = defaultdict(set)\n",
    "        usernames_in_groups = defaultdict(set)\n",
    "        for user_i, group_x in enumerate(labels): \n",
    "            users_in_groups[group_x].add(selected_user_i_user_map[user_i])\n",
    "            usernames_in_groups[group_x].add(original_feature_map[\"USERNAME\"][selected_user_i_user_map[user_i]])\n",
    "        assert len(join_sets(users_in_groups.values())) == sum([len(users) for users in users_in_groups.values()])\n",
    "        debug(group_user_num=str({group_x: len(users_in_groups[group_x]) for group_x in users_in_groups}))\n",
    "        debug(usernames_in_groups=str(usernames_in_groups))\n",
    "    return users_in_groups, group_centers\n",
    "\n",
    "users_in_groups, group_centers = get_user_groups(a_subreddit_active_users_reps, a_subreddit_active_user_i_user_map, user_grouping_method=user_grouping_method, existing_user_votes=existing_user_votes, manual_user_groups=manual_user_groups)"
   ]
  },
  {
   "cell_type": "markdown",
   "metadata": {},
   "source": [
    "##### Predict preferred submissions of each group\n",
    "\n",
    "And show their relationship using venn"
   ]
  },
  {
   "cell_type": "code",
   "execution_count": 32,
   "metadata": {},
   "outputs": [
    {
     "name": "stderr",
     "output_type": "stream",
     "text": [
      "100%|██████████| 237/237 [00:00<00:00, 4693.10it/s]\n",
      "100%|██████████| 5/5 [00:00<00:00, 31.05it/s]\n"
     ]
    },
    {
     "name": "stdout",
     "output_type": "stream",
     "text": [
      "\u001b[1;33m------------------\u001b[0m\u001b[1;31m 2022-08-01 09:22:58 \u001b[0m\u001b[1;33m------------------\u001b[0m\n",
      "\u001b[1;33m\u001b[0m\u001b[1;32mDEBUG:\u001b[0m\u001b[1;33m 2 vars: ['max_sub_id', 'max_username'], at \u001b[0m\u001b[1;32m<ipython-input-20-26dbd8be3ee9>:3 get_group_users_preferred_submissions\u001b[0m\u001b[1;33m\u001b[0m\n",
      "\u001b[1;33m0 / 375.\u001b[0m \u001b[1;33m \u001b[0m\u001b[1;36mmax_sub_id\u001b[0m\u001b[1;33m num val: 676\u001b[0m\n",
      "\u001b[1;33m1 / 376.\u001b[0m \u001b[1;33m \u001b[0m\u001b[1;36mmax_username\u001b[0m\u001b[1;33m num val: 21128\u001b[0m\n",
      "\u001b[1;33m------------------\u001b[0m\u001b[1;31m 2022-08-01 09:22:58 \u001b[0m\u001b[1;33m------------------\u001b[0m\n"
     ]
    },
    {
     "name": "stderr",
     "output_type": "stream",
     "text": [
      "100%|██████████| 4977/4977 [00:00<00:00, 332744.37it/s]\n"
     ]
    },
    {
     "name": "stdout",
     "output_type": "stream",
     "text": [
      "\u001b[1;33m------------------\u001b[0m\u001b[1;31m 2022-08-01 09:22:58 \u001b[0m\u001b[1;33m------------------\u001b[0m\n",
      "\u001b[1;33m\u001b[0m\u001b[1;32mDEBUG:\u001b[0m\u001b[1;33m at \u001b[0m\u001b[1;32m/home/TableSense/largedisk/wanrong/Curation-Modeling/utils.py:123 print_log\u001b[0m\u001b[1;33m\u001b[0m\n",
      "\u001b[1;33m\u001b[0m\u001b[1;36mUsers in group 4 prefers 21/21 submissions (sorted using %upvotes): [394, 224, 566, 332, 459, 629, 269, 281, 273, 220, 470, 159, 296, 641, 676, 603, 348, 238, 410, 445, 114]\u001b[0m\u001b[1;33m\u001b[0m\n",
      "\u001b[1;33m------------------\u001b[0m\u001b[1;31m 2022-08-01 09:22:58 \u001b[0m\u001b[1;33m------------------\u001b[0m\n"
     ]
    },
    {
     "name": "stderr",
     "output_type": "stream",
     "text": [
      "100%|██████████| 19/19 [00:00<00:00, 3402.43it/s]\n",
      "100%|██████████| 1/1 [00:00<00:00, 65.73it/s]\n"
     ]
    },
    {
     "name": "stdout",
     "output_type": "stream",
     "text": [
      "\u001b[1;33m------------------\u001b[0m\u001b[1;31m 2022-08-01 09:22:59 \u001b[0m\u001b[1;33m------------------\u001b[0m\n",
      "\u001b[1;33m\u001b[0m\u001b[1;32mDEBUG:\u001b[0m\u001b[1;33m 2 vars: ['max_sub_id', 'max_username'], at \u001b[0m\u001b[1;32m<ipython-input-20-26dbd8be3ee9>:3 get_group_users_preferred_submissions\u001b[0m\u001b[1;33m\u001b[0m\n",
      "\u001b[1;33m0 / 377.\u001b[0m \u001b[1;33m \u001b[0m\u001b[1;36mmax_sub_id\u001b[0m\u001b[1;33m num val: 676\u001b[0m\n",
      "\u001b[1;33m1 / 378.\u001b[0m \u001b[1;33m \u001b[0m\u001b[1;36mmax_username\u001b[0m\u001b[1;33m num val: 19391\u001b[0m\n",
      "\u001b[1;33m------------------\u001b[0m\u001b[1;31m 2022-08-01 09:22:59 \u001b[0m\u001b[1;33m------------------\u001b[0m\n"
     ]
    },
    {
     "name": "stderr",
     "output_type": "stream",
     "text": [
      "100%|██████████| 399/399 [00:00<00:00, 316237.21it/s]\n"
     ]
    },
    {
     "name": "stdout",
     "output_type": "stream",
     "text": [
      "\u001b[1;33m------------------\u001b[0m\u001b[1;31m 2022-08-01 09:22:59 \u001b[0m\u001b[1;33m------------------\u001b[0m\n",
      "\u001b[1;33m\u001b[0m\u001b[1;32mDEBUG:\u001b[0m\u001b[1;33m at \u001b[0m\u001b[1;32m/home/TableSense/largedisk/wanrong/Curation-Modeling/utils.py:123 print_log\u001b[0m\u001b[1;33m\u001b[0m\n",
      "\u001b[1;33m\u001b[0m\u001b[1;36mUsers in group 2 prefers 20/21 submissions (sorted using %upvotes): [394, 224, 332, 459, 629, 269, 281, 273, 220, 470, 159, 296, 641, 676, 603, 348, 238, 410, 445, 114]\u001b[0m\u001b[1;33m\u001b[0m\n",
      "\u001b[1;33m------------------\u001b[0m\u001b[1;31m 2022-08-01 09:22:59 \u001b[0m\u001b[1;33m------------------\u001b[0m\n"
     ]
    },
    {
     "name": "stderr",
     "output_type": "stream",
     "text": [
      "100%|██████████| 200/200 [00:00<00:00, 3862.43it/s]\n",
      "100%|██████████| 5/5 [00:00<00:00, 34.16it/s]\n"
     ]
    },
    {
     "name": "stdout",
     "output_type": "stream",
     "text": [
      "\u001b[1;33m------------------\u001b[0m\u001b[1;31m 2022-08-01 09:22:59 \u001b[0m\u001b[1;33m------------------\u001b[0m\n",
      "\u001b[1;33m\u001b[0m\u001b[1;32mDEBUG:\u001b[0m\u001b[1;33m 2 vars: ['max_sub_id', 'max_username'], at \u001b[0m\u001b[1;32m<ipython-input-20-26dbd8be3ee9>:3 get_group_users_preferred_submissions\u001b[0m\u001b[1;33m\u001b[0m\n",
      "\u001b[1;33m0 / 379.\u001b[0m \u001b[1;33m \u001b[0m\u001b[1;36mmax_sub_id\u001b[0m\u001b[1;33m num val: 676\u001b[0m\n",
      "\u001b[1;33m1 / 380.\u001b[0m \u001b[1;33m \u001b[0m\u001b[1;36mmax_username\u001b[0m\u001b[1;33m num val: 21279\u001b[0m\n",
      "\u001b[1;33m------------------\u001b[0m\u001b[1;31m 2022-08-01 09:22:59 \u001b[0m\u001b[1;33m------------------\u001b[0m\n"
     ]
    },
    {
     "name": "stderr",
     "output_type": "stream",
     "text": [
      "100%|██████████| 4200/4200 [00:00<00:00, 333498.86it/s]\n"
     ]
    },
    {
     "name": "stdout",
     "output_type": "stream",
     "text": [
      "\u001b[1;33m------------------\u001b[0m\u001b[1;31m 2022-08-01 09:22:59 \u001b[0m\u001b[1;33m------------------\u001b[0m\n",
      "\u001b[1;33m\u001b[0m\u001b[1;32mDEBUG:\u001b[0m\u001b[1;33m at \u001b[0m\u001b[1;32m/home/TableSense/largedisk/wanrong/Curation-Modeling/utils.py:123 print_log\u001b[0m\u001b[1;33m\u001b[0m\n",
      "\u001b[1;33m\u001b[0m\u001b[1;36mUsers in group 27 prefers 21/21 submissions (sorted using %upvotes): [394, 224, 566, 332, 459, 629, 269, 281, 273, 220, 470, 159, 296, 641, 676, 603, 348, 238, 410, 445, 114]\u001b[0m\u001b[1;33m\u001b[0m\n",
      "\u001b[1;33m------------------\u001b[0m\u001b[1;31m 2022-08-01 09:22:59 \u001b[0m\u001b[1;33m------------------\u001b[0m\n"
     ]
    },
    {
     "name": "stderr",
     "output_type": "stream",
     "text": [
      "100%|██████████| 26/26 [00:00<00:00, 4126.38it/s]\n",
      "100%|██████████| 1/1 [00:00<00:00, 47.89it/s]\n"
     ]
    },
    {
     "name": "stdout",
     "output_type": "stream",
     "text": [
      "\u001b[1;33m------------------\u001b[0m\u001b[1;31m 2022-08-01 09:22:59 \u001b[0m\u001b[1;33m------------------\u001b[0m\n",
      "\u001b[1;33m\u001b[0m\u001b[1;32mDEBUG:\u001b[0m\u001b[1;33m 2 vars: ['max_sub_id', 'max_username'], at \u001b[0m\u001b[1;32m<ipython-input-20-26dbd8be3ee9>:3 get_group_users_preferred_submissions\u001b[0m\u001b[1;33m\u001b[0m\n",
      "\u001b[1;33m0 / 381.\u001b[0m \u001b[1;33m \u001b[0m\u001b[1;36mmax_sub_id\u001b[0m\u001b[1;33m num val: 676\u001b[0m\n",
      "\u001b[1;33m1 / 382.\u001b[0m \u001b[1;33m \u001b[0m\u001b[1;36mmax_username\u001b[0m\u001b[1;33m num val: 20579\u001b[0m\n",
      "\u001b[1;33m------------------\u001b[0m\u001b[1;31m 2022-08-01 09:22:59 \u001b[0m\u001b[1;33m------------------\u001b[0m\n"
     ]
    },
    {
     "name": "stderr",
     "output_type": "stream",
     "text": [
      "100%|██████████| 546/546 [00:00<00:00, 288134.12it/s]\n"
     ]
    },
    {
     "name": "stdout",
     "output_type": "stream",
     "text": [
      "\u001b[1;33m------------------\u001b[0m\u001b[1;31m 2022-08-01 09:22:59 \u001b[0m\u001b[1;33m------------------\u001b[0m\n",
      "\u001b[1;33m\u001b[0m\u001b[1;32mDEBUG:\u001b[0m\u001b[1;33m at \u001b[0m\u001b[1;32m/home/TableSense/largedisk/wanrong/Curation-Modeling/utils.py:123 print_log\u001b[0m\u001b[1;33m\u001b[0m\n",
      "\u001b[1;33m\u001b[0m\u001b[1;36mUsers in group 24 prefers 21/21 submissions (sorted using %upvotes): [394, 224, 566, 332, 459, 629, 269, 281, 273, 220, 470, 159, 296, 641, 676, 603, 348, 238, 410, 445, 114]\u001b[0m\u001b[1;33m\u001b[0m\n",
      "\u001b[1;33m------------------\u001b[0m\u001b[1;31m 2022-08-01 09:22:59 \u001b[0m\u001b[1;33m------------------\u001b[0m\n"
     ]
    },
    {
     "name": "stderr",
     "output_type": "stream",
     "text": [
      "100%|██████████| 161/161 [00:00<00:00, 4706.46it/s]\n",
      "100%|██████████| 4/4 [00:00<00:00, 33.16it/s]\n"
     ]
    },
    {
     "name": "stdout",
     "output_type": "stream",
     "text": [
      "\u001b[1;33m------------------\u001b[0m\u001b[1;31m 2022-08-01 09:23:00 \u001b[0m\u001b[1;33m------------------\u001b[0m\n",
      "\u001b[1;33m\u001b[0m\u001b[1;32mDEBUG:\u001b[0m\u001b[1;33m 2 vars: ['max_sub_id', 'max_username'], at \u001b[0m\u001b[1;32m<ipython-input-20-26dbd8be3ee9>:3 get_group_users_preferred_submissions\u001b[0m\u001b[1;33m\u001b[0m\n",
      "\u001b[1;33m0 / 383.\u001b[0m \u001b[1;33m \u001b[0m\u001b[1;36mmax_sub_id\u001b[0m\u001b[1;33m num val: 676\u001b[0m\n",
      "\u001b[1;33m1 / 384.\u001b[0m \u001b[1;33m \u001b[0m\u001b[1;36mmax_username\u001b[0m\u001b[1;33m num val: 21359\u001b[0m\n",
      "\u001b[1;33m------------------\u001b[0m\u001b[1;31m 2022-08-01 09:23:00 \u001b[0m\u001b[1;33m------------------\u001b[0m\n"
     ]
    },
    {
     "name": "stderr",
     "output_type": "stream",
     "text": [
      "100%|██████████| 3381/3381 [00:00<00:00, 340830.67it/s]\n"
     ]
    },
    {
     "name": "stdout",
     "output_type": "stream",
     "text": [
      "\u001b[1;33m------------------\u001b[0m\u001b[1;31m 2022-08-01 09:23:00 \u001b[0m\u001b[1;33m------------------\u001b[0m\n",
      "\u001b[1;33m\u001b[0m\u001b[1;32mDEBUG:\u001b[0m\u001b[1;33m at \u001b[0m\u001b[1;32m/home/TableSense/largedisk/wanrong/Curation-Modeling/utils.py:123 print_log\u001b[0m\u001b[1;33m\u001b[0m\n",
      "\u001b[1;33m\u001b[0m\u001b[1;36mUsers in group 10 prefers 21/21 submissions (sorted using %upvotes): [394, 224, 566, 332, 459, 629, 269, 281, 273, 220, 470, 159, 296, 641, 676, 603, 348, 238, 410, 445, 114]\u001b[0m\u001b[1;33m\u001b[0m\n",
      "\u001b[1;33m------------------\u001b[0m\u001b[1;31m 2022-08-01 09:23:00 \u001b[0m\u001b[1;33m------------------\u001b[0m\n"
     ]
    },
    {
     "name": "stderr",
     "output_type": "stream",
     "text": [
      "100%|██████████| 127/127 [00:00<00:00, 4788.75it/s]\n",
      "100%|██████████| 3/3 [00:00<00:00, 33.01it/s]\n"
     ]
    },
    {
     "name": "stdout",
     "output_type": "stream",
     "text": [
      "\u001b[1;33m------------------\u001b[0m\u001b[1;31m 2022-08-01 09:23:00 \u001b[0m\u001b[1;33m------------------\u001b[0m\n",
      "\u001b[1;33m\u001b[0m\u001b[1;32mDEBUG:\u001b[0m\u001b[1;33m 2 vars: ['max_sub_id', 'max_username'], at \u001b[0m\u001b[1;32m<ipython-input-20-26dbd8be3ee9>:3 get_group_users_preferred_submissions\u001b[0m\u001b[1;33m\u001b[0m\n",
      "\u001b[1;33m0 / 385.\u001b[0m \u001b[1;33m \u001b[0m\u001b[1;36mmax_sub_id\u001b[0m\u001b[1;33m num val: 676\u001b[0m\n",
      "\u001b[1;33m1 / 386.\u001b[0m \u001b[1;33m \u001b[0m\u001b[1;36mmax_username\u001b[0m\u001b[1;33m num val: 21217\u001b[0m\n",
      "\u001b[1;33m------------------\u001b[0m\u001b[1;31m 2022-08-01 09:23:00 \u001b[0m\u001b[1;33m------------------\u001b[0m\n"
     ]
    },
    {
     "name": "stderr",
     "output_type": "stream",
     "text": [
      "100%|██████████| 2667/2667 [00:00<00:00, 320182.29it/s]\n"
     ]
    },
    {
     "name": "stdout",
     "output_type": "stream",
     "text": [
      "\u001b[1;33m------------------\u001b[0m\u001b[1;31m 2022-08-01 09:23:00 \u001b[0m\u001b[1;33m------------------\u001b[0m\n",
      "\u001b[1;33m\u001b[0m\u001b[1;32mDEBUG:\u001b[0m\u001b[1;33m at \u001b[0m\u001b[1;32m/home/TableSense/largedisk/wanrong/Curation-Modeling/utils.py:123 print_log\u001b[0m\u001b[1;33m\u001b[0m\n",
      "\u001b[1;33m\u001b[0m\u001b[1;36mUsers in group 21 prefers 21/21 submissions (sorted using %upvotes): [394, 224, 566, 332, 459, 629, 269, 281, 273, 220, 470, 159, 296, 641, 676, 603, 348, 238, 410, 445, 114]\u001b[0m\u001b[1;33m\u001b[0m\n",
      "\u001b[1;33m------------------\u001b[0m\u001b[1;31m 2022-08-01 09:23:00 \u001b[0m\u001b[1;33m------------------\u001b[0m\n"
     ]
    },
    {
     "name": "stderr",
     "output_type": "stream",
     "text": [
      "100%|██████████| 26/26 [00:00<00:00, 3959.48it/s]\n",
      "100%|██████████| 1/1 [00:00<00:00, 48.56it/s]\n"
     ]
    },
    {
     "name": "stdout",
     "output_type": "stream",
     "text": [
      "\u001b[1;33m------------------\u001b[0m\u001b[1;31m 2022-08-01 09:23:00 \u001b[0m\u001b[1;33m------------------\u001b[0m\n",
      "\u001b[1;33m\u001b[0m\u001b[1;32mDEBUG:\u001b[0m\u001b[1;33m 2 vars: ['max_sub_id', 'max_username'], at \u001b[0m\u001b[1;32m<ipython-input-20-26dbd8be3ee9>:3 get_group_users_preferred_submissions\u001b[0m\u001b[1;33m\u001b[0m\n",
      "\u001b[1;33m0 / 387.\u001b[0m \u001b[1;33m \u001b[0m\u001b[1;36mmax_sub_id\u001b[0m\u001b[1;33m num val: 676\u001b[0m\n",
      "\u001b[1;33m1 / 388.\u001b[0m \u001b[1;33m \u001b[0m\u001b[1;36mmax_username\u001b[0m\u001b[1;33m num val: 21121\u001b[0m\n",
      "\u001b[1;33m------------------\u001b[0m\u001b[1;31m 2022-08-01 09:23:00 \u001b[0m\u001b[1;33m------------------\u001b[0m\n"
     ]
    },
    {
     "name": "stderr",
     "output_type": "stream",
     "text": [
      "100%|██████████| 546/546 [00:00<00:00, 321461.26it/s]\n"
     ]
    },
    {
     "name": "stdout",
     "output_type": "stream",
     "text": [
      "\u001b[1;33m------------------\u001b[0m\u001b[1;31m 2022-08-01 09:23:00 \u001b[0m\u001b[1;33m------------------\u001b[0m\n",
      "\u001b[1;33m\u001b[0m\u001b[1;32mDEBUG:\u001b[0m\u001b[1;33m at \u001b[0m\u001b[1;32m/home/TableSense/largedisk/wanrong/Curation-Modeling/utils.py:123 print_log\u001b[0m\u001b[1;33m\u001b[0m\n",
      "\u001b[1;33m\u001b[0m\u001b[1;36mUsers in group 25 prefers 0/21 submissions (sorted using %upvotes): []\u001b[0m\u001b[1;33m\u001b[0m\n",
      "\u001b[1;33m------------------\u001b[0m\u001b[1;31m 2022-08-01 09:23:00 \u001b[0m\u001b[1;33m------------------\u001b[0m\n"
     ]
    },
    {
     "name": "stderr",
     "output_type": "stream",
     "text": [
      "100%|██████████| 16/16 [00:00<00:00, 3838.08it/s]\n",
      "100%|██████████| 1/1 [00:00<00:00, 70.49it/s]\n"
     ]
    },
    {
     "name": "stdout",
     "output_type": "stream",
     "text": [
      "\u001b[1;33m------------------\u001b[0m\u001b[1;31m 2022-08-01 09:23:00 \u001b[0m\u001b[1;33m------------------\u001b[0m\n",
      "\u001b[1;33m\u001b[0m\u001b[1;32mDEBUG:\u001b[0m\u001b[1;33m 2 vars: ['max_sub_id', 'max_username'], at \u001b[0m\u001b[1;32m<ipython-input-20-26dbd8be3ee9>:3 get_group_users_preferred_submissions\u001b[0m\u001b[1;33m\u001b[0m\n",
      "\u001b[1;33m0 / 389.\u001b[0m \u001b[1;33m \u001b[0m\u001b[1;36mmax_sub_id\u001b[0m\u001b[1;33m num val: 676\u001b[0m\n",
      "\u001b[1;33m1 / 390.\u001b[0m \u001b[1;33m \u001b[0m\u001b[1;36mmax_username\u001b[0m\u001b[1;33m num val: 21333\u001b[0m\n",
      "\u001b[1;33m------------------\u001b[0m\u001b[1;31m 2022-08-01 09:23:00 \u001b[0m\u001b[1;33m------------------\u001b[0m\n"
     ]
    },
    {
     "name": "stderr",
     "output_type": "stream",
     "text": [
      "100%|██████████| 336/336 [00:00<00:00, 298704.14it/s]\n"
     ]
    },
    {
     "name": "stdout",
     "output_type": "stream",
     "text": [
      "\u001b[1;33m------------------\u001b[0m\u001b[1;31m 2022-08-01 09:23:00 \u001b[0m\u001b[1;33m------------------\u001b[0m\n",
      "\u001b[1;33m\u001b[0m\u001b[1;32mDEBUG:\u001b[0m\u001b[1;33m at \u001b[0m\u001b[1;32m/home/TableSense/largedisk/wanrong/Curation-Modeling/utils.py:123 print_log\u001b[0m\u001b[1;33m\u001b[0m\n",
      "\u001b[1;33m\u001b[0m\u001b[1;36mUsers in group 30 prefers 0/21 submissions (sorted using %upvotes): []\u001b[0m\u001b[1;33m\u001b[0m\n",
      "\u001b[1;33m------------------\u001b[0m\u001b[1;31m 2022-08-01 09:23:00 \u001b[0m\u001b[1;33m------------------\u001b[0m\n"
     ]
    },
    {
     "name": "stderr",
     "output_type": "stream",
     "text": [
      "100%|██████████| 21/21 [00:00<00:00, 3609.56it/s]\n",
      "100%|██████████| 1/1 [00:00<00:00, 56.27it/s]\n"
     ]
    },
    {
     "name": "stdout",
     "output_type": "stream",
     "text": [
      "\u001b[1;33m------------------\u001b[0m\u001b[1;31m 2022-08-01 09:23:00 \u001b[0m\u001b[1;33m------------------\u001b[0m\n",
      "\u001b[1;33m\u001b[0m\u001b[1;32mDEBUG:\u001b[0m\u001b[1;33m 2 vars: ['max_sub_id', 'max_username'], at \u001b[0m\u001b[1;32m<ipython-input-20-26dbd8be3ee9>:3 get_group_users_preferred_submissions\u001b[0m\u001b[1;33m\u001b[0m\n",
      "\u001b[1;33m0 / 391.\u001b[0m \u001b[1;33m \u001b[0m\u001b[1;36mmax_sub_id\u001b[0m\u001b[1;33m num val: 676\u001b[0m\n",
      "\u001b[1;33m1 / 392.\u001b[0m \u001b[1;33m \u001b[0m\u001b[1;36mmax_username\u001b[0m\u001b[1;33m num val: 20793\u001b[0m\n",
      "\u001b[1;33m------------------\u001b[0m\u001b[1;31m 2022-08-01 09:23:00 \u001b[0m\u001b[1;33m------------------\u001b[0m\n"
     ]
    },
    {
     "name": "stderr",
     "output_type": "stream",
     "text": [
      "100%|██████████| 441/441 [00:00<00:00, 306391.93it/s]\n"
     ]
    },
    {
     "name": "stdout",
     "output_type": "stream",
     "text": [
      "\u001b[1;33m------------------\u001b[0m\u001b[1;31m 2022-08-01 09:23:00 \u001b[0m\u001b[1;33m------------------\u001b[0m\n",
      "\u001b[1;33m\u001b[0m\u001b[1;32mDEBUG:\u001b[0m\u001b[1;33m at \u001b[0m\u001b[1;32m/home/TableSense/largedisk/wanrong/Curation-Modeling/utils.py:123 print_log\u001b[0m\u001b[1;33m\u001b[0m\n",
      "\u001b[1;33m\u001b[0m\u001b[1;36mUsers in group 16 prefers 12/21 submissions (sorted using %upvotes): [224, 459, 629, 281, 220, 470, 159, 296, 641, 676, 603, 238]\u001b[0m\u001b[1;33m\u001b[0m\n",
      "\u001b[1;33m------------------\u001b[0m\u001b[1;31m 2022-08-01 09:23:00 \u001b[0m\u001b[1;33m------------------\u001b[0m\n"
     ]
    },
    {
     "name": "stderr",
     "output_type": "stream",
     "text": [
      "100%|██████████| 14/14 [00:00<00:00, 3693.10it/s]\n",
      "100%|██████████| 1/1 [00:00<00:00, 58.66it/s]\n"
     ]
    },
    {
     "name": "stdout",
     "output_type": "stream",
     "text": [
      "\u001b[1;33m------------------\u001b[0m\u001b[1;31m 2022-08-01 09:23:01 \u001b[0m\u001b[1;33m------------------\u001b[0m\n",
      "\u001b[1;33m\u001b[0m\u001b[1;32mDEBUG:\u001b[0m\u001b[1;33m 2 vars: ['max_sub_id', 'max_username'], at \u001b[0m\u001b[1;32m<ipython-input-20-26dbd8be3ee9>:3 get_group_users_preferred_submissions\u001b[0m\u001b[1;33m\u001b[0m\n",
      "\u001b[1;33m0 / 393.\u001b[0m \u001b[1;33m \u001b[0m\u001b[1;36mmax_sub_id\u001b[0m\u001b[1;33m num val: 676\u001b[0m\n",
      "\u001b[1;33m1 / 394.\u001b[0m \u001b[1;33m \u001b[0m\u001b[1;36mmax_username\u001b[0m\u001b[1;33m num val: 21210\u001b[0m\n",
      "\u001b[1;33m------------------\u001b[0m\u001b[1;31m 2022-08-01 09:23:01 \u001b[0m\u001b[1;33m------------------\u001b[0m\n"
     ]
    },
    {
     "name": "stderr",
     "output_type": "stream",
     "text": [
      "100%|██████████| 294/294 [00:00<00:00, 298216.54it/s]\n"
     ]
    },
    {
     "name": "stdout",
     "output_type": "stream",
     "text": [
      "\u001b[1;33m------------------\u001b[0m\u001b[1;31m 2022-08-01 09:23:01 \u001b[0m\u001b[1;33m------------------\u001b[0m\n",
      "\u001b[1;33m\u001b[0m\u001b[1;32mDEBUG:\u001b[0m\u001b[1;33m at \u001b[0m\u001b[1;32m/home/TableSense/largedisk/wanrong/Curation-Modeling/utils.py:123 print_log\u001b[0m\u001b[1;33m\u001b[0m\n",
      "\u001b[1;33m\u001b[0m\u001b[1;36mUsers in group 19 prefers 0/21 submissions (sorted using %upvotes): []\u001b[0m\u001b[1;33m\u001b[0m\n",
      "\u001b[1;33m------------------\u001b[0m\u001b[1;31m 2022-08-01 09:23:01 \u001b[0m\u001b[1;33m------------------\u001b[0m\n"
     ]
    },
    {
     "name": "stderr",
     "output_type": "stream",
     "text": [
      "100%|██████████| 15/15 [00:00<00:00, 3731.37it/s]\n",
      "100%|██████████| 1/1 [00:00<00:00, 70.26it/s]\n"
     ]
    },
    {
     "name": "stdout",
     "output_type": "stream",
     "text": [
      "\u001b[1;33m------------------\u001b[0m\u001b[1;31m 2022-08-01 09:23:01 \u001b[0m\u001b[1;33m------------------\u001b[0m\n",
      "\u001b[1;33m\u001b[0m\u001b[1;32mDEBUG:\u001b[0m\u001b[1;33m 2 vars: ['max_sub_id', 'max_username'], at \u001b[0m\u001b[1;32m<ipython-input-20-26dbd8be3ee9>:3 get_group_users_preferred_submissions\u001b[0m\u001b[1;33m\u001b[0m\n",
      "\u001b[1;33m0 / 395.\u001b[0m \u001b[1;33m \u001b[0m\u001b[1;36mmax_sub_id\u001b[0m\u001b[1;33m num val: 676\u001b[0m\n",
      "\u001b[1;33m1 / 396.\u001b[0m \u001b[1;33m \u001b[0m\u001b[1;36mmax_username\u001b[0m\u001b[1;33m num val: 20088\u001b[0m\n",
      "\u001b[1;33m------------------\u001b[0m\u001b[1;31m 2022-08-01 09:23:01 \u001b[0m\u001b[1;33m------------------\u001b[0m\n"
     ]
    },
    {
     "name": "stderr",
     "output_type": "stream",
     "text": [
      "100%|██████████| 315/315 [00:00<00:00, 296766.79it/s]\n"
     ]
    },
    {
     "name": "stdout",
     "output_type": "stream",
     "text": [
      "\u001b[1;33m------------------\u001b[0m\u001b[1;31m 2022-08-01 09:23:01 \u001b[0m\u001b[1;33m------------------\u001b[0m\n",
      "\u001b[1;33m\u001b[0m\u001b[1;32mDEBUG:\u001b[0m\u001b[1;33m at \u001b[0m\u001b[1;32m/home/TableSense/largedisk/wanrong/Curation-Modeling/utils.py:123 print_log\u001b[0m\u001b[1;33m\u001b[0m\n",
      "\u001b[1;33m\u001b[0m\u001b[1;36mUsers in group 6 prefers 5/21 submissions (sorted using %upvotes): [459, 629, 281, 220, 676]\u001b[0m\u001b[1;33m\u001b[0m\n",
      "\u001b[1;33m------------------\u001b[0m\u001b[1;31m 2022-08-01 09:23:01 \u001b[0m\u001b[1;33m------------------\u001b[0m\n"
     ]
    },
    {
     "name": "stderr",
     "output_type": "stream",
     "text": [
      "100%|██████████| 65/65 [00:00<00:00, 4574.86it/s]\n",
      "100%|██████████| 2/2 [00:00<00:00,  7.28it/s]\n"
     ]
    },
    {
     "name": "stdout",
     "output_type": "stream",
     "text": [
      "\u001b[1;33m------------------\u001b[0m\u001b[1;31m 2022-08-01 09:23:01 \u001b[0m\u001b[1;33m------------------\u001b[0m\n",
      "\u001b[1;33m\u001b[0m\u001b[1;32mDEBUG:\u001b[0m\u001b[1;33m 2 vars: ['max_sub_id', 'max_username'], at \u001b[0m\u001b[1;32m<ipython-input-20-26dbd8be3ee9>:3 get_group_users_preferred_submissions\u001b[0m\u001b[1;33m\u001b[0m\n",
      "\u001b[1;33m0 / 397.\u001b[0m \u001b[1;33m \u001b[0m\u001b[1;36mmax_sub_id\u001b[0m\u001b[1;33m num val: 676\u001b[0m\n",
      "\u001b[1;33m1 / 398.\u001b[0m \u001b[1;33m \u001b[0m\u001b[1;36mmax_username\u001b[0m\u001b[1;33m num val: 20932\u001b[0m\n",
      "\u001b[1;33m------------------\u001b[0m\u001b[1;31m 2022-08-01 09:23:01 \u001b[0m\u001b[1;33m------------------\u001b[0m\n"
     ]
    },
    {
     "name": "stderr",
     "output_type": "stream",
     "text": [
      "100%|██████████| 1365/1365 [00:00<00:00, 327623.75it/s]\n"
     ]
    },
    {
     "name": "stdout",
     "output_type": "stream",
     "text": [
      "\u001b[1;33m------------------\u001b[0m\u001b[1;31m 2022-08-01 09:23:01 \u001b[0m\u001b[1;33m------------------\u001b[0m\n",
      "\u001b[1;33m\u001b[0m\u001b[1;32mDEBUG:\u001b[0m\u001b[1;33m at \u001b[0m\u001b[1;32m/home/TableSense/largedisk/wanrong/Curation-Modeling/utils.py:123 print_log\u001b[0m\u001b[1;33m\u001b[0m\n",
      "\u001b[1;33m\u001b[0m\u001b[1;36mUsers in group 3 prefers 0/21 submissions (sorted using %upvotes): []\u001b[0m\u001b[1;33m\u001b[0m\n",
      "\u001b[1;33m------------------\u001b[0m\u001b[1;31m 2022-08-01 09:23:01 \u001b[0m\u001b[1;33m------------------\u001b[0m\n"
     ]
    },
    {
     "name": "stderr",
     "output_type": "stream",
     "text": [
      "100%|██████████| 33/33 [00:00<00:00, 4057.10it/s]\n",
      "100%|██████████| 1/1 [00:00<00:00, 41.38it/s]\n"
     ]
    },
    {
     "name": "stdout",
     "output_type": "stream",
     "text": [
      "\u001b[1;33m------------------\u001b[0m\u001b[1;31m 2022-08-01 09:23:01 \u001b[0m\u001b[1;33m------------------\u001b[0m\n",
      "\u001b[1;33m\u001b[0m\u001b[1;32mDEBUG:\u001b[0m\u001b[1;33m 2 vars: ['max_sub_id', 'max_username'], at \u001b[0m\u001b[1;32m<ipython-input-20-26dbd8be3ee9>:3 get_group_users_preferred_submissions\u001b[0m\u001b[1;33m\u001b[0m\n",
      "\u001b[1;33m0 / 399.\u001b[0m \u001b[1;33m \u001b[0m\u001b[1;36mmax_sub_id\u001b[0m\u001b[1;33m num val: 676\u001b[0m\n",
      "\u001b[1;33m1 / 400.\u001b[0m \u001b[1;33m \u001b[0m\u001b[1;36mmax_username\u001b[0m\u001b[1;33m num val: 21081\u001b[0m\n",
      "\u001b[1;33m------------------\u001b[0m\u001b[1;31m 2022-08-01 09:23:01 \u001b[0m\u001b[1;33m------------------\u001b[0m\n"
     ]
    },
    {
     "name": "stderr",
     "output_type": "stream",
     "text": [
      "100%|██████████| 693/693 [00:00<00:00, 330338.98it/s]\n"
     ]
    },
    {
     "name": "stdout",
     "output_type": "stream",
     "text": [
      "\u001b[1;33m------------------\u001b[0m\u001b[1;31m 2022-08-01 09:23:01 \u001b[0m\u001b[1;33m------------------\u001b[0m\n",
      "\u001b[1;33m\u001b[0m\u001b[1;32mDEBUG:\u001b[0m\u001b[1;33m at \u001b[0m\u001b[1;32m/home/TableSense/largedisk/wanrong/Curation-Modeling/utils.py:123 print_log\u001b[0m\u001b[1;33m\u001b[0m\n",
      "\u001b[1;33m\u001b[0m\u001b[1;36mUsers in group 5 prefers 21/21 submissions (sorted using %upvotes): [394, 224, 566, 332, 459, 629, 269, 281, 273, 220, 470, 159, 296, 641, 676, 603, 348, 238, 410, 445, 114]\u001b[0m\u001b[1;33m\u001b[0m\n",
      "\u001b[1;33m------------------\u001b[0m\u001b[1;31m 2022-08-01 09:23:01 \u001b[0m\u001b[1;33m------------------\u001b[0m\n"
     ]
    },
    {
     "name": "stderr",
     "output_type": "stream",
     "text": [
      "100%|██████████| 166/166 [00:00<00:00, 4600.08it/s]\n",
      "100%|██████████| 4/4 [00:00<00:00, 32.82it/s]\n"
     ]
    },
    {
     "name": "stdout",
     "output_type": "stream",
     "text": [
      "\u001b[1;33m------------------\u001b[0m\u001b[1;31m 2022-08-01 09:23:01 \u001b[0m\u001b[1;33m------------------\u001b[0m\n",
      "\u001b[1;33m\u001b[0m\u001b[1;32mDEBUG:\u001b[0m\u001b[1;33m 2 vars: ['max_sub_id', 'max_username'], at \u001b[0m\u001b[1;32m<ipython-input-20-26dbd8be3ee9>:3 get_group_users_preferred_submissions\u001b[0m\u001b[1;33m\u001b[0m\n",
      "\u001b[1;33m0 / 401.\u001b[0m \u001b[1;33m \u001b[0m\u001b[1;36mmax_sub_id\u001b[0m\u001b[1;33m num val: 676\u001b[0m\n",
      "\u001b[1;33m1 / 402.\u001b[0m \u001b[1;33m \u001b[0m\u001b[1;36mmax_username\u001b[0m\u001b[1;33m num val: 21353\u001b[0m\n",
      "\u001b[1;33m------------------\u001b[0m\u001b[1;31m 2022-08-01 09:23:01 \u001b[0m\u001b[1;33m------------------\u001b[0m\n"
     ]
    },
    {
     "name": "stderr",
     "output_type": "stream",
     "text": [
      "100%|██████████| 3486/3486 [00:00<00:00, 323717.40it/s]\n"
     ]
    },
    {
     "name": "stdout",
     "output_type": "stream",
     "text": [
      "\u001b[1;33m------------------\u001b[0m\u001b[1;31m 2022-08-01 09:23:02 \u001b[0m\u001b[1;33m------------------\u001b[0m\n",
      "\u001b[1;33m\u001b[0m\u001b[1;32mDEBUG:\u001b[0m\u001b[1;33m at \u001b[0m\u001b[1;32m/home/TableSense/largedisk/wanrong/Curation-Modeling/utils.py:123 print_log\u001b[0m\u001b[1;33m\u001b[0m\n",
      "\u001b[1;33m\u001b[0m\u001b[1;36mUsers in group 29 prefers 21/21 submissions (sorted using %upvotes): [394, 224, 566, 332, 459, 629, 269, 281, 273, 220, 470, 159, 296, 641, 676, 603, 348, 238, 410, 445, 114]\u001b[0m\u001b[1;33m\u001b[0m\n",
      "\u001b[1;33m------------------\u001b[0m\u001b[1;31m 2022-08-01 09:23:02 \u001b[0m\u001b[1;33m------------------\u001b[0m\n"
     ]
    },
    {
     "name": "stderr",
     "output_type": "stream",
     "text": [
      "100%|██████████| 14/14 [00:00<00:00, 3913.64it/s]\n",
      "100%|██████████| 1/1 [00:00<00:00, 74.30it/s]\n"
     ]
    },
    {
     "name": "stdout",
     "output_type": "stream",
     "text": [
      "\u001b[1;33m------------------\u001b[0m\u001b[1;31m 2022-08-01 09:23:02 \u001b[0m\u001b[1;33m------------------\u001b[0m\n",
      "\u001b[1;33m\u001b[0m\u001b[1;32mDEBUG:\u001b[0m\u001b[1;33m 2 vars: ['max_sub_id', 'max_username'], at \u001b[0m\u001b[1;32m<ipython-input-20-26dbd8be3ee9>:3 get_group_users_preferred_submissions\u001b[0m\u001b[1;33m\u001b[0m\n",
      "\u001b[1;33m0 / 403.\u001b[0m \u001b[1;33m \u001b[0m\u001b[1;36mmax_sub_id\u001b[0m\u001b[1;33m num val: 676\u001b[0m\n",
      "\u001b[1;33m1 / 404.\u001b[0m \u001b[1;33m \u001b[0m\u001b[1;36mmax_username\u001b[0m\u001b[1;33m num val: 19666\u001b[0m\n",
      "\u001b[1;33m------------------\u001b[0m\u001b[1;31m 2022-08-01 09:23:02 \u001b[0m\u001b[1;33m------------------\u001b[0m\n"
     ]
    },
    {
     "name": "stderr",
     "output_type": "stream",
     "text": [
      "100%|██████████| 294/294 [00:00<00:00, 304174.98it/s]\n"
     ]
    },
    {
     "name": "stdout",
     "output_type": "stream",
     "text": [
      "\u001b[1;33m------------------\u001b[0m\u001b[1;31m 2022-08-01 09:23:02 \u001b[0m\u001b[1;33m------------------\u001b[0m\n",
      "\u001b[1;33m\u001b[0m\u001b[1;32mDEBUG:\u001b[0m\u001b[1;33m at \u001b[0m\u001b[1;32m/home/TableSense/largedisk/wanrong/Curation-Modeling/utils.py:123 print_log\u001b[0m\u001b[1;33m\u001b[0m\n",
      "\u001b[1;33m\u001b[0m\u001b[1;36mUsers in group 23 prefers 0/21 submissions (sorted using %upvotes): []\u001b[0m\u001b[1;33m\u001b[0m\n",
      "\u001b[1;33m------------------\u001b[0m\u001b[1;31m 2022-08-01 09:23:02 \u001b[0m\u001b[1;33m------------------\u001b[0m\n"
     ]
    },
    {
     "name": "stderr",
     "output_type": "stream",
     "text": [
      "100%|██████████| 45/45 [00:00<00:00, 4332.16it/s]\n",
      "100%|██████████| 1/1 [00:00<00:00, 26.27it/s]\n"
     ]
    },
    {
     "name": "stdout",
     "output_type": "stream",
     "text": [
      "\u001b[1;33m------------------\u001b[0m\u001b[1;31m 2022-08-01 09:23:02 \u001b[0m\u001b[1;33m------------------\u001b[0m\n",
      "\u001b[1;33m\u001b[0m\u001b[1;32mDEBUG:\u001b[0m\u001b[1;33m 2 vars: ['max_sub_id', 'max_username'], at \u001b[0m\u001b[1;32m<ipython-input-20-26dbd8be3ee9>:3 get_group_users_preferred_submissions\u001b[0m\u001b[1;33m\u001b[0m\n",
      "\u001b[1;33m0 / 405.\u001b[0m \u001b[1;33m \u001b[0m\u001b[1;36mmax_sub_id\u001b[0m\u001b[1;33m num val: 676\u001b[0m\n",
      "\u001b[1;33m1 / 406.\u001b[0m \u001b[1;33m \u001b[0m\u001b[1;36mmax_username\u001b[0m\u001b[1;33m num val: 21256\u001b[0m\n",
      "\u001b[1;33m------------------\u001b[0m\u001b[1;31m 2022-08-01 09:23:02 \u001b[0m\u001b[1;33m------------------\u001b[0m\n"
     ]
    },
    {
     "name": "stderr",
     "output_type": "stream",
     "text": [
      "100%|██████████| 945/945 [00:00<00:00, 328195.52it/s]\n"
     ]
    },
    {
     "name": "stdout",
     "output_type": "stream",
     "text": [
      "\u001b[1;33m------------------\u001b[0m\u001b[1;31m 2022-08-01 09:23:02 \u001b[0m\u001b[1;33m------------------\u001b[0m\n",
      "\u001b[1;33m\u001b[0m\u001b[1;32mDEBUG:\u001b[0m\u001b[1;33m at \u001b[0m\u001b[1;32m/home/TableSense/largedisk/wanrong/Curation-Modeling/utils.py:123 print_log\u001b[0m\u001b[1;33m\u001b[0m\n",
      "\u001b[1;33m\u001b[0m\u001b[1;36mUsers in group 18 prefers 21/21 submissions (sorted using %upvotes): [394, 224, 566, 332, 459, 629, 269, 281, 273, 220, 470, 159, 296, 641, 676, 603, 348, 238, 410, 445, 114]\u001b[0m\u001b[1;33m\u001b[0m\n",
      "\u001b[1;33m------------------\u001b[0m\u001b[1;31m 2022-08-01 09:23:02 \u001b[0m\u001b[1;33m------------------\u001b[0m\n"
     ]
    },
    {
     "name": "stderr",
     "output_type": "stream",
     "text": [
      "100%|██████████| 17/17 [00:00<00:00, 3800.00it/s]\n",
      "100%|██████████| 1/1 [00:00<00:00, 65.29it/s]\n"
     ]
    },
    {
     "name": "stdout",
     "output_type": "stream",
     "text": [
      "\u001b[1;33m------------------\u001b[0m\u001b[1;31m 2022-08-01 09:23:02 \u001b[0m\u001b[1;33m------------------\u001b[0m\n",
      "\u001b[1;33m\u001b[0m\u001b[1;32mDEBUG:\u001b[0m\u001b[1;33m 2 vars: ['max_sub_id', 'max_username'], at \u001b[0m\u001b[1;32m<ipython-input-20-26dbd8be3ee9>:3 get_group_users_preferred_submissions\u001b[0m\u001b[1;33m\u001b[0m\n",
      "\u001b[1;33m0 / 407.\u001b[0m \u001b[1;33m \u001b[0m\u001b[1;36mmax_sub_id\u001b[0m\u001b[1;33m num val: 676\u001b[0m\n",
      "\u001b[1;33m1 / 408.\u001b[0m \u001b[1;33m \u001b[0m\u001b[1;36mmax_username\u001b[0m\u001b[1;33m num val: 20535\u001b[0m\n",
      "\u001b[1;33m------------------\u001b[0m\u001b[1;31m 2022-08-01 09:23:02 \u001b[0m\u001b[1;33m------------------\u001b[0m\n"
     ]
    },
    {
     "name": "stderr",
     "output_type": "stream",
     "text": [
      "100%|██████████| 357/357 [00:00<00:00, 290637.91it/s]\n"
     ]
    },
    {
     "name": "stdout",
     "output_type": "stream",
     "text": [
      "\u001b[1;33m------------------\u001b[0m\u001b[1;31m 2022-08-01 09:23:02 \u001b[0m\u001b[1;33m------------------\u001b[0m\n",
      "\u001b[1;33m\u001b[0m\u001b[1;32mDEBUG:\u001b[0m\u001b[1;33m at \u001b[0m\u001b[1;32m/home/TableSense/largedisk/wanrong/Curation-Modeling/utils.py:123 print_log\u001b[0m\u001b[1;33m\u001b[0m\n",
      "\u001b[1;33m\u001b[0m\u001b[1;36mUsers in group 9 prefers 6/21 submissions (sorted using %upvotes): [459, 629, 281, 220, 676, 238]\u001b[0m\u001b[1;33m\u001b[0m\n",
      "\u001b[1;33m------------------\u001b[0m\u001b[1;31m 2022-08-01 09:23:02 \u001b[0m\u001b[1;33m------------------\u001b[0m\n"
     ]
    },
    {
     "name": "stderr",
     "output_type": "stream",
     "text": [
      "100%|██████████| 22/22 [00:00<00:00, 4013.51it/s]\n",
      "100%|██████████| 1/1 [00:00<00:00, 54.15it/s]\n"
     ]
    },
    {
     "name": "stdout",
     "output_type": "stream",
     "text": [
      "\u001b[1;33m------------------\u001b[0m\u001b[1;31m 2022-08-01 09:23:02 \u001b[0m\u001b[1;33m------------------\u001b[0m\n",
      "\u001b[1;33m\u001b[0m\u001b[1;32mDEBUG:\u001b[0m\u001b[1;33m 2 vars: ['max_sub_id', 'max_username'], at \u001b[0m\u001b[1;32m<ipython-input-20-26dbd8be3ee9>:3 get_group_users_preferred_submissions\u001b[0m\u001b[1;33m\u001b[0m\n",
      "\u001b[1;33m0 / 409.\u001b[0m \u001b[1;33m \u001b[0m\u001b[1;36mmax_sub_id\u001b[0m\u001b[1;33m num val: 676\u001b[0m\n",
      "\u001b[1;33m1 / 410.\u001b[0m \u001b[1;33m \u001b[0m\u001b[1;36mmax_username\u001b[0m\u001b[1;33m num val: 20238\u001b[0m\n",
      "\u001b[1;33m------------------\u001b[0m\u001b[1;31m 2022-08-01 09:23:02 \u001b[0m\u001b[1;33m------------------\u001b[0m\n"
     ]
    },
    {
     "name": "stderr",
     "output_type": "stream",
     "text": [
      "100%|██████████| 462/462 [00:00<00:00, 312593.72it/s]\n"
     ]
    },
    {
     "name": "stdout",
     "output_type": "stream",
     "text": [
      "\u001b[1;33m------------------\u001b[0m\u001b[1;31m 2022-08-01 09:23:02 \u001b[0m\u001b[1;33m------------------\u001b[0m\n",
      "\u001b[1;33m\u001b[0m\u001b[1;32mDEBUG:\u001b[0m\u001b[1;33m at \u001b[0m\u001b[1;32m/home/TableSense/largedisk/wanrong/Curation-Modeling/utils.py:123 print_log\u001b[0m\u001b[1;33m\u001b[0m\n",
      "\u001b[1;33m\u001b[0m\u001b[1;36mUsers in group 20 prefers 21/21 submissions (sorted using %upvotes): [394, 224, 566, 332, 459, 629, 269, 281, 273, 220, 470, 159, 296, 641, 676, 603, 348, 238, 410, 445, 114]\u001b[0m\u001b[1;33m\u001b[0m\n",
      "\u001b[1;33m------------------\u001b[0m\u001b[1;31m 2022-08-01 09:23:02 \u001b[0m\u001b[1;33m------------------\u001b[0m\n"
     ]
    },
    {
     "name": "stderr",
     "output_type": "stream",
     "text": [
      "100%|██████████| 108/108 [00:00<00:00, 4392.11it/s]\n",
      "100%|██████████| 3/3 [00:00<00:00, 33.80it/s]\n"
     ]
    },
    {
     "name": "stdout",
     "output_type": "stream",
     "text": [
      "\u001b[1;33m------------------\u001b[0m\u001b[1;31m 2022-08-01 09:23:02 \u001b[0m\u001b[1;33m------------------\u001b[0m\n",
      "\u001b[1;33m\u001b[0m\u001b[1;32mDEBUG:\u001b[0m\u001b[1;33m 2 vars: ['max_sub_id', 'max_username'], at \u001b[0m\u001b[1;32m<ipython-input-20-26dbd8be3ee9>:3 get_group_users_preferred_submissions\u001b[0m\u001b[1;33m\u001b[0m\n",
      "\u001b[1;33m0 / 411.\u001b[0m \u001b[1;33m \u001b[0m\u001b[1;36mmax_sub_id\u001b[0m\u001b[1;33m num val: 676\u001b[0m\n",
      "\u001b[1;33m1 / 412.\u001b[0m \u001b[1;33m \u001b[0m\u001b[1;36mmax_username\u001b[0m\u001b[1;33m num val: 21197\u001b[0m\n",
      "\u001b[1;33m------------------\u001b[0m\u001b[1;31m 2022-08-01 09:23:02 \u001b[0m\u001b[1;33m------------------\u001b[0m\n"
     ]
    },
    {
     "name": "stderr",
     "output_type": "stream",
     "text": [
      "100%|██████████| 2268/2268 [00:00<00:00, 339811.44it/s]\n"
     ]
    },
    {
     "name": "stdout",
     "output_type": "stream",
     "text": [
      "\u001b[1;33m------------------\u001b[0m\u001b[1;31m 2022-08-01 09:23:02 \u001b[0m\u001b[1;33m------------------\u001b[0m\n",
      "\u001b[1;33m\u001b[0m\u001b[1;32mDEBUG:\u001b[0m\u001b[1;33m at \u001b[0m\u001b[1;32m/home/TableSense/largedisk/wanrong/Curation-Modeling/utils.py:123 print_log\u001b[0m\u001b[1;33m\u001b[0m\n",
      "\u001b[1;33m\u001b[0m\u001b[1;36mUsers in group 22 prefers 21/21 submissions (sorted using %upvotes): [394, 224, 566, 332, 459, 629, 269, 281, 273, 220, 470, 159, 296, 641, 676, 603, 348, 238, 410, 445, 114]\u001b[0m\u001b[1;33m\u001b[0m\n",
      "\u001b[1;33m------------------\u001b[0m\u001b[1;31m 2022-08-01 09:23:02 \u001b[0m\u001b[1;33m------------------\u001b[0m\n"
     ]
    },
    {
     "name": "stderr",
     "output_type": "stream",
     "text": [
      "100%|██████████| 48/48 [00:00<00:00, 4358.94it/s]\n",
      "100%|██████████| 1/1 [00:00<00:00, 27.69it/s]\n"
     ]
    },
    {
     "name": "stdout",
     "output_type": "stream",
     "text": [
      "\u001b[1;33m------------------\u001b[0m\u001b[1;31m 2022-08-01 09:23:02 \u001b[0m\u001b[1;33m------------------\u001b[0m\n",
      "\u001b[1;33m\u001b[0m\u001b[1;32mDEBUG:\u001b[0m\u001b[1;33m 2 vars: ['max_sub_id', 'max_username'], at \u001b[0m\u001b[1;32m<ipython-input-20-26dbd8be3ee9>:3 get_group_users_preferred_submissions\u001b[0m\u001b[1;33m\u001b[0m\n",
      "\u001b[1;33m0 / 413.\u001b[0m \u001b[1;33m \u001b[0m\u001b[1;36mmax_sub_id\u001b[0m\u001b[1;33m num val: 676\u001b[0m\n",
      "\u001b[1;33m1 / 414.\u001b[0m \u001b[1;33m \u001b[0m\u001b[1;36mmax_username\u001b[0m\u001b[1;33m num val: 20990\u001b[0m\n",
      "\u001b[1;33m------------------\u001b[0m\u001b[1;31m 2022-08-01 09:23:02 \u001b[0m\u001b[1;33m------------------\u001b[0m\n"
     ]
    },
    {
     "name": "stderr",
     "output_type": "stream",
     "text": [
      "100%|██████████| 1008/1008 [00:00<00:00, 331051.48it/s]\n"
     ]
    },
    {
     "name": "stdout",
     "output_type": "stream",
     "text": [
      "\u001b[1;33m------------------\u001b[0m\u001b[1;31m 2022-08-01 09:23:02 \u001b[0m\u001b[1;33m------------------\u001b[0m\n",
      "\u001b[1;33m\u001b[0m\u001b[1;32mDEBUG:\u001b[0m\u001b[1;33m at \u001b[0m\u001b[1;32m/home/TableSense/largedisk/wanrong/Curation-Modeling/utils.py:123 print_log\u001b[0m\u001b[1;33m\u001b[0m\n",
      "\u001b[1;33m\u001b[0m\u001b[1;36mUsers in group 11 prefers 21/21 submissions (sorted using %upvotes): [394, 224, 566, 332, 459, 629, 269, 281, 273, 220, 470, 159, 296, 641, 676, 603, 348, 238, 410, 445, 114]\u001b[0m\u001b[1;33m\u001b[0m\n",
      "\u001b[1;33m------------------\u001b[0m\u001b[1;31m 2022-08-01 09:23:02 \u001b[0m\u001b[1;33m------------------\u001b[0m\n"
     ]
    },
    {
     "name": "stderr",
     "output_type": "stream",
     "text": [
      "100%|██████████| 47/47 [00:00<00:00, 4225.32it/s]\n",
      "100%|██████████| 1/1 [00:00<00:00, 28.92it/s]\n"
     ]
    },
    {
     "name": "stdout",
     "output_type": "stream",
     "text": [
      "\u001b[1;33m------------------\u001b[0m\u001b[1;31m 2022-08-01 09:23:02 \u001b[0m\u001b[1;33m------------------\u001b[0m\n",
      "\u001b[1;33m\u001b[0m\u001b[1;32mDEBUG:\u001b[0m\u001b[1;33m 2 vars: ['max_sub_id', 'max_username'], at \u001b[0m\u001b[1;32m<ipython-input-20-26dbd8be3ee9>:3 get_group_users_preferred_submissions\u001b[0m\u001b[1;33m\u001b[0m\n",
      "\u001b[1;33m0 / 415.\u001b[0m \u001b[1;33m \u001b[0m\u001b[1;36mmax_sub_id\u001b[0m\u001b[1;33m num val: 676\u001b[0m\n",
      "\u001b[1;33m1 / 416.\u001b[0m \u001b[1;33m \u001b[0m\u001b[1;36mmax_username\u001b[0m\u001b[1;33m num val: 21137\u001b[0m\n",
      "\u001b[1;33m------------------\u001b[0m\u001b[1;31m 2022-08-01 09:23:02 \u001b[0m\u001b[1;33m------------------\u001b[0m\n"
     ]
    },
    {
     "name": "stderr",
     "output_type": "stream",
     "text": [
      "100%|██████████| 987/987 [00:00<00:00, 331766.15it/s]\n"
     ]
    },
    {
     "name": "stdout",
     "output_type": "stream",
     "text": [
      "\u001b[1;33m------------------\u001b[0m\u001b[1;31m 2022-08-01 09:23:02 \u001b[0m\u001b[1;33m------------------\u001b[0m\n",
      "\u001b[1;33m\u001b[0m\u001b[1;32mDEBUG:\u001b[0m\u001b[1;33m at \u001b[0m\u001b[1;32m/home/TableSense/largedisk/wanrong/Curation-Modeling/utils.py:123 print_log\u001b[0m\u001b[1;33m\u001b[0m\n",
      "\u001b[1;33m\u001b[0m\u001b[1;36mUsers in group 28 prefers 21/21 submissions (sorted using %upvotes): [394, 224, 566, 332, 459, 629, 269, 281, 273, 220, 470, 159, 296, 641, 676, 603, 348, 238, 410, 445, 114]\u001b[0m\u001b[1;33m\u001b[0m\n",
      "\u001b[1;33m------------------\u001b[0m\u001b[1;31m 2022-08-01 09:23:02 \u001b[0m\u001b[1;33m------------------\u001b[0m\n"
     ]
    },
    {
     "name": "stderr",
     "output_type": "stream",
     "text": [
      "100%|██████████| 18/18 [00:00<00:00, 3942.43it/s]\n",
      "100%|██████████| 1/1 [00:00<00:00, 57.19it/s]\n"
     ]
    },
    {
     "name": "stdout",
     "output_type": "stream",
     "text": [
      "\u001b[1;33m------------------\u001b[0m\u001b[1;31m 2022-08-01 09:23:03 \u001b[0m\u001b[1;33m------------------\u001b[0m\n",
      "\u001b[1;33m\u001b[0m\u001b[1;32mDEBUG:\u001b[0m\u001b[1;33m 2 vars: ['max_sub_id', 'max_username'], at \u001b[0m\u001b[1;32m<ipython-input-20-26dbd8be3ee9>:3 get_group_users_preferred_submissions\u001b[0m\u001b[1;33m\u001b[0m\n",
      "\u001b[1;33m0 / 417.\u001b[0m \u001b[1;33m \u001b[0m\u001b[1;36mmax_sub_id\u001b[0m\u001b[1;33m num val: 676\u001b[0m\n",
      "\u001b[1;33m1 / 418.\u001b[0m \u001b[1;33m \u001b[0m\u001b[1;36mmax_username\u001b[0m\u001b[1;33m num val: 21001\u001b[0m\n",
      "\u001b[1;33m------------------\u001b[0m\u001b[1;31m 2022-08-01 09:23:03 \u001b[0m\u001b[1;33m------------------\u001b[0m\n"
     ]
    },
    {
     "name": "stderr",
     "output_type": "stream",
     "text": [
      "100%|██████████| 378/378 [00:00<00:00, 303318.71it/s]\n"
     ]
    },
    {
     "name": "stdout",
     "output_type": "stream",
     "text": [
      "\u001b[1;33m------------------\u001b[0m\u001b[1;31m 2022-08-01 09:23:03 \u001b[0m\u001b[1;33m------------------\u001b[0m\n",
      "\u001b[1;33m\u001b[0m\u001b[1;32mDEBUG:\u001b[0m\u001b[1;33m at \u001b[0m\u001b[1;32m/home/TableSense/largedisk/wanrong/Curation-Modeling/utils.py:123 print_log\u001b[0m\u001b[1;33m\u001b[0m\n",
      "\u001b[1;33m\u001b[0m\u001b[1;36mUsers in group 12 prefers 0/21 submissions (sorted using %upvotes): []\u001b[0m\u001b[1;33m\u001b[0m\n",
      "\u001b[1;33m------------------\u001b[0m\u001b[1;31m 2022-08-01 09:23:03 \u001b[0m\u001b[1;33m------------------\u001b[0m\n"
     ]
    },
    {
     "name": "stderr",
     "output_type": "stream",
     "text": [
      "100%|██████████| 33/33 [00:00<00:00, 4156.14it/s]\n",
      "100%|██████████| 1/1 [00:00<00:00, 41.29it/s]\n"
     ]
    },
    {
     "name": "stdout",
     "output_type": "stream",
     "text": [
      "\u001b[1;33m------------------\u001b[0m\u001b[1;31m 2022-08-01 09:23:03 \u001b[0m\u001b[1;33m------------------\u001b[0m\n",
      "\u001b[1;33m\u001b[0m\u001b[1;32mDEBUG:\u001b[0m\u001b[1;33m 2 vars: ['max_sub_id', 'max_username'], at \u001b[0m\u001b[1;32m<ipython-input-20-26dbd8be3ee9>:3 get_group_users_preferred_submissions\u001b[0m\u001b[1;33m\u001b[0m\n",
      "\u001b[1;33m0 / 419.\u001b[0m \u001b[1;33m \u001b[0m\u001b[1;36mmax_sub_id\u001b[0m\u001b[1;33m num val: 676\u001b[0m\n",
      "\u001b[1;33m1 / 420.\u001b[0m \u001b[1;33m \u001b[0m\u001b[1;36mmax_username\u001b[0m\u001b[1;33m num val: 21275\u001b[0m\n",
      "\u001b[1;33m------------------\u001b[0m\u001b[1;31m 2022-08-01 09:23:03 \u001b[0m\u001b[1;33m------------------\u001b[0m\n"
     ]
    },
    {
     "name": "stderr",
     "output_type": "stream",
     "text": [
      "100%|██████████| 693/693 [00:00<00:00, 308594.61it/s]\n"
     ]
    },
    {
     "name": "stdout",
     "output_type": "stream",
     "text": [
      "\u001b[1;33m------------------\u001b[0m\u001b[1;31m 2022-08-01 09:23:03 \u001b[0m\u001b[1;33m------------------\u001b[0m\n",
      "\u001b[1;33m\u001b[0m\u001b[1;32mDEBUG:\u001b[0m\u001b[1;33m at \u001b[0m\u001b[1;32m/home/TableSense/largedisk/wanrong/Curation-Modeling/utils.py:123 print_log\u001b[0m\u001b[1;33m\u001b[0m\n",
      "\u001b[1;33m\u001b[0m\u001b[1;36mUsers in group 7 prefers 21/21 submissions (sorted using %upvotes): [394, 224, 566, 332, 459, 629, 269, 281, 273, 220, 470, 159, 296, 641, 676, 603, 348, 238, 410, 445, 114]\u001b[0m\u001b[1;33m\u001b[0m\n",
      "\u001b[1;33m------------------\u001b[0m\u001b[1;31m 2022-08-01 09:23:03 \u001b[0m\u001b[1;33m------------------\u001b[0m\n"
     ]
    },
    {
     "name": "stderr",
     "output_type": "stream",
     "text": [
      "100%|██████████| 22/22 [00:00<00:00, 3439.62it/s]\n",
      "100%|██████████| 1/1 [00:00<00:00, 56.44it/s]\n"
     ]
    },
    {
     "name": "stdout",
     "output_type": "stream",
     "text": [
      "\u001b[1;33m------------------\u001b[0m\u001b[1;31m 2022-08-01 09:23:03 \u001b[0m\u001b[1;33m------------------\u001b[0m\n",
      "\u001b[1;33m\u001b[0m\u001b[1;32mDEBUG:\u001b[0m\u001b[1;33m 2 vars: ['max_sub_id', 'max_username'], at \u001b[0m\u001b[1;32m<ipython-input-20-26dbd8be3ee9>:3 get_group_users_preferred_submissions\u001b[0m\u001b[1;33m\u001b[0m\n",
      "\u001b[1;33m0 / 421.\u001b[0m \u001b[1;33m \u001b[0m\u001b[1;36mmax_sub_id\u001b[0m\u001b[1;33m num val: 676\u001b[0m\n",
      "\u001b[1;33m1 / 422.\u001b[0m \u001b[1;33m \u001b[0m\u001b[1;36mmax_username\u001b[0m\u001b[1;33m num val: 17984\u001b[0m\n",
      "\u001b[1;33m------------------\u001b[0m\u001b[1;31m 2022-08-01 09:23:03 \u001b[0m\u001b[1;33m------------------\u001b[0m\n"
     ]
    },
    {
     "name": "stderr",
     "output_type": "stream",
     "text": [
      "100%|██████████| 462/462 [00:00<00:00, 310539.82it/s]\n"
     ]
    },
    {
     "name": "stdout",
     "output_type": "stream",
     "text": [
      "\u001b[1;33m------------------\u001b[0m\u001b[1;31m 2022-08-01 09:23:03 \u001b[0m\u001b[1;33m------------------\u001b[0m\n",
      "\u001b[1;33m\u001b[0m\u001b[1;32mDEBUG:\u001b[0m\u001b[1;33m at \u001b[0m\u001b[1;32m/home/TableSense/largedisk/wanrong/Curation-Modeling/utils.py:123 print_log\u001b[0m\u001b[1;33m\u001b[0m\n",
      "\u001b[1;33m\u001b[0m\u001b[1;36mUsers in group 32 prefers 21/21 submissions (sorted using %upvotes): [394, 224, 566, 332, 459, 629, 269, 281, 273, 220, 470, 159, 296, 641, 676, 603, 348, 238, 410, 445, 114]\u001b[0m\u001b[1;33m\u001b[0m\n",
      "\u001b[1;33m------------------\u001b[0m\u001b[1;31m 2022-08-01 09:23:03 \u001b[0m\u001b[1;33m------------------\u001b[0m\n"
     ]
    },
    {
     "name": "stderr",
     "output_type": "stream",
     "text": [
      "100%|██████████| 76/76 [00:00<00:00, 4027.48it/s]\n",
      "100%|██████████| 2/2 [00:00<00:00, 32.61it/s]\n"
     ]
    },
    {
     "name": "stdout",
     "output_type": "stream",
     "text": [
      "\u001b[1;33m------------------\u001b[0m\u001b[1;31m 2022-08-01 09:23:03 \u001b[0m\u001b[1;33m------------------\u001b[0m\n",
      "\u001b[1;33m\u001b[0m\u001b[1;32mDEBUG:\u001b[0m\u001b[1;33m 2 vars: ['max_sub_id', 'max_username'], at \u001b[0m\u001b[1;32m<ipython-input-20-26dbd8be3ee9>:3 get_group_users_preferred_submissions\u001b[0m\u001b[1;33m\u001b[0m\n",
      "\u001b[1;33m0 / 423.\u001b[0m \u001b[1;33m \u001b[0m\u001b[1;36mmax_sub_id\u001b[0m\u001b[1;33m num val: 676\u001b[0m\n",
      "\u001b[1;33m1 / 424.\u001b[0m \u001b[1;33m \u001b[0m\u001b[1;36mmax_username\u001b[0m\u001b[1;33m num val: 21147\u001b[0m\n",
      "\u001b[1;33m------------------\u001b[0m\u001b[1;31m 2022-08-01 09:23:03 \u001b[0m\u001b[1;33m------------------\u001b[0m\n"
     ]
    },
    {
     "name": "stderr",
     "output_type": "stream",
     "text": [
      "100%|██████████| 1596/1596 [00:00<00:00, 331031.01it/s]\n"
     ]
    },
    {
     "name": "stdout",
     "output_type": "stream",
     "text": [
      "\u001b[1;33m------------------\u001b[0m\u001b[1;31m 2022-08-01 09:23:03 \u001b[0m\u001b[1;33m------------------\u001b[0m\n",
      "\u001b[1;33m\u001b[0m\u001b[1;32mDEBUG:\u001b[0m\u001b[1;33m at \u001b[0m\u001b[1;32m/home/TableSense/largedisk/wanrong/Curation-Modeling/utils.py:123 print_log\u001b[0m\u001b[1;33m\u001b[0m\n",
      "\u001b[1;33m\u001b[0m\u001b[1;36mUsers in group 1 prefers 21/21 submissions (sorted using %upvotes): [394, 224, 566, 332, 459, 629, 269, 281, 273, 220, 470, 159, 296, 641, 676, 603, 348, 238, 410, 445, 114]\u001b[0m\u001b[1;33m\u001b[0m\n",
      "\u001b[1;33m------------------\u001b[0m\u001b[1;31m 2022-08-01 09:23:03 \u001b[0m\u001b[1;33m------------------\u001b[0m\n"
     ]
    },
    {
     "name": "stderr",
     "output_type": "stream",
     "text": [
      "100%|██████████| 16/16 [00:00<00:00, 3643.26it/s]\n",
      "100%|██████████| 1/1 [00:00<00:00, 65.87it/s]\n"
     ]
    },
    {
     "name": "stdout",
     "output_type": "stream",
     "text": [
      "\u001b[1;33m------------------\u001b[0m\u001b[1;31m 2022-08-01 09:23:03 \u001b[0m\u001b[1;33m------------------\u001b[0m\n",
      "\u001b[1;33m\u001b[0m\u001b[1;32mDEBUG:\u001b[0m\u001b[1;33m 2 vars: ['max_sub_id', 'max_username'], at \u001b[0m\u001b[1;32m<ipython-input-20-26dbd8be3ee9>:3 get_group_users_preferred_submissions\u001b[0m\u001b[1;33m\u001b[0m\n",
      "\u001b[1;33m0 / 425.\u001b[0m \u001b[1;33m \u001b[0m\u001b[1;36mmax_sub_id\u001b[0m\u001b[1;33m num val: 676\u001b[0m\n",
      "\u001b[1;33m1 / 426.\u001b[0m \u001b[1;33m \u001b[0m\u001b[1;36mmax_username\u001b[0m\u001b[1;33m num val: 20044\u001b[0m\n",
      "\u001b[1;33m------------------\u001b[0m\u001b[1;31m 2022-08-01 09:23:03 \u001b[0m\u001b[1;33m------------------\u001b[0m\n"
     ]
    },
    {
     "name": "stderr",
     "output_type": "stream",
     "text": [
      "100%|██████████| 336/336 [00:00<00:00, 288669.84it/s]\n"
     ]
    },
    {
     "name": "stdout",
     "output_type": "stream",
     "text": [
      "\u001b[1;33m------------------\u001b[0m\u001b[1;31m 2022-08-01 09:23:03 \u001b[0m\u001b[1;33m------------------\u001b[0m\n",
      "\u001b[1;33m\u001b[0m\u001b[1;32mDEBUG:\u001b[0m\u001b[1;33m at \u001b[0m\u001b[1;32m/home/TableSense/largedisk/wanrong/Curation-Modeling/utils.py:123 print_log\u001b[0m\u001b[1;33m\u001b[0m\n",
      "\u001b[1;33m\u001b[0m\u001b[1;36mUsers in group 17 prefers 2/21 submissions (sorted using %upvotes): [459, 220]\u001b[0m\u001b[1;33m\u001b[0m\n",
      "\u001b[1;33m------------------\u001b[0m\u001b[1;31m 2022-08-01 09:23:03 \u001b[0m\u001b[1;33m------------------\u001b[0m\n"
     ]
    },
    {
     "name": "stderr",
     "output_type": "stream",
     "text": [
      "100%|██████████| 24/24 [00:00<00:00, 3628.16it/s]\n",
      "100%|██████████| 1/1 [00:00<00:00, 51.99it/s]\n"
     ]
    },
    {
     "name": "stdout",
     "output_type": "stream",
     "text": [
      "\u001b[1;33m------------------\u001b[0m\u001b[1;31m 2022-08-01 09:23:03 \u001b[0m\u001b[1;33m------------------\u001b[0m\n",
      "\u001b[1;33m\u001b[0m\u001b[1;32mDEBUG:\u001b[0m\u001b[1;33m 2 vars: ['max_sub_id', 'max_username'], at \u001b[0m\u001b[1;32m<ipython-input-20-26dbd8be3ee9>:3 get_group_users_preferred_submissions\u001b[0m\u001b[1;33m\u001b[0m\n",
      "\u001b[1;33m0 / 427.\u001b[0m \u001b[1;33m \u001b[0m\u001b[1;36mmax_sub_id\u001b[0m\u001b[1;33m num val: 676\u001b[0m\n",
      "\u001b[1;33m1 / 428.\u001b[0m \u001b[1;33m \u001b[0m\u001b[1;36mmax_username\u001b[0m\u001b[1;33m num val: 21347\u001b[0m\n",
      "\u001b[1;33m------------------\u001b[0m\u001b[1;31m 2022-08-01 09:23:03 \u001b[0m\u001b[1;33m------------------\u001b[0m\n"
     ]
    },
    {
     "name": "stderr",
     "output_type": "stream",
     "text": [
      "100%|██████████| 504/504 [00:00<00:00, 295571.76it/s]\n"
     ]
    },
    {
     "name": "stdout",
     "output_type": "stream",
     "text": [
      "\u001b[1;33m------------------\u001b[0m\u001b[1;31m 2022-08-01 09:23:03 \u001b[0m\u001b[1;33m------------------\u001b[0m\n",
      "\u001b[1;33m\u001b[0m\u001b[1;32mDEBUG:\u001b[0m\u001b[1;33m at \u001b[0m\u001b[1;32m/home/TableSense/largedisk/wanrong/Curation-Modeling/utils.py:123 print_log\u001b[0m\u001b[1;33m\u001b[0m\n",
      "\u001b[1;33m\u001b[0m\u001b[1;36mUsers in group 13 prefers 0/21 submissions (sorted using %upvotes): []\u001b[0m\u001b[1;33m\u001b[0m\n",
      "\u001b[1;33m------------------\u001b[0m\u001b[1;31m 2022-08-01 09:23:03 \u001b[0m\u001b[1;33m------------------\u001b[0m\n"
     ]
    },
    {
     "name": "stderr",
     "output_type": "stream",
     "text": [
      "100%|██████████| 18/18 [00:00<00:00, 2820.75it/s]\n",
      "100%|██████████| 1/1 [00:00<00:00, 64.81it/s]\n"
     ]
    },
    {
     "name": "stdout",
     "output_type": "stream",
     "text": [
      "\u001b[1;33m------------------\u001b[0m\u001b[1;31m 2022-08-01 09:23:03 \u001b[0m\u001b[1;33m------------------\u001b[0m\n",
      "\u001b[1;33m\u001b[0m\u001b[1;32mDEBUG:\u001b[0m\u001b[1;33m 2 vars: ['max_sub_id', 'max_username'], at \u001b[0m\u001b[1;32m<ipython-input-20-26dbd8be3ee9>:3 get_group_users_preferred_submissions\u001b[0m\u001b[1;33m\u001b[0m\n",
      "\u001b[1;33m0 / 429.\u001b[0m \u001b[1;33m \u001b[0m\u001b[1;36mmax_sub_id\u001b[0m\u001b[1;33m num val: 676\u001b[0m\n",
      "\u001b[1;33m1 / 430.\u001b[0m \u001b[1;33m \u001b[0m\u001b[1;36mmax_username\u001b[0m\u001b[1;33m num val: 17946\u001b[0m\n",
      "\u001b[1;33m------------------\u001b[0m\u001b[1;31m 2022-08-01 09:23:03 \u001b[0m\u001b[1;33m------------------\u001b[0m\n"
     ]
    },
    {
     "name": "stderr",
     "output_type": "stream",
     "text": [
      "100%|██████████| 378/378 [00:00<00:00, 309536.69it/s]\n"
     ]
    },
    {
     "name": "stdout",
     "output_type": "stream",
     "text": [
      "\u001b[1;33m------------------\u001b[0m\u001b[1;31m 2022-08-01 09:23:03 \u001b[0m\u001b[1;33m------------------\u001b[0m\n",
      "\u001b[1;33m\u001b[0m\u001b[1;32mDEBUG:\u001b[0m\u001b[1;33m at \u001b[0m\u001b[1;32m/home/TableSense/largedisk/wanrong/Curation-Modeling/utils.py:123 print_log\u001b[0m\u001b[1;33m\u001b[0m\n",
      "\u001b[1;33m\u001b[0m\u001b[1;36mUsers in group 0 prefers 0/21 submissions (sorted using %upvotes): []\u001b[0m\u001b[1;33m\u001b[0m\n",
      "\u001b[1;33m------------------\u001b[0m\u001b[1;31m 2022-08-01 09:23:03 \u001b[0m\u001b[1;33m------------------\u001b[0m\n"
     ]
    },
    {
     "name": "stderr",
     "output_type": "stream",
     "text": [
      "100%|██████████| 17/17 [00:00<00:00, 3104.19it/s]\n",
      "100%|██████████| 1/1 [00:00<00:00, 65.90it/s]\n"
     ]
    },
    {
     "name": "stdout",
     "output_type": "stream",
     "text": [
      "\u001b[1;33m------------------\u001b[0m\u001b[1;31m 2022-08-01 09:23:03 \u001b[0m\u001b[1;33m------------------\u001b[0m\n",
      "\u001b[1;33m\u001b[0m\u001b[1;32mDEBUG:\u001b[0m\u001b[1;33m 2 vars: ['max_sub_id', 'max_username'], at \u001b[0m\u001b[1;32m<ipython-input-20-26dbd8be3ee9>:3 get_group_users_preferred_submissions\u001b[0m\u001b[1;33m\u001b[0m\n",
      "\u001b[1;33m0 / 431.\u001b[0m \u001b[1;33m \u001b[0m\u001b[1;36mmax_sub_id\u001b[0m\u001b[1;33m num val: 676\u001b[0m\n",
      "\u001b[1;33m1 / 432.\u001b[0m \u001b[1;33m \u001b[0m\u001b[1;36mmax_username\u001b[0m\u001b[1;33m num val: 19782\u001b[0m\n",
      "\u001b[1;33m------------------\u001b[0m\u001b[1;31m 2022-08-01 09:23:03 \u001b[0m\u001b[1;33m------------------\u001b[0m\n"
     ]
    },
    {
     "name": "stderr",
     "output_type": "stream",
     "text": [
      "100%|██████████| 357/357 [00:00<00:00, 296508.22it/s]\n"
     ]
    },
    {
     "name": "stdout",
     "output_type": "stream",
     "text": [
      "\u001b[1;33m------------------\u001b[0m\u001b[1;31m 2022-08-01 09:23:03 \u001b[0m\u001b[1;33m------------------\u001b[0m\n",
      "\u001b[1;33m\u001b[0m\u001b[1;32mDEBUG:\u001b[0m\u001b[1;33m at \u001b[0m\u001b[1;32m/home/TableSense/largedisk/wanrong/Curation-Modeling/utils.py:123 print_log\u001b[0m\u001b[1;33m\u001b[0m\n",
      "\u001b[1;33m\u001b[0m\u001b[1;36mUsers in group 31 prefers 9/21 submissions (sorted using %upvotes): [224, 459, 629, 281, 220, 641, 676, 603, 238]\u001b[0m\u001b[1;33m\u001b[0m\n",
      "\u001b[1;33m------------------\u001b[0m\u001b[1;31m 2022-08-01 09:23:03 \u001b[0m\u001b[1;33m------------------\u001b[0m\n"
     ]
    },
    {
     "name": "stderr",
     "output_type": "stream",
     "text": [
      "100%|██████████| 14/14 [00:00<00:00, 3779.14it/s]\n",
      "100%|██████████| 1/1 [00:00<00:00, 76.57it/s]\n"
     ]
    },
    {
     "name": "stdout",
     "output_type": "stream",
     "text": [
      "\u001b[1;33m------------------\u001b[0m\u001b[1;31m 2022-08-01 09:23:03 \u001b[0m\u001b[1;33m------------------\u001b[0m\n",
      "\u001b[1;33m\u001b[0m\u001b[1;32mDEBUG:\u001b[0m\u001b[1;33m 2 vars: ['max_sub_id', 'max_username'], at \u001b[0m\u001b[1;32m<ipython-input-20-26dbd8be3ee9>:3 get_group_users_preferred_submissions\u001b[0m\u001b[1;33m\u001b[0m\n",
      "\u001b[1;33m0 / 433.\u001b[0m \u001b[1;33m \u001b[0m\u001b[1;36mmax_sub_id\u001b[0m\u001b[1;33m num val: 676\u001b[0m\n",
      "\u001b[1;33m1 / 434.\u001b[0m \u001b[1;33m \u001b[0m\u001b[1;36mmax_username\u001b[0m\u001b[1;33m num val: 18866\u001b[0m\n",
      "\u001b[1;33m------------------\u001b[0m\u001b[1;31m 2022-08-01 09:23:03 \u001b[0m\u001b[1;33m------------------\u001b[0m\n"
     ]
    },
    {
     "name": "stderr",
     "output_type": "stream",
     "text": [
      "100%|██████████| 294/294 [00:00<00:00, 286506.83it/s]\n"
     ]
    },
    {
     "name": "stdout",
     "output_type": "stream",
     "text": [
      "\u001b[1;33m------------------\u001b[0m\u001b[1;31m 2022-08-01 09:23:03 \u001b[0m\u001b[1;33m------------------\u001b[0m\n",
      "\u001b[1;33m\u001b[0m\u001b[1;32mDEBUG:\u001b[0m\u001b[1;33m at \u001b[0m\u001b[1;32m/home/TableSense/largedisk/wanrong/Curation-Modeling/utils.py:123 print_log\u001b[0m\u001b[1;33m\u001b[0m\n",
      "\u001b[1;33m\u001b[0m\u001b[1;36mUsers in group 14 prefers 21/21 submissions (sorted using %upvotes): [394, 224, 566, 332, 459, 629, 269, 281, 273, 220, 470, 159, 296, 641, 676, 603, 348, 238, 410, 445, 114]\u001b[0m\u001b[1;33m\u001b[0m\n",
      "\u001b[1;33m------------------\u001b[0m\u001b[1;31m 2022-08-01 09:23:03 \u001b[0m\u001b[1;33m------------------\u001b[0m\n"
     ]
    },
    {
     "name": "stderr",
     "output_type": "stream",
     "text": [
      "100%|██████████| 24/24 [00:00<00:00, 3791.03it/s]\n",
      "100%|██████████| 1/1 [00:00<00:00, 53.33it/s]\n"
     ]
    },
    {
     "name": "stdout",
     "output_type": "stream",
     "text": [
      "\u001b[1;33m------------------\u001b[0m\u001b[1;31m 2022-08-01 09:23:04 \u001b[0m\u001b[1;33m------------------\u001b[0m\n",
      "\u001b[1;33m\u001b[0m\u001b[1;32mDEBUG:\u001b[0m\u001b[1;33m 2 vars: ['max_sub_id', 'max_username'], at \u001b[0m\u001b[1;32m<ipython-input-20-26dbd8be3ee9>:3 get_group_users_preferred_submissions\u001b[0m\u001b[1;33m\u001b[0m\n",
      "\u001b[1;33m0 / 435.\u001b[0m \u001b[1;33m \u001b[0m\u001b[1;36mmax_sub_id\u001b[0m\u001b[1;33m num val: 676\u001b[0m\n",
      "\u001b[1;33m1 / 436.\u001b[0m \u001b[1;33m \u001b[0m\u001b[1;36mmax_username\u001b[0m\u001b[1;33m num val: 21227\u001b[0m\n",
      "\u001b[1;33m------------------\u001b[0m\u001b[1;31m 2022-08-01 09:23:04 \u001b[0m\u001b[1;33m------------------\u001b[0m\n"
     ]
    },
    {
     "name": "stderr",
     "output_type": "stream",
     "text": [
      "100%|██████████| 504/504 [00:00<00:00, 286091.38it/s]\n"
     ]
    },
    {
     "name": "stdout",
     "output_type": "stream",
     "text": [
      "\u001b[1;33m------------------\u001b[0m\u001b[1;31m 2022-08-01 09:23:04 \u001b[0m\u001b[1;33m------------------\u001b[0m\n",
      "\u001b[1;33m\u001b[0m\u001b[1;32mDEBUG:\u001b[0m\u001b[1;33m at \u001b[0m\u001b[1;32m/home/TableSense/largedisk/wanrong/Curation-Modeling/utils.py:123 print_log\u001b[0m\u001b[1;33m\u001b[0m\n",
      "\u001b[1;33m\u001b[0m\u001b[1;36mUsers in group 33 prefers 21/21 submissions (sorted using %upvotes): [394, 224, 566, 332, 459, 629, 269, 281, 273, 220, 470, 159, 296, 641, 676, 603, 348, 238, 410, 445, 114]\u001b[0m\u001b[1;33m\u001b[0m\n",
      "\u001b[1;33m------------------\u001b[0m\u001b[1;31m 2022-08-01 09:23:04 \u001b[0m\u001b[1;33m------------------\u001b[0m\n"
     ]
    },
    {
     "name": "stderr",
     "output_type": "stream",
     "text": [
      "100%|██████████| 19/19 [00:00<00:00, 3417.02it/s]\n",
      "100%|██████████| 1/1 [00:00<00:00, 60.57it/s]\n"
     ]
    },
    {
     "name": "stdout",
     "output_type": "stream",
     "text": [
      "\u001b[1;33m------------------\u001b[0m\u001b[1;31m 2022-08-01 09:23:04 \u001b[0m\u001b[1;33m------------------\u001b[0m\n",
      "\u001b[1;33m\u001b[0m\u001b[1;32mDEBUG:\u001b[0m\u001b[1;33m 2 vars: ['max_sub_id', 'max_username'], at \u001b[0m\u001b[1;32m<ipython-input-20-26dbd8be3ee9>:3 get_group_users_preferred_submissions\u001b[0m\u001b[1;33m\u001b[0m\n",
      "\u001b[1;33m0 / 437.\u001b[0m \u001b[1;33m \u001b[0m\u001b[1;36mmax_sub_id\u001b[0m\u001b[1;33m num val: 676\u001b[0m\n",
      "\u001b[1;33m1 / 438.\u001b[0m \u001b[1;33m \u001b[0m\u001b[1;36mmax_username\u001b[0m\u001b[1;33m num val: 19363\u001b[0m\n",
      "\u001b[1;33m------------------\u001b[0m\u001b[1;31m 2022-08-01 09:23:04 \u001b[0m\u001b[1;33m------------------\u001b[0m\n"
     ]
    },
    {
     "name": "stderr",
     "output_type": "stream",
     "text": [
      "100%|██████████| 399/399 [00:00<00:00, 317436.89it/s]\n"
     ]
    },
    {
     "name": "stdout",
     "output_type": "stream",
     "text": [
      "\u001b[1;33m------------------\u001b[0m\u001b[1;31m 2022-08-01 09:23:04 \u001b[0m\u001b[1;33m------------------\u001b[0m\n",
      "\u001b[1;33m\u001b[0m\u001b[1;32mDEBUG:\u001b[0m\u001b[1;33m at \u001b[0m\u001b[1;32m/home/TableSense/largedisk/wanrong/Curation-Modeling/utils.py:123 print_log\u001b[0m\u001b[1;33m\u001b[0m\n",
      "\u001b[1;33m\u001b[0m\u001b[1;36mUsers in group 8 prefers 0/21 submissions (sorted using %upvotes): []\u001b[0m\u001b[1;33m\u001b[0m\n",
      "\u001b[1;33m------------------\u001b[0m\u001b[1;31m 2022-08-01 09:23:04 \u001b[0m\u001b[1;33m------------------\u001b[0m\n"
     ]
    },
    {
     "name": "stderr",
     "output_type": "stream",
     "text": [
      "100%|██████████| 14/14 [00:00<00:00, 3760.74it/s]\n",
      "100%|██████████| 1/1 [00:00<00:00, 52.18it/s]\n"
     ]
    },
    {
     "name": "stdout",
     "output_type": "stream",
     "text": [
      "\u001b[1;33m------------------\u001b[0m\u001b[1;31m 2022-08-01 09:23:04 \u001b[0m\u001b[1;33m------------------\u001b[0m\n",
      "\u001b[1;33m\u001b[0m\u001b[1;32mDEBUG:\u001b[0m\u001b[1;33m 2 vars: ['max_sub_id', 'max_username'], at \u001b[0m\u001b[1;32m<ipython-input-20-26dbd8be3ee9>:3 get_group_users_preferred_submissions\u001b[0m\u001b[1;33m\u001b[0m\n",
      "\u001b[1;33m0 / 439.\u001b[0m \u001b[1;33m \u001b[0m\u001b[1;36mmax_sub_id\u001b[0m\u001b[1;33m num val: 676\u001b[0m\n",
      "\u001b[1;33m1 / 440.\u001b[0m \u001b[1;33m \u001b[0m\u001b[1;36mmax_username\u001b[0m\u001b[1;33m num val: 19399\u001b[0m\n",
      "\u001b[1;33m------------------\u001b[0m\u001b[1;31m 2022-08-01 09:23:04 \u001b[0m\u001b[1;33m------------------\u001b[0m\n"
     ]
    },
    {
     "name": "stderr",
     "output_type": "stream",
     "text": [
      "100%|██████████| 294/294 [00:00<00:00, 300469.15it/s]\n"
     ]
    },
    {
     "name": "stdout",
     "output_type": "stream",
     "text": [
      "\u001b[1;33m------------------\u001b[0m\u001b[1;31m 2022-08-01 09:23:04 \u001b[0m\u001b[1;33m------------------\u001b[0m\n",
      "\u001b[1;33m\u001b[0m\u001b[1;32mDEBUG:\u001b[0m\u001b[1;33m at \u001b[0m\u001b[1;32m/home/TableSense/largedisk/wanrong/Curation-Modeling/utils.py:123 print_log\u001b[0m\u001b[1;33m\u001b[0m\n",
      "\u001b[1;33m\u001b[0m\u001b[1;36mUsers in group 15 prefers 21/21 submissions (sorted using %upvotes): [394, 224, 566, 332, 459, 629, 269, 281, 273, 220, 470, 159, 296, 641, 676, 603, 348, 238, 410, 445, 114]\u001b[0m\u001b[1;33m\u001b[0m\n",
      "\u001b[1;33m------------------\u001b[0m\u001b[1;31m 2022-08-01 09:23:04 \u001b[0m\u001b[1;33m------------------\u001b[0m\n"
     ]
    },
    {
     "name": "stderr",
     "output_type": "stream",
     "text": [
      "100%|██████████| 16/16 [00:00<00:00, 3064.19it/s]\n",
      "100%|██████████| 1/1 [00:00<00:00, 71.22it/s]\n"
     ]
    },
    {
     "name": "stdout",
     "output_type": "stream",
     "text": [
      "\u001b[1;33m------------------\u001b[0m\u001b[1;31m 2022-08-01 09:23:04 \u001b[0m\u001b[1;33m------------------\u001b[0m\n",
      "\u001b[1;33m\u001b[0m\u001b[1;32mDEBUG:\u001b[0m\u001b[1;33m 2 vars: ['max_sub_id', 'max_username'], at \u001b[0m\u001b[1;32m<ipython-input-20-26dbd8be3ee9>:3 get_group_users_preferred_submissions\u001b[0m\u001b[1;33m\u001b[0m\n",
      "\u001b[1;33m0 / 441.\u001b[0m \u001b[1;33m \u001b[0m\u001b[1;36mmax_sub_id\u001b[0m\u001b[1;33m num val: 676\u001b[0m\n",
      "\u001b[1;33m1 / 442.\u001b[0m \u001b[1;33m \u001b[0m\u001b[1;36mmax_username\u001b[0m\u001b[1;33m num val: 21305\u001b[0m\n",
      "\u001b[1;33m------------------\u001b[0m\u001b[1;31m 2022-08-01 09:23:04 \u001b[0m\u001b[1;33m------------------\u001b[0m\n"
     ]
    },
    {
     "name": "stderr",
     "output_type": "stream",
     "text": [
      "100%|██████████| 336/336 [00:00<00:00, 296691.82it/s]\n"
     ]
    },
    {
     "name": "stdout",
     "output_type": "stream",
     "text": [
      "\u001b[1;33m------------------\u001b[0m\u001b[1;31m 2022-08-01 09:23:04 \u001b[0m\u001b[1;33m------------------\u001b[0m\n",
      "\u001b[1;33m\u001b[0m\u001b[1;32mDEBUG:\u001b[0m\u001b[1;33m at \u001b[0m\u001b[1;32m/home/TableSense/largedisk/wanrong/Curation-Modeling/utils.py:123 print_log\u001b[0m\u001b[1;33m\u001b[0m\n",
      "\u001b[1;33m\u001b[0m\u001b[1;36mUsers in group 26 prefers 5/21 submissions (sorted using %upvotes): [459, 629, 281, 220, 676]\u001b[0m\u001b[1;33m\u001b[0m\n",
      "\u001b[1;33m------------------\u001b[0m\u001b[1;31m 2022-08-01 09:23:04 \u001b[0m\u001b[1;33m------------------\u001b[0m\n"
     ]
    },
    {
     "data": {
      "image/png": "[encoded data removed]",
      "text/plain": [
       "<Figure size 576x576 with 1 Axes>"
      ]
     },
     "metadata": {},
     "output_type": "display_data"
    },
    {
     "data": {
      "image/png": "[encoded data removed]",
      "text/plain": [
       "<Figure size 576x576 with 1 Axes>"
      ]
     },
     "metadata": {},
     "output_type": "display_data"
    },
    {
     "data": {
      "image/png": "[encoded data removed]",
      "text/plain": [
       "<Figure size 576x576 with 1 Axes>"
      ]
     },
     "metadata": {},
     "output_type": "display_data"
    },
    {
     "data": {
      "image/png": "[encoded data removed]",
      "text/plain": [
       "<Figure size 576x576 with 1 Axes>"
      ]
     },
     "metadata": {},
     "output_type": "display_data"
    },
    {
     "data": {
      "image/png": "[encoded data removed]",
      "text/plain": [
       "<Figure size 576x576 with 1 Axes>"
      ]
     },
     "metadata": {},
     "output_type": "display_data"
    }
   ],
   "source": [
    "\n",
    "def predict_groups_preferences(users_in_groups, unique_submissions:dict, train_data, group_centers=None, user_grouping_method = \"rep\", existing_votes = None, existing_user_updown_votes=None):\n",
    "    # users_in_groups = existing_user_votes.most_common(3)\n",
    "    groups_users_preferred_submissions = {}\n",
    "    used_group_centers = []\n",
    "    if os.path.exists(config[\"preferred_submissions_venn_figure_dir\"]):\n",
    "        shutil.rmtree(config[\"preferred_submissions_venn_figure_dir\"])\n",
    "    os.makedirs(config[\"preferred_submissions_venn_figure_dir\"], exist_ok=True)\n",
    "    for group_x in users_in_groups:\n",
    "        if (user_grouping_method == \"rep\") and (len(users_in_groups[group_x]) <= config[\"group_user_num_lower_thres\"] or len(users_in_groups[group_x]) > config[\"group_user_num_upper_thres\"]): # keep middle sized centers\n",
    "            continue\n",
    "        if group_centers is not None: # only keep not similar centers\n",
    "            group_x_center = group_centers[group_x]\n",
    "            similar_center = False\n",
    "            for center in used_group_centers:\n",
    "                if torch.dot(group_x_center, center) > 0:\n",
    "                    similar_center = True\n",
    "                    break\n",
    "            if similar_center:\n",
    "                continue\n",
    "\n",
    "        ################ predicting votes of some users and some submissions ##################\n",
    "        group_x_users_subreddit_submissions_data = convert_group_users_subreddit_submissions_data(users_in_groups[group_x], unique_submissions)\n",
    "        predicted_group_x_users_submissions_votes = predict_group_users_submissions_votes(model, group_x_users_subreddit_submissions_data)\n",
    "        group_x_users_preferred_submissions, group_x_preferred_submissions_ranking, group_x_users_submission_votes, group_x_users_confidence, pred_group_x_users_subreddit_submission_vote_score_matrix, pred_group_x_users_subreddit_submission_vote_matrix = get_group_users_preferred_submissions(model, predicted_group_x_users_submissions_votes, users_in_groups[group_x], group_x_users_subreddit_submissions_data, train_data, existing_votes, thres = config[\"upvote_downvote_ratio_thres\"], existing_pred_submission_user_vote_score_matrix = pred_all_submission_user_vote_score_matrix) # can delete existing_pred_submission_user_vote_score_matrix if not available\n",
    "\n",
    "        ##########################################################################################\n",
    "\n",
    "        groups_users_preferred_submissions[f\"Group {group_x}\"] = group_x_users_preferred_submissions\n",
    "        if user_grouping_method == \"single_user_as_group\":\n",
    "            user_train_vote_prompt = f\"voted {existing_user_updown_votes[list(users_in_groups[group_x])[0]]} in training data, prediction confidence {list(group_x_users_confidence.values())[0]}, \"\n",
    "        else:\n",
    "            user_train_vote_prompt = \"\"\n",
    "        print_log(config[\"log_path\"], f\"Users in group {group_x} {user_train_vote_prompt}prefers {len(group_x_users_preferred_submissions)}/{len(unique_submissions)} submissions (sorted using %upvotes): {group_x_preferred_submissions_ranking[:len(group_x_users_preferred_submissions)]}\")\n",
    "        if len(groups_users_preferred_submissions) > 1 and len(groups_users_preferred_submissions) <=6:\n",
    "            ax = venn(groups_users_preferred_submissions) if len(groups_users_preferred_submissions) <=5 else pseudovenn(groups_users_preferred_submissions)\n",
    "            ax.figure.savefig(f\"{config['preferred_submissions_venn_figure_dir']}/{len(groups_users_preferred_submissions)}_groups.png\")\n",
    "\n",
    "\n",
    "model = model.to(model.device)\n",
    "predict_groups_preferences(users_in_groups, subreddit_test_submissions[a_subreddit], train_data, group_centers, user_grouping_method=user_grouping_method, existing_votes=existing_votes, existing_user_updown_votes=existing_user_updown_votes)\n"
   ]
  }
 ],
 "metadata": {
  "kernelspec": {
   "display_name": "Python 3.6.12 ('cr4')",
   "language": "python",
   "name": "python3"
  },
  "language_info": {
   "codemirror_mode": {
    "name": "ipython",
    "version": 3
   },
   "file_extension": ".py",
   "mimetype": "text/x-python",
   "name": "python",
   "nbconvert_exporter": "python",
   "pygments_lexer": "ipython3",
   "version": "3.6.12"
  },
  "orig_nbformat": 4,
  "vscode": {
   "interpreter": {
    "hash": "740471d2bc5e6e0b41d12bdc2e64373746aa6a34800f381ff958ff5f02fa0c53"
   }
  }
 },
 "nbformat": 4,
 "nbformat_minor": 2
}
