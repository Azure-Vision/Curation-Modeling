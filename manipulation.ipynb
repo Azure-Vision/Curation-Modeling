{
 "cells": [
  {
   "cell_type": "code",
   "execution_count": 2,
   "metadata": {},
   "outputs": [
    {
     "name": "stdout",
     "output_type": "stream",
     "text": [
      "GPU ready...\n",
      "Smart using cuda:0\n",
      "\u001b[1;33m------------------\u001b[0m\u001b[1;31m 2022-07-25 23:25:48 \u001b[0m\u001b[1;33m------------------\u001b[0m\n",
      "\u001b[1;33m\u001b[0m\u001b[1;32mDEBUG:\u001b[0m\u001b[1;33m at \u001b[0m\u001b[1;32m/home/TableSense/largedisk/wanrong/Curation-Modeling/data.py:283 get_model_input\u001b[0m\u001b[1;33m\u001b[0m\n",
      "\u001b[1;33m\u001b[0m\u001b[1;36mLoading prepared data...\u001b[0m\u001b[1;33m\u001b[0m\n",
      "\u001b[1;33m------------------\u001b[0m\u001b[1;31m 2022-07-25 23:25:48 \u001b[0m\u001b[1;33m------------------\u001b[0m\n"
     ]
    }
   ],
   "source": [
    "from utils import get_config, join_sets, load_model, print_log, save_model, load_model_dict\n",
    "from data import get_model_input\n",
    "from model import get_best_model\n",
    "from superdebug import debug\n",
    "config = get_config(\"configs/debug_med_ID_sim_new_votes.yml\", \"_manipulation\")\n",
    "config[\"batch_size\"] = 1\n",
    "all_feature_columns, target, train_model_input, test_model_input, feature_names, original_feature_map, max_voted_users, train_data, test_data, test_data_info = get_model_input(config)\n",
    "model, user_embedding = get_best_model(config, all_feature_columns, feature_names)\n",
    "model = model.to(model.device)"
   ]
  },
  {
   "cell_type": "code",
   "execution_count": 4,
   "metadata": {},
   "outputs": [],
   "source": [
    "import numpy as np\n",
    "from train import get_data_loader, pad_sequences\n",
    "model = model.eval()\n",
    "if \"UPVOTED_USERS\" in test_model_input:\n",
    "    test_model_input[\"UPVOTED_USERS\"] = pad_sequences(test_model_input[\"UPVOTED_USERS\"], maxlen=max_voted_users, padding='post')\n",
    "    test_model_input[\"DOWNVOTED_USERS\"] = pad_sequences(test_model_input[\"DOWNVOTED_USERS\"], maxlen=max_voted_users, padding='post')\n",
    "test_model_input_list = [test_model_input[feature] for feature in model.feature_index if feature in test_model_input]\n",
    "\n",
    "for i in range(len(test_model_input_list)):\n",
    "    if len(test_model_input_list[i].shape) == 1:\n",
    "        test_model_input_list[i] = np.expand_dims(test_model_input_list[i], axis=1)\n",
    "\n",
    "tensor_data, test_loader = get_data_loader(model.lm_encoder is not None, test_model_input_list, test_model_input.get(\"input_ids\", None),test_model_input.get(\"token_type_ids\", None) ,test_model_input.get(\"attention_mask\", None), test_data[target].values, None, shuffle=False, batch_size=config[\"batch_size\"])\n",
    "test_input_list = []\n",
    "for test_input in test_loader:\n",
    "    test_input_list.append(test_input)"
   ]
  },
  {
   "cell_type": "code",
   "execution_count": null,
   "metadata": {},
   "outputs": [],
   "source": [
    "from matplotlib import interactive\n",
    "import torch\n",
    "from tqdm import tqdm\n",
    "from train import convert_CTR_model_input, to_device, modify_updown_voted_users\n",
    "y = test_data[target].values\n",
    "print(\"Total user num:\", user_embedding.shape[0])\n",
    "for test_input in tqdm(test_input_list):\n",
    "    CTR_model_input = convert_CTR_model_input(model, test_input, sample_voted_users=True, interactive = True)\n",
    "    while CTR_model_input is not None:\n",
    "        x, _y, weight = CTR_model_input\n",
    "        print(\"User:\", int(x[:,model.feature_index[\"USERNAME\"][0]:model.feature_index[\"USERNAME\"][1]]))\n",
    "        y_pred = model(x).cpu().data.numpy()  # .squeeze()\n",
    "        print(y_pred[0][0], \"Upvote\" if y_pred[0][0] > 0.5 else \"Downvote\")\n",
    "        print(\"---------------------\")\n",
    "        CTR_model_input = convert_CTR_model_input(model, test_input, sample_voted_users=True, interactive = True)"
   ]
  },
  {
   "cell_type": "code",
   "execution_count": null,
   "metadata": {},
   "outputs": [],
   "source": []
  }
 ],
 "metadata": {
  "kernelspec": {
   "display_name": "Python 3.6.12 ('cr4')",
   "language": "python",
   "name": "python3"
  },
  "language_info": {
   "codemirror_mode": {
    "name": "ipython",
    "version": 3
   },
   "file_extension": ".py",
   "mimetype": "text/x-python",
   "name": "python",
   "nbconvert_exporter": "python",
   "pygments_lexer": "ipython3",
   "version": "3.6.12"
  },
  "orig_nbformat": 4,
  "vscode": {
   "interpreter": {
    "hash": "740471d2bc5e6e0b41d12bdc2e64373746aa6a34800f381ff958ff5f02fa0c53"
   }
  }
 },
 "nbformat": 4,
 "nbformat_minor": 2
}
