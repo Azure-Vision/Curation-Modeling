{
 "cells": [
  {
   "cell_type": "code",
   "execution_count": 1,
   "metadata": {},
   "outputs": [
    {
     "name": "stdout",
     "output_type": "stream",
     "text": [
      "为了使用邮件提醒功能，请设置环境变量MY_QQ_EMAIL（QQ邮箱地址）与MY_QQ_EMAIL_PWD（QQ邮箱授权码）\n",
      "\u001b[1;33m------------------\u001b[0m\u001b[1;31m 2022-07-19 17:04:24 \u001b[0m\u001b[1;33m------------------\u001b[0m\n",
      "GPU ready...\n",
      "Smart using cuda:3\n",
      "\u001b[1;33m------------------\u001b[0m\u001b[1;31m 2022-07-19 17:04:27 \u001b[0m\u001b[1;33m------------------\u001b[0m\n",
      "\u001b[1;33m\u001b[0m\u001b[1;32mDEBUG:\u001b[0m\u001b[1;33m at \u001b[0m\u001b[1;32m/home/TableSense/largedisk/wanrong/Curation-Modeling/data.py:188 get_model_input\u001b[0m\u001b[1;33m\u001b[0m\n",
      "\u001b[1;33m\u001b[0m\u001b[1;36mLoading prepared data...\u001b[0m\u001b[1;33m\u001b[0m\n",
      "\u001b[1;33m------------------\u001b[0m\u001b[1;31m 2022-07-19 17:04:27 \u001b[0m\u001b[1;33m------------------\u001b[0m\n"
     ]
    },
    {
     "name": "stderr",
     "output_type": "stream",
     "text": [
      "Some weights of the model checkpoint at google/electra-small-discriminator were not used when initializing ElectraModel: ['discriminator_predictions.dense_prediction.weight', 'discriminator_predictions.dense.bias', 'discriminator_predictions.dense_prediction.bias', 'discriminator_predictions.dense.weight']\n",
      "- This IS expected if you are initializing ElectraModel from the checkpoint of a model trained on another task or with another architecture (e.g. initializing a BertForSequenceClassification model from a BertForPreTraining model).\n",
      "- This IS NOT expected if you are initializing ElectraModel from the checkpoint of a model that you expect to be exactly identical (initializing a BertForSequenceClassification model from a BertForSequenceClassification model).\n"
     ]
    }
   ],
   "source": [
    "from utils import get_config, join_sets, load_model, print_log, save_model, load_model_dict\n",
    "from data import get_model_input\n",
    "from model import get_best_model\n",
    "from superdebug import debug\n",
    "config = get_config(\"configs/debug_med_LM.yml\", \"_curation\")\n",
    "config[\"batch_size\"] = 1\n",
    "all_feature_columns, target, train_model_input, test_model_input, feature_names, original_feature_map, max_voted_users, train_data, test_data = get_model_input(config)\n",
    "model, user_embedding = get_best_model(config, all_feature_columns, feature_names)\n",
    "model = model.to(model.device)"
   ]
  },
  {
   "cell_type": "code",
   "execution_count": 2,
   "metadata": {},
   "outputs": [],
   "source": [
    "import numpy as np\n",
    "from train import get_data_loader, pad_sequences\n",
    "model = model.eval()\n",
    "if \"UPVOTED_USERS\" in test_model_input:\n",
    "    test_model_input[\"UPVOTED_USERS\"] = pad_sequences(test_model_input[\"UPVOTED_USERS\"], maxlen=max_voted_users, padding='post')\n",
    "    test_model_input[\"DOWNVOTED_USERS\"] = pad_sequences(test_model_input[\"DOWNVOTED_USERS\"], maxlen=max_voted_users, padding='post')\n",
    "test_model_input_list = [test_model_input[feature] for feature in model.feature_index if feature in test_model_input]\n",
    "\n",
    "for i in range(len(test_model_input_list)):\n",
    "    if len(test_model_input_list[i].shape) == 1:\n",
    "        test_model_input_list[i] = np.expand_dims(test_model_input_list[i], axis=1)\n",
    "\n",
    "tensor_data, test_loader = get_data_loader(model.lm_encoder is not None, test_model_input_list, test_model_input[\"input_ids\"],test_model_input[\"token_type_ids\"] if \"token_type_ids\" in test_model_input else None,test_model_input[\"attention_mask\"], test_data[target].values, None, shuffle=False, batch_size=config[\"batch_size\"])\n",
    "test_input_list = []\n",
    "for test_input in test_loader:\n",
    "    test_input_list.append(test_input)"
   ]
  },
  {
   "cell_type": "code",
   "execution_count": 5,
   "metadata": {},
   "outputs": [
    {
     "name": "stdout",
     "output_type": "stream",
     "text": [
      "Total user num: 346\n"
     ]
    },
    {
     "name": "stderr",
     "output_type": "stream",
     "text": [
      "  0%|          | 0/42643 [00:00<?, ?it/s]"
     ]
    },
    {
     "name": "stdout",
     "output_type": "stream",
     "text": [
      "Original upvoted users: []\n",
      "New upvoted users: [1]\n",
      "Original downvoted users: []\n",
      "New downvoted users: []\n",
      "User: 179\n",
      "0.8025587 Upvote\n",
      "---------------------\n",
      "Original upvoted users: []\n",
      "New upvoted users: [1, 2, 3, 4, 5, 6, 7, 8]\n",
      "Original downvoted users: []\n",
      "New downvoted users: []\n",
      "User: 179\n",
      "0.9964966 Upvote\n",
      "---------------------\n",
      "Original upvoted users: []\n",
      "New upvoted users: []\n",
      "Original downvoted users: []\n",
      "New downvoted users: [1]\n",
      "User: 179\n",
      "0.77359784 Upvote\n",
      "---------------------\n",
      "Original upvoted users: []\n",
      "New upvoted users: []\n",
      "Original downvoted users: []\n",
      "New downvoted users: [1, 2, 3, 4, 5, 6, 7, 8]\n",
      "User: 179\n",
      "0.94703543 Upvote\n",
      "---------------------\n",
      "Original upvoted users: []\n",
      "New upvoted users: []\n",
      "Original downvoted users: []\n",
      "New downvoted users: []\n",
      "User: 179\n",
      "0.7471134 Upvote\n",
      "---------------------\n",
      "Original upvoted users: []\n",
      "New upvoted users: [179]\n",
      "Original downvoted users: []\n",
      "New downvoted users: []\n",
      "User: 179\n",
      "0.81467545 Upvote\n",
      "---------------------\n",
      "Original upvoted users: []\n",
      "New upvoted users: []\n",
      "Original downvoted users: []\n",
      "New downvoted users: [179]\n",
      "User: 179\n",
      "0.79463696 Upvote\n",
      "---------------------\n",
      "Original upvoted users: []\n",
      "New upvoted users: []\n",
      "Original downvoted users: []\n",
      "New downvoted users: [179, 5, 6, 7, 8, 9, 10]\n",
      "User: 179\n",
      "0.95401174 Upvote\n",
      "---------------------\n",
      "Original upvoted users: []\n",
      "New upvoted users: []\n",
      "Original downvoted users: []\n",
      "New downvoted users: [179, 179, 179, 179]\n",
      "User: 179\n",
      "0.8882938 Upvote\n",
      "---------------------\n",
      "Original upvoted users: []\n",
      "New upvoted users: []\n",
      "Original downvoted users: []\n",
      "New downvoted users: []\n",
      "User: 179\n",
      "0.7471134 Upvote\n",
      "---------------------\n",
      "Original upvoted users: []\n",
      "New upvoted users: []\n",
      "Original downvoted users: []\n",
      "New downvoted users: [179, 179, 179, 179, 179, 179, 19]\n",
      "User: 179\n",
      "0.93257207 Upvote\n",
      "---------------------\n",
      "Original upvoted users: []\n",
      "New upvoted users: [179, 179, 179, 179, 179, 179, 19]\n",
      "Original downvoted users: []\n",
      "New downvoted users: []\n",
      "User: 179\n",
      "0.9672875 Upvote\n",
      "---------------------\n",
      "Original upvoted users: []\n",
      "New upvoted users: []\n",
      "Original downvoted users: []\n",
      "New downvoted users: [12, 64, 55, 22, 87, 332, 55, 22]\n",
      "User: 179\n",
      "0.9428834 Upvote\n",
      "---------------------\n",
      "Original upvoted users: []\n",
      "New upvoted users: []\n",
      "Original downvoted users: []\n"
     ]
    },
    {
     "name": "stderr",
     "output_type": "stream",
     "text": [
      "  0%|          | 1/42643 [07:27<5298:00:40, 447.28s/it]"
     ]
    },
    {
     "name": "stdout",
     "output_type": "stream",
     "text": [
      "Original upvoted users: []\n",
      "New upvoted users: []\n",
      "Original downvoted users: []\n",
      "New downvoted users: []\n",
      "User: 310\n",
      "0.8345919 Upvote\n",
      "---------------------\n",
      "Original upvoted users: []\n",
      "New upvoted users: []\n",
      "Original downvoted users: []\n",
      "New downvoted users: []\n",
      "User: 310\n",
      "0.8345919 Upvote\n",
      "---------------------\n",
      "Original upvoted users: []\n",
      "New upvoted users: [1]\n",
      "Original downvoted users: []\n",
      "New downvoted users: [2]\n",
      "User: 310\n",
      "0.86578417 Upvote\n",
      "---------------------\n",
      "Original upvoted users: []\n"
     ]
    },
    {
     "name": "stderr",
     "output_type": "stream",
     "text": [
      "  0%|          | 2/42643 [08:12<2494:12:58, 210.58s/it]"
     ]
    },
    {
     "name": "stdout",
     "output_type": "stream",
     "text": [
      "Original upvoted users: []\n",
      "New upvoted users: []\n",
      "Original downvoted users: []\n",
      "New downvoted users: [1]\n",
      "User: 250\n",
      "0.7646766 Upvote\n",
      "---------------------\n",
      "Original upvoted users: []\n",
      "New upvoted users: []\n",
      "Original downvoted users: []\n",
      "New downvoted users: []\n",
      "User: 250\n",
      "0.7375101 Upvote\n",
      "---------------------\n",
      "Original upvoted users: []\n",
      "New upvoted users: []\n",
      "Original downvoted users: []\n",
      "New downvoted users: [250]\n",
      "User: 250\n",
      "0.6722196 Upvote\n",
      "---------------------\n",
      "Original upvoted users: []\n",
      "New upvoted users: []\n",
      "Original downvoted users: []\n",
      "New downvoted users: [250, 1, 2, 3, 4, 5, 6, 7]\n",
      "User: 250\n",
      "0.8875625 Upvote\n",
      "---------------------\n",
      "Original upvoted users: []\n",
      "New upvoted users: []\n",
      "Original downvoted users: []\n",
      "New downvoted users: []\n",
      "User: 250\n",
      "0.7375101 Upvote\n",
      "---------------------\n",
      "Original upvoted users: []\n"
     ]
    },
    {
     "name": "stderr",
     "output_type": "stream",
     "text": [
      "  0%|          | 2/42643 [11:35<4120:45:58, 347.90s/it]\n"
     ]
    },
    {
     "ename": "ValueError",
     "evalue": "invalid literal for int() with base 10: 'a'",
     "output_type": "error",
     "traceback": [
      "\u001b[0;31m---------------------------------------------------------------------------\u001b[0m",
      "\u001b[0;31mValueError\u001b[0m                                Traceback (most recent call last)",
      "\u001b[0;32m<ipython-input-5-08c50b34ebcd>\u001b[0m in \u001b[0;36m<module>\u001b[0;34m\u001b[0m\n\u001b[1;32m     13\u001b[0m         \u001b[0mprint\u001b[0m\u001b[0;34m(\u001b[0m\u001b[0my_pred\u001b[0m\u001b[0;34m[\u001b[0m\u001b[0;36m0\u001b[0m\u001b[0;34m]\u001b[0m\u001b[0;34m[\u001b[0m\u001b[0;36m0\u001b[0m\u001b[0;34m]\u001b[0m\u001b[0;34m,\u001b[0m \u001b[0;34m\"Upvote\"\u001b[0m \u001b[0;32mif\u001b[0m \u001b[0my_pred\u001b[0m\u001b[0;34m[\u001b[0m\u001b[0;36m0\u001b[0m\u001b[0;34m]\u001b[0m\u001b[0;34m[\u001b[0m\u001b[0;36m0\u001b[0m\u001b[0;34m]\u001b[0m \u001b[0;34m>\u001b[0m \u001b[0;36m0.5\u001b[0m \u001b[0;32melse\u001b[0m \u001b[0;34m\"Downvote\"\u001b[0m\u001b[0;34m)\u001b[0m\u001b[0;34m\u001b[0m\u001b[0;34m\u001b[0m\u001b[0m\n\u001b[1;32m     14\u001b[0m         \u001b[0mprint\u001b[0m\u001b[0;34m(\u001b[0m\u001b[0;34m\"---------------------\"\u001b[0m\u001b[0;34m)\u001b[0m\u001b[0;34m\u001b[0m\u001b[0;34m\u001b[0m\u001b[0m\n\u001b[0;32m---> 15\u001b[0;31m         \u001b[0mCTR_model_input\u001b[0m \u001b[0;34m=\u001b[0m \u001b[0mconvert_CTR_model_input\u001b[0m\u001b[0;34m(\u001b[0m\u001b[0mmodel\u001b[0m\u001b[0;34m,\u001b[0m \u001b[0mtest_input\u001b[0m\u001b[0;34m,\u001b[0m \u001b[0msample_voted_users\u001b[0m\u001b[0;34m=\u001b[0m\u001b[0;32mTrue\u001b[0m\u001b[0;34m,\u001b[0m \u001b[0minteractive\u001b[0m \u001b[0;34m=\u001b[0m \u001b[0;32mTrue\u001b[0m\u001b[0;34m)\u001b[0m\u001b[0;34m\u001b[0m\u001b[0;34m\u001b[0m\u001b[0m\n\u001b[0m",
      "\u001b[0;32m~/largedisk/wanrong/Curation-Modeling/train.py\u001b[0m in \u001b[0;36mconvert_CTR_model_input\u001b[0;34m(model, dataloader_input, sample_voted_users, interactive)\u001b[0m\n\u001b[1;32m    197\u001b[0m         \u001b[0mx\u001b[0m\u001b[0;34m,\u001b[0m \u001b[0my\u001b[0m\u001b[0;34m,\u001b[0m \u001b[0mweight\u001b[0m \u001b[0;34m=\u001b[0m \u001b[0mdataloader_input\u001b[0m\u001b[0;34m\u001b[0m\u001b[0;34m\u001b[0m\u001b[0m\n\u001b[1;32m    198\u001b[0m     \u001b[0;32mif\u001b[0m \u001b[0;34m\"UPVOTED_USERS\"\u001b[0m \u001b[0;32min\u001b[0m \u001b[0mmodel\u001b[0m\u001b[0;34m.\u001b[0m\u001b[0mfeature_index\u001b[0m \u001b[0;32mand\u001b[0m \u001b[0msample_voted_users\u001b[0m\u001b[0;34m:\u001b[0m\u001b[0;34m\u001b[0m\u001b[0;34m\u001b[0m\u001b[0m\n\u001b[0;32m--> 199\u001b[0;31m         \u001b[0mx\u001b[0m \u001b[0;34m=\u001b[0m \u001b[0msample_updown_voted_users\u001b[0m\u001b[0;34m(\u001b[0m\u001b[0mx\u001b[0m\u001b[0;34m,\u001b[0m \u001b[0mmodel\u001b[0m\u001b[0;34m,\u001b[0m \u001b[0mvote\u001b[0m \u001b[0;34m=\u001b[0m \u001b[0;34m\"upvote\"\u001b[0m\u001b[0;34m,\u001b[0m \u001b[0minteractive\u001b[0m \u001b[0;34m=\u001b[0m \u001b[0minteractive\u001b[0m\u001b[0;34m)\u001b[0m\u001b[0;34m\u001b[0m\u001b[0;34m\u001b[0m\u001b[0m\n\u001b[0m\u001b[1;32m    200\u001b[0m         \u001b[0mx\u001b[0m \u001b[0;34m=\u001b[0m \u001b[0msample_updown_voted_users\u001b[0m\u001b[0;34m(\u001b[0m\u001b[0mx\u001b[0m\u001b[0;34m,\u001b[0m \u001b[0mmodel\u001b[0m\u001b[0;34m,\u001b[0m \u001b[0mvote\u001b[0m \u001b[0;34m=\u001b[0m \u001b[0;34m\"downvote\"\u001b[0m\u001b[0;34m,\u001b[0m \u001b[0minteractive\u001b[0m \u001b[0;34m=\u001b[0m \u001b[0minteractive\u001b[0m\u001b[0;34m)\u001b[0m\u001b[0;34m\u001b[0m\u001b[0;34m\u001b[0m\u001b[0m\n\u001b[1;32m    201\u001b[0m         \u001b[0;32mif\u001b[0m \u001b[0mx\u001b[0m \u001b[0;32mis\u001b[0m \u001b[0;32mNone\u001b[0m\u001b[0;34m:\u001b[0m\u001b[0;34m\u001b[0m\u001b[0;34m\u001b[0m\u001b[0m\n",
      "\u001b[0;32m~/largedisk/wanrong/Curation-Modeling/train.py\u001b[0m in \u001b[0;36msample_updown_voted_users\u001b[0;34m(x, model, vote, interactive)\u001b[0m\n\u001b[1;32m    181\u001b[0m             \u001b[0;32mif\u001b[0m \u001b[0mselected_users\u001b[0m \u001b[0;34m==\u001b[0m \u001b[0;34m\".\"\u001b[0m\u001b[0;34m:\u001b[0m\u001b[0;34m\u001b[0m\u001b[0;34m\u001b[0m\u001b[0m\n\u001b[1;32m    182\u001b[0m                 \u001b[0;32mreturn\u001b[0m \u001b[0;32mNone\u001b[0m\u001b[0;34m\u001b[0m\u001b[0;34m\u001b[0m\u001b[0m\n\u001b[0;32m--> 183\u001b[0;31m             \u001b[0msampled_updown_voted_users\u001b[0m \u001b[0;34m=\u001b[0m \u001b[0;34m[\u001b[0m\u001b[0mint\u001b[0m\u001b[0;34m(\u001b[0m\u001b[0muser\u001b[0m\u001b[0;34m)\u001b[0m \u001b[0;32mfor\u001b[0m \u001b[0muser\u001b[0m \u001b[0;32min\u001b[0m \u001b[0mselected_users\u001b[0m\u001b[0;34m.\u001b[0m\u001b[0msplit\u001b[0m\u001b[0;34m(\u001b[0m\u001b[0;34m)\u001b[0m \u001b[0;32mif\u001b[0m \u001b[0mint\u001b[0m\u001b[0;34m(\u001b[0m\u001b[0muser\u001b[0m\u001b[0;34m)\u001b[0m \u001b[0;34m!=\u001b[0m \u001b[0;36m0\u001b[0m\u001b[0;34m]\u001b[0m\u001b[0;34m\u001b[0m\u001b[0;34m\u001b[0m\u001b[0m\n\u001b[0m\u001b[1;32m    184\u001b[0m             \u001b[0mprint\u001b[0m\u001b[0;34m(\u001b[0m\u001b[0;34mf\"New {vote}d users:\"\u001b[0m\u001b[0;34m,\u001b[0m \u001b[0msampled_updown_voted_users\u001b[0m\u001b[0;34m)\u001b[0m\u001b[0;34m\u001b[0m\u001b[0;34m\u001b[0m\u001b[0m\n\u001b[1;32m    185\u001b[0m         \u001b[0msampled_updown_voted_users\u001b[0m \u001b[0;34m=\u001b[0m \u001b[0mtorch\u001b[0m\u001b[0;34m.\u001b[0m\u001b[0mtensor\u001b[0m\u001b[0;34m(\u001b[0m\u001b[0msampled_updown_voted_users\u001b[0m\u001b[0;34m)\u001b[0m\u001b[0;34m\u001b[0m\u001b[0;34m\u001b[0m\u001b[0m\n",
      "\u001b[0;32m~/largedisk/wanrong/Curation-Modeling/train.py\u001b[0m in \u001b[0;36m<listcomp>\u001b[0;34m(.0)\u001b[0m\n\u001b[1;32m    181\u001b[0m             \u001b[0;32mif\u001b[0m \u001b[0mselected_users\u001b[0m \u001b[0;34m==\u001b[0m \u001b[0;34m\".\"\u001b[0m\u001b[0;34m:\u001b[0m\u001b[0;34m\u001b[0m\u001b[0;34m\u001b[0m\u001b[0m\n\u001b[1;32m    182\u001b[0m                 \u001b[0;32mreturn\u001b[0m \u001b[0;32mNone\u001b[0m\u001b[0;34m\u001b[0m\u001b[0;34m\u001b[0m\u001b[0m\n\u001b[0;32m--> 183\u001b[0;31m             \u001b[0msampled_updown_voted_users\u001b[0m \u001b[0;34m=\u001b[0m \u001b[0;34m[\u001b[0m\u001b[0mint\u001b[0m\u001b[0;34m(\u001b[0m\u001b[0muser\u001b[0m\u001b[0;34m)\u001b[0m \u001b[0;32mfor\u001b[0m \u001b[0muser\u001b[0m \u001b[0;32min\u001b[0m \u001b[0mselected_users\u001b[0m\u001b[0;34m.\u001b[0m\u001b[0msplit\u001b[0m\u001b[0;34m(\u001b[0m\u001b[0;34m)\u001b[0m \u001b[0;32mif\u001b[0m \u001b[0mint\u001b[0m\u001b[0;34m(\u001b[0m\u001b[0muser\u001b[0m\u001b[0;34m)\u001b[0m \u001b[0;34m!=\u001b[0m \u001b[0;36m0\u001b[0m\u001b[0;34m]\u001b[0m\u001b[0;34m\u001b[0m\u001b[0;34m\u001b[0m\u001b[0m\n\u001b[0m\u001b[1;32m    184\u001b[0m             \u001b[0mprint\u001b[0m\u001b[0;34m(\u001b[0m\u001b[0;34mf\"New {vote}d users:\"\u001b[0m\u001b[0;34m,\u001b[0m \u001b[0msampled_updown_voted_users\u001b[0m\u001b[0;34m)\u001b[0m\u001b[0;34m\u001b[0m\u001b[0;34m\u001b[0m\u001b[0m\n\u001b[1;32m    185\u001b[0m         \u001b[0msampled_updown_voted_users\u001b[0m \u001b[0;34m=\u001b[0m \u001b[0mtorch\u001b[0m\u001b[0;34m.\u001b[0m\u001b[0mtensor\u001b[0m\u001b[0;34m(\u001b[0m\u001b[0msampled_updown_voted_users\u001b[0m\u001b[0;34m)\u001b[0m\u001b[0;34m\u001b[0m\u001b[0;34m\u001b[0m\u001b[0m\n",
      "\u001b[0;31mValueError\u001b[0m: invalid literal for int() with base 10: 'a'"
     ]
    }
   ],
   "source": [
    "from matplotlib import interactive\n",
    "import torch\n",
    "from tqdm import tqdm\n",
    "from train import convert_CTR_model_input, to_device, sample_updown_voted_users\n",
    "y = test_data[target].values\n",
    "print(\"Total user num:\", user_embedding.shape[0])\n",
    "for test_input in tqdm(test_input_list):\n",
    "    CTR_model_input = convert_CTR_model_input(model, test_input, sample_voted_users=True, interactive = True)\n",
    "    while CTR_model_input is not None:\n",
    "        x, _y, weight = CTR_model_input\n",
    "        print(\"User:\", int(x[:,model.feature_index[\"USERNAME\"][0]:model.feature_index[\"USERNAME\"][1]]))\n",
    "        y_pred = model(x).cpu().data.numpy()  # .squeeze()\n",
    "        print(y_pred[0][0], \"Upvote\" if y_pred[0][0] > 0.5 else \"Downvote\")\n",
    "        print(\"---------------------\")\n",
    "        CTR_model_input = convert_CTR_model_input(model, test_input, sample_voted_users=True, interactive = True)"
   ]
  },
  {
   "cell_type": "code",
   "execution_count": null,
   "metadata": {},
   "outputs": [],
   "source": []
  }
 ],
 "metadata": {
  "kernelspec": {
   "display_name": "Python 3.6.12 ('cr4')",
   "language": "python",
   "name": "python3"
  },
  "language_info": {
   "codemirror_mode": {
    "name": "ipython",
    "version": 3
   },
   "file_extension": ".py",
   "mimetype": "text/x-python",
   "name": "python",
   "nbconvert_exporter": "python",
   "pygments_lexer": "ipython3",
   "version": "3.6.12"
  },
  "orig_nbformat": 4,
  "vscode": {
   "interpreter": {
    "hash": "740471d2bc5e6e0b41d12bdc2e64373746aa6a34800f381ff958ff5f02fa0c53"
   }
  }
 },
 "nbformat": 4,
 "nbformat_minor": 2
}
