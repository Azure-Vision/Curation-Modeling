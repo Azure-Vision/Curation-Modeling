{
 "cells": [
  {
   "cell_type": "code",
   "execution_count": 50,
   "metadata": {},
   "outputs": [],
   "source": [
    "import os\n",
    "env_vars = open(\".env.development\").read()\n",
    "DB_CONNECTION_STRING = env_vars.split(\"DB_CONNECTION_STRING = \")[1].split(\"?authSource\")[0]\n",
    "os.system(f\"mongoexport --uri {DB_CONNECTION_STRING} --collection users --out data/Curio/users.json\")\n",
    "os.system(f\"mongoexport --uri {DB_CONNECTION_STRING} --collection posts --out data/Curio/posts.json\")\n",
    "os.system(f\"mongoexport --uri {DB_CONNECTION_STRING} --collection groups --out data/Curio/groups.json\")\n",
    "os.system(f\"mongoexport --uri {DB_CONNECTION_STRING} --collection reactions --out data/Curio/reactions.json\")\n",
    "os.system(f\"mongoexport --uri {DB_CONNECTION_STRING} --collection echopostproposals --out data/Curio/echopostproposals.json\")\n",
    "os.system(f\"mongoexport --uri {DB_CONNECTION_STRING} --collection viewtimestamps --out data/Curio/viewtimestamps.json\")"
   ]
  },
  {
   "cell_type": "code",
   "execution_count": null,
   "metadata": {},
   "outputs": [],
   "source": [
    "import jsonlines\n",
    "import pandas as pd\n",
    "from superdebug import debug\n",
    "from collections import defaultdict\n",
    "curio_data_path = \"data/Curio/\"\n",
    "users = jsonlines.Reader(open(curio_data_path + \"users.json\"))\n",
    "posts = jsonlines.Reader(open(curio_data_path + \"posts.json\"))\n",
    "groups = jsonlines.Reader(open(curio_data_path + \"groups.json\"))\n",
    "reactions = jsonlines.Reader(open(curio_data_path + \"reactions.json\"))\n",
    "echopostproposals = jsonlines.Reader(open(curio_data_path + \"echopostproposals.json\"))\n",
    "viewtimestamps = jsonlines.Reader(open(curio_data_path + \"viewtimestamps.json\"))\n"
   ]
  },
  {
   "cell_type": "markdown",
   "metadata": {},
   "source": [
    "##### Record necessary information: `group_id_name_map, group_id_members_map, user_id_name_map, user_id_group_id_viewtime_map`"
   ]
  },
  {
   "cell_type": "code",
   "execution_count": null,
   "metadata": {},
   "outputs": [
    {
     "name": "stdout",
     "output_type": "stream",
     "text": [
      "\u001b[1;33m------------------\u001b[0m\u001b[1;31m 2022-11-01 04:43:16 \u001b[0m\u001b[1;33m------------------\u001b[0m\n",
      "\u001b[1;33m\u001b[0m\u001b[1;32mDEBUG:\u001b[0m\u001b[1;33m 1 vars: ['group_member_num'], at \u001b[0m\u001b[1;32m<ipython-input-43-489fcff12e8c>:12 <module>\u001b[0m\u001b[1;33m\u001b[0m\n",
      "\u001b[1;33m0 / 20.\u001b[0m \u001b[1;33m \u001b[0m\u001b[1;36mgroup_member_num\u001b[0m\u001b[1;33m dict {...} with 14 keys ['LOLCHI', 'Trivia', 'Team Llama', 'Team Mignon', 'The Positive Corner', 'Random', 'Food', 'Out of Context Quotes', 'Team PhThree', 'Stanford HCI', 'STANFORD', 'Campus Events', 'Stanford Wordle', 'Where Am I']\u001b[0m\u001b[1;33m\u001b[0m\n",
      "\u001b[1;33m    \u001b[0m\u001b[1;36mLOLCHI\u001b[0m\u001b[1;33m num val: 23\u001b[0m\n",
      "\u001b[1;33m    \u001b[0m\u001b[1;36mTrivia\u001b[0m\u001b[1;33m num val: 18\u001b[0m\n",
      "\u001b[1;33m    \u001b[0m\u001b[1;36mTeam Llama\u001b[0m\u001b[1;33m num val: 7\u001b[0m\n",
      "\u001b[1;33m    \u001b[0m\u001b[1;36mTeam Mignon\u001b[0m\u001b[1;33m num val: 9\u001b[0m\n",
      "\u001b[1;33m    \u001b[0m\u001b[1;36mThe Positive Corner\u001b[0m\u001b[1;33m num val: 16\u001b[0m\n",
      "\u001b[1;33m    \u001b[0m\u001b[1;36mRandom\u001b[0m\u001b[1;33m num val: 17\u001b[0m\n",
      "\u001b[1;33m    \u001b[0m\u001b[1;36mFood\u001b[0m\u001b[1;33m num val: 21\u001b[0m\n",
      "\u001b[1;33m    \u001b[0m\u001b[1;36mOut of Context Quotes\u001b[0m\u001b[1;33m num val: 16\u001b[0m\n",
      "\u001b[1;33m    \u001b[0m\u001b[1;36mTeam PhThree\u001b[0m\u001b[1;33m num val: 7\u001b[0m\n",
      "\u001b[1;33m    \u001b[0m\u001b[1;36mStanford HCI\u001b[0m\u001b[1;33m num val: 22\u001b[0m\n",
      "\u001b[1;33m    \u001b[0m\u001b[1;36mSTANFORD\u001b[0m\u001b[1;33m num val: 4\u001b[0m\n",
      "\u001b[1;33m    \u001b[0m\u001b[1;36mCampus Events\u001b[0m\u001b[1;33m num val: 5\u001b[0m\n",
      "\u001b[1;33m    \u001b[0m\u001b[1;36mStanford Wordle\u001b[0m\u001b[1;33m num val: 2\u001b[0m\n",
      "\u001b[1;33m    \u001b[0m\u001b[1;36mWhere Am I\u001b[0m\u001b[1;33m num val: 6\u001b[0m\n",
      "\u001b[1;33m------------------\u001b[0m\u001b[1;31m 2022-11-01 04:43:16 \u001b[0m\u001b[1;33m------------------\u001b[0m\n"
     ]
    }
   ],
   "source": [
    "group_id_members_map = {}\n",
    "group_name_member_num_map = {}\n",
    "group_id_name_map = {}\n",
    "for group in groups:\n",
    "    group_id = group['_id'][\"$oid\"]\n",
    "    group_name = group[\"name\"]\n",
    "    group_id_name_map[group_id] = group_name\n",
    "    members = [_[\"$oid\"] for _ in group['members']]\n",
    "    group_id_members_map[group_id] = members\n",
    "    if \"TEST\" not in group_name:\n",
    "        group_name_member_num_map[group_name] = len(members)\n",
    "debug(group_member_num = group_name_member_num_map)\n",
    "    \n",
    "user_id_name_map = {}\n",
    "for user in users:\n",
    "    user_id = user['_id'][\"$oid\"]\n",
    "    user_name = user[\"username\"]\n",
    "    user_id_name_map[user_id] = user_name\n",
    "    \n",
    "user_id_group_id_viewtime_map = defaultdict(dict)\n",
    "for viewtimestamp in viewtimestamps:\n",
    "    if viewtimestamp[\"user\"] is None: continue\n",
    "    user_id = viewtimestamp[\"user\"][\"$oid\"]\n",
    "    if \"group\" not in viewtimestamp or viewtimestamp[\"group\"] == None:\n",
    "        group_ids = []\n",
    "        for group_id in group_id_members_map:\n",
    "            if user_id in group_id_members_map[group_id]:\n",
    "                group_ids.append(group_id)\n",
    "    else:\n",
    "        group_ids = [viewtimestamp[\"group\"][\"$oid\"]]\n",
    "    dt_obj = pd.to_datetime(viewtimestamp[\"timestamp\"][\"$date\"], infer_datetime_format=True)\n",
    "    timestamp = dt_obj.timestamp()\n",
    "    for group_id in group_ids:\n",
    "        if group_id not in user_id_group_id_viewtime_map[user_id] or timestamp > user_id_group_id_viewtime_map[user_id][group_id]:\n",
    "            user_id_group_id_viewtime_map[user_id][group_id] = timestamp\n",
    "    "
   ]
  },
  {
   "cell_type": "markdown",
   "metadata": {},
   "source": [
    "##### Aggregate information about each post, and compose `posts_df`"
   ]
  },
  {
   "cell_type": "code",
   "execution_count": null,
   "metadata": {},
   "outputs": [],
   "source": [
    "import time\n",
    "from collections import defaultdict\n",
    "posts_info_map = defaultdict(dict)\n",
    "group_name_post_num_map = defaultdict(int)\n",
    "group_name_first_post_time_map = defaultdict(int)\n",
    "group_name_active_member_map = defaultdict(set)\n",
    "for post in posts:\n",
    "    group_id = post[\"group\"][\"$oid\"]\n",
    "    group_name = group_id_name_map[group_id]\n",
    "    if \"TEST\" in group_name or \"test\" in group_name:\n",
    "        continue\n",
    "    \n",
    "    group_name_post_num_map[group_name] += 1\n",
    "    \n",
    "    post_id = post[\"_id\"][\"$oid\"]\n",
    "    post_info = posts_info_map[post_id] # information about the post\n",
    "    post_info[\"SUBMISSION_ID\"] = post_id\n",
    "    \n",
    "    post_info[\"SUBREDDIT\"] = group_name\n",
    "    post_info[\"group_id\"] = group_id\n",
    "    title = post[\"contents\"]\n",
    "    post_info[\"TITLE\"] = title\n",
    "    \n",
    "    author_id = post[\"author\"][\"$oid\"]\n",
    "    author = user_id_name_map[author_id]\n",
    "    post_info[\"author_id\"] = author_id\n",
    "    post_info[\"AUTHOR\"] = author\n",
    "    post_info[\"NSFW\"] = None\n",
    "    post_info[\"LINK\"] = \"\"\n",
    "    \n",
    "    dt_obj = pd.to_datetime(post[\"updatedAt\"][\"$date\"], infer_datetime_format=True)\n",
    "    timestamp = dt_obj.timestamp()\n",
    "    post_info[\"timestamp\"] = timestamp\n",
    "    if (group_name not in group_name_first_post_time_map) or timestamp < group_name_first_post_time_map[group_name]:\n",
    "        group_name_first_post_time_map[group_name] = timestamp\n",
    "    \n",
    "    if abs(time.time() - timestamp) <= 10 * 24 * 60 * 60 and author_id in group_id_members_map[group_id]:\n",
    "        group_name_active_member_map[group_name].add(author_id)\n",
    "        \n",
    "    \n",
    "    if \"#_COMMENTS\" not in post_info:\n",
    "        post_info[\"#_COMMENTS\"] = 0\n",
    "        \n",
    "    if \"threadParent\" in post:\n",
    "        threadParent_id = post[\"threadParent\"][\"$oid\"]\n",
    "        if \"#_COMMENTS\" not in posts_info_map[threadParent_id]:\n",
    "            posts_info_map[threadParent_id][\"#_COMMENTS\"] = 1\n",
    "        else:\n",
    "            posts_info_map[threadParent_id][\"#_COMMENTS\"] += 1\n"
   ]
  },
  {
   "cell_type": "markdown",
   "metadata": {},
   "source": [
    "Analyze statistics"
   ]
  },
  {
   "cell_type": "code",
   "execution_count": null,
   "metadata": {},
   "outputs": [
    {
     "name": "stdout",
     "output_type": "stream",
     "text": [
      "{'LOLCHI': '0.1696', 'Trivia': '0.4023', 'Random': '0.2097', 'Team Llama': '0.6673', 'Team Mignon': '0.8522', 'The Positive Corner': '0.5080', 'Food': '0.2772', 'Out of Context Quotes': '0.5288', 'Team PhThree': '0.1453', 'Stanford HCI': '0.0488', 'Campus Events': '1.0965', 'Where Am I': '1.3688', 'STANFORD': '0.1371'}\n",
      "\u001b[1;33m------------------\u001b[0m\u001b[1;31m 2022-11-01 04:43:18 \u001b[0m\u001b[1;33m------------------\u001b[0m\n",
      "\u001b[1;33m\u001b[0m\u001b[1;32mDEBUG:\u001b[0m\u001b[1;33m 1 vars: ['group_posting_frequency_day'], at \u001b[0m\u001b[1;32m<ipython-input-45-43d8415bbca7>:3 <module>\u001b[0m\u001b[1;33m\u001b[0m\n",
      "\u001b[1;33m0 / 21.\u001b[0m \u001b[1;33m \u001b[0m\u001b[1;36mgroup_posting_frequency_day\u001b[0m\u001b[1;33m dict {...} with 13 keys ['LOLCHI', 'Trivia', 'Random', 'Team Llama', 'Team Mignon', 'The Positive Corner', 'Food', 'Out of Context Quotes', 'Team PhThree', 'Stanford HCI', 'Campus Events', 'Where Am I', 'STANFORD']\u001b[0m\u001b[1;33m\u001b[0m\n",
      "\u001b[1;33m    \u001b[0m\u001b[1;36mLOLCHI\u001b[0m\u001b[1;33m str len 6: 0.1696\u001b[0m\n",
      "\u001b[1;33m    \u001b[0m\u001b[1;36mTrivia\u001b[0m\u001b[1;33m str len 6: 0.4023\u001b[0m\n",
      "\u001b[1;33m    \u001b[0m\u001b[1;36mRandom\u001b[0m\u001b[1;33m str len 6: 0.2097\u001b[0m\n",
      "\u001b[1;33m    \u001b[0m\u001b[1;36mTeam Llama\u001b[0m\u001b[1;33m str len 6: 0.6673\u001b[0m\n",
      "\u001b[1;33m    \u001b[0m\u001b[1;36mTeam Mignon\u001b[0m\u001b[1;33m str len 6: 0.8522\u001b[0m\n",
      "\u001b[1;33m    \u001b[0m\u001b[1;36mThe Positive Corner\u001b[0m\u001b[1;33m str len 6: 0.5080\u001b[0m\n",
      "\u001b[1;33m    \u001b[0m\u001b[1;36mFood\u001b[0m\u001b[1;33m str len 6: 0.2772\u001b[0m\n",
      "\u001b[1;33m    \u001b[0m\u001b[1;36mOut of Context Quotes\u001b[0m\u001b[1;33m str len 6: 0.5288\u001b[0m\n",
      "\u001b[1;33m    \u001b[0m\u001b[1;36mTeam PhThree\u001b[0m\u001b[1;33m str len 6: 0.1453\u001b[0m\n",
      "\u001b[1;33m    \u001b[0m\u001b[1;36mStanford HCI\u001b[0m\u001b[1;33m str len 6: 0.0488\u001b[0m\n",
      "\u001b[1;33m    \u001b[0m\u001b[1;36mCampus Events\u001b[0m\u001b[1;33m str len 6: 1.0965\u001b[0m\n",
      "\u001b[1;33m    \u001b[0m\u001b[1;36mWhere Am I\u001b[0m\u001b[1;33m str len 6: 1.3688\u001b[0m\n",
      "\u001b[1;33m    \u001b[0m\u001b[1;36mSTANFORD\u001b[0m\u001b[1;33m str len 6: 0.1371\u001b[0m\n",
      "\u001b[1;33m------------------\u001b[0m\u001b[1;31m 2022-11-01 04:43:18 \u001b[0m\u001b[1;33m------------------\u001b[0m\n",
      "{'LOLCHI': '0.0074', 'Trivia': '0.0223', 'Random': '0.0123', 'Team Llama': '0.0953', 'Team Mignon': '0.0947', 'The Positive Corner': '0.0317', 'Food': '0.0132', 'Out of Context Quotes': '0.0330', 'Team PhThree': '0.0208', 'Stanford HCI': '0.0022', 'Campus Events': '0.2193', 'Where Am I': '0.2281', 'STANFORD': '0.0343'}\n",
      "\u001b[1;33m------------------\u001b[0m\u001b[1;31m 2022-11-01 04:43:18 \u001b[0m\u001b[1;33m------------------\u001b[0m\n",
      "\u001b[1;33m\u001b[0m\u001b[1;32mDEBUG:\u001b[0m\u001b[1;33m 1 vars: ['group_posting_frequency_per_person_day'], at \u001b[0m\u001b[1;32m<ipython-input-45-43d8415bbca7>:7 <module>\u001b[0m\u001b[1;33m\u001b[0m\n",
      "\u001b[1;33m0 / 22.\u001b[0m \u001b[1;33m \u001b[0m\u001b[1;36mgroup_posting_frequency_per_person_day\u001b[0m\u001b[1;33m dict {...} with 13 keys ['LOLCHI', 'Trivia', 'Random', 'Team Llama', 'Team Mignon', 'The Positive Corner', 'Food', 'Out of Context Quotes', 'Team PhThree', 'Stanford HCI', 'Campus Events', 'Where Am I', 'STANFORD']\u001b[0m\u001b[1;33m\u001b[0m\n",
      "\u001b[1;33m    \u001b[0m\u001b[1;36mLOLCHI\u001b[0m\u001b[1;33m str len 6: 0.0074\u001b[0m\n",
      "\u001b[1;33m    \u001b[0m\u001b[1;36mTrivia\u001b[0m\u001b[1;33m str len 6: 0.0223\u001b[0m\n",
      "\u001b[1;33m    \u001b[0m\u001b[1;36mRandom\u001b[0m\u001b[1;33m str len 6: 0.0123\u001b[0m\n",
      "\u001b[1;33m    \u001b[0m\u001b[1;36mTeam Llama\u001b[0m\u001b[1;33m str len 6: 0.0953\u001b[0m\n",
      "\u001b[1;33m    \u001b[0m\u001b[1;36mTeam Mignon\u001b[0m\u001b[1;33m str len 6: 0.0947\u001b[0m\n",
      "\u001b[1;33m    \u001b[0m\u001b[1;36mThe Positive Corner\u001b[0m\u001b[1;33m str len 6: 0.0317\u001b[0m\n",
      "\u001b[1;33m    \u001b[0m\u001b[1;36mFood\u001b[0m\u001b[1;33m str len 6: 0.0132\u001b[0m\n",
      "\u001b[1;33m    \u001b[0m\u001b[1;36mOut of Context Quotes\u001b[0m\u001b[1;33m str len 6: 0.0330\u001b[0m\n",
      "\u001b[1;33m    \u001b[0m\u001b[1;36mTeam PhThree\u001b[0m\u001b[1;33m str len 6: 0.0208\u001b[0m\n",
      "\u001b[1;33m    \u001b[0m\u001b[1;36mStanford HCI\u001b[0m\u001b[1;33m str len 6: 0.0022\u001b[0m\n",
      "\u001b[1;33m    \u001b[0m\u001b[1;36mCampus Events\u001b[0m\u001b[1;33m str len 6: 0.2193\u001b[0m\n",
      "\u001b[1;33m    \u001b[0m\u001b[1;36mWhere Am I\u001b[0m\u001b[1;33m str len 6: 0.2281\u001b[0m\n",
      "\u001b[1;33m    \u001b[0m\u001b[1;36mSTANFORD\u001b[0m\u001b[1;33m str len 6: 0.0343\u001b[0m\n",
      "\u001b[1;33m------------------\u001b[0m\u001b[1;31m 2022-11-01 04:43:18 \u001b[0m\u001b[1;33m------------------\u001b[0m\n"
     ]
    }
   ],
   "source": [
    "group_name_post_frequency_map = {group_name: (60 * 60 * 24 * group_name_post_num_map[group_name])/(time.time() - group_name_first_post_time_map[group_name]) for group_name in group_name_post_num_map}\n",
    "print({group_name: f\"{group_name_post_frequency_map[group_name]:.4f}\" for group_name in group_name_post_frequency_map})\n",
    "debug(group_posting_frequency_day = {group_name: f\"{group_name_post_frequency_map[group_name]:.4f}\" for group_name in group_name_post_frequency_map})\n",
    "\n",
    "group_name_post_frequency_per_person_map = {group_name: group_name_post_frequency_map[group_name]/group_name_member_num_map[group_name] for group_name in group_name_post_frequency_map}\n",
    "print({group_name: f\"{group_name_post_frequency_per_person_map[group_name]:.4f}\" for group_name in group_name_post_frequency_per_person_map})\n",
    "debug(group_posting_frequency_per_person_day = {group_name: f\"{group_name_post_frequency_per_person_map[group_name]:.4f}\" for group_name in group_name_post_frequency_per_person_map})\n",
    "posts_df = pd.DataFrame.from_records(list(posts_info_map.values()))"
   ]
  },
  {
   "cell_type": "markdown",
   "metadata": {},
   "source": [
    "##### Record users' votes on posts and compose `votes_df`"
   ]
  },
  {
   "cell_type": "code",
   "execution_count": null,
   "metadata": {},
   "outputs": [],
   "source": [
    "posts_users_votes = defaultdict(dict)\n",
    "for post_id, post_info in posts_info_map.items():\n",
    "    if \"SUBMISSION_ID\" not in post_info or \"SUBREDDIT\" not in post_info: continue\n",
    "    if post_info[\"SUBREDDIT\"] == \"\" or post_info[\"SUBREDDIT\"] == None: continue\n",
    "    assert post_id == post_info[\"SUBMISSION_ID\"]\n",
    "    post_timestamp = post_info[\"timestamp\"]\n",
    "    group_id = post_info[\"group_id\"]\n",
    "    author_id = post_info[\"author_id\"]\n",
    "    group_name = post_info[\"SUBREDDIT\"]\n",
    "    group_members = group_id_members_map[group_id]\n",
    "    \n",
    "    # fill in downvotes\n",
    "    users_votes = posts_users_votes[post_id]\n",
    "    for member_id in group_members:\n",
    "        if member_id in user_id_name_map and (group_id not in user_id_group_id_viewtime_map[member_id] or post_timestamp < user_id_group_id_viewtime_map[member_id][group_id]): # TODO:\n",
    "            users_votes[member_id] = {\"SUBMISSION_ID\": post_id,\t\"SUBREDDIT\": \"r/\" + group_name, \"CREATED_TIME\": post_timestamp, \"USERNAME\": user_id_name_map[member_id], \"VOTE\": \"downvote\"}\n",
    "    if author_id in users_votes:\n",
    "        users_votes[author_id][\"VOTE\"] = \"upvote\" # author always upvotes\n",
    "    else:\n",
    "        users_votes[author_id] = {\"SUBMISSION_ID\": post_id,\t\"SUBREDDIT\": \"r/\" + group_name, \"CREATED_TIME\": post_timestamp, \"USERNAME\": user_id_name_map[member_id], \"VOTE\": \"upvote\"}\n",
    "        "
   ]
  },
  {
   "cell_type": "code",
   "execution_count": null,
   "metadata": {},
   "outputs": [
    {
     "name": "stdout",
     "output_type": "stream",
     "text": [
      "{'LOLCHI': '0.4494', 'Trivia': '0.5843', 'Random': '0.5338', 'Team Llama': '0.7817', 'Team Mignon': '1.0245', 'The Positive Corner': '1.2363', 'Food': '0.7391', 'Out of Context Quotes': '1.5967', 'Team PhThree': '0.1869', 'Stanford HCI': '0.1952', 'Campus Events': '1.9187', 'Where Am I': '1.5056', 'STANFORD': '0.1371'}\n",
      "\u001b[1;33m------------------\u001b[0m\u001b[1;31m 2022-11-01 04:44:01 \u001b[0m\u001b[1;33m------------------\u001b[0m\n",
      "\u001b[1;33m\u001b[0m\u001b[1;32mDEBUG:\u001b[0m\u001b[1;33m 1 vars: ['group_posting_frequency_day'], at \u001b[0m\u001b[1;32m<ipython-input-49-ce52fbcadcf4>:50 <module>\u001b[0m\u001b[1;33m\u001b[0m\n",
      "\u001b[1;33m0 / 24.\u001b[0m \u001b[1;33m \u001b[0m\u001b[1;36mgroup_posting_frequency_day\u001b[0m\u001b[1;33m dict {...} with 13 keys ['LOLCHI', 'Trivia', 'Random', 'Team Llama', 'Team Mignon', 'The Positive Corner', 'Food', 'Out of Context Quotes', 'Team PhThree', 'Stanford HCI', 'Campus Events', 'Where Am I', 'STANFORD']\u001b[0m\u001b[1;33m\u001b[0m\n",
      "\u001b[1;33m    \u001b[0m\u001b[1;36mLOLCHI\u001b[0m\u001b[1;33m str len 6: 0.4494\u001b[0m\n",
      "\u001b[1;33m    \u001b[0m\u001b[1;36mTrivia\u001b[0m\u001b[1;33m str len 6: 0.5843\u001b[0m\n",
      "\u001b[1;33m    \u001b[0m\u001b[1;36mRandom\u001b[0m\u001b[1;33m str len 6: 0.5338\u001b[0m\n",
      "\u001b[1;33m    \u001b[0m\u001b[1;36mTeam Llama\u001b[0m\u001b[1;33m str len 6: 0.7817\u001b[0m\n",
      "\u001b[1;33m    \u001b[0m\u001b[1;36mTeam Mignon\u001b[0m\u001b[1;33m str len 6: 1.0245\u001b[0m\n",
      "\u001b[1;33m    \u001b[0m\u001b[1;36mThe Positive Corner\u001b[0m\u001b[1;33m str len 6: 1.2363\u001b[0m\n",
      "\u001b[1;33m    \u001b[0m\u001b[1;36mFood\u001b[0m\u001b[1;33m str len 6: 0.7391\u001b[0m\n",
      "\u001b[1;33m    \u001b[0m\u001b[1;36mOut of Context Quotes\u001b[0m\u001b[1;33m str len 6: 1.5967\u001b[0m\n",
      "\u001b[1;33m    \u001b[0m\u001b[1;36mTeam PhThree\u001b[0m\u001b[1;33m str len 6: 0.1869\u001b[0m\n",
      "\u001b[1;33m    \u001b[0m\u001b[1;36mStanford HCI\u001b[0m\u001b[1;33m str len 6: 0.1952\u001b[0m\n",
      "\u001b[1;33m    \u001b[0m\u001b[1;36mCampus Events\u001b[0m\u001b[1;33m str len 6: 1.9187\u001b[0m\n",
      "\u001b[1;33m    \u001b[0m\u001b[1;36mWhere Am I\u001b[0m\u001b[1;33m str len 6: 1.5056\u001b[0m\n",
      "\u001b[1;33m    \u001b[0m\u001b[1;36mSTANFORD\u001b[0m\u001b[1;33m str len 6: 0.1371\u001b[0m\n",
      "\u001b[1;33m------------------\u001b[0m\u001b[1;31m 2022-11-01 04:44:01 \u001b[0m\u001b[1;33m------------------\u001b[0m\n",
      "\u001b[1;33m------------------\u001b[0m\u001b[1;31m 2022-11-01 04:44:01 \u001b[0m\u001b[1;33m------------------\u001b[0m\n",
      "\u001b[1;33m\u001b[0m\u001b[1;32mDEBUG:\u001b[0m\u001b[1;33m 1 vars: ['group_active_member_num'], at \u001b[0m\u001b[1;32m<ipython-input-49-ce52fbcadcf4>:51 <module>\u001b[0m\u001b[1;33m\u001b[0m\n",
      "\u001b[1;33m0 / 25.\u001b[0m \u001b[1;33m \u001b[0m\u001b[1;36mgroup_active_member_num\u001b[0m\u001b[1;33m dict {...} with 6 keys ['Food', 'Out of Context Quotes', 'The Positive Corner', 'Campus Events', 'Where Am I', 'STANFORD']\u001b[0m\u001b[1;33m\u001b[0m\n",
      "\u001b[1;33m    \u001b[0m\u001b[1;36mFood\u001b[0m\u001b[1;33m num val: 2\u001b[0m\n",
      "\u001b[1;33m    \u001b[0m\u001b[1;36mOut of Context Quotes\u001b[0m\u001b[1;33m num val: 3\u001b[0m\n",
      "\u001b[1;33m    \u001b[0m\u001b[1;36mThe Positive Corner\u001b[0m\u001b[1;33m num val: 5\u001b[0m\n",
      "\u001b[1;33m    \u001b[0m\u001b[1;36mCampus Events\u001b[0m\u001b[1;33m num val: 3\u001b[0m\n",
      "\u001b[1;33m    \u001b[0m\u001b[1;36mWhere Am I\u001b[0m\u001b[1;33m num val: 4\u001b[0m\n",
      "\u001b[1;33m    \u001b[0m\u001b[1;36mSTANFORD\u001b[0m\u001b[1;33m num val: 1\u001b[0m\n",
      "\u001b[1;33m------------------\u001b[0m\u001b[1;31m 2022-11-01 04:44:01 \u001b[0m\u001b[1;33m------------------\u001b[0m\n"
     ]
    }
   ],
   "source": [
    "for reaction in reactions:\n",
    "    post_id = reaction[\"post\"][\"$oid\"]\n",
    "    if post_id not in posts_users_votes: continue\n",
    "    author_id = reaction[\"author\"][\"$oid\"]\n",
    "    if author_id in posts_users_votes[post_id]:\n",
    "        posts_users_votes[post_id][author_id][\"VOTE\"] = \"upvote\"\n",
    "    else:\n",
    "        posts_users_votes[post_id][author_id] = list(posts_users_votes[post_id].values())[0]\n",
    "        posts_users_votes[post_id][author_id][\"VOTE\"] = \"upvote\"\n",
    "        posts_users_votes[post_id][author_id][\"USERNAME\"] = user_id_name_map[author_id]\n",
    "        \n",
    "    group_id = posts_info_map[post_id][\"group_id\"]\n",
    "    group_name = group_id_name_map[group_id]\n",
    "    dt_obj = pd.to_datetime(reaction[\"updatedAt\"][\"$date\"], infer_datetime_format=True)\n",
    "    timestamp = dt_obj.timestamp()\n",
    "    if abs(time.time() - timestamp) <= 10 * 24 * 60 * 60 and author_id in group_id_members_map[group_id]:\n",
    "        group_name_active_member_map[group_name].add(author_id)\n",
    "\n",
    "for echopostproposal in echopostproposals:\n",
    "    post_id = echopostproposal[\"echoParent\"][\"$oid\"]\n",
    "    if post_id not in posts_users_votes: continue\n",
    "    author_id = echopostproposal[\"echoAuthor\"][\"$oid\"]\n",
    "    if author_id not in posts_users_votes[post_id]:\n",
    "        posts_users_votes[post_id][author_id] = list(posts_users_votes[post_id].values())[0]\n",
    "        posts_users_votes[post_id][author_id][\"VOTE\"] = \"upvote\"\n",
    "        posts_users_votes[post_id][author_id][\"USERNAME\"] = user_id_name_map[author_id]\n",
    "    else:\n",
    "        posts_users_votes[post_id][author_id][\"VOTE\"] = \"upvote\"\n",
    "        \n",
    "    group_id = posts_info_map[post_id][\"group_id\"]\n",
    "    group_name = group_id_name_map[group_id]\n",
    "    \n",
    "    post_timestamp = posts_info_map[post_id][\"timestamp\"]\n",
    "    if abs(time.time() - post_timestamp) <= 10 * 24 * 60 * 60 and author_id in group_id_members_map[group_id]:\n",
    "        group_name_active_member_map[group_name].add(author_id)\n",
    "\n",
    "        \n"
   ]
  },
  {
   "cell_type": "code",
   "execution_count": null,
   "metadata": {},
   "outputs": [],
   "source": [
    "all_votes = []\n",
    "group_name_upvote_num_map = defaultdict(int)\n",
    "for post_id, users_votes in posts_users_votes.items():\n",
    "    for user_id, vote in users_votes.items():\n",
    "        all_votes.append(vote)\n",
    "        if vote[\"VOTE\"] == \"upvote\":\n",
    "            group_name_upvote_num_map[vote[\"SUBREDDIT\"][2:]] += 1\n",
    "# group_name_upvote_frequency_map = {group_name: f\"{(time.time() - group_name_first_post_time_map[group_name])/(60 * 60 * 24 * group_name_upvote_num_map[group_name]):.4f}\" for group_name in group_name_upvote_num_map}\n",
    "# debug(group_upvoteing_frequency_day = group_name_upvote_frequency_map)\n",
    "\n",
    "group_name_upvote_frequency_map = {group_name: (60 * 60 * 24 * group_name_upvote_num_map[group_name])/(time.time() - group_name_first_post_time_map[group_name]) for group_name in group_name_upvote_num_map}\n",
    "print({group_name: f\"{group_name_upvote_frequency_map[group_name]:.4f}\" for group_name in group_name_upvote_frequency_map})\n",
    "debug(group_posting_frequency_day = {group_name: f\"{group_name_upvote_frequency_map[group_name]:.4f}\" for group_name in group_name_upvote_frequency_map})\n",
    "debug(group_active_member_num = {name: len(members) for name, members in group_name_active_member_map.items()})\n",
    "votes_df = pd.DataFrame.from_records(all_votes)"
   ]
  },
  {
   "cell_type": "code",
   "execution_count": null,
   "metadata": {},
   "outputs": [
    {
     "name": "stdout",
     "output_type": "stream",
     "text": [
      "{'LOLCHI': '2.6500', 'Random': '2.4545', 'Team Mignon': '1.2022', 'Team Llama': '1.1714', 'The Positive Corner': '2.3846', 'Food': '2.6296', 'Team PhThree': '1.2857', 'Out of Context Quotes': '2.9574', 'Trivia': '1.4524', 'Stanford HCI': '2.0000'}\n",
      "{'LOLCHI': '0.1152', 'Random': '0.1444', 'Team Mignon': '0.1336', 'Team Llama': '0.1673', 'The Positive Corner': '0.1490', 'Food': '0.1252', 'Team PhThree': '0.1837', 'Out of Context Quotes': '0.1848', 'Trivia': '0.0807', 'Stanford HCI': '0.0909'}\n"
     ]
    }
   ],
   "source": [
    "group_name_upvote_rate_map = {group_name: (group_name_upvote_num_map[group_name])/(group_name_post_num_map[group_name]) for group_name in group_name_upvote_num_map}\n",
    "print({group_name: f\"{group_name_upvote_rate_map[group_name]:.4f}\" for group_name in group_name_upvote_rate_map})\n",
    "group_name_upvote_rate_per_person_map = {group_name: (group_name_upvote_num_map[group_name])/(group_name_post_num_map[group_name] * group_name_member_num_map[group_name]) for group_name in group_name_upvote_num_map}\n",
    "print({group_name: f\"{group_name_upvote_rate_per_person_map[group_name]:.4f}\" for group_name in group_name_upvote_rate_per_person_map})"
   ]
  },
  {
   "cell_type": "code",
   "execution_count": null,
   "metadata": {},
   "outputs": [],
   "source": [
    "posts_df.to_csv(curio_data_path + \"post_info.txt\", sep = \"\\t\", index = False)\n",
    "votes_df.to_csv(curio_data_path + \"all_votes.txt\", sep = \"\\t\", index = False)"
   ]
  }
 ],
 "metadata": {
  "kernelspec": {
   "display_name": "Python 3.6.12 ('cr4')",
   "language": "python",
   "name": "python3"
  },
  "language_info": {
   "codemirror_mode": {
    "name": "ipython",
    "version": 3
   },
   "file_extension": ".py",
   "mimetype": "text/x-python",
   "name": "python",
   "nbconvert_exporter": "python",
   "pygments_lexer": "ipython3",
   "version": "3.6.12"
  },
  "orig_nbformat": 4,
  "vscode": {
   "interpreter": {
    "hash": "740471d2bc5e6e0b41d12bdc2e64373746aa6a34800f381ff958ff5f02fa0c53"
   }
  }
 },
 "nbformat": 4,
 "nbformat_minor": 2
}
