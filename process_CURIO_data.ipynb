{
 "cells": [
  {
   "cell_type": "code",
   "execution_count": 52,
   "metadata": {},
   "outputs": [],
   "source": [
    "DOWNLOAD_LATEST = False\n",
    "import os\n",
    "if DOWNLOAD_LATEST:\n",
    "    env_vars = open(\".env.development\").read()\n",
    "    DB_CONNECTION_STRING = env_vars.split(\"DB_CONNECTION_STRING = \")[1].split(\"?authSource\")[0]\n",
    "    os.system(f\"mongoexport --uri {DB_CONNECTION_STRING} --collection users --out data/Curio/users.json\")\n",
    "    os.system(f\"mongoexport --uri {DB_CONNECTION_STRING} --collection posts --out data/Curio/posts.json\")\n",
    "    os.system(f\"mongoexport --uri {DB_CONNECTION_STRING} --collection groups --out data/Curio/groups.json\")\n",
    "    os.system(f\"mongoexport --uri {DB_CONNECTION_STRING} --collection reactions --out data/Curio/reactions.json\")\n",
    "    os.system(f\"mongoexport --uri {DB_CONNECTION_STRING} --collection echopostproposals --out data/Curio/echopostproposals.json\")\n",
    "    os.system(f\"mongoexport --uri {DB_CONNECTION_STRING} --collection viewtimestamps --out data/Curio/viewtimestamps.json\")"
   ]
  },
  {
   "cell_type": "code",
   "execution_count": 53,
   "metadata": {},
   "outputs": [],
   "source": [
    "import jsonlines\n",
    "import pandas as pd\n",
    "from superdebug import debug\n",
    "from collections import defaultdict\n",
    "curio_data_path = \"data/Curio/\"\n",
    "users = jsonlines.Reader(open(curio_data_path + \"users.json\"))\n",
    "posts = jsonlines.Reader(open(curio_data_path + \"posts.json\"))\n",
    "groups = jsonlines.Reader(open(curio_data_path + \"groups.json\"))\n",
    "reactions = jsonlines.Reader(open(curio_data_path + \"reactions.json\"))\n",
    "echopostproposals = jsonlines.Reader(open(curio_data_path + \"echopostproposals.json\"))\n",
    "viewtimestamps = jsonlines.Reader(open(curio_data_path + \"viewtimestamps.json\"))\n"
   ]
  },
  {
   "cell_type": "markdown",
   "metadata": {},
   "source": [
    "##### Record necessary information: `group_id_name_map, group_id_members_id_map, user_id_name_map, user_id_group_id_viewtime_map`"
   ]
  },
  {
   "cell_type": "code",
   "execution_count": 54,
   "metadata": {},
   "outputs": [
    {
     "name": "stdout",
     "output_type": "stream",
     "text": [
      "\u001b[1;33m------------------\u001b[0m\u001b[1;31m 2022-11-01 08:32:22 \u001b[0m\u001b[1;33m------------------\u001b[0m\n",
      "\u001b[1;33m\u001b[0m\u001b[1;32mDEBUG:\u001b[0m\u001b[1;33m 1 vars: ['group_member_num'], at \u001b[0m\u001b[1;32m<ipython-input-54-5d1bfe551d68>:20 <module>\u001b[0m\u001b[1;33m\u001b[0m\n",
      "\u001b[1;33m0 / 26.\u001b[0m \u001b[1;33m \u001b[0m\u001b[1;36mgroup_member_num\u001b[0m\u001b[1;33m dict {...} with 14 keys ['LOLCHI', 'Trivia', 'Team|Llama', 'Team|Mignon', 'The|Positive|Corner', 'Random', 'Food', 'Out|of|Context|Quotes', 'Team|PhThree', 'Stanford|HCI', 'STANFORD', 'Campus|Events', 'Stanford|Wordle', 'Where|Am|I']\u001b[0m\u001b[1;33m\u001b[0m\n",
      "\u001b[1;33m    \u001b[0m\u001b[1;36mLOLCHI\u001b[0m\u001b[1;33m num val: 23\u001b[0m\n",
      "\u001b[1;33m    \u001b[0m\u001b[1;36mTrivia\u001b[0m\u001b[1;33m num val: 18\u001b[0m\n",
      "\u001b[1;33m    \u001b[0m\u001b[1;36mTeam|Llama\u001b[0m\u001b[1;33m num val: 7\u001b[0m\n",
      "\u001b[1;33m    \u001b[0m\u001b[1;36mTeam|Mignon\u001b[0m\u001b[1;33m num val: 9\u001b[0m\n",
      "\u001b[1;33m    \u001b[0m\u001b[1;36mThe|Positive|Corner\u001b[0m\u001b[1;33m num val: 16\u001b[0m\n",
      "\u001b[1;33m    \u001b[0m\u001b[1;36mRandom\u001b[0m\u001b[1;33m num val: 17\u001b[0m\n",
      "\u001b[1;33m    \u001b[0m\u001b[1;36mFood\u001b[0m\u001b[1;33m num val: 21\u001b[0m\n",
      "\u001b[1;33m    \u001b[0m\u001b[1;36mOut|of|Context|Quotes\u001b[0m\u001b[1;33m num val: 16\u001b[0m\n",
      "\u001b[1;33m    \u001b[0m\u001b[1;36mTeam|PhThree\u001b[0m\u001b[1;33m num val: 7\u001b[0m\n",
      "\u001b[1;33m    \u001b[0m\u001b[1;36mStanford|HCI\u001b[0m\u001b[1;33m num val: 22\u001b[0m\n",
      "\u001b[1;33m    \u001b[0m\u001b[1;36mSTANFORD\u001b[0m\u001b[1;33m num val: 4\u001b[0m\n",
      "\u001b[1;33m    \u001b[0m\u001b[1;36mCampus|Events\u001b[0m\u001b[1;33m num val: 5\u001b[0m\n",
      "\u001b[1;33m    \u001b[0m\u001b[1;36mStanford|Wordle\u001b[0m\u001b[1;33m num val: 2\u001b[0m\n",
      "\u001b[1;33m    \u001b[0m\u001b[1;36mWhere|Am|I\u001b[0m\u001b[1;33m num val: 6\u001b[0m\n",
      "\u001b[1;33m------------------\u001b[0m\u001b[1;31m 2022-11-01 08:32:22 \u001b[0m\u001b[1;33m------------------\u001b[0m\n",
      "group_id_members_name_map: {'Parent|(TEST)': ['parth', 'msb', 'parnoud', 'kjeong', 'msbtest4', 'Gayoung', 'jigar'], 'LOLCHI': ['parth', 'msb', 'wanrong', 'klee', 'parnoud', 'kjeong', 'joinbutton', 'Joyce', 'lindsay', 'amphinomid', 'leping', 'jigar', 'troutman', 'joon', 'elliejvela', 'michellelam', 'mitchell', 'nicolejg', 'Archit', 'jseering', 'Guest', 'alishah'], 'Trivia': ['wanrong', 'nicolejg', 'parnoud', 'lindsay', 'msb', 'ulo', 'kjeong', 'th0mas', 'amphinomid', 'Joyce', 'troutman', 'joon', 'elliejvela', 'michellelam', 'mitchell', 'parth', 'Guest', 'jigar'], 'Team|Llama': ['wanrong', 'nicolejg', 'msb', 'kjeong', 'amphinomid', 'parth'], 'Team|Mignon': ['nicolejg', 'parnoud', 'lindsay', 'Joyce', 'th0mas', 'ulo', 'parth', 'msb'], 'The|Positive|Corner': ['wanrong', 'parnoud', 'Joyce', 'ulo', 'kjeong', 'th0mas', 'amphinomid', 'nicolejg', 'msb', 'nasty nas', 'jobrien', 'elliejvela', 'troutman', 'jseering', 'parth', 'Archit'], 'Random': ['nicolejg', 'parnoud', 'lindsay', 'kjeong', 'msb', 'amphinomid', 'Joyce', 'troutman', 'joon', 'elliejvela', 'michellelam', 'mitchell', 'wanrong', 'jseering', 'parth', 'Archit', 'alishah'], 'Child|1|(TEST)': ['nicolejg', 'parnoud', 'msb', 'Wanrong', 'parth', 'Archit', 'msbtest4', 'Gayoung', 'jigar', 'prinse', 'lindsay', 'wanrong'], 'Grandchild|1|(TEST)': ['parnoud', 'nicolejg', 'msb', 'kjeong', 'parth', 'Archit', 'msbtest4', 'Gayoung'], 'Food': ['parth', 'msb', 'wanrong', 'klee', 'parnoud', 'kjeong', 'joinbutton', 'Joyce', 'lindsay', 'amphinomid', 'leping', 'nicolejg', 'joon', 'elliejvela', 'michellelam', 'mitchell', 'troutman', 'Archit', 'Guest', 'alishah'], 'Out|of|Context|Quotes': ['lindsay', 'parnoud', 'nicolejg', 'amphinomid', 'kjeong', 'joon', 'elliejvela', 'michellelam', 'mitchell', 'troutman', 'wanrong', 'Joyce', 'msb', 'jseering', 'Guest', 'parth'], 'Team|PhThree': ['nicolejg', 'joon', 'troutman', 'michellelam', 'mitchell', 'Archit', 'parth'], 'Child|2|(TEST)': ['parnoud', 'msb', 'nicolejg', 'kjeong', 'parth', 'Archit', 'msbtest4', 'Gayoung'], 'Stanford|HCI': ['parth', 'msb', 'wanrong', 'parnoud', 'kjeong', 'joinbutton', 'lindsay', 'ulo', 'amphinomid', 'Joyce', 'th0mas', 'jigar', 'troutman', 'joon', 'elliejvela', 'michellelam', 'mitchell', 'msbtest4', 'Archit', 'jseering'], 'No|Posts|Group|(TEST)': ['parth', 'msb', 'parnoud', 'kjeong', 'nicolejg', 'msbtest4', 'Gayoung', 'Archit'], 'STANFORD': ['kjeong', 'parnoud', 'wanrong'], 'Campus|Events': ['kjeong', 'msb', 'parnoud', 'wanrong', 'lindsay'], 'Stanford|Wordle': ['kjeong', 'wanrong'], 'Where|Am|I': ['kjeong', 'nicolejg', 'msb', 'parnoud', 'wanrong', 'lindsay']}\n"
     ]
    }
   ],
   "source": [
    "user_id_name_map = {}\n",
    "for user in users:\n",
    "    user_id = user['_id'][\"$oid\"]\n",
    "    user_name = user[\"username\"]\n",
    "    user_id_name_map[user_id] = user_name\n",
    "    \n",
    "group_id_members_id_map = {}\n",
    "group_id_members_name_map = {}\n",
    "group_name_member_num_map = {}\n",
    "group_id_name_map = {}\n",
    "for group in groups:\n",
    "    group_id = group['_id'][\"$oid\"]\n",
    "    group_name = group[\"name\"].replace(\" \", \"|\")\n",
    "    group_id_name_map[group_id] = group_name\n",
    "    members = [_[\"$oid\"] for _ in group['members']]\n",
    "    group_id_members_id_map[group_id] = members\n",
    "    group_id_members_name_map[group_name] = [user_id_name_map[user_id] for user_id in members if user_id in user_id_name_map]\n",
    "    if \"TEST\" not in group_name:\n",
    "        group_name_member_num_map[group_name] = len(members)\n",
    "debug(group_member_num = group_name_member_num_map)\n",
    "print(\"group_id_members_name_map:\", group_id_members_name_map)\n",
    "    \n",
    "user_id_group_id_viewtime_map = defaultdict(dict)\n",
    "for viewtimestamp in viewtimestamps:\n",
    "    if viewtimestamp[\"user\"] is None: continue\n",
    "    user_id = viewtimestamp[\"user\"][\"$oid\"]\n",
    "    if \"group\" not in viewtimestamp or viewtimestamp[\"group\"] == None:\n",
    "        group_ids = []\n",
    "        for group_id in group_id_members_id_map:\n",
    "            if user_id in group_id_members_id_map[group_id]:\n",
    "                group_ids.append(group_id)\n",
    "    else:\n",
    "        group_ids = [viewtimestamp[\"group\"][\"$oid\"]]\n",
    "    dt_obj = pd.to_datetime(viewtimestamp[\"timestamp\"][\"$date\"], infer_datetime_format=True)\n",
    "    timestamp = dt_obj.timestamp()\n",
    "    for group_id in group_ids:\n",
    "        if group_id not in user_id_group_id_viewtime_map[user_id] or timestamp > user_id_group_id_viewtime_map[user_id][group_id]:\n",
    "            user_id_group_id_viewtime_map[user_id][group_id] = timestamp\n",
    "    "
   ]
  },
  {
   "cell_type": "markdown",
   "metadata": {},
   "source": [
    "##### Aggregate information about each post, and compose `posts_df`"
   ]
  },
  {
   "cell_type": "code",
   "execution_count": 55,
   "metadata": {},
   "outputs": [],
   "source": [
    "import time\n",
    "from collections import defaultdict\n",
    "posts_info_map = defaultdict(dict)\n",
    "group_name_post_num_map = defaultdict(int)\n",
    "group_name_first_post_time_map = defaultdict(int)\n",
    "group_name_active_member_map = defaultdict(set)\n",
    "for post in posts:\n",
    "    group_id = post[\"group\"][\"$oid\"]\n",
    "    group_name = group_id_name_map[group_id]\n",
    "    if \"TEST\" in group_name or \"test\" in group_name:\n",
    "        continue\n",
    "    \n",
    "    group_name_post_num_map[group_name] += 1\n",
    "    \n",
    "    post_id = post[\"_id\"][\"$oid\"]\n",
    "    post_info = posts_info_map[post_id] # information about the post\n",
    "    post_info[\"SUBMISSION_ID\"] = post_id\n",
    "    \n",
    "    post_info[\"SUBREDDIT\"] = group_name\n",
    "    post_info[\"group_id\"] = group_id\n",
    "    title = post[\"contents\"]\n",
    "    post_info[\"TITLE\"] = title\n",
    "    \n",
    "    author_id = post[\"author\"][\"$oid\"]\n",
    "    author = user_id_name_map[author_id]\n",
    "    post_info[\"author_id\"] = author_id\n",
    "    post_info[\"AUTHOR\"] = author\n",
    "    post_info[\"NSFW\"] = None\n",
    "    post_info[\"LINK\"] = \"\"\n",
    "    \n",
    "    dt_obj = pd.to_datetime(post[\"updatedAt\"][\"$date\"], infer_datetime_format=True)\n",
    "    timestamp = dt_obj.timestamp()\n",
    "    post_info[\"timestamp\"] = timestamp\n",
    "    if (group_name not in group_name_first_post_time_map) or timestamp < group_name_first_post_time_map[group_name]:\n",
    "        group_name_first_post_time_map[group_name] = timestamp\n",
    "    \n",
    "    if abs(time.time() - timestamp) <= 10 * 24 * 60 * 60 and author_id in group_id_members_id_map[group_id]:\n",
    "        group_name_active_member_map[group_name].add(author_id)\n",
    "        \n",
    "    \n",
    "    if \"#_COMMENTS\" not in post_info:\n",
    "        post_info[\"#_COMMENTS\"] = 0\n",
    "        \n",
    "    if \"threadParent\" in post:\n",
    "        threadParent_id = post[\"threadParent\"][\"$oid\"]\n",
    "        if \"#_COMMENTS\" not in posts_info_map[threadParent_id]:\n",
    "            posts_info_map[threadParent_id][\"#_COMMENTS\"] = 1\n",
    "        else:\n",
    "            posts_info_map[threadParent_id][\"#_COMMENTS\"] += 1\n"
   ]
  },
  {
   "cell_type": "markdown",
   "metadata": {},
   "source": [
    "Analyze statistics"
   ]
  },
  {
   "cell_type": "code",
   "execution_count": 56,
   "metadata": {},
   "outputs": [
    {
     "name": "stdout",
     "output_type": "stream",
     "text": [
      "{'LOLCHI': '0.1694', 'Trivia': '0.4017', 'Random': '0.2094', 'Team|Llama': '0.6663', 'Team|Mignon': '0.8509', 'The|Positive|Corner': '0.5072', 'Food': '0.2767', 'Out|of|Context|Quotes': '0.5279', 'Team|PhThree': '0.1451', 'Stanford|HCI': '0.0484', 'Campus|Events': '1.0731', 'Where|Am|I': '1.3396', 'STANFORD': '0.1342'}\n",
      "\u001b[1;33m------------------\u001b[0m\u001b[1;31m 2022-11-01 08:32:23 \u001b[0m\u001b[1;33m------------------\u001b[0m\n",
      "\u001b[1;33m\u001b[0m\u001b[1;32mDEBUG:\u001b[0m\u001b[1;33m 1 vars: ['group_posting_frequency_day'], at \u001b[0m\u001b[1;32m<ipython-input-56-43d8415bbca7>:3 <module>\u001b[0m\u001b[1;33m\u001b[0m\n",
      "\u001b[1;33m0 / 27.\u001b[0m \u001b[1;33m \u001b[0m\u001b[1;36mgroup_posting_frequency_day\u001b[0m\u001b[1;33m dict {...} with 13 keys ['LOLCHI', 'Trivia', 'Random', 'Team|Llama', 'Team|Mignon', 'The|Positive|Corner', 'Food', 'Out|of|Context|Quotes', 'Team|PhThree', 'Stanford|HCI', 'Campus|Events', 'Where|Am|I', 'STANFORD']\u001b[0m\u001b[1;33m\u001b[0m\n",
      "\u001b[1;33m    \u001b[0m\u001b[1;36mLOLCHI\u001b[0m\u001b[1;33m str len 6: 0.1694\u001b[0m\n",
      "\u001b[1;33m    \u001b[0m\u001b[1;36mTrivia\u001b[0m\u001b[1;33m str len 6: 0.4017\u001b[0m\n",
      "\u001b[1;33m    \u001b[0m\u001b[1;36mRandom\u001b[0m\u001b[1;33m str len 6: 0.2094\u001b[0m\n",
      "\u001b[1;33m    \u001b[0m\u001b[1;36mTeam|Llama\u001b[0m\u001b[1;33m str len 6: 0.6663\u001b[0m\n",
      "\u001b[1;33m    \u001b[0m\u001b[1;36mTeam|Mignon\u001b[0m\u001b[1;33m str len 6: 0.8509\u001b[0m\n",
      "\u001b[1;33m    \u001b[0m\u001b[1;36mThe|Positive|Corner\u001b[0m\u001b[1;33m str len 6: 0.5072\u001b[0m\n",
      "\u001b[1;33m    \u001b[0m\u001b[1;36mFood\u001b[0m\u001b[1;33m str len 6: 0.2767\u001b[0m\n",
      "\u001b[1;33m    \u001b[0m\u001b[1;36mOut|of|Context|Quotes\u001b[0m\u001b[1;33m str len 6: 0.5279\u001b[0m\n",
      "\u001b[1;33m    \u001b[0m\u001b[1;36mTeam|PhThree\u001b[0m\u001b[1;33m str len 6: 0.1451\u001b[0m\n",
      "\u001b[1;33m    \u001b[0m\u001b[1;36mStanford|HCI\u001b[0m\u001b[1;33m str len 6: 0.0484\u001b[0m\n",
      "\u001b[1;33m    \u001b[0m\u001b[1;36mCampus|Events\u001b[0m\u001b[1;33m str len 6: 1.0731\u001b[0m\n",
      "\u001b[1;33m    \u001b[0m\u001b[1;36mWhere|Am|I\u001b[0m\u001b[1;33m str len 6: 1.3396\u001b[0m\n",
      "\u001b[1;33m    \u001b[0m\u001b[1;36mSTANFORD\u001b[0m\u001b[1;33m str len 6: 0.1342\u001b[0m\n",
      "\u001b[1;33m------------------\u001b[0m\u001b[1;31m 2022-11-01 08:32:23 \u001b[0m\u001b[1;33m------------------\u001b[0m\n",
      "{'LOLCHI': '0.0074', 'Trivia': '0.0223', 'Random': '0.0123', 'Team|Llama': '0.0952', 'Team|Mignon': '0.0945', 'The|Positive|Corner': '0.0317', 'Food': '0.0132', 'Out|of|Context|Quotes': '0.0330', 'Team|PhThree': '0.0207', 'Stanford|HCI': '0.0022', 'Campus|Events': '0.2146', 'Where|Am|I': '0.2233', 'STANFORD': '0.0335'}\n",
      "\u001b[1;33m------------------\u001b[0m\u001b[1;31m 2022-11-01 08:32:23 \u001b[0m\u001b[1;33m------------------\u001b[0m\n",
      "\u001b[1;33m\u001b[0m\u001b[1;32mDEBUG:\u001b[0m\u001b[1;33m 1 vars: ['group_posting_frequency_per_person_day'], at \u001b[0m\u001b[1;32m<ipython-input-56-43d8415bbca7>:7 <module>\u001b[0m\u001b[1;33m\u001b[0m\n",
      "\u001b[1;33m0 / 28.\u001b[0m \u001b[1;33m \u001b[0m\u001b[1;36mgroup_posting_frequency_per_person_day\u001b[0m\u001b[1;33m dict {...} with 13 keys ['LOLCHI', 'Trivia', 'Random', 'Team|Llama', 'Team|Mignon', 'The|Positive|Corner', 'Food', 'Out|of|Context|Quotes', 'Team|PhThree', 'Stanford|HCI', 'Campus|Events', 'Where|Am|I', 'STANFORD']\u001b[0m\u001b[1;33m\u001b[0m\n",
      "\u001b[1;33m    \u001b[0m\u001b[1;36mLOLCHI\u001b[0m\u001b[1;33m str len 6: 0.0074\u001b[0m\n",
      "\u001b[1;33m    \u001b[0m\u001b[1;36mTrivia\u001b[0m\u001b[1;33m str len 6: 0.0223\u001b[0m\n",
      "\u001b[1;33m    \u001b[0m\u001b[1;36mRandom\u001b[0m\u001b[1;33m str len 6: 0.0123\u001b[0m\n",
      "\u001b[1;33m    \u001b[0m\u001b[1;36mTeam|Llama\u001b[0m\u001b[1;33m str len 6: 0.0952\u001b[0m\n",
      "\u001b[1;33m    \u001b[0m\u001b[1;36mTeam|Mignon\u001b[0m\u001b[1;33m str len 6: 0.0945\u001b[0m\n",
      "\u001b[1;33m    \u001b[0m\u001b[1;36mThe|Positive|Corner\u001b[0m\u001b[1;33m str len 6: 0.0317\u001b[0m\n",
      "\u001b[1;33m    \u001b[0m\u001b[1;36mFood\u001b[0m\u001b[1;33m str len 6: 0.0132\u001b[0m\n",
      "\u001b[1;33m    \u001b[0m\u001b[1;36mOut|of|Context|Quotes\u001b[0m\u001b[1;33m str len 6: 0.0330\u001b[0m\n",
      "\u001b[1;33m    \u001b[0m\u001b[1;36mTeam|PhThree\u001b[0m\u001b[1;33m str len 6: 0.0207\u001b[0m\n",
      "\u001b[1;33m    \u001b[0m\u001b[1;36mStanford|HCI\u001b[0m\u001b[1;33m str len 6: 0.0022\u001b[0m\n",
      "\u001b[1;33m    \u001b[0m\u001b[1;36mCampus|Events\u001b[0m\u001b[1;33m str len 6: 0.2146\u001b[0m\n",
      "\u001b[1;33m    \u001b[0m\u001b[1;36mWhere|Am|I\u001b[0m\u001b[1;33m str len 6: 0.2233\u001b[0m\n",
      "\u001b[1;33m    \u001b[0m\u001b[1;36mSTANFORD\u001b[0m\u001b[1;33m str len 6: 0.0335\u001b[0m\n",
      "\u001b[1;33m------------------\u001b[0m\u001b[1;31m 2022-11-01 08:32:23 \u001b[0m\u001b[1;33m------------------\u001b[0m\n"
     ]
    }
   ],
   "source": [
    "group_name_post_frequency_map = {group_name: (60 * 60 * 24 * group_name_post_num_map[group_name])/(time.time() - group_name_first_post_time_map[group_name]) for group_name in group_name_post_num_map}\n",
    "print({group_name: f\"{group_name_post_frequency_map[group_name]:.4f}\" for group_name in group_name_post_frequency_map})\n",
    "debug(group_posting_frequency_day = {group_name: f\"{group_name_post_frequency_map[group_name]:.4f}\" for group_name in group_name_post_frequency_map})\n",
    "\n",
    "group_name_post_frequency_per_person_map = {group_name: group_name_post_frequency_map[group_name]/group_name_member_num_map[group_name] for group_name in group_name_post_frequency_map}\n",
    "print({group_name: f\"{group_name_post_frequency_per_person_map[group_name]:.4f}\" for group_name in group_name_post_frequency_per_person_map})\n",
    "debug(group_posting_frequency_per_person_day = {group_name: f\"{group_name_post_frequency_per_person_map[group_name]:.4f}\" for group_name in group_name_post_frequency_per_person_map})\n",
    "posts_df = pd.DataFrame.from_records(list(posts_info_map.values()))"
   ]
  },
  {
   "cell_type": "markdown",
   "metadata": {},
   "source": [
    "##### Record users' votes on posts and compose `votes_df`"
   ]
  },
  {
   "cell_type": "code",
   "execution_count": 57,
   "metadata": {},
   "outputs": [],
   "source": [
    "posts_users_votes = defaultdict(dict)\n",
    "for post_id, post_info in posts_info_map.items():\n",
    "    if \"SUBMISSION_ID\" not in post_info or \"SUBREDDIT\" not in post_info: continue\n",
    "    if post_info[\"SUBREDDIT\"] == \"\" or post_info[\"SUBREDDIT\"] == None: continue\n",
    "    assert post_id == post_info[\"SUBMISSION_ID\"]\n",
    "    post_timestamp = post_info[\"timestamp\"]\n",
    "    group_id = post_info[\"group_id\"]\n",
    "    author_id = post_info[\"author_id\"]\n",
    "    group_name = post_info[\"SUBREDDIT\"]\n",
    "    group_members = group_id_members_id_map[group_id]\n",
    "    \n",
    "    # fill in downvotes\n",
    "    users_votes = posts_users_votes[post_id]\n",
    "    for member_id in group_members:\n",
    "        if member_id in user_id_name_map and (group_id not in user_id_group_id_viewtime_map[member_id] or post_timestamp < user_id_group_id_viewtime_map[member_id][group_id]): # TODO:\n",
    "            users_votes[member_id] = {\"SUBMISSION_ID\": post_id,\t\"SUBREDDIT\": \"r/\" + group_name, \"CREATED_TIME\": post_timestamp, \"USERNAME\": user_id_name_map[member_id], \"VOTE\": \"downvote\"}\n",
    "    if author_id in users_votes:\n",
    "        users_votes[author_id][\"VOTE\"] = \"upvote\" # author always upvotes\n",
    "    else:\n",
    "        users_votes[author_id] = {\"SUBMISSION_ID\": post_id,\t\"SUBREDDIT\": \"r/\" + group_name, \"CREATED_TIME\": post_timestamp, \"USERNAME\": user_id_name_map[member_id], \"VOTE\": \"upvote\"}\n",
    "        "
   ]
  },
  {
   "cell_type": "code",
   "execution_count": 58,
   "metadata": {},
   "outputs": [],
   "source": [
    "for reaction in reactions:\n",
    "    post_id = reaction[\"post\"][\"$oid\"]\n",
    "    if post_id not in posts_users_votes: continue\n",
    "    author_id = reaction[\"author\"][\"$oid\"]\n",
    "    if author_id in posts_users_votes[post_id]:\n",
    "        posts_users_votes[post_id][author_id][\"VOTE\"] = \"upvote\"\n",
    "    else:\n",
    "        posts_users_votes[post_id][author_id] = list(posts_users_votes[post_id].values())[0]\n",
    "        posts_users_votes[post_id][author_id][\"VOTE\"] = \"upvote\"\n",
    "        posts_users_votes[post_id][author_id][\"USERNAME\"] = user_id_name_map[author_id]\n",
    "        \n",
    "    group_id = posts_info_map[post_id][\"group_id\"]\n",
    "    group_name = group_id_name_map[group_id]\n",
    "    dt_obj = pd.to_datetime(reaction[\"updatedAt\"][\"$date\"], infer_datetime_format=True)\n",
    "    timestamp = dt_obj.timestamp()\n",
    "    if abs(time.time() - timestamp) <= 10 * 24 * 60 * 60 and author_id in group_id_members_id_map[group_id]:\n",
    "        group_name_active_member_map[group_name].add(author_id)\n",
    "\n",
    "for echopostproposal in echopostproposals:\n",
    "    post_id = echopostproposal[\"echoParent\"][\"$oid\"]\n",
    "    if post_id not in posts_users_votes: continue\n",
    "    author_id = echopostproposal[\"echoAuthor\"][\"$oid\"]\n",
    "    if author_id not in posts_users_votes[post_id]:\n",
    "        posts_users_votes[post_id][author_id] = list(posts_users_votes[post_id].values())[0]\n",
    "        posts_users_votes[post_id][author_id][\"VOTE\"] = \"upvote\"\n",
    "        posts_users_votes[post_id][author_id][\"USERNAME\"] = user_id_name_map[author_id]\n",
    "    else:\n",
    "        posts_users_votes[post_id][author_id][\"VOTE\"] = \"upvote\"\n",
    "        \n",
    "    group_id = posts_info_map[post_id][\"group_id\"]\n",
    "    group_name = group_id_name_map[group_id]\n",
    "    \n",
    "    post_timestamp = posts_info_map[post_id][\"timestamp\"]\n",
    "    if abs(time.time() - post_timestamp) <= 10 * 24 * 60 * 60 and author_id in group_id_members_id_map[group_id]:\n",
    "        group_name_active_member_map[group_name].add(author_id)\n",
    "\n",
    "        \n"
   ]
  },
  {
   "cell_type": "code",
   "execution_count": 59,
   "metadata": {},
   "outputs": [
    {
     "name": "stdout",
     "output_type": "stream",
     "text": [
      "{'LOLCHI': '0.4488', 'Trivia': '0.5834', 'Random': '0.5330', 'Team|Llama': '0.7805', 'Team|Mignon': '1.0230', 'The|Positive|Corner': '1.2345', 'Food': '0.7379', 'Out|of|Context|Quotes': '1.5941', 'Team|PhThree': '0.1866', 'Stanford|HCI': '0.1937', 'Campus|Events': '1.8779', 'Where|Am|I': '1.4736', 'STANFORD': '0.1342'}\n",
      "\u001b[1;33m------------------\u001b[0m\u001b[1;31m 2022-11-01 08:32:24 \u001b[0m\u001b[1;33m------------------\u001b[0m\n",
      "\u001b[1;33m\u001b[0m\u001b[1;32mDEBUG:\u001b[0m\u001b[1;33m 1 vars: ['group_posting_frequency_day'], at \u001b[0m\u001b[1;32m<ipython-input-59-e9cd0c29aa30>:13 <module>\u001b[0m\u001b[1;33m\u001b[0m\n",
      "\u001b[1;33m0 / 29.\u001b[0m \u001b[1;33m \u001b[0m\u001b[1;36mgroup_posting_frequency_day\u001b[0m\u001b[1;33m dict {...} with 13 keys ['LOLCHI', 'Trivia', 'Random', 'Team|Llama', 'Team|Mignon', 'The|Positive|Corner', 'Food', 'Out|of|Context|Quotes', 'Team|PhThree', 'Stanford|HCI', 'Campus|Events', 'Where|Am|I', 'STANFORD']\u001b[0m\u001b[1;33m\u001b[0m\n",
      "\u001b[1;33m    \u001b[0m\u001b[1;36mLOLCHI\u001b[0m\u001b[1;33m str len 6: 0.4488\u001b[0m\n",
      "\u001b[1;33m    \u001b[0m\u001b[1;36mTrivia\u001b[0m\u001b[1;33m str len 6: 0.5834\u001b[0m\n",
      "\u001b[1;33m    \u001b[0m\u001b[1;36mRandom\u001b[0m\u001b[1;33m str len 6: 0.5330\u001b[0m\n",
      "\u001b[1;33m    \u001b[0m\u001b[1;36mTeam|Llama\u001b[0m\u001b[1;33m str len 6: 0.7805\u001b[0m\n",
      "\u001b[1;33m    \u001b[0m\u001b[1;36mTeam|Mignon\u001b[0m\u001b[1;33m str len 6: 1.0230\u001b[0m\n",
      "\u001b[1;33m    \u001b[0m\u001b[1;36mThe|Positive|Corner\u001b[0m\u001b[1;33m str len 6: 1.2345\u001b[0m\n",
      "\u001b[1;33m    \u001b[0m\u001b[1;36mFood\u001b[0m\u001b[1;33m str len 6: 0.7379\u001b[0m\n",
      "\u001b[1;33m    \u001b[0m\u001b[1;36mOut|of|Context|Quotes\u001b[0m\u001b[1;33m str len 6: 1.5941\u001b[0m\n",
      "\u001b[1;33m    \u001b[0m\u001b[1;36mTeam|PhThree\u001b[0m\u001b[1;33m str len 6: 0.1866\u001b[0m\n",
      "\u001b[1;33m    \u001b[0m\u001b[1;36mStanford|HCI\u001b[0m\u001b[1;33m str len 6: 0.1937\u001b[0m\n",
      "\u001b[1;33m    \u001b[0m\u001b[1;36mCampus|Events\u001b[0m\u001b[1;33m str len 6: 1.8779\u001b[0m\n",
      "\u001b[1;33m    \u001b[0m\u001b[1;36mWhere|Am|I\u001b[0m\u001b[1;33m str len 6: 1.4736\u001b[0m\n",
      "\u001b[1;33m    \u001b[0m\u001b[1;36mSTANFORD\u001b[0m\u001b[1;33m str len 6: 0.1342\u001b[0m\n",
      "\u001b[1;33m------------------\u001b[0m\u001b[1;31m 2022-11-01 08:32:24 \u001b[0m\u001b[1;33m------------------\u001b[0m\n",
      "\u001b[1;33m------------------\u001b[0m\u001b[1;31m 2022-11-01 08:32:24 \u001b[0m\u001b[1;33m------------------\u001b[0m\n",
      "\u001b[1;33m\u001b[0m\u001b[1;32mDEBUG:\u001b[0m\u001b[1;33m 1 vars: ['group_active_member_num'], at \u001b[0m\u001b[1;32m<ipython-input-59-e9cd0c29aa30>:14 <module>\u001b[0m\u001b[1;33m\u001b[0m\n",
      "\u001b[1;33m0 / 30.\u001b[0m \u001b[1;33m \u001b[0m\u001b[1;36mgroup_active_member_num\u001b[0m\u001b[1;33m str len 117: {'Food': 2, 'Out|of|Context|Quotes': 3, 'The|Positive|Corner': 5, 'Campus|Events': 3, 'Where|Am|I': 4, 'STANFORD': 1}\u001b[0m\n",
      "\u001b[1;33m------------------\u001b[0m\u001b[1;31m 2022-11-01 08:32:24 \u001b[0m\u001b[1;33m------------------\u001b[0m\n"
     ]
    }
   ],
   "source": [
    "all_votes = []\n",
    "group_name_upvote_num_map = defaultdict(int)\n",
    "for post_id, users_votes in posts_users_votes.items():\n",
    "    for user_id, vote in users_votes.items():\n",
    "        all_votes.append(vote)\n",
    "        if vote[\"VOTE\"] == \"upvote\":\n",
    "            group_name_upvote_num_map[vote[\"SUBREDDIT\"][2:]] += 1\n",
    "# group_name_upvote_frequency_map = {group_name: f\"{(time.time() - group_name_first_post_time_map[group_name])/(60 * 60 * 24 * group_name_upvote_num_map[group_name]):.4f}\" for group_name in group_name_upvote_num_map}\n",
    "# debug(group_upvoteing_frequency_day = group_name_upvote_frequency_map)\n",
    "\n",
    "group_name_upvote_frequency_map = {group_name: (60 * 60 * 24 * group_name_upvote_num_map[group_name])/(time.time() - group_name_first_post_time_map[group_name]) for group_name in group_name_upvote_num_map}\n",
    "print({group_name: f\"{group_name_upvote_frequency_map[group_name]:.4f}\" for group_name in group_name_upvote_frequency_map})\n",
    "debug(group_posting_frequency_day = {group_name: f\"{group_name_upvote_frequency_map[group_name]:.4f}\" for group_name in group_name_upvote_frequency_map})\n",
    "debug(group_active_member_num = str({name: len(members) for name, members in group_name_active_member_map.items()}))\n",
    "votes_df = pd.DataFrame.from_records(all_votes)"
   ]
  },
  {
   "cell_type": "code",
   "execution_count": 60,
   "metadata": {},
   "outputs": [
    {
     "name": "stdout",
     "output_type": "stream",
     "text": [
      "{'LOLCHI': '2.6500', 'Trivia': '1.4524', 'Random': '2.5455', 'Team|Llama': '1.1714', 'Team|Mignon': '1.2022', 'The|Positive|Corner': '2.4340', 'Food': '2.6667', 'Out|of|Context|Quotes': '3.0196', 'Team|PhThree': '1.2857', 'Stanford|HCI': '4.0000', 'Campus|Events': '1.7500', 'Where|Am|I': '1.1000', 'STANFORD': '1.0000'}\n",
      "{'LOLCHI': '0.1152', 'Trivia': '0.0807', 'Random': '0.1497', 'Team|Llama': '0.1673', 'Team|Mignon': '0.1336', 'The|Positive|Corner': '0.1521', 'Food': '0.1270', 'Out|of|Context|Quotes': '0.1887', 'Team|PhThree': '0.1837', 'Stanford|HCI': '0.1818', 'Campus|Events': '0.3500', 'Where|Am|I': '0.1833', 'STANFORD': '0.2500'}\n"
     ]
    }
   ],
   "source": [
    "group_name_upvote_rate_map = {group_name: (group_name_upvote_num_map[group_name])/(group_name_post_num_map[group_name]) for group_name in group_name_upvote_num_map}\n",
    "print({group_name: f\"{group_name_upvote_rate_map[group_name]:.4f}\" for group_name in group_name_upvote_rate_map})\n",
    "group_name_upvote_rate_per_person_map = {group_name: (group_name_upvote_num_map[group_name])/(group_name_post_num_map[group_name] * group_name_member_num_map[group_name]) for group_name in group_name_upvote_num_map}\n",
    "print({group_name: f\"{group_name_upvote_rate_per_person_map[group_name]:.4f}\" for group_name in group_name_upvote_rate_per_person_map})"
   ]
  },
  {
   "cell_type": "code",
   "execution_count": 61,
   "metadata": {},
   "outputs": [],
   "source": [
    "posts_df.to_csv(curio_data_path + \"post_info.txt\", sep = \"\\t\", index = False)\n",
    "votes_df.to_csv(curio_data_path + \"all_votes.txt\", sep = \"\\t\", index = False)"
   ]
  }
 ],
 "metadata": {
  "kernelspec": {
   "display_name": "Python 3.6.12 ('cr4')",
   "language": "python",
   "name": "python3"
  },
  "language_info": {
   "codemirror_mode": {
    "name": "ipython",
    "version": 3
   },
   "file_extension": ".py",
   "mimetype": "text/x-python",
   "name": "python",
   "nbconvert_exporter": "python",
   "pygments_lexer": "ipython3",
   "version": "3.6.12"
  },
  "orig_nbformat": 4,
  "vscode": {
   "interpreter": {
    "hash": "740471d2bc5e6e0b41d12bdc2e64373746aa6a34800f381ff958ff5f02fa0c53"
   }
  }
 },
 "nbformat": 4,
 "nbformat_minor": 2
}
