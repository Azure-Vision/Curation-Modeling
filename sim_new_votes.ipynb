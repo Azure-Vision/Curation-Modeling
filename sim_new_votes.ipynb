{
 "cells": [
  {
   "cell_type": "code",
   "execution_count": 227,
   "metadata": {},
   "outputs": [],
   "source": [
    "# CONFIG_PATH = \"configs/tmp.yml\"\n",
    "CONFIG_PATH = \"configs/debug_med_ID_sim_new_votes.yml\"\n",
    "# CONFIG_PATH = \"configs/debug_med_ID_sim_new_votes_finetune.yml\""
   ]
  },
  {
   "cell_type": "code",
   "execution_count": 228,
   "metadata": {},
   "outputs": [],
   "source": [
    "from collections import Counter, defaultdict\n",
    "import os\n",
    "import random\n",
    "import shutil\n",
    "import numpy as np\n",
    "import pandas as pd\n",
    "from superdebug import debug\n",
    "import torch\n",
    "from data import get_model_input\n",
    "from utils import get_config, join_sets, load_model, print_log, save_model, load_model_dict\n",
    "from model import get_best_model"
   ]
  },
  {
   "cell_type": "code",
   "execution_count": 229,
   "metadata": {},
   "outputs": [
    {
     "name": "stdout",
     "output_type": "stream",
     "text": [
      "GPU ready...\n",
      "Smart using cuda:0\n",
      "\u001b[1;33m------------------\u001b[0m\u001b[1;31m 2022-07-25 23:19:28 \u001b[0m\u001b[1;33m------------------\u001b[0m\n",
      "\u001b[1;33m\u001b[0m\u001b[1;32mDEBUG:\u001b[0m\u001b[1;33m at \u001b[0m\u001b[1;32m<ipython-input-229-1fd0ad4c56ed>:4 <module>\u001b[0m\u001b[1;33m\u001b[0m\n",
      "\u001b[1;33m\u001b[0m\u001b[1;36mUse peer votes as model input feature\u001b[0m\u001b[1;33m\u001b[0m\n",
      "\u001b[1;33m------------------\u001b[0m\u001b[1;31m 2022-07-25 23:19:28 \u001b[0m\u001b[1;33m------------------\u001b[0m\n"
     ]
    }
   ],
   "source": [
    "config = get_config(CONFIG_PATH, \"_curation\")\n",
    "use_voted_users_feature = config[\"use_voted_users_feature\"]\n",
    "if use_voted_users_feature:\n",
    "    debug(\"Use peer votes as model input feature\")\n",
    "else:\n",
    "    debug(\"Finetune the model using peer votes\")"
   ]
  },
  {
   "cell_type": "code",
   "execution_count": 230,
   "metadata": {},
   "outputs": [
    {
     "name": "stdout",
     "output_type": "stream",
     "text": [
      "\u001b[1;33m------------------\u001b[0m\u001b[1;31m 2022-07-25 23:19:28 \u001b[0m\u001b[1;33m------------------\u001b[0m\n",
      "\u001b[1;33m\u001b[0m\u001b[1;32mDEBUG:\u001b[0m\u001b[1;33m at \u001b[0m\u001b[1;32m/home/TableSense/largedisk/wanrong/Curation-Modeling/data.py:228 get_model_input\u001b[0m\u001b[1;33m\u001b[0m\n",
      "\u001b[1;33m\u001b[0m\u001b[1;36mLoading prepared data...\u001b[0m\u001b[1;33m\u001b[0m\n",
      "\u001b[1;33m------------------\u001b[0m\u001b[1;31m 2022-07-25 23:19:28 \u001b[0m\u001b[1;33m------------------\u001b[0m\n",
      "\u001b[1;33m------------------\u001b[0m\u001b[1;31m 2022-07-25 23:19:37 \u001b[0m\u001b[1;33m------------------\u001b[0m\n",
      "\u001b[1;33m\u001b[0m\u001b[1;32mDEBUG:\u001b[0m\u001b[1;33m 1 vars: ['max_voted_users'], at \u001b[0m\u001b[1;32m<ipython-input-230-89a97e373390>:3 <module>\u001b[0m\u001b[1;33m\u001b[0m\n",
      "\u001b[1;33m0 / 12.\u001b[0m \u001b[1;33m \u001b[0m\u001b[1;36mmax_voted_users\u001b[0m\u001b[1;33m num val: 808\u001b[0m\n",
      "\u001b[1;33m------------------\u001b[0m\u001b[1;31m 2022-07-25 23:19:37 \u001b[0m\u001b[1;33m------------------\u001b[0m\n"
     ]
    }
   ],
   "source": [
    "all_feature_columns, target, train_model_input, test_model_input, feature_names, original_feature_map, max_voted_users, train_data, test_data, test_data_info = get_model_input(config)\n",
    "model, user_embedding = get_best_model(config, all_feature_columns, feature_names)\n",
    "debug(max_voted_users=max_voted_users)"
   ]
  },
  {
   "cell_type": "code",
   "execution_count": 231,
   "metadata": {},
   "outputs": [
    {
     "name": "stdout",
     "output_type": "stream",
     "text": [
      "Mon Jul 25 23:19:38 2022       \n",
      "+-----------------------------------------------------------------------------+\n",
      "| NVIDIA-SMI 430.64       Driver Version: 430.64       CUDA Version: 10.1     |\n",
      "|-------------------------------+----------------------+----------------------+\n",
      "| GPU  Name        Persistence-M| Bus-Id        Disp.A | Volatile Uncorr. ECC |\n",
      "| Fan  Temp  Perf  Pwr:Usage/Cap|         Memory-Usage | GPU-Util  Compute M. |\n",
      "|===============================+======================+======================|\n",
      "|   0  Tesla V100-PCIE...  Off  | 00000001:00:00.0 Off |                    0 |\n",
      "| N/A   35C    P0    36W / 250W |   1942MiB / 16160MiB |      0%      Default |\n",
      "+-------------------------------+----------------------+----------------------+\n",
      "|   1  Tesla V100-PCIE...  Off  | 00000002:00:00.0 Off |                    0 |\n",
      "| N/A   34C    P0    36W / 250W |   4689MiB / 16160MiB |      0%      Default |\n",
      "+-------------------------------+----------------------+----------------------+\n",
      "|   2  Tesla V100-PCIE...  Off  | 00000003:00:00.0 Off |                    0 |\n",
      "| N/A   34C    P0    37W / 250W |   4877MiB / 16160MiB |      0%      Default |\n",
      "+-------------------------------+----------------------+----------------------+\n",
      "|   3  Tesla V100-PCIE...  Off  | 00000004:00:00.0 Off |                    0 |\n",
      "| N/A   33C    P0    36W / 250W |   4620MiB / 16160MiB |      0%      Default |\n",
      "+-------------------------------+----------------------+----------------------+\n",
      "                                                                               \n",
      "+-----------------------------------------------------------------------------+\n",
      "| Processes:                                                       GPU Memory |\n",
      "|  GPU       PID   Type   Process name                             Usage      |\n",
      "|=============================================================================|\n",
      "|    0     24007      C   ...ableSense/anaconda3/envs/cr4/bin/python  1931MiB |\n",
      "|    1      2110      C   ...ableSense/anaconda3/envs/tab/bin/python  3083MiB |\n",
      "|    1     24007      C   ...ableSense/anaconda3/envs/cr4/bin/python  1595MiB |\n",
      "|    2     24007      C   ...ableSense/anaconda3/envs/cr4/bin/python  4865MiB |\n",
      "|    3     24007      C   ...ableSense/anaconda3/envs/cr4/bin/python  4609MiB |\n",
      "+-----------------------------------------------------------------------------+\n"
     ]
    }
   ],
   "source": [
    "model.device\n",
    "!nvidia-smi"
   ]
  },
  {
   "cell_type": "code",
   "execution_count": 232,
   "metadata": {},
   "outputs": [
    {
     "data": {
      "text/html": [
       "<div>\n",
       "<style scoped>\n",
       "    .dataframe tbody tr th:only-of-type {\n",
       "        vertical-align: middle;\n",
       "    }\n",
       "\n",
       "    .dataframe tbody tr th {\n",
       "        vertical-align: top;\n",
       "    }\n",
       "\n",
       "    .dataframe thead th {\n",
       "        text-align: right;\n",
       "    }\n",
       "</style>\n",
       "<table border=\"1\" class=\"dataframe\">\n",
       "  <thead>\n",
       "    <tr style=\"text-align: right;\">\n",
       "      <th></th>\n",
       "      <th>SUBMISSION_ID</th>\n",
       "      <th>SUBREDDIT</th>\n",
       "      <th>CREATED_TIME</th>\n",
       "      <th>USERNAME</th>\n",
       "      <th>VOTE</th>\n",
       "      <th>TITLE</th>\n",
       "      <th>AUTHOR</th>\n",
       "      <th>#_COMMENTS</th>\n",
       "      <th>NSFW</th>\n",
       "      <th>SCORE</th>\n",
       "      <th>UPVOTED_%</th>\n",
       "      <th>LINK</th>\n",
       "      <th>UPVOTED_USERS</th>\n",
       "      <th>DOWNVOTED_USERS</th>\n",
       "    </tr>\n",
       "  </thead>\n",
       "  <tbody>\n",
       "    <tr>\n",
       "      <th>0</th>\n",
       "      <td>t3_fioaim</td>\n",
       "      <td>99</td>\n",
       "      <td>0.996856</td>\n",
       "      <td>12339</td>\n",
       "      <td>1</td>\n",
       "      <td>Thanks Obama</td>\n",
       "      <td>1211</td>\n",
       "      <td>135</td>\n",
       "      <td>0.0</td>\n",
       "      <td>93772</td>\n",
       "      <td>0.85</td>\n",
       "      <td>https://www.reddit.com/r/insanepeoplefacebook/...</td>\n",
       "      <td>[]</td>\n",
       "      <td>[]</td>\n",
       "    </tr>\n",
       "    <tr>\n",
       "      <th>10</th>\n",
       "      <td>t3_dr09w3</td>\n",
       "      <td>146</td>\n",
       "      <td>0.989665</td>\n",
       "      <td>10771</td>\n",
       "      <td>1</td>\n",
       "      <td>Microsoft Japan’s experiment with a 3-day week...</td>\n",
       "      <td>272</td>\n",
       "      <td>3307</td>\n",
       "      <td>0.0</td>\n",
       "      <td>123303</td>\n",
       "      <td>0.95</td>\n",
       "      <td>https://www.reddit.com/r/worldnews/comments/dr...</td>\n",
       "      <td>[]</td>\n",
       "      <td>[]</td>\n",
       "    </tr>\n",
       "  </tbody>\n",
       "</table>\n",
       "</div>"
      ],
      "text/plain": [
       "   SUBMISSION_ID  SUBREDDIT  CREATED_TIME  USERNAME  VOTE  \\\n",
       "0      t3_fioaim         99      0.996856     12339     1   \n",
       "10     t3_dr09w3        146      0.989665     10771     1   \n",
       "\n",
       "                                                TITLE  AUTHOR  #_COMMENTS  \\\n",
       "0                                        Thanks Obama    1211         135   \n",
       "10  Microsoft Japan’s experiment with a 3-day week...     272        3307   \n",
       "\n",
       "    NSFW   SCORE  UPVOTED_%  \\\n",
       "0    0.0   93772       0.85   \n",
       "10   0.0  123303       0.95   \n",
       "\n",
       "                                                 LINK UPVOTED_USERS  \\\n",
       "0   https://www.reddit.com/r/insanepeoplefacebook/...            []   \n",
       "10  https://www.reddit.com/r/worldnews/comments/dr...            []   \n",
       "\n",
       "   DOWNVOTED_USERS  \n",
       "0               []  \n",
       "10              []  "
      ]
     },
     "execution_count": 232,
     "metadata": {},
     "output_type": "execute_result"
    }
   ],
   "source": [
    "for column in [\"input_ids\", \"token_type_ids\", \"attention_mask\"]:\n",
    "    if column in test_model_input:\n",
    "        test_data[column] = test_model_input[column]\n",
    "test_data.iloc[:2]\n"
   ]
  },
  {
   "cell_type": "code",
   "execution_count": 233,
   "metadata": {},
   "outputs": [],
   "source": [
    "from train import evaluate_model, train_model\n",
    "import copy\n",
    "\n",
    "def count_new_vote_pred(peer_votes_num_acc_df, target_vote, pred_target_vote_score, peer_vote_num, peer_votes_data):\n",
    "    peer_votes_num_acc_df.loc[peer_vote_num, \"Total\"] += 1\n",
    "    pred_target_vote = int(pred_target_vote_score >= 0.5)\n",
    "    if pred_target_vote == target_vote:\n",
    "        peer_votes_num_acc_df.loc[peer_vote_num, \"Acc\"] += 1\n",
    "        peer_votes_num_acc_df.loc[peer_vote_num, \"Confidence\"] += abs(pred_target_vote_score - 0.5)\n",
    "    if peer_vote_num > 0:\n",
    "        majority_vote = -1\n",
    "        if sum(peer_votes_data[\"VOTE\"][:peer_vote_num])/peer_vote_num > 0.5:\n",
    "            majority_vote = 1\n",
    "        elif sum(peer_votes_data[\"VOTE\"][:peer_vote_num])/peer_vote_num < 0.5:\n",
    "            majority_vote = 0\n",
    "        if pred_target_vote == majority_vote:\n",
    "            peer_votes_num_acc_df.loc[peer_vote_num, \"Same as majority\"] += 1\n",
    "\n",
    "\n",
    "def pred_acc_peer_feature(peer_votes_num_acc_df, target_vote, target_vote_data, peer_votes_data):\n",
    "    all_peer_users = peer_votes_data[\"USERNAME\"].to_numpy()\n",
    "    all_peer_votes = peer_votes_data[\"VOTE\"].to_numpy()\n",
    "    target_vote_model_input = {column: target_vote_data[column] for column in target_vote_data}\n",
    "    upvoted_users, downvoted_users = [], []\n",
    "    for new_user_i in range(-1, len(all_peer_users)):\n",
    "        peer_vote_num = new_user_i + 1\n",
    "        if new_user_i >= 0:\n",
    "            new_user = all_peer_users[new_user_i]\n",
    "            new_vote = all_peer_votes[new_user_i]\n",
    "            if new_vote == 1:\n",
    "                upvoted_users.append(int(new_user))\n",
    "            elif new_vote == 0:\n",
    "                downvoted_users.append(int(new_user))\n",
    "        target_vote_model_input[\"UPVOTED_USERS\"] = [upvoted_users]\n",
    "        target_vote_model_input[\"DOWNVOTED_USERS\"] = [downvoted_users]\n",
    "        pred_target_vote_score = evaluate_model(model, target_vote_model_input, target_vote_model_input.get(\"input_ids\", None), target_vote_model_input.get(\"token_type_ids\", None), target_vote_model_input.get(\"attention_mask\", None), target_vote_data[target].values, data = target_vote_data, weights = None, batch_size=1, max_voted_users=max_voted_users,sample_voted_users=False, return_prediction=True, disable_tqdm=True)[0,0]\n",
    "        count_new_vote_pred(peer_votes_num_acc_df, target_vote, pred_target_vote_score, peer_vote_num, peer_votes_data)\n",
    "\n",
    "def pred_acc_peer_finetune(peer_votes_num_acc_df, target_vote, target_vote_data, peer_votes_data, n_step_per_sample=1):\n",
    "    target_vote_model_input = {column: target_vote_data[column] for column in target_vote_data}\n",
    "    tmp_model = copy.deepcopy(model)\n",
    "    # 0 peer votes\n",
    "    pred_target_vote_score = evaluate_model(tmp_model, target_vote_model_input, target_vote_model_input.get(\"input_ids\", None), target_vote_model_input.get(\"token_type_ids\", None), target_vote_model_input.get(\"attention_mask\", None), target_vote_data[target].values, data = target_vote_data, weights = None, batch_size=1, max_voted_users=max_voted_users,sample_voted_users=False, return_prediction=True, disable_tqdm=True)[0,0]\n",
    "    count_new_vote_pred(peer_votes_num_acc_df, target_vote, pred_target_vote_score, 0, peer_votes_data)\n",
    "\n",
    "    if len(peer_votes_data) > 0:\n",
    "        peer_votes_model_input = {column: peer_votes_data[column] for column in peer_votes_data}\n",
    "        for new_user_i, tmp_model in enumerate(train_model(config, tmp_model, x=peer_votes_model_input, y=peer_votes_data[target].values, weights = None, batch_size=1, epochs=1, verbose=2, validation_split=False, max_voted_users=max_voted_users, step_generator=True, n_step_per_sample=n_step_per_sample)):\n",
    "            if tmp_model is None:\n",
    "                break\n",
    "            peer_vote_num = new_user_i + 1\n",
    "            pred_target_vote_score = evaluate_model(tmp_model, target_vote_model_input, target_vote_model_input.get(\"input_ids\", None), target_vote_model_input.get(\"token_type_ids\", None), target_vote_model_input.get(\"attention_mask\", None), target_vote_data[target].values, data = target_vote_data, weights = None, batch_size=1, max_voted_users=max_voted_users,sample_voted_users=False, return_prediction=True, disable_tqdm=True)[0,0]\n",
    "            count_new_vote_pred(peer_votes_num_acc_df, target_vote, pred_target_vote_score, peer_vote_num, peer_votes_data)\n",
    "\n",
    "def pred_acc_peer_feature_finetune(peer_votes_num_acc_df, target_vote, target_vote_data, peer_votes_data, n_step_per_sample=1): # conbination of the upper two\n",
    "    pd.options.mode.chained_assignment = None\n",
    "    all_peer_users = peer_votes_data[\"USERNAME\"].to_numpy()\n",
    "    all_peer_votes = peer_votes_data[\"VOTE\"].to_numpy()\n",
    "    target_vote_model_input = {column: target_vote_data[column] for column in target_vote_data}\n",
    "\n",
    "    tmp_model = copy.deepcopy(model)\n",
    "    # 0 peer votes\n",
    "    upvoted_users, downvoted_users = [], []\n",
    "    target_vote_model_input[\"UPVOTED_USERS\"] = [upvoted_users]\n",
    "    target_vote_model_input[\"DOWNVOTED_USERS\"] = [downvoted_users]\n",
    "    pred_target_vote_score = evaluate_model(tmp_model, target_vote_model_input, target_vote_model_input.get(\"input_ids\", None), target_vote_model_input.get(\"token_type_ids\", None), target_vote_model_input.get(\"attention_mask\", None), target_vote_data[target].values, data = target_vote_data, weights = None, batch_size=1, max_voted_users=max_voted_users,sample_voted_users=False, return_prediction=True, disable_tqdm=True)[0,0]\n",
    "    count_new_vote_pred(peer_votes_num_acc_df, target_vote, pred_target_vote_score, 0, peer_votes_data)\n",
    "\n",
    "    if len(peer_votes_data) > 0:\n",
    "        peer_votes_model_input = {column: peer_votes_data[column] for column in peer_votes_data}\n",
    "        # construct train model peer_votes_model_input\n",
    "        peer_votes_model_input[\"UPVOTED_USERS\"].loc[0] = upvoted_users\n",
    "        peer_votes_model_input[\"DOWNVOTED_USERS\"].loc[0] = downvoted_users\n",
    "        for user_i in range(1, len(all_peer_users)):\n",
    "            new_user = all_peer_users[user_i - 1] # add last user (user_i - 1) to the peer votes for user_i\n",
    "            new_vote = all_peer_votes[user_i - 1]\n",
    "            if new_vote == 1:\n",
    "                upvoted_users.append(int(new_user))\n",
    "            elif new_vote == 0:\n",
    "                downvoted_users.append(int(new_user))\n",
    "            peer_votes_model_input[\"UPVOTED_USERS\"].loc[user_i] = upvoted_users\n",
    "            peer_votes_model_input[\"DOWNVOTED_USERS\"].loc[user_i] = downvoted_users\n",
    "        \n",
    "        # finetune the model\n",
    "        upvoted_users, downvoted_users = [], []\n",
    "        for new_user_i, tmp_model in enumerate(train_model(config, tmp_model, x=peer_votes_model_input, y=peer_votes_data[target].values, weights = None, batch_size=1, epochs=1, verbose=2, validation_split=False, max_voted_users=max_voted_users, step_generator=True, n_step_per_sample=n_step_per_sample)):\n",
    "            if tmp_model is None:\n",
    "                break\n",
    "            peer_vote_num = new_user_i + 1\n",
    "\n",
    "            # add peer votes to model input features\n",
    "            new_user = all_peer_users[new_user_i]\n",
    "            new_vote = all_peer_votes[new_user_i]\n",
    "            if new_vote == 1:\n",
    "                upvoted_users.append(int(new_user))\n",
    "            elif new_vote == 0:\n",
    "                downvoted_users.append(int(new_user))\n",
    "            target_vote_model_input[\"UPVOTED_USERS\"] = [upvoted_users]\n",
    "            target_vote_model_input[\"DOWNVOTED_USERS\"] = [downvoted_users]\n",
    "\n",
    "            pred_target_vote_score = evaluate_model(tmp_model, target_vote_model_input, target_vote_model_input.get(\"input_ids\", None), target_vote_model_input.get(\"token_type_ids\", None), target_vote_model_input.get(\"attention_mask\", None), target_vote_data[target].values, data = target_vote_data, weights = None, batch_size=1, max_voted_users=max_voted_users,sample_voted_users=False, return_prediction=True, disable_tqdm=True)[0,0]\n",
    "            count_new_vote_pred(peer_votes_num_acc_df, target_vote, pred_target_vote_score, peer_vote_num, peer_votes_data)"
   ]
  },
  {
   "cell_type": "code",
   "execution_count": 234,
   "metadata": {},
   "outputs": [],
   "source": [
    "if not use_voted_users_feature:\n",
    "    model.optim = torch.optim.Adam(model.parameters(), lr = 0.5 * config[\"learning_rate\"]) # 2 还不错，5不行\n",
    "    n_step_per_sample = 1"
   ]
  },
  {
   "cell_type": "code",
   "execution_count": 235,
   "metadata": {},
   "outputs": [
    {
     "name": "stderr",
     "output_type": "stream",
     "text": [
      "100%|██████████| 100/100 [04:02<00:00,  2.43s/it]\n"
     ]
    }
   ],
   "source": [
    "from tqdm import tqdm\n",
    "\n",
    "test_submissions = list(set(test_data[\"SUBMISSION_ID\"]))\n",
    "peer_votes_num_acc_df = pd.DataFrame(np.zeros((max_voted_users + 1,4)), columns=['Acc', 'Confidence', 'Total', \"Same as majority\"])\n",
    "\n",
    "for submission_id in tqdm(test_submissions[:100]):\n",
    "    submission_votes_data = test_data[test_data[\"SUBMISSION_ID\"] == submission_id]\n",
    "    submission_votes_data = submission_votes_data.sample(frac=1).reset_index(drop=True) # shuffle\n",
    "    last_vote_series = submission_votes_data.iloc[-1]\n",
    "    target_vote = last_vote_series[\"VOTE\"]\n",
    "    target_vote_data = pd.DataFrame([last_vote_series])\n",
    "    peer_votes_data = submission_votes_data.iloc[:-1]\n",
    "    if use_voted_users_feature:\n",
    "        pred_acc_peer_feature(peer_votes_num_acc_df, target_vote, target_vote_data, peer_votes_data)\n",
    "        # pred_acc_peer_feature_finetune(peer_votes_num_acc_df, target_vote, target_vote_data, peer_votes_data, n_step_per_sample=n_step_per_sample)\n",
    "    else:\n",
    "        pred_acc_peer_finetune(peer_votes_num_acc_df, target_vote, target_vote_data, peer_votes_data, n_step_per_sample=n_step_per_sample)        \n",
    "\n"
   ]
  },
  {
   "cell_type": "code",
   "execution_count": 236,
   "metadata": {},
   "outputs": [
    {
     "data": {
      "text/html": [
       "<div>\n",
       "<style scoped>\n",
       "    .dataframe tbody tr th:only-of-type {\n",
       "        vertical-align: middle;\n",
       "    }\n",
       "\n",
       "    .dataframe tbody tr th {\n",
       "        vertical-align: top;\n",
       "    }\n",
       "\n",
       "    .dataframe thead th {\n",
       "        text-align: right;\n",
       "    }\n",
       "</style>\n",
       "<table border=\"1\" class=\"dataframe\">\n",
       "  <thead>\n",
       "    <tr style=\"text-align: right;\">\n",
       "      <th></th>\n",
       "      <th>Acc</th>\n",
       "      <th>Confidence</th>\n",
       "      <th>Total</th>\n",
       "      <th>Same as majority</th>\n",
       "      <th>Acc rate</th>\n",
       "      <th>Avg confidence</th>\n",
       "      <th>Same as majority rate</th>\n",
       "      <th>Total scaled</th>\n",
       "    </tr>\n",
       "  </thead>\n",
       "  <tbody>\n",
       "    <tr>\n",
       "      <th>0</th>\n",
       "      <td>80.0</td>\n",
       "      <td>10.990940</td>\n",
       "      <td>100.0</td>\n",
       "      <td>0.0</td>\n",
       "      <td>0.80</td>\n",
       "      <td>0.109909</td>\n",
       "      <td>0.00</td>\n",
       "      <td>1.00</td>\n",
       "    </tr>\n",
       "    <tr>\n",
       "      <th>1</th>\n",
       "      <td>76.0</td>\n",
       "      <td>11.390801</td>\n",
       "      <td>100.0</td>\n",
       "      <td>74.0</td>\n",
       "      <td>0.76</td>\n",
       "      <td>0.113908</td>\n",
       "      <td>0.74</td>\n",
       "      <td>1.00</td>\n",
       "    </tr>\n",
       "    <tr>\n",
       "      <th>2</th>\n",
       "      <td>72.0</td>\n",
       "      <td>10.506252</td>\n",
       "      <td>100.0</td>\n",
       "      <td>67.0</td>\n",
       "      <td>0.72</td>\n",
       "      <td>0.105063</td>\n",
       "      <td>0.67</td>\n",
       "      <td>1.00</td>\n",
       "    </tr>\n",
       "    <tr>\n",
       "      <th>3</th>\n",
       "      <td>68.0</td>\n",
       "      <td>10.119423</td>\n",
       "      <td>100.0</td>\n",
       "      <td>66.0</td>\n",
       "      <td>0.68</td>\n",
       "      <td>0.101194</td>\n",
       "      <td>0.66</td>\n",
       "      <td>1.00</td>\n",
       "    </tr>\n",
       "    <tr>\n",
       "      <th>4</th>\n",
       "      <td>67.0</td>\n",
       "      <td>9.797209</td>\n",
       "      <td>100.0</td>\n",
       "      <td>65.0</td>\n",
       "      <td>0.67</td>\n",
       "      <td>0.097972</td>\n",
       "      <td>0.65</td>\n",
       "      <td>1.00</td>\n",
       "    </tr>\n",
       "    <tr>\n",
       "      <th>...</th>\n",
       "      <td>...</td>\n",
       "      <td>...</td>\n",
       "      <td>...</td>\n",
       "      <td>...</td>\n",
       "      <td>...</td>\n",
       "      <td>...</td>\n",
       "      <td>...</td>\n",
       "      <td>...</td>\n",
       "    </tr>\n",
       "    <tr>\n",
       "      <th>488</th>\n",
       "      <td>0.0</td>\n",
       "      <td>0.000000</td>\n",
       "      <td>1.0</td>\n",
       "      <td>0.0</td>\n",
       "      <td>0.00</td>\n",
       "      <td>0.000000</td>\n",
       "      <td>0.00</td>\n",
       "      <td>0.01</td>\n",
       "    </tr>\n",
       "    <tr>\n",
       "      <th>489</th>\n",
       "      <td>0.0</td>\n",
       "      <td>0.000000</td>\n",
       "      <td>1.0</td>\n",
       "      <td>0.0</td>\n",
       "      <td>0.00</td>\n",
       "      <td>0.000000</td>\n",
       "      <td>0.00</td>\n",
       "      <td>0.01</td>\n",
       "    </tr>\n",
       "    <tr>\n",
       "      <th>490</th>\n",
       "      <td>0.0</td>\n",
       "      <td>0.000000</td>\n",
       "      <td>1.0</td>\n",
       "      <td>0.0</td>\n",
       "      <td>0.00</td>\n",
       "      <td>0.000000</td>\n",
       "      <td>0.00</td>\n",
       "      <td>0.01</td>\n",
       "    </tr>\n",
       "    <tr>\n",
       "      <th>491</th>\n",
       "      <td>0.0</td>\n",
       "      <td>0.000000</td>\n",
       "      <td>1.0</td>\n",
       "      <td>0.0</td>\n",
       "      <td>0.00</td>\n",
       "      <td>0.000000</td>\n",
       "      <td>0.00</td>\n",
       "      <td>0.01</td>\n",
       "    </tr>\n",
       "    <tr>\n",
       "      <th>492</th>\n",
       "      <td>0.0</td>\n",
       "      <td>0.000000</td>\n",
       "      <td>1.0</td>\n",
       "      <td>0.0</td>\n",
       "      <td>0.00</td>\n",
       "      <td>0.000000</td>\n",
       "      <td>0.00</td>\n",
       "      <td>0.01</td>\n",
       "    </tr>\n",
       "  </tbody>\n",
       "</table>\n",
       "<p>493 rows × 8 columns</p>\n",
       "</div>"
      ],
      "text/plain": [
       "      Acc  Confidence  Total  Same as majority  Acc rate  Avg confidence  \\\n",
       "0    80.0   10.990940  100.0               0.0      0.80        0.109909   \n",
       "1    76.0   11.390801  100.0              74.0      0.76        0.113908   \n",
       "2    72.0   10.506252  100.0              67.0      0.72        0.105063   \n",
       "3    68.0   10.119423  100.0              66.0      0.68        0.101194   \n",
       "4    67.0    9.797209  100.0              65.0      0.67        0.097972   \n",
       "..    ...         ...    ...               ...       ...             ...   \n",
       "488   0.0    0.000000    1.0               0.0      0.00        0.000000   \n",
       "489   0.0    0.000000    1.0               0.0      0.00        0.000000   \n",
       "490   0.0    0.000000    1.0               0.0      0.00        0.000000   \n",
       "491   0.0    0.000000    1.0               0.0      0.00        0.000000   \n",
       "492   0.0    0.000000    1.0               0.0      0.00        0.000000   \n",
       "\n",
       "     Same as majority rate  Total scaled  \n",
       "0                     0.00          1.00  \n",
       "1                     0.74          1.00  \n",
       "2                     0.67          1.00  \n",
       "3                     0.66          1.00  \n",
       "4                     0.65          1.00  \n",
       "..                     ...           ...  \n",
       "488                   0.00          0.01  \n",
       "489                   0.00          0.01  \n",
       "490                   0.00          0.01  \n",
       "491                   0.00          0.01  \n",
       "492                   0.00          0.01  \n",
       "\n",
       "[493 rows x 8 columns]"
      ]
     },
     "execution_count": 236,
     "metadata": {},
     "output_type": "execute_result"
    }
   ],
   "source": [
    "peer_votes_num_acc_df = peer_votes_num_acc_df[peer_votes_num_acc_df[\"Total\"] > 0]\n",
    "peer_votes_num_acc_df[\"Acc rate\"] = peer_votes_num_acc_df[\"Acc\"]/peer_votes_num_acc_df[\"Total\"]\n",
    "peer_votes_num_acc_df[\"Avg confidence\"] = peer_votes_num_acc_df[\"Confidence\"]/peer_votes_num_acc_df[\"Total\"]\n",
    "peer_votes_num_acc_df[\"Same as majority rate\"] = peer_votes_num_acc_df[\"Same as majority\"]/peer_votes_num_acc_df[\"Total\"]\n",
    "peer_votes_num_acc_df[\"Total scaled\"] = peer_votes_num_acc_df[\"Total\"]/max(peer_votes_num_acc_df[\"Total\"])\n",
    "peer_votes_num_acc_df"
   ]
  },
  {
   "cell_type": "code",
   "execution_count": 240,
   "metadata": {},
   "outputs": [
    {
     "name": "stdout",
     "output_type": "stream",
     "text": [
      "\u001b[1;33m------------------\u001b[0m\u001b[1;31m 2022-07-25 23:24:04 \u001b[0m\u001b[1;33m------------------\u001b[0m\n",
      "\u001b[1;33m\u001b[0m\u001b[1;32mDEBUG:\u001b[0m\u001b[1;33m at \u001b[0m\u001b[1;32m<ipython-input-240-3153bdc667b0>:6 <module>\u001b[0m\u001b[1;33m\u001b[0m\n",
      "\u001b[1;33m\u001b[0m\u001b[1;36mAcc rate\u001b[0m\u001b[1;33m\u001b[0m\n",
      "\u001b[1;33m------------------\u001b[0m\u001b[1;31m 2022-07-25 23:24:04 \u001b[0m\u001b[1;33m------------------\u001b[0m\n"
     ]
    },
    {
     "data": {
      "text/plain": [
       "<AxesSubplot:ylabel='Avg confidence'>"
      ]
     },
     "execution_count": 240,
     "metadata": {},
     "output_type": "execute_result"
    },
    {
     "data": {
      "image/png": "[encoded data removed]",
      "text/plain": [
       "<Figure size 432x288 with 1 Axes>"
      ]
     },
     "metadata": {},
     "output_type": "display_data"
    }
   ],
   "source": [
    "def convert_df_to_dict(df: pd.DataFrame):\n",
    "    return {x:list(df[x]) for x in df}\n",
    "import seaborn as sns\n",
    "\n",
    "peer_votes_num_acc_df_part = peer_votes_num_acc_df.iloc[:50]\n",
    "debug(\"Acc rate\")\n",
    "sns.set_theme()\n",
    "sns.lineplot(data=peer_votes_num_acc_df_part, x=peer_votes_num_acc_df_part.index, y='Avg confidence')\n",
    "sns.lineplot(data=peer_votes_num_acc_df_part, x=peer_votes_num_acc_df_part.index, y='Total scaled')\n",
    "# ax.set_ylim(ymax=1)"
   ]
  },
  {
   "cell_type": "code",
   "execution_count": 241,
   "metadata": {},
   "outputs": [
    {
     "data": {
      "text/plain": [
       "<AxesSubplot:ylabel='Acc rate'>"
      ]
     },
     "execution_count": 241,
     "metadata": {},
     "output_type": "execute_result"
    },
    {
     "data": {
      "image/png": "[encoded data removed]",
      "text/plain": [
       "<Figure size 432x288 with 1 Axes>"
      ]
     },
     "metadata": {},
     "output_type": "display_data"
    }
   ],
   "source": [
    "sns.lineplot(data=peer_votes_num_acc_df_part, x=peer_votes_num_acc_df_part.index, y='Acc rate')\n",
    "sns.lineplot(data=peer_votes_num_acc_df_part, x=peer_votes_num_acc_df_part.index, y='Total scaled')"
   ]
  },
  {
   "cell_type": "code",
   "execution_count": 242,
   "metadata": {},
   "outputs": [
    {
     "name": "stdout",
     "output_type": "stream",
     "text": [
      "\u001b[1;33m------------------\u001b[0m\u001b[1;31m 2022-07-25 23:24:05 \u001b[0m\u001b[1;33m------------------\u001b[0m\n",
      "\u001b[1;33m\u001b[0m\u001b[1;32mDEBUG:\u001b[0m\u001b[1;33m at \u001b[0m\u001b[1;32m<ipython-input-242-256f6a6658fb>:1 <module>\u001b[0m\u001b[1;33m\u001b[0m\n",
      "\u001b[1;33m\u001b[0m\u001b[1;36mSame as majority rate\u001b[0m\u001b[1;33m\u001b[0m\n",
      "\u001b[1;33m------------------\u001b[0m\u001b[1;31m 2022-07-25 23:24:05 \u001b[0m\u001b[1;33m------------------\u001b[0m\n"
     ]
    },
    {
     "data": {
      "text/plain": [
       "<AxesSubplot:ylabel='Same as majority rate'>"
      ]
     },
     "execution_count": 242,
     "metadata": {},
     "output_type": "execute_result"
    },
    {
     "data": {
      "image/png": "[encoded data removed]",
      "text/plain": [
       "<Figure size 432x288 with 1 Axes>"
      ]
     },
     "metadata": {},
     "output_type": "display_data"
    }
   ],
   "source": [
    "debug(\"Same as majority rate\")\n",
    "sns.lineplot(data=peer_votes_num_acc_df_part, x=peer_votes_num_acc_df_part.index, y='Same as majority rate')\n",
    "sns.lineplot(data=peer_votes_num_acc_df_part, x=peer_votes_num_acc_df_part.index, y='Total scaled')\n"
   ]
  }
 ],
 "metadata": {
  "kernelspec": {
   "display_name": "Python 3.6.12 ('cr4')",
   "language": "python",
   "name": "python3"
  },
  "language_info": {
   "codemirror_mode": {
    "name": "ipython",
    "version": 3
   },
   "file_extension": ".py",
   "mimetype": "text/x-python",
   "name": "python",
   "nbconvert_exporter": "python",
   "pygments_lexer": "ipython3",
   "version": "3.6.12"
  },
  "orig_nbformat": 4,
  "vscode": {
   "interpreter": {
    "hash": "740471d2bc5e6e0b41d12bdc2e64373746aa6a34800f381ff958ff5f02fa0c53"
   }
  }
 },
 "nbformat": 4,
 "nbformat_minor": 2
}
