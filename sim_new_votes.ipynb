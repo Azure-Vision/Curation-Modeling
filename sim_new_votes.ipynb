{
 "cells": [
  {
   "cell_type": "code",
   "execution_count": 131,
   "metadata": {},
   "outputs": [],
   "source": [
    "# CONFIG_PATH = \"configs/debug_med_ID_sim_new_votes.yml\"\n",
    "CONFIG_PATH = \"configs/debug_med_ID_sim_new_votes_finetune.yml\"\n"
   ]
  },
  {
   "cell_type": "code",
   "execution_count": 132,
   "metadata": {},
   "outputs": [],
   "source": [
    "from collections import Counter, defaultdict\n",
    "import os\n",
    "import random\n",
    "import shutil\n",
    "import numpy as np\n",
    "import pandas as pd\n",
    "from superdebug import debug\n",
    "import torch\n",
    "from data import get_model_input\n",
    "from utils import get_config, join_sets, load_model, print_log, save_model, load_model_dict\n",
    "from model import get_best_model"
   ]
  },
  {
   "cell_type": "code",
   "execution_count": 133,
   "metadata": {},
   "outputs": [
    {
     "name": "stdout",
     "output_type": "stream",
     "text": [
      "GPU ready...\n",
      "Smart using cuda:3\n",
      "\u001b[1;33m------------------\u001b[0m\u001b[1;31m 2022-07-22 18:47:32 \u001b[0m\u001b[1;33m------------------\u001b[0m\n",
      "\u001b[1;33m\u001b[0m\u001b[1;32mDEBUG:\u001b[0m\u001b[1;33m at \u001b[0m\u001b[1;32m<ipython-input-133-1fd0ad4c56ed>:6 <module>\u001b[0m\u001b[1;33m\u001b[0m\n",
      "\u001b[1;33m\u001b[0m\u001b[1;36mFinetune the model using peer votes\u001b[0m\u001b[1;33m\u001b[0m\n",
      "\u001b[1;33m------------------\u001b[0m\u001b[1;31m 2022-07-22 18:47:32 \u001b[0m\u001b[1;33m------------------\u001b[0m\n"
     ]
    }
   ],
   "source": [
    "config = get_config(CONFIG_PATH, \"_curation\")\n",
    "use_voted_users_feature = config[\"use_voted_users_feature\"]\n",
    "if use_voted_users_feature:\n",
    "    debug(\"Use peer votes as model input feature\")\n",
    "else:\n",
    "    debug(\"Finetune the model using peer votes\")"
   ]
  },
  {
   "cell_type": "code",
   "execution_count": 134,
   "metadata": {},
   "outputs": [
    {
     "name": "stdout",
     "output_type": "stream",
     "text": [
      "\u001b[1;33m------------------\u001b[0m\u001b[1;31m 2022-07-22 18:47:32 \u001b[0m\u001b[1;33m------------------\u001b[0m\n",
      "\u001b[1;33m\u001b[0m\u001b[1;32mDEBUG:\u001b[0m\u001b[1;33m at \u001b[0m\u001b[1;32m/home/TableSense/largedisk/wanrong/Curation-Modeling/data.py:228 get_model_input\u001b[0m\u001b[1;33m\u001b[0m\n",
      "\u001b[1;33m\u001b[0m\u001b[1;36mLoading prepared data...\u001b[0m\u001b[1;33m\u001b[0m\n",
      "\u001b[1;33m------------------\u001b[0m\u001b[1;31m 2022-07-22 18:47:32 \u001b[0m\u001b[1;33m------------------\u001b[0m\n",
      "\u001b[1;33m------------------\u001b[0m\u001b[1;31m 2022-07-22 18:47:33 \u001b[0m\u001b[1;33m------------------\u001b[0m\n",
      "\u001b[1;33m\u001b[0m\u001b[1;32mDEBUG:\u001b[0m\u001b[1;33m 1 vars: ['max_voted_users'], at \u001b[0m\u001b[1;32m<ipython-input-134-89a97e373390>:3 <module>\u001b[0m\u001b[1;33m\u001b[0m\n",
      "\u001b[1;33m0 / 5508.\u001b[0m \u001b[1;33m \u001b[0m\u001b[1;36mmax_voted_users\u001b[0m\u001b[1;33m num val: 281\u001b[0m\n",
      "\u001b[1;33m------------------\u001b[0m\u001b[1;31m 2022-07-22 18:47:33 \u001b[0m\u001b[1;33m------------------\u001b[0m\n"
     ]
    }
   ],
   "source": [
    "all_feature_columns, target, train_model_input, test_model_input, feature_names, original_feature_map, max_voted_users, train_data, test_data, test_data_info = get_model_input(config)\n",
    "model, user_embedding = get_best_model(config, all_feature_columns, feature_names)\n",
    "debug(max_voted_users=max_voted_users)"
   ]
  },
  {
   "cell_type": "code",
   "execution_count": 135,
   "metadata": {},
   "outputs": [
    {
     "name": "stdout",
     "output_type": "stream",
     "text": [
      "Fri Jul 22 18:47:34 2022       \n",
      "+-----------------------------------------------------------------------------+\n",
      "| NVIDIA-SMI 430.64       Driver Version: 430.64       CUDA Version: 10.1     |\n",
      "|-------------------------------+----------------------+----------------------+\n",
      "| GPU  Name        Persistence-M| Bus-Id        Disp.A | Volatile Uncorr. ECC |\n",
      "| Fan  Temp  Perf  Pwr:Usage/Cap|         Memory-Usage | GPU-Util  Compute M. |\n",
      "|===============================+======================+======================|\n",
      "|   0  Tesla V100-PCIE...  Off  | 00000001:00:00.0 Off |                    0 |\n",
      "| N/A   35C    P0    37W / 250W |   1774MiB / 16160MiB |      0%      Default |\n",
      "+-------------------------------+----------------------+----------------------+\n",
      "|   1  Tesla V100-PCIE...  Off  | 00000002:00:00.0 Off |                    0 |\n",
      "| N/A   34C    P0    36W / 250W |   3094MiB / 16160MiB |      0%      Default |\n",
      "+-------------------------------+----------------------+----------------------+\n",
      "|   2  Tesla V100-PCIE...  Off  | 00000003:00:00.0 Off |                    0 |\n",
      "| N/A   34C    P0    37W / 250W |   1435MiB / 16160MiB |      0%      Default |\n",
      "+-------------------------------+----------------------+----------------------+\n",
      "|   3  Tesla V100-PCIE...  Off  | 00000004:00:00.0 Off |                    0 |\n",
      "| N/A   34C    P0    36W / 250W |   1384MiB / 16160MiB |      0%      Default |\n",
      "+-------------------------------+----------------------+----------------------+\n",
      "                                                                               \n",
      "+-----------------------------------------------------------------------------+\n",
      "| Processes:                                                       GPU Memory |\n",
      "|  GPU       PID   Type   Process name                             Usage      |\n",
      "|=============================================================================|\n",
      "|    0     18195      C   ...ableSense/anaconda3/envs/cr4/bin/python  1763MiB |\n",
      "|    1      2110      C   ...ableSense/anaconda3/envs/tab/bin/python  3083MiB |\n",
      "|    2     18195      C   ...ableSense/anaconda3/envs/cr4/bin/python  1423MiB |\n",
      "|    3     18195      C   ...ableSense/anaconda3/envs/cr4/bin/python  1373MiB |\n",
      "+-----------------------------------------------------------------------------+\n"
     ]
    }
   ],
   "source": [
    "model.device\n",
    "!nvidia-smi"
   ]
  },
  {
   "cell_type": "code",
   "execution_count": 136,
   "metadata": {},
   "outputs": [
    {
     "data": {
      "text/html": [
       "<div>\n",
       "<style scoped>\n",
       "    .dataframe tbody tr th:only-of-type {\n",
       "        vertical-align: middle;\n",
       "    }\n",
       "\n",
       "    .dataframe tbody tr th {\n",
       "        vertical-align: top;\n",
       "    }\n",
       "\n",
       "    .dataframe thead th {\n",
       "        text-align: right;\n",
       "    }\n",
       "</style>\n",
       "<table border=\"1\" class=\"dataframe\">\n",
       "  <thead>\n",
       "    <tr style=\"text-align: right;\">\n",
       "      <th></th>\n",
       "      <th>SUBMISSION_ID</th>\n",
       "      <th>SUBREDDIT</th>\n",
       "      <th>CREATED_TIME</th>\n",
       "      <th>USERNAME</th>\n",
       "      <th>VOTE</th>\n",
       "      <th>TITLE</th>\n",
       "      <th>AUTHOR</th>\n",
       "      <th>#_COMMENTS</th>\n",
       "      <th>NSFW</th>\n",
       "      <th>SCORE</th>\n",
       "      <th>UPVOTED_%</th>\n",
       "      <th>LINK</th>\n",
       "    </tr>\n",
       "  </thead>\n",
       "  <tbody>\n",
       "    <tr>\n",
       "      <th>63</th>\n",
       "      <td>12882</td>\n",
       "      <td>6</td>\n",
       "      <td>0.996452</td>\n",
       "      <td>4400</td>\n",
       "      <td>1</td>\n",
       "      <td>After seeing celebrities that have shown no sy...</td>\n",
       "      <td>3747</td>\n",
       "      <td>1627</td>\n",
       "      <td>0.0</td>\n",
       "      <td>59199</td>\n",
       "      <td>0.81</td>\n",
       "      <td>https://www.reddit.com/r/AdviceAnimals/comment...</td>\n",
       "    </tr>\n",
       "    <tr>\n",
       "      <th>64</th>\n",
       "      <td>12882</td>\n",
       "      <td>6</td>\n",
       "      <td>0.996452</td>\n",
       "      <td>3761</td>\n",
       "      <td>0</td>\n",
       "      <td>After seeing celebrities that have shown no sy...</td>\n",
       "      <td>3747</td>\n",
       "      <td>1627</td>\n",
       "      <td>0.0</td>\n",
       "      <td>59199</td>\n",
       "      <td>0.81</td>\n",
       "      <td>https://www.reddit.com/r/AdviceAnimals/comment...</td>\n",
       "    </tr>\n",
       "  </tbody>\n",
       "</table>\n",
       "</div>"
      ],
      "text/plain": [
       "    SUBMISSION_ID  SUBREDDIT  CREATED_TIME  USERNAME  VOTE  \\\n",
       "63          12882          6      0.996452      4400     1   \n",
       "64          12882          6      0.996452      3761     0   \n",
       "\n",
       "                                                TITLE  AUTHOR  #_COMMENTS  \\\n",
       "63  After seeing celebrities that have shown no sy...    3747        1627   \n",
       "64  After seeing celebrities that have shown no sy...    3747        1627   \n",
       "\n",
       "    NSFW  SCORE  UPVOTED_%                                               LINK  \n",
       "63   0.0  59199       0.81  https://www.reddit.com/r/AdviceAnimals/comment...  \n",
       "64   0.0  59199       0.81  https://www.reddit.com/r/AdviceAnimals/comment...  "
      ]
     },
     "execution_count": 136,
     "metadata": {},
     "output_type": "execute_result"
    }
   ],
   "source": [
    "for column in [\"input_ids\", \"token_type_ids\", \"attention_mask\"]:\n",
    "    if column in test_model_input:\n",
    "        test_data[column] = test_model_input[column]\n",
    "test_data.iloc[:2]\n"
   ]
  },
  {
   "cell_type": "code",
   "execution_count": 137,
   "metadata": {},
   "outputs": [],
   "source": [
    "from train import evaluate_model, train_model\n",
    "import copy\n",
    "\n",
    "def count_new_vote_pred(peer_votes_num_acc_df, target_vote, pred_target_vote_score, peer_vote_num, peer_votes_data):\n",
    "    peer_votes_num_acc_df.loc[peer_vote_num, \"Total\"] += 1\n",
    "    pred_target_vote = int(pred_target_vote_score >= 0.5)\n",
    "    if pred_target_vote == target_vote:\n",
    "        peer_votes_num_acc_df.loc[peer_vote_num, \"Acc\"] += 1\n",
    "    if peer_vote_num > 0:\n",
    "        majority_vote = -1\n",
    "        if sum(peer_votes_data[\"VOTE\"][:peer_vote_num])/peer_vote_num > 0.5:\n",
    "            majority_vote = 1\n",
    "        elif sum(peer_votes_data[\"VOTE\"][:peer_vote_num])/peer_vote_num < 0.5:\n",
    "            majority_vote = 0\n",
    "        if pred_target_vote == majority_vote:\n",
    "            peer_votes_num_acc_df.loc[peer_vote_num, \"Same as majority\"] += 1\n",
    "\n",
    "\n",
    "def pred_acc_peer_feature(peer_votes_num_acc_df, target_vote, target_vote_data, peer_votes_data):\n",
    "    all_peer_users = peer_votes_data[\"USERNAME\"].to_numpy()\n",
    "    all_peer_votes = peer_votes_data[\"VOTE\"].to_numpy()\n",
    "    target_vote_model_input = {column: target_vote_data[column] for column in target_vote_data}\n",
    "    upvoted_users, downvoted_users = [], []\n",
    "    for user_i in range(-1, len(all_peer_users)):\n",
    "        peer_vote_num = user_i + 1\n",
    "        if user_i >= 0:\n",
    "            new_user = all_peer_users[user_i]\n",
    "            new_vote = all_peer_votes[user_i]\n",
    "            if new_vote == 1:\n",
    "                upvoted_users.append(int(new_user))\n",
    "            elif new_vote == 0:\n",
    "                downvoted_users.append(int(new_user))\n",
    "        target_vote_model_input[\"UPVOTED_USERS\"] = [upvoted_users]\n",
    "        target_vote_model_input[\"DOWNVOTED_USERS\"] = [downvoted_users]\n",
    "        pred_target_vote_score = evaluate_model(model, target_vote_model_input, target_vote_model_input.get(\"input_ids\", None), target_vote_model_input.get(\"token_type_ids\", None), target_vote_model_input.get(\"attention_mask\", None), target_vote_data[target].values, data = target_vote_data, weights = None, batch_size=1, max_voted_users=max_voted_users,sample_voted_users=False, return_prediction=True, disable_tqdm=True)[0,0]\n",
    "        count_new_vote_pred(peer_votes_num_acc_df, target_vote, pred_target_vote_score, peer_vote_num, peer_votes_data)\n",
    "\n",
    "def pred_acc_peer_finetune(peer_votes_num_acc_df, target_vote, target_vote_data, peer_votes_data):\n",
    "    target_vote_model_input = {column: target_vote_data[column] for column in target_vote_data}\n",
    "    tmp_model = copy.deepcopy(model)\n",
    "    pred_target_vote_score = evaluate_model(tmp_model, target_vote_model_input, target_vote_model_input.get(\"input_ids\", None), target_vote_model_input.get(\"token_type_ids\", None), target_vote_model_input.get(\"attention_mask\", None), target_vote_data[target].values, data = target_vote_data, weights = None, batch_size=1, max_voted_users=max_voted_users,sample_voted_users=False, return_prediction=True, disable_tqdm=True)[0,0]\n",
    "    count_new_vote_pred(peer_votes_num_acc_df, target_vote, pred_target_vote_score, 0, peer_votes_data)\n",
    "    if len(peer_votes_data) > 0:\n",
    "        peer_votes_model_input = {column: peer_votes_data[column] for column in peer_votes_data}\n",
    "        for peer_vote_num_1, tmp_model in enumerate(train_model(config, tmp_model, x=peer_votes_model_input, y=peer_votes_data[target].values, weights = None, batch_size=1, epochs=1, verbose=2, validation_split=False, max_voted_users=max_voted_users, step_generator=True)):\n",
    "            if tmp_model is None:\n",
    "                break\n",
    "            peer_vote_num = peer_vote_num_1 + 1\n",
    "            pred_target_vote_score = evaluate_model(tmp_model, target_vote_model_input, target_vote_model_input.get(\"input_ids\", None), target_vote_model_input.get(\"token_type_ids\", None), target_vote_model_input.get(\"attention_mask\", None), target_vote_data[target].values, data = target_vote_data, weights = None, batch_size=1, max_voted_users=max_voted_users,sample_voted_users=False, return_prediction=True, disable_tqdm=True)[0,0]\n",
    "            count_new_vote_pred(peer_votes_num_acc_df, target_vote, pred_target_vote_score, peer_vote_num, peer_votes_data)"
   ]
  },
  {
   "cell_type": "code",
   "execution_count": null,
   "metadata": {},
   "outputs": [],
   "source": [
    "if not use_voted_users_feature:\n",
    "    model.optim = torch.optim.Adam(model.parameters(), lr = 2 * config[\"learning_rate\"]) # 2 还不错，5不行"
   ]
  },
  {
   "cell_type": "code",
   "execution_count": 138,
   "metadata": {},
   "outputs": [
    {
     "name": "stderr",
     "output_type": "stream",
     "text": [
      "100%|██████████| 3178/3178 [16:16<00:00,  3.25it/s]\n"
     ]
    }
   ],
   "source": [
    "\n",
    "from tqdm import tqdm\n",
    "\n",
    "test_submissions = list(set(test_data[\"SUBMISSION_ID\"]))\n",
    "peer_votes_num_acc_df = pd.DataFrame(np.zeros((max_voted_users + 1,3)), columns=['Acc', 'Total', \"Same as majority\"])\n",
    "\n",
    "for submission_id in tqdm(test_submissions):\n",
    "    submission_votes_data = test_data[test_data[\"SUBMISSION_ID\"] == submission_id]\n",
    "    submission_votes_data = submission_votes_data.sample(frac=1).reset_index(drop=True) # shuffle\n",
    "    last_vote_series = submission_votes_data.iloc[-1]\n",
    "    target_vote = last_vote_series[\"VOTE\"]\n",
    "    target_vote_data = pd.DataFrame([last_vote_series])\n",
    "    peer_votes_data = submission_votes_data.iloc[:-1]\n",
    "    if use_voted_users_feature:\n",
    "        pred_acc_peer_feature(peer_votes_num_acc_df, target_vote, target_vote_data, peer_votes_data)\n",
    "    else:\n",
    "        pred_acc_peer_finetune(peer_votes_num_acc_df, target_vote, target_vote_data, peer_votes_data)        \n",
    "\n"
   ]
  },
  {
   "cell_type": "code",
   "execution_count": 139,
   "metadata": {},
   "outputs": [
    {
     "data": {
      "text/html": [
       "<div>\n",
       "<style scoped>\n",
       "    .dataframe tbody tr th:only-of-type {\n",
       "        vertical-align: middle;\n",
       "    }\n",
       "\n",
       "    .dataframe tbody tr th {\n",
       "        vertical-align: top;\n",
       "    }\n",
       "\n",
       "    .dataframe thead th {\n",
       "        text-align: right;\n",
       "    }\n",
       "</style>\n",
       "<table border=\"1\" class=\"dataframe\">\n",
       "  <thead>\n",
       "    <tr style=\"text-align: right;\">\n",
       "      <th></th>\n",
       "      <th>Acc</th>\n",
       "      <th>Total</th>\n",
       "      <th>Same as majority</th>\n",
       "    </tr>\n",
       "  </thead>\n",
       "  <tbody>\n",
       "    <tr>\n",
       "      <th>0</th>\n",
       "      <td>1715.0</td>\n",
       "      <td>3178.0</td>\n",
       "      <td>0.0</td>\n",
       "    </tr>\n",
       "    <tr>\n",
       "      <th>1</th>\n",
       "      <td>1719.0</td>\n",
       "      <td>3177.0</td>\n",
       "      <td>1787.0</td>\n",
       "    </tr>\n",
       "    <tr>\n",
       "      <th>2</th>\n",
       "      <td>1717.0</td>\n",
       "      <td>3177.0</td>\n",
       "      <td>1119.0</td>\n",
       "    </tr>\n",
       "    <tr>\n",
       "      <th>3</th>\n",
       "      <td>1709.0</td>\n",
       "      <td>3172.0</td>\n",
       "      <td>1815.0</td>\n",
       "    </tr>\n",
       "    <tr>\n",
       "      <th>4</th>\n",
       "      <td>1702.0</td>\n",
       "      <td>3163.0</td>\n",
       "      <td>1361.0</td>\n",
       "    </tr>\n",
       "    <tr>\n",
       "      <th>...</th>\n",
       "      <td>...</td>\n",
       "      <td>...</td>\n",
       "      <td>...</td>\n",
       "    </tr>\n",
       "    <tr>\n",
       "      <th>209</th>\n",
       "      <td>1.0</td>\n",
       "      <td>1.0</td>\n",
       "      <td>1.0</td>\n",
       "    </tr>\n",
       "    <tr>\n",
       "      <th>210</th>\n",
       "      <td>1.0</td>\n",
       "      <td>1.0</td>\n",
       "      <td>1.0</td>\n",
       "    </tr>\n",
       "    <tr>\n",
       "      <th>211</th>\n",
       "      <td>1.0</td>\n",
       "      <td>1.0</td>\n",
       "      <td>1.0</td>\n",
       "    </tr>\n",
       "    <tr>\n",
       "      <th>212</th>\n",
       "      <td>1.0</td>\n",
       "      <td>1.0</td>\n",
       "      <td>1.0</td>\n",
       "    </tr>\n",
       "    <tr>\n",
       "      <th>213</th>\n",
       "      <td>1.0</td>\n",
       "      <td>1.0</td>\n",
       "      <td>1.0</td>\n",
       "    </tr>\n",
       "  </tbody>\n",
       "</table>\n",
       "<p>214 rows × 3 columns</p>\n",
       "</div>"
      ],
      "text/plain": [
       "        Acc   Total  Same as majority\n",
       "0    1715.0  3178.0               0.0\n",
       "1    1719.0  3177.0            1787.0\n",
       "2    1717.0  3177.0            1119.0\n",
       "3    1709.0  3172.0            1815.0\n",
       "4    1702.0  3163.0            1361.0\n",
       "..      ...     ...               ...\n",
       "209     1.0     1.0               1.0\n",
       "210     1.0     1.0               1.0\n",
       "211     1.0     1.0               1.0\n",
       "212     1.0     1.0               1.0\n",
       "213     1.0     1.0               1.0\n",
       "\n",
       "[214 rows x 3 columns]"
      ]
     },
     "execution_count": 139,
     "metadata": {},
     "output_type": "execute_result"
    }
   ],
   "source": [
    "peer_votes_num_acc_df = peer_votes_num_acc_df[peer_votes_num_acc_df[\"Total\"] > 0]\n",
    "peer_votes_num_acc_df"
   ]
  },
  {
   "cell_type": "code",
   "execution_count": 142,
   "metadata": {},
   "outputs": [
    {
     "name": "stdout",
     "output_type": "stream",
     "text": [
      "\u001b[1;33m------------------\u001b[0m\u001b[1;31m 2022-07-22 19:35:37 \u001b[0m\u001b[1;33m------------------\u001b[0m\n",
      "\u001b[1;33m\u001b[0m\u001b[1;32mDEBUG:\u001b[0m\u001b[1;33m at \u001b[0m\u001b[1;32m<ipython-input-142-12111db9e56c>:8 <module>\u001b[0m\u001b[1;33m\u001b[0m\n",
      "\u001b[1;33m\u001b[0m\u001b[1;36mAcc rate\u001b[0m\u001b[1;33m\u001b[0m\n",
      "\u001b[1;33m------------------\u001b[0m\u001b[1;31m 2022-07-22 19:35:37 \u001b[0m\u001b[1;33m------------------\u001b[0m\n"
     ]
    },
    {
     "data": {
      "text/plain": [
       "<AxesSubplot:ylabel='Acc rate'>"
      ]
     },
     "execution_count": 142,
     "metadata": {},
     "output_type": "execute_result"
    },
    {
     "data": {
      "image/png": "[encoded data removed]",
      "text/plain": [
       "<Figure size 432x288 with 1 Axes>"
      ]
     },
     "metadata": {},
     "output_type": "display_data"
    }
   ],
   "source": [
    "def convert_df_to_dict(df: pd.DataFrame):\n",
    "    return {x:list(df[x]) for x in df}\n",
    "import seaborn as sns\n",
    "peer_votes_num_acc_df[\"Acc rate\"] = peer_votes_num_acc_df[\"Acc\"]/peer_votes_num_acc_df[\"Total\"]\n",
    "peer_votes_num_acc_df[\"Same as majority rate\"] = peer_votes_num_acc_df[\"Same as majority\"]/peer_votes_num_acc_df[\"Total\"]\n",
    "peer_votes_num_acc_df[\"Total scaled\"] = peer_votes_num_acc_df[\"Total\"]/max(peer_votes_num_acc_df[\"Total\"])\n",
    "peer_votes_num_acc_df_part = peer_votes_num_acc_df.iloc[:50]\n",
    "debug(\"Acc rate\")\n",
    "sns.set_theme()\n",
    "sns.lineplot(data=peer_votes_num_acc_df_part, x=peer_votes_num_acc_df_part.index, y='Acc rate')\n",
    "sns.lineplot(data=peer_votes_num_acc_df_part, x=peer_votes_num_acc_df_part.index, y='Total scaled')\n",
    "# ax.set_ylim(ymax=1)"
   ]
  },
  {
   "cell_type": "code",
   "execution_count": 143,
   "metadata": {},
   "outputs": [
    {
     "name": "stdout",
     "output_type": "stream",
     "text": [
      "\u001b[1;33m------------------\u001b[0m\u001b[1;31m 2022-07-22 19:35:37 \u001b[0m\u001b[1;33m------------------\u001b[0m\n",
      "\u001b[1;33m\u001b[0m\u001b[1;32mDEBUG:\u001b[0m\u001b[1;33m at \u001b[0m\u001b[1;32m<ipython-input-143-256f6a6658fb>:1 <module>\u001b[0m\u001b[1;33m\u001b[0m\n",
      "\u001b[1;33m\u001b[0m\u001b[1;36mSame as majority rate\u001b[0m\u001b[1;33m\u001b[0m\n",
      "\u001b[1;33m------------------\u001b[0m\u001b[1;31m 2022-07-22 19:35:37 \u001b[0m\u001b[1;33m------------------\u001b[0m\n"
     ]
    },
    {
     "data": {
      "text/plain": [
       "<AxesSubplot:ylabel='Same as majority rate'>"
      ]
     },
     "execution_count": 143,
     "metadata": {},
     "output_type": "execute_result"
    },
    {
     "data": {
      "image/png": "[encoded data removed]",
      "text/plain": [
       "<Figure size 432x288 with 1 Axes>"
      ]
     },
     "metadata": {},
     "output_type": "display_data"
    }
   ],
   "source": [
    "debug(\"Same as majority rate\")\n",
    "sns.lineplot(data=peer_votes_num_acc_df_part, x=peer_votes_num_acc_df_part.index, y='Same as majority rate')\n",
    "sns.lineplot(data=peer_votes_num_acc_df_part, x=peer_votes_num_acc_df_part.index, y='Total scaled')\n"
   ]
  }
 ],
 "metadata": {
  "kernelspec": {
   "display_name": "Python 3.6.12 ('cr4')",
   "language": "python",
   "name": "python3"
  },
  "language_info": {
   "codemirror_mode": {
    "name": "ipython",
    "version": 3
   },
   "file_extension": ".py",
   "mimetype": "text/x-python",
   "name": "python",
   "nbconvert_exporter": "python",
   "pygments_lexer": "ipython3",
   "version": "3.6.12"
  },
  "orig_nbformat": 4,
  "vscode": {
   "interpreter": {
    "hash": "740471d2bc5e6e0b41d12bdc2e64373746aa6a34800f381ff958ff5f02fa0c53"
   }
  }
 },
 "nbformat": 4,
 "nbformat_minor": 2
}
