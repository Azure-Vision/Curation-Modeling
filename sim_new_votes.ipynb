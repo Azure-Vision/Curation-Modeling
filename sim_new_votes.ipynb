{
 "cells": [
  {
   "cell_type": "code",
   "execution_count": 64,
   "metadata": {},
   "outputs": [],
   "source": [
    "CONFIG_PATH = \"configs/small_most_votes_rand_init_test_diff.yml\""
   ]
  },
  {
   "cell_type": "code",
   "execution_count": 65,
   "metadata": {},
   "outputs": [],
   "source": [
    "from collections import Counter, defaultdict\n",
    "import os\n",
    "import random\n",
    "import shutil\n",
    "import numpy as np\n",
    "import pandas as pd\n",
    "from superdebug import debug\n",
    "import torch\n",
    "from process_data import get_model_input\n",
    "from utils import get_config, join_sets, load_model, print_log, save_model, load_model_dict\n",
    "from model import get_best_model, TransformerVoter\n",
    "from train import evaluate_model, train_model\n",
    "import copy"
   ]
  },
  {
   "cell_type": "code",
   "execution_count": 66,
   "metadata": {},
   "outputs": [
    {
     "name": "stdout",
     "output_type": "stream",
     "text": [
      "GPU ready...\n",
      "Smart using cuda:1\n",
      "\u001b[1;33m------------------\u001b[0m\u001b[1;31m 2022-08-01 08:34:10 \u001b[0m\u001b[1;33m------------------\u001b[0m\n",
      "\u001b[1;33m\u001b[0m\u001b[1;32mDEBUG:\u001b[0m\u001b[1;33m 1 vars: ['device'], at \u001b[0m\u001b[1;32m<ipython-input-66-edbeb4cf4fdf>:2 <module>\u001b[0m\u001b[1;33m\u001b[0m\n",
      "\u001b[1;33m0 / 13.\u001b[0m \u001b[1;33m \u001b[0m\u001b[1;36mdevice\u001b[0m\u001b[1;33m str len 6: cuda:1\u001b[0m\n",
      "\u001b[1;33m------------------\u001b[0m\u001b[1;31m 2022-08-01 08:34:10 \u001b[0m\u001b[1;33m------------------\u001b[0m\n",
      "\u001b[1;33m------------------\u001b[0m\u001b[1;31m 2022-08-01 08:34:10 \u001b[0m\u001b[1;33m------------------\u001b[0m\n",
      "\u001b[1;33m\u001b[0m\u001b[1;32mDEBUG:\u001b[0m\u001b[1;33m at \u001b[0m\u001b[1;32m<ipython-input-66-edbeb4cf4fdf>:5 <module>\u001b[0m\u001b[1;33m\u001b[0m\n",
      "\u001b[1;33m\u001b[0m\u001b[1;36mUse peer votes as model input feature\u001b[0m\u001b[1;33m\u001b[0m\n",
      "\u001b[1;33m------------------\u001b[0m\u001b[1;31m 2022-08-01 08:34:10 \u001b[0m\u001b[1;33m------------------\u001b[0m\n"
     ]
    }
   ],
   "source": [
    "config = get_config(CONFIG_PATH, \"_curation\", print_config = False)\n",
    "debug(device = config[\"device\"])\n",
    "use_voted_users_feature = config[\"use_voted_users_feature\"]\n",
    "if use_voted_users_feature:\n",
    "    debug(\"Use peer votes as model input feature\")\n",
    "else:\n",
    "    debug(\"Finetune the model using peer votes\")"
   ]
  },
  {
   "cell_type": "code",
   "execution_count": 67,
   "metadata": {},
   "outputs": [
    {
     "name": "stdout",
     "output_type": "stream",
     "text": [
      "\u001b[1;33m------------------\u001b[0m\u001b[1;31m 2022-08-01 08:34:10 \u001b[0m\u001b[1;33m------------------\u001b[0m\n",
      "\u001b[1;33m\u001b[0m\u001b[1;32mDEBUG:\u001b[0m\u001b[1;33m at \u001b[0m\u001b[1;32m/home/TableSense/largedisk/wanrong/Curation-Modeling/process_data.py:327 get_model_input\u001b[0m\u001b[1;33m\u001b[0m\n",
      "\u001b[1;33m\u001b[0m\u001b[1;36mLoading prepared data...\u001b[0m\u001b[1;33m\u001b[0m\n",
      "\u001b[1;33m------------------\u001b[0m\u001b[1;31m 2022-08-01 08:34:10 \u001b[0m\u001b[1;33m------------------\u001b[0m\n"
     ]
    }
   ],
   "source": [
    "target, original_feature_map, categorical_features, string_features, train_data, test_data, test_data_info, num_all_users = get_model_input(config)\n",
    "extra_input = (categorical_features, string_features, target)"
   ]
  },
  {
   "cell_type": "code",
   "execution_count": 68,
   "metadata": {},
   "outputs": [
    {
     "name": "stdout",
     "output_type": "stream",
     "text": [
      "\u001b[1;33m------------------\u001b[0m\u001b[1;31m 2022-08-01 08:34:15 \u001b[0m\u001b[1;33m------------------\u001b[0m\n",
      "\u001b[1;33m\u001b[0m\u001b[1;32mDEBUG:\u001b[0m\u001b[1;33m at \u001b[0m\u001b[1;32m/home/TableSense/largedisk/wanrong/Curation-Modeling/model.py:240 get_tokenizer\u001b[0m\u001b[1;33m\u001b[0m\n",
      "\u001b[1;33m\u001b[0m\u001b[1;36mInitializing the tokenizer from bert-base-uncased\u001b[0m\u001b[1;33m\u001b[0m\n",
      "\u001b[1;33m------------------\u001b[0m\u001b[1;31m 2022-08-01 08:34:15 \u001b[0m\u001b[1;33m------------------\u001b[0m\n",
      "\u001b[1;33m------------------\u001b[0m\u001b[1;31m 2022-08-01 08:34:17 \u001b[0m\u001b[1;33m------------------\u001b[0m\n",
      "\u001b[1;33m\u001b[0m\u001b[1;32mDEBUG:\u001b[0m\u001b[1;33m 1 vars: ['original_token_num'], at \u001b[0m\u001b[1;32m/home/TableSense/largedisk/wanrong/Curation-Modeling/model.py:243 get_tokenizer\u001b[0m\u001b[1;33m\u001b[0m\n",
      "\u001b[1;33m0 / 14.\u001b[0m \u001b[1;33m \u001b[0m\u001b[1;36moriginal_token_num\u001b[0m\u001b[1;33m num val: 30522\u001b[0m\n",
      "\u001b[1;33m------------------\u001b[0m\u001b[1;31m 2022-08-01 08:34:17 \u001b[0m\u001b[1;33m------------------\u001b[0m\n",
      "\u001b[1;33m------------------\u001b[0m\u001b[1;31m 2022-08-01 08:34:17 \u001b[0m\u001b[1;33m------------------\u001b[0m\n",
      "\u001b[1;33m\u001b[0m\u001b[1;32mDEBUG:\u001b[0m\u001b[1;33m 1 vars: ['latest_token_num'], at \u001b[0m\u001b[1;32m/home/TableSense/largedisk/wanrong/Curation-Modeling/model.py:255 get_tokenizer\u001b[0m\u001b[1;33m\u001b[0m\n",
      "\u001b[1;33m0 / 15.\u001b[0m \u001b[1;33m \u001b[0m\u001b[1;36mlatest_token_num\u001b[0m\u001b[1;33m num val: 52471\u001b[0m\n",
      "\u001b[1;33m------------------\u001b[0m\u001b[1;31m 2022-08-01 08:34:17 \u001b[0m\u001b[1;33m------------------\u001b[0m\n",
      "\u001b[1;33m------------------\u001b[0m\u001b[1;31m 2022-08-01 08:34:18 \u001b[0m\u001b[1;33m------------------\u001b[0m\n",
      "\u001b[1;33m\u001b[0m\u001b[1;32mDEBUG:\u001b[0m\u001b[1;33m at \u001b[0m\u001b[1;32m/home/TableSense/largedisk/wanrong/Curation-Modeling/model.py:226 get_best_model\u001b[0m\u001b[1;33m\u001b[0m\n",
      "\u001b[1;33m\u001b[0m\u001b[1;36mcpu\u001b[0m\u001b[1;33m\u001b[0m\n",
      "\u001b[1;33m------------------\u001b[0m\u001b[1;31m 2022-08-01 08:34:18 \u001b[0m\u001b[1;33m------------------\u001b[0m\n",
      "\u001b[1;33m------------------\u001b[0m\u001b[1;31m 2022-08-01 08:34:18 \u001b[0m\u001b[1;33m------------------\u001b[0m\n",
      "\u001b[1;33m\u001b[0m\u001b[1;32mDEBUG:\u001b[0m\u001b[1;33m at \u001b[0m\u001b[1;32m/home/TableSense/largedisk/wanrong/Curation-Modeling/utils.py:110 load_model\u001b[0m\u001b[1;33m\u001b[0m\n",
      "\u001b[1;33m\u001b[0m\u001b[1;36mLoading best model...\u001b[0m\u001b[1;33m\u001b[0m\n",
      "\u001b[1;33m------------------\u001b[0m\u001b[1;31m 2022-08-01 08:34:18 \u001b[0m\u001b[1;33m------------------\u001b[0m\n"
     ]
    }
   ],
   "source": [
    "model, _ = get_best_model(config, categorical_features, string_features, original_feature_map)"
   ]
  },
  {
   "cell_type": "code",
   "execution_count": 69,
   "metadata": {},
   "outputs": [
    {
     "name": "stdout",
     "output_type": "stream",
     "text": [
      "cuda:1\n"
     ]
    },
    {
     "data": {
      "text/html": [
       "<div>\n",
       "<style scoped>\n",
       "    .dataframe tbody tr th:only-of-type {\n",
       "        vertical-align: middle;\n",
       "    }\n",
       "\n",
       "    .dataframe tbody tr th {\n",
       "        vertical-align: top;\n",
       "    }\n",
       "\n",
       "    .dataframe thead th {\n",
       "        text-align: right;\n",
       "    }\n",
       "</style>\n",
       "<table border=\"1\" class=\"dataframe\">\n",
       "  <thead>\n",
       "    <tr style=\"text-align: right;\">\n",
       "      <th></th>\n",
       "      <th>SUBMISSION_ID</th>\n",
       "      <th>SUBREDDIT</th>\n",
       "      <th>CREATED_TIME</th>\n",
       "      <th>USERNAME</th>\n",
       "      <th>VOTE</th>\n",
       "      <th>TITLE</th>\n",
       "      <th>AUTHOR</th>\n",
       "      <th>#_COMMENTS</th>\n",
       "      <th>NSFW</th>\n",
       "      <th>SCORE</th>\n",
       "      <th>UPVOTED_%</th>\n",
       "      <th>LINK</th>\n",
       "      <th>SUBMISSION_TEXT</th>\n",
       "      <th>UPVOTED_USERS</th>\n",
       "      <th>DOWNVOTED_USERS</th>\n",
       "    </tr>\n",
       "  </thead>\n",
       "  <tbody>\n",
       "    <tr>\n",
       "      <th>0</th>\n",
       "      <td>t3_dqvcwh</td>\n",
       "      <td>r/videos</td>\n",
       "      <td>Sun Nov  3 2019</td>\n",
       "      <td>7526</td>\n",
       "      <td>1</td>\n",
       "      <td>Wait for it</td>\n",
       "      <td>143</td>\n",
       "      <td>2314</td>\n",
       "      <td>false</td>\n",
       "      <td>57286</td>\n",
       "      <td>0.93</td>\n",
       "      <td>https://www.reddit.com/r/videos/comments/dqvcw...</td>\n",
       "      <td>Wait for it</td>\n",
       "      <td>[]</td>\n",
       "      <td>[]</td>\n",
       "    </tr>\n",
       "    <tr>\n",
       "      <th>1</th>\n",
       "      <td>t3_eyp2d3</td>\n",
       "      <td>r/videos</td>\n",
       "      <td>Tue Feb  4 2020</td>\n",
       "      <td>5730</td>\n",
       "      <td>1</td>\n",
       "      <td>Audio of Amber Heard admitting she was the one...</td>\n",
       "      <td>154</td>\n",
       "      <td>9881</td>\n",
       "      <td>false</td>\n",
       "      <td>97908</td>\n",
       "      <td>0.90</td>\n",
       "      <td>https://www.reddit.com/r/videos/comments/eyp2d...</td>\n",
       "      <td>Audio of Amber Heard admitting she was the one...</td>\n",
       "      <td>[]</td>\n",
       "      <td>[]</td>\n",
       "    </tr>\n",
       "  </tbody>\n",
       "</table>\n",
       "</div>"
      ],
      "text/plain": [
       "  SUBMISSION_ID SUBREDDIT     CREATED_TIME  USERNAME  VOTE  \\\n",
       "0     t3_dqvcwh  r/videos  Sun Nov  3 2019      7526     1   \n",
       "1     t3_eyp2d3  r/videos  Tue Feb  4 2020      5730     1   \n",
       "\n",
       "                                               TITLE  AUTHOR  #_COMMENTS  \\\n",
       "0                                        Wait for it     143        2314   \n",
       "1  Audio of Amber Heard admitting she was the one...     154        9881   \n",
       "\n",
       "    NSFW  SCORE  UPVOTED_%                                               LINK  \\\n",
       "0  false  57286       0.93  https://www.reddit.com/r/videos/comments/dqvcw...   \n",
       "1  false  97908       0.90  https://www.reddit.com/r/videos/comments/eyp2d...   \n",
       "\n",
       "                                     SUBMISSION_TEXT UPVOTED_USERS  \\\n",
       "0                                        Wait for it            []   \n",
       "1  Audio of Amber Heard admitting she was the one...            []   \n",
       "\n",
       "  DOWNVOTED_USERS  \n",
       "0              []  \n",
       "1              []  "
      ]
     },
     "execution_count": 69,
     "metadata": {},
     "output_type": "execute_result"
    }
   ],
   "source": [
    "print(model.device)\n",
    "test_data.iloc[:2]\n",
    "# !nvidia-smi"
   ]
  },
  {
   "cell_type": "code",
   "execution_count": 70,
   "metadata": {},
   "outputs": [],
   "source": [
    "def count_new_vote_pred(peer_votes_num_acc_df, target_vote, pred_target_vote_score, peer_vote_num, peer_votes_data):\n",
    "    peer_votes_num_acc_df.loc[peer_vote_num, \"Total\"] += 1\n",
    "    pred_target_vote = int(pred_target_vote_score >= 0.5)\n",
    "    if pred_target_vote == target_vote:\n",
    "        peer_votes_num_acc_df.loc[peer_vote_num, \"Acc\"] += 1\n",
    "        peer_votes_num_acc_df.loc[peer_vote_num, \"Confidence\"] += abs(pred_target_vote_score - 0.5)\n",
    "    if peer_vote_num > 0:\n",
    "        majority_vote = -1\n",
    "        if sum(peer_votes_data[\"VOTE\"][:peer_vote_num])/peer_vote_num > 0.5:\n",
    "            majority_vote = 1\n",
    "        elif sum(peer_votes_data[\"VOTE\"][:peer_vote_num])/peer_vote_num < 0.5:\n",
    "            majority_vote = 0\n",
    "        if pred_target_vote == majority_vote:\n",
    "            peer_votes_num_acc_df.loc[peer_vote_num, \"Same as majority\"] += 1\n",
    "\n",
    "\n",
    "def pred_acc_peer_feature(peer_votes_num_acc_df, target_vote, target_vote_data, peer_votes_data):\n",
    "    all_peer_users = peer_votes_data[\"USERNAME\"].to_numpy()\n",
    "    all_peer_votes = peer_votes_data[\"VOTE\"].to_numpy()\n",
    "    upvoted_users, downvoted_users = [], []\n",
    "    for new_user_i in range(-1, len(all_peer_users)):\n",
    "        peer_vote_num = new_user_i + 1\n",
    "        if new_user_i >= 0:\n",
    "            new_user = all_peer_users[new_user_i]\n",
    "            new_vote = all_peer_votes[new_user_i]\n",
    "            if new_vote == 1:\n",
    "                upvoted_users.append(int(new_user))\n",
    "            elif new_vote == 0:\n",
    "                downvoted_users.append(int(new_user))\n",
    "        target_vote_data.at[0, \"UPVOTED_USERS\"] = upvoted_users\n",
    "        target_vote_data.at[0, \"DOWNVOTED_USERS\"] = downvoted_users\n",
    "        pred_target_vote_score = evaluate_model(config, model, data = target_vote_data, weights = None, batch_size=1, sample_voted_users=False, extra_input = extra_input, return_prediction=True, disable_tqdm=True)[0,0]\n",
    "        count_new_vote_pred(peer_votes_num_acc_df, target_vote, pred_target_vote_score, peer_vote_num, peer_votes_data)\n",
    "\n",
    "def pred_acc_peer_finetune(peer_votes_num_acc_df, target_vote, target_vote_data, peer_votes_data, n_step_per_sample=1):\n",
    "    tmp_model = copy.deepcopy(model)\n",
    "    # 0 peer votes\n",
    "    pred_target_vote_score = evaluate_model(config, tmp_model, data = target_vote_data, weights = None, batch_size=1, sample_voted_users=False, extra_input = extra_input, return_prediction=True, disable_tqdm=True)[0,0]\n",
    "    count_new_vote_pred(peer_votes_num_acc_df, target_vote, pred_target_vote_score, 0, peer_votes_data)\n",
    "\n",
    "    if len(peer_votes_data) > 0:\n",
    "        for new_user_i, tmp_model in enumerate(train_model(config, tmp_model, data=peer_votes_data, weights = None, batch_size=1, epochs=1, verbose=2, validation_split=False, step_generator=True, n_step_per_sample=n_step_per_sample, extra_input = extra_input)):\n",
    "            if tmp_model is None:\n",
    "                break\n",
    "            peer_vote_num = new_user_i + 1\n",
    "            pred_target_vote_score = evaluate_model(config, tmp_model, data = target_vote_data, weights = None, batch_size=1, sample_voted_users=False, extra_input = extra_input, return_prediction=True, disable_tqdm=True)[0,0]\n",
    "            count_new_vote_pred(peer_votes_num_acc_df, target_vote, pred_target_vote_score, peer_vote_num, peer_votes_data)\n",
    "\n",
    "def pred_acc_peer_feature_finetune(peer_votes_num_acc_df, target_vote, target_vote_data, peer_votes_data, n_step_per_sample=1): # conbination of the upper two\n",
    "    pd.options.mode.chained_assignment = None\n",
    "    all_peer_users = peer_votes_data[\"USERNAME\"].to_numpy()\n",
    "    all_peer_votes = peer_votes_data[\"VOTE\"].to_numpy()\n",
    "    target_vote_model_input = {column: target_vote_data[column] for column in target_vote_data}\n",
    "\n",
    "    tmp_model = copy.deepcopy(model)\n",
    "    # 0 peer votes\n",
    "    upvoted_users, downvoted_users = [], []\n",
    "    target_vote_model_input[\"UPVOTED_USERS\"] = [upvoted_users]\n",
    "    target_vote_model_input[\"DOWNVOTED_USERS\"] = [downvoted_users]\n",
    "    pred_target_vote_score = evaluate_model(tmp_model, target_vote_model_input, target_vote_model_input.get(\"input_ids\", None), target_vote_model_input.get(\"token_type_ids\", None), target_vote_model_input.get(\"attention_mask\", None), target_vote_data[target].values, data = target_vote_data, weights = None, batch_size=1, max_voted_users=max_voted_users,sample_voted_users=False, return_prediction=True, disable_tqdm=True)[0,0]\n",
    "    count_new_vote_pred(peer_votes_num_acc_df, target_vote, pred_target_vote_score, 0, peer_votes_data)\n",
    "\n",
    "    if len(peer_votes_data) > 0:\n",
    "        peer_votes_model_input = {column: peer_votes_data[column] for column in peer_votes_data}\n",
    "        # construct train model peer_votes_model_input\n",
    "        peer_votes_model_input[\"UPVOTED_USERS\"].loc[0] = upvoted_users\n",
    "        peer_votes_model_input[\"DOWNVOTED_USERS\"].loc[0] = downvoted_users\n",
    "        for user_i in range(1, len(all_peer_users)):\n",
    "            new_user = all_peer_users[user_i - 1] # add last user (user_i - 1) to the peer votes for user_i\n",
    "            new_vote = all_peer_votes[user_i - 1]\n",
    "            if new_vote == 1:\n",
    "                upvoted_users.append(int(new_user))\n",
    "            elif new_vote == 0:\n",
    "                downvoted_users.append(int(new_user))\n",
    "            peer_votes_model_input[\"UPVOTED_USERS\"].loc[user_i] = upvoted_users\n",
    "            peer_votes_model_input[\"DOWNVOTED_USERS\"].loc[user_i] = downvoted_users\n",
    "        \n",
    "        # finetune the model\n",
    "        upvoted_users, downvoted_users = [], []\n",
    "        for new_user_i, tmp_model in enumerate(train_model(config, tmp_model, x=peer_votes_model_input, y=peer_votes_data[target].values, weights = None, batch_size=1, epochs=1, verbose=2, validation_split=False, max_voted_users=max_voted_users, step_generator=True, n_step_per_sample=n_step_per_sample)):\n",
    "            if tmp_model is None:\n",
    "                break\n",
    "            peer_vote_num = new_user_i + 1\n",
    "\n",
    "            # add peer votes to model input features\n",
    "            new_user = all_peer_users[new_user_i]\n",
    "            new_vote = all_peer_votes[new_user_i]\n",
    "            if new_vote == 1:\n",
    "                upvoted_users.append(int(new_user))\n",
    "            elif new_vote == 0:\n",
    "                downvoted_users.append(int(new_user))\n",
    "            target_vote_model_input[\"UPVOTED_USERS\"] = [upvoted_users]\n",
    "            target_vote_model_input[\"DOWNVOTED_USERS\"] = [downvoted_users]\n",
    "\n",
    "            pred_target_vote_score = evaluate_model(tmp_model, target_vote_model_input, target_vote_model_input.get(\"input_ids\", None), target_vote_model_input.get(\"token_type_ids\", None), target_vote_model_input.get(\"attention_mask\", None), target_vote_data[target].values, data = target_vote_data, weights = None, batch_size=1, max_voted_users=max_voted_users,sample_voted_users=False, return_prediction=True, disable_tqdm=True)[0,0]\n",
    "            count_new_vote_pred(peer_votes_num_acc_df, target_vote, pred_target_vote_score, peer_vote_num, peer_votes_data)"
   ]
  },
  {
   "cell_type": "code",
   "execution_count": 71,
   "metadata": {},
   "outputs": [],
   "source": [
    "n_step_per_sample = 1\n",
    "if not use_voted_users_feature:\n",
    "    model.optim = torch.optim.Adam(model.parameters(), lr = 0.5 * config[\"learning_rate\"]) # 2 还不错，5不行\n",
    "    n_step_per_sample = 1"
   ]
  },
  {
   "cell_type": "code",
   "execution_count": 72,
   "metadata": {},
   "outputs": [
    {
     "name": "stderr",
     "output_type": "stream",
     "text": [
      " 40%|████      | 56/139 [01:44<02:25,  1.75s/it]"
     ]
    }
   ],
   "source": [
    "from tqdm import tqdm\n",
    "\n",
    "test_submissions = list(set(test_data[\"SUBMISSION_ID\"]))\n",
    "max_voted_users = 1000\n",
    "peer_votes_num_acc_df = pd.DataFrame(np.zeros((max_voted_users + 1,4)), columns=['Acc', 'Confidence', 'Total', \"Same as majority\"])\n",
    "model.to(model.device)\n",
    "# test_data[\"UPVOTED_USERS\"] = test_data[\"UPVOTED_USERS\"].astype('object')\n",
    "# test_data[\"DOWNVOTED_USERS\"] = test_data[\"DOWNVOTED_USERS\"].astype('object')\n",
    "for submission_id in tqdm(test_submissions[:]):\n",
    "    submission_votes_data = test_data[test_data[\"SUBMISSION_ID\"] == submission_id]\n",
    "    submission_votes_data = submission_votes_data.sample(frac=1).reset_index(drop=True) # shuffle\n",
    "    target_vote_data = submission_votes_data.iloc[-1:].reset_index(drop=True)\n",
    "    target_vote = int(target_vote_data[\"VOTE\"])\n",
    "    peer_votes_data = submission_votes_data.iloc[:-1]\n",
    "    if use_voted_users_feature:\n",
    "        pred_acc_peer_feature(peer_votes_num_acc_df, target_vote, target_vote_data, peer_votes_data)\n",
    "        # pred_acc_peer_feature_finetune(peer_votes_num_acc_df, target_vote, target_vote_data, peer_votes_data, n_step_per_sample=n_step_per_sample)\n",
    "    else:\n",
    "        pred_acc_peer_finetune(peer_votes_num_acc_df, target_vote, target_vote_data, peer_votes_data, n_step_per_sample=n_step_per_sample)    "
   ]
  },
  {
   "cell_type": "code",
   "execution_count": null,
   "metadata": {},
   "outputs": [
    {
     "data": {
      "text/html": [
       "<div>\n",
       "<style scoped>\n",
       "    .dataframe tbody tr th:only-of-type {\n",
       "        vertical-align: middle;\n",
       "    }\n",
       "\n",
       "    .dataframe tbody tr th {\n",
       "        vertical-align: top;\n",
       "    }\n",
       "\n",
       "    .dataframe thead th {\n",
       "        text-align: right;\n",
       "    }\n",
       "</style>\n",
       "<table border=\"1\" class=\"dataframe\">\n",
       "  <thead>\n",
       "    <tr style=\"text-align: right;\">\n",
       "      <th></th>\n",
       "      <th>Acc</th>\n",
       "      <th>Confidence</th>\n",
       "      <th>Total</th>\n",
       "      <th>Same as majority</th>\n",
       "      <th>Acc rate</th>\n",
       "      <th>Avg confidence</th>\n",
       "      <th>Same as majority rate</th>\n",
       "      <th>Total scaled</th>\n",
       "    </tr>\n",
       "  </thead>\n",
       "  <tbody>\n",
       "    <tr>\n",
       "      <th>0</th>\n",
       "      <td>113.0</td>\n",
       "      <td>43.038627</td>\n",
       "      <td>139.0</td>\n",
       "      <td>0.0</td>\n",
       "      <td>0.812950</td>\n",
       "      <td>0.309630</td>\n",
       "      <td>0.000000</td>\n",
       "      <td>1.000000</td>\n",
       "    </tr>\n",
       "    <tr>\n",
       "      <th>1</th>\n",
       "      <td>112.0</td>\n",
       "      <td>46.050227</td>\n",
       "      <td>139.0</td>\n",
       "      <td>106.0</td>\n",
       "      <td>0.805755</td>\n",
       "      <td>0.331297</td>\n",
       "      <td>0.762590</td>\n",
       "      <td>1.000000</td>\n",
       "    </tr>\n",
       "    <tr>\n",
       "      <th>2</th>\n",
       "      <td>112.0</td>\n",
       "      <td>48.090709</td>\n",
       "      <td>139.0</td>\n",
       "      <td>103.0</td>\n",
       "      <td>0.805755</td>\n",
       "      <td>0.345976</td>\n",
       "      <td>0.741007</td>\n",
       "      <td>1.000000</td>\n",
       "    </tr>\n",
       "    <tr>\n",
       "      <th>3</th>\n",
       "      <td>115.0</td>\n",
       "      <td>49.585755</td>\n",
       "      <td>139.0</td>\n",
       "      <td>112.0</td>\n",
       "      <td>0.827338</td>\n",
       "      <td>0.356732</td>\n",
       "      <td>0.805755</td>\n",
       "      <td>1.000000</td>\n",
       "    </tr>\n",
       "    <tr>\n",
       "      <th>4</th>\n",
       "      <td>119.0</td>\n",
       "      <td>51.190952</td>\n",
       "      <td>139.0</td>\n",
       "      <td>115.0</td>\n",
       "      <td>0.856115</td>\n",
       "      <td>0.368280</td>\n",
       "      <td>0.827338</td>\n",
       "      <td>1.000000</td>\n",
       "    </tr>\n",
       "    <tr>\n",
       "      <th>...</th>\n",
       "      <td>...</td>\n",
       "      <td>...</td>\n",
       "      <td>...</td>\n",
       "      <td>...</td>\n",
       "      <td>...</td>\n",
       "      <td>...</td>\n",
       "      <td>...</td>\n",
       "      <td>...</td>\n",
       "    </tr>\n",
       "    <tr>\n",
       "      <th>562</th>\n",
       "      <td>1.0</td>\n",
       "      <td>0.393468</td>\n",
       "      <td>1.0</td>\n",
       "      <td>1.0</td>\n",
       "      <td>1.000000</td>\n",
       "      <td>0.393468</td>\n",
       "      <td>1.000000</td>\n",
       "      <td>0.007194</td>\n",
       "    </tr>\n",
       "    <tr>\n",
       "      <th>563</th>\n",
       "      <td>1.0</td>\n",
       "      <td>0.394453</td>\n",
       "      <td>1.0</td>\n",
       "      <td>1.0</td>\n",
       "      <td>1.000000</td>\n",
       "      <td>0.394453</td>\n",
       "      <td>1.000000</td>\n",
       "      <td>0.007194</td>\n",
       "    </tr>\n",
       "    <tr>\n",
       "      <th>564</th>\n",
       "      <td>1.0</td>\n",
       "      <td>0.395890</td>\n",
       "      <td>1.0</td>\n",
       "      <td>1.0</td>\n",
       "      <td>1.000000</td>\n",
       "      <td>0.395890</td>\n",
       "      <td>1.000000</td>\n",
       "      <td>0.007194</td>\n",
       "    </tr>\n",
       "    <tr>\n",
       "      <th>565</th>\n",
       "      <td>1.0</td>\n",
       "      <td>0.392581</td>\n",
       "      <td>1.0</td>\n",
       "      <td>1.0</td>\n",
       "      <td>1.000000</td>\n",
       "      <td>0.392581</td>\n",
       "      <td>1.000000</td>\n",
       "      <td>0.007194</td>\n",
       "    </tr>\n",
       "    <tr>\n",
       "      <th>566</th>\n",
       "      <td>1.0</td>\n",
       "      <td>0.389702</td>\n",
       "      <td>1.0</td>\n",
       "      <td>1.0</td>\n",
       "      <td>1.000000</td>\n",
       "      <td>0.389702</td>\n",
       "      <td>1.000000</td>\n",
       "      <td>0.007194</td>\n",
       "    </tr>\n",
       "  </tbody>\n",
       "</table>\n",
       "<p>567 rows × 8 columns</p>\n",
       "</div>"
      ],
      "text/plain": [
       "       Acc  Confidence  Total  Same as majority  Acc rate  Avg confidence  \\\n",
       "0    113.0   43.038627  139.0               0.0  0.812950        0.309630   \n",
       "1    112.0   46.050227  139.0             106.0  0.805755        0.331297   \n",
       "2    112.0   48.090709  139.0             103.0  0.805755        0.345976   \n",
       "3    115.0   49.585755  139.0             112.0  0.827338        0.356732   \n",
       "4    119.0   51.190952  139.0             115.0  0.856115        0.368280   \n",
       "..     ...         ...    ...               ...       ...             ...   \n",
       "562    1.0    0.393468    1.0               1.0  1.000000        0.393468   \n",
       "563    1.0    0.394453    1.0               1.0  1.000000        0.394453   \n",
       "564    1.0    0.395890    1.0               1.0  1.000000        0.395890   \n",
       "565    1.0    0.392581    1.0               1.0  1.000000        0.392581   \n",
       "566    1.0    0.389702    1.0               1.0  1.000000        0.389702   \n",
       "\n",
       "     Same as majority rate  Total scaled  \n",
       "0                 0.000000      1.000000  \n",
       "1                 0.762590      1.000000  \n",
       "2                 0.741007      1.000000  \n",
       "3                 0.805755      1.000000  \n",
       "4                 0.827338      1.000000  \n",
       "..                     ...           ...  \n",
       "562               1.000000      0.007194  \n",
       "563               1.000000      0.007194  \n",
       "564               1.000000      0.007194  \n",
       "565               1.000000      0.007194  \n",
       "566               1.000000      0.007194  \n",
       "\n",
       "[567 rows x 8 columns]"
      ]
     },
     "execution_count": 60,
     "metadata": {},
     "output_type": "execute_result"
    }
   ],
   "source": [
    "peer_votes_num_acc_df = peer_votes_num_acc_df[peer_votes_num_acc_df[\"Total\"] > 0]\n",
    "peer_votes_num_acc_df[\"Acc rate\"] = peer_votes_num_acc_df[\"Acc\"]/peer_votes_num_acc_df[\"Total\"]\n",
    "peer_votes_num_acc_df[\"Avg confidence\"] = peer_votes_num_acc_df[\"Confidence\"]/peer_votes_num_acc_df[\"Total\"]\n",
    "peer_votes_num_acc_df[\"Same as majority rate\"] = peer_votes_num_acc_df[\"Same as majority\"]/peer_votes_num_acc_df[\"Total\"]\n",
    "peer_votes_num_acc_df[\"Total scaled\"] = peer_votes_num_acc_df[\"Total\"]/max(peer_votes_num_acc_df[\"Total\"])\n",
    "peer_votes_num_acc_df"
   ]
  },
  {
   "cell_type": "code",
   "execution_count": null,
   "metadata": {},
   "outputs": [
    {
     "name": "stdout",
     "output_type": "stream",
     "text": [
      "\u001b[1;33m------------------\u001b[0m\u001b[1;31m 2022-08-01 08:17:38 \u001b[0m\u001b[1;33m------------------\u001b[0m\n",
      "\u001b[1;33m\u001b[0m\u001b[1;32mDEBUG:\u001b[0m\u001b[1;33m at \u001b[0m\u001b[1;32m<ipython-input-61-3153bdc667b0>:6 <module>\u001b[0m\u001b[1;33m\u001b[0m\n",
      "\u001b[1;33m\u001b[0m\u001b[1;36mAcc rate\u001b[0m\u001b[1;33m\u001b[0m\n",
      "\u001b[1;33m------------------\u001b[0m\u001b[1;31m 2022-08-01 08:17:38 \u001b[0m\u001b[1;33m------------------\u001b[0m\n"
     ]
    },
    {
     "data": {
      "text/plain": [
       "<AxesSubplot:ylabel='Avg confidence'>"
      ]
     },
     "execution_count": 61,
     "metadata": {},
     "output_type": "execute_result"
    },
    {
     "data": {
      "image/png": "[encoded data removed]",
      "text/plain": [
       "<Figure size 432x288 with 1 Axes>"
      ]
     },
     "metadata": {},
     "output_type": "display_data"
    }
   ],
   "source": [
    "def convert_df_to_dict(df: pd.DataFrame):\n",
    "    return {x:list(df[x]) for x in df}\n",
    "import seaborn as sns\n",
    "\n",
    "peer_votes_num_acc_df_part = peer_votes_num_acc_df.iloc[:50]\n",
    "debug(\"Acc rate\")\n",
    "sns.set_theme()\n",
    "sns.lineplot(data=peer_votes_num_acc_df_part, x=peer_votes_num_acc_df_part.index, y='Avg confidence')\n",
    "sns.lineplot(data=peer_votes_num_acc_df_part, x=peer_votes_num_acc_df_part.index, y='Total scaled')\n",
    "# ax.set_ylim(ymax=1)"
   ]
  },
  {
   "cell_type": "code",
   "execution_count": null,
   "metadata": {},
   "outputs": [
    {
     "data": {
      "text/plain": [
       "<AxesSubplot:ylabel='Acc rate'>"
      ]
     },
     "execution_count": 62,
     "metadata": {},
     "output_type": "execute_result"
    },
    {
     "data": {
      "image/png": "[encoded data removed]",
      "text/plain": [
       "<Figure size 432x288 with 1 Axes>"
      ]
     },
     "metadata": {},
     "output_type": "display_data"
    }
   ],
   "source": [
    "sns.lineplot(data=peer_votes_num_acc_df_part, x=peer_votes_num_acc_df_part.index, y='Acc rate')\n",
    "sns.lineplot(data=peer_votes_num_acc_df_part, x=peer_votes_num_acc_df_part.index, y='Total scaled')"
   ]
  },
  {
   "cell_type": "code",
   "execution_count": null,
   "metadata": {},
   "outputs": [
    {
     "name": "stdout",
     "output_type": "stream",
     "text": [
      "\u001b[1;33m------------------\u001b[0m\u001b[1;31m 2022-08-01 08:17:39 \u001b[0m\u001b[1;33m------------------\u001b[0m\n",
      "\u001b[1;33m\u001b[0m\u001b[1;32mDEBUG:\u001b[0m\u001b[1;33m at \u001b[0m\u001b[1;32m<ipython-input-63-256f6a6658fb>:1 <module>\u001b[0m\u001b[1;33m\u001b[0m\n",
      "\u001b[1;33m\u001b[0m\u001b[1;36mSame as majority rate\u001b[0m\u001b[1;33m\u001b[0m\n",
      "\u001b[1;33m------------------\u001b[0m\u001b[1;31m 2022-08-01 08:17:39 \u001b[0m\u001b[1;33m------------------\u001b[0m\n"
     ]
    },
    {
     "data": {
      "text/plain": [
       "<AxesSubplot:ylabel='Same as majority rate'>"
      ]
     },
     "execution_count": 63,
     "metadata": {},
     "output_type": "execute_result"
    },
    {
     "data": {
      "image/png": "[encoded data removed]",
      "text/plain": [
       "<Figure size 432x288 with 1 Axes>"
      ]
     },
     "metadata": {},
     "output_type": "display_data"
    }
   ],
   "source": [
    "debug(\"Same as majority rate\")\n",
    "sns.lineplot(data=peer_votes_num_acc_df_part, x=peer_votes_num_acc_df_part.index, y='Same as majority rate')\n",
    "sns.lineplot(data=peer_votes_num_acc_df_part, x=peer_votes_num_acc_df_part.index, y='Total scaled')\n"
   ]
  }
 ],
 "metadata": {
  "kernelspec": {
   "display_name": "Python 3.6.12 ('cr4')",
   "language": "python",
   "name": "python3"
  },
  "language_info": {
   "codemirror_mode": {
    "name": "ipython",
    "version": 3
   },
   "file_extension": ".py",
   "mimetype": "text/x-python",
   "name": "python",
   "nbconvert_exporter": "python",
   "pygments_lexer": "ipython3",
   "version": "3.6.12"
  },
  "orig_nbformat": 4,
  "vscode": {
   "interpreter": {
    "hash": "740471d2bc5e6e0b41d12bdc2e64373746aa6a34800f381ff958ff5f02fa0c53"
   }
  }
 },
 "nbformat": 4,
 "nbformat_minor": 2
}
