{
 "cells": [
  {
   "cell_type": "markdown",
   "metadata": {},
   "source": [
    "IMPORTANT: submissions in test set should be different from train set, i.e., `train_test_different_submissions = True`"
   ]
  },
  {
   "cell_type": "code",
   "execution_count": 1,
   "metadata": {},
   "outputs": [
    {
     "name": "stdout",
     "output_type": "stream",
     "text": [
      "为了使用邮件提醒功能，请设置环境变量MY_QQ_EMAIL（QQ邮箱地址）与MY_QQ_EMAIL_PWD（QQ邮箱授权码）\n",
      "\u001b[1;33m------------------\u001b[0m\u001b[1;31m 2022-08-23 07:24:48 \u001b[0m\u001b[1;33m------------------\u001b[0m\n",
      "GPU ready...\n",
      "Smart using cuda:3\n",
      "\u001b[1;33m------------------\u001b[0m\u001b[1;31m 2022-08-23 07:24:50 \u001b[0m\u001b[1;33m------------------\u001b[0m\n",
      "\u001b[1;33m\u001b[0m\u001b[1;32mDEBUG:\u001b[0m\u001b[1;33m 1 vars: ['peer_vote_option'], at \u001b[0m\u001b[1;32m<ipython-input-1-066e385d6754>:6 <module>\u001b[0m\u001b[1;33m\u001b[0m\n",
      "\u001b[1;33m0 / 1.\u001b[0m \u001b[1;33m \u001b[0m\u001b[1;36mpeer_vote_option\u001b[0m\u001b[1;33m str len 4: real\u001b[0m\n",
      "\u001b[1;33m------------------\u001b[0m\u001b[1;31m 2022-08-23 07:24:50 \u001b[0m\u001b[1;33m------------------\u001b[0m\n",
      "Finetune the model using peer votes\n"
     ]
    }
   ],
   "source": [
    "CONFIG_PATH = \"configs/subreddit_minority_no_peer_test_diff.yml\"\n",
    "from utils import get_config\n",
    "config = get_config(CONFIG_PATH, \"_curation\", print_config = False)\n",
    "peer_vote_option = \"real\" # \"real\", \"real_user_opposite_vote\", \"similar_user_opposite_vote\" # TODO:\n",
    "from superdebug import debug\n",
    "debug(peer_vote_option=peer_vote_option)\n",
    "use_voted_users_feature = config[\"use_voted_users_feature\"]\n",
    "use_voted_users_feature = False # TODO:\n",
    "if use_voted_users_feature:\n",
    "    print(\"Use peer votes as model input feature\")\n",
    "else:\n",
    "    print(\"Finetune the model using peer votes\")"
   ]
  },
  {
   "cell_type": "code",
   "execution_count": 2,
   "metadata": {},
   "outputs": [
    {
     "name": "stderr",
     "output_type": "stream",
     "text": [
      "Version 7.5.0 of praw is outdated. Version 7.6.0 was released Tuesday May 10, 2022.\n"
     ]
    }
   ],
   "source": [
    "from collections import Counter, defaultdict\n",
    "import os\n",
    "import random\n",
    "import shutil\n",
    "import numpy as np\n",
    "import pandas as pd\n",
    "import torch\n",
    "from process_data import get_model_input\n",
    "from model import get_best_model, TransformerVoter\n",
    "from utils import get_user_reps, get_bool_vec, record_existing_votes\n",
    "from train import evaluate_model, train_model\n",
    "import sklearn.metrics\n",
    "import copy"
   ]
  },
  {
   "cell_type": "code",
   "execution_count": 3,
   "metadata": {},
   "outputs": [
    {
     "name": "stdout",
     "output_type": "stream",
     "text": [
      "\u001b[1;33m------------------\u001b[0m\u001b[1;31m 2022-08-23 07:24:54 \u001b[0m\u001b[1;33m------------------\u001b[0m\n",
      "\u001b[1;33m\u001b[0m\u001b[1;32mDEBUG:\u001b[0m\u001b[1;33m at \u001b[0m\u001b[1;32m/home/TableSense/largedisk/wanrong/Curation-Modeling/process_data.py:363 get_model_input\u001b[0m\u001b[1;33m\u001b[0m\n",
      "\u001b[1;33m\u001b[0m\u001b[1;36mLoading prepared data...\u001b[0m\u001b[1;33m\u001b[0m\n",
      "\u001b[1;33m------------------\u001b[0m\u001b[1;31m 2022-08-23 07:24:54 \u001b[0m\u001b[1;33m------------------\u001b[0m\n"
     ]
    }
   ],
   "source": [
    "target, original_feature_map, categorical_features, string_features, train_data, test_data, test_data_info, train_submission_upvote_df, num_all_users = get_model_input(config)\n",
    "extra_input = (categorical_features, string_features, target)"
   ]
  },
  {
   "cell_type": "code",
   "execution_count": 4,
   "metadata": {},
   "outputs": [
    {
     "name": "stdout",
     "output_type": "stream",
     "text": [
      "\u001b[1;33m------------------\u001b[0m\u001b[1;31m 2022-08-23 07:24:58 \u001b[0m\u001b[1;33m------------------\u001b[0m\n",
      "\u001b[1;33m\u001b[0m\u001b[1;32mDEBUG:\u001b[0m\u001b[1;33m 1 vars: ['original_token_num'], at \u001b[0m\u001b[1;32m/home/TableSense/largedisk/wanrong/Curation-Modeling/model.py:248 get_tokenizer\u001b[0m\u001b[1;33m\u001b[0m\n",
      "\u001b[1;33m0 / 2.\u001b[0m \u001b[1;33m \u001b[0m\u001b[1;36moriginal_token_num\u001b[0m\u001b[1;33m num val: 30522\u001b[0m\n",
      "\u001b[1;33m------------------\u001b[0m\u001b[1;31m 2022-08-23 07:24:58 \u001b[0m\u001b[1;33m------------------\u001b[0m\n",
      "\u001b[1;33m------------------\u001b[0m\u001b[1;31m 2022-08-23 07:24:59 \u001b[0m\u001b[1;33m------------------\u001b[0m\n",
      "\u001b[1;33m\u001b[0m\u001b[1;32mDEBUG:\u001b[0m\u001b[1;33m 1 vars: ['latest_token_num'], at \u001b[0m\u001b[1;32m/home/TableSense/largedisk/wanrong/Curation-Modeling/model.py:260 get_tokenizer\u001b[0m\u001b[1;33m\u001b[0m\n",
      "\u001b[1;33m0 / 3.\u001b[0m \u001b[1;33m \u001b[0m\u001b[1;36mlatest_token_num\u001b[0m\u001b[1;33m num val: 219887\u001b[0m\n",
      "\u001b[1;33m------------------\u001b[0m\u001b[1;31m 2022-08-23 07:24:59 \u001b[0m\u001b[1;33m------------------\u001b[0m\n"
     ]
    },
    {
     "name": "stderr",
     "output_type": "stream",
     "text": [
      "Some weights of the model checkpoint at prajjwal1/bert-mini were not used when initializing BertModel: ['cls.predictions.bias', 'cls.seq_relationship.weight', 'cls.predictions.decoder.weight', 'cls.predictions.transform.dense.bias', 'cls.seq_relationship.bias', 'cls.predictions.transform.LayerNorm.weight', 'cls.predictions.decoder.bias', 'cls.predictions.transform.LayerNorm.bias', 'cls.predictions.transform.dense.weight']\n",
      "- This IS expected if you are initializing BertModel from the checkpoint of a model trained on another task or with another architecture (e.g. initializing a BertForSequenceClassification model from a BertForPreTraining model).\n",
      "- This IS NOT expected if you are initializing BertModel from the checkpoint of a model that you expect to be exactly identical (initializing a BertForSequenceClassification model from a BertForSequenceClassification model).\n"
     ]
    },
    {
     "name": "stdout",
     "output_type": "stream",
     "text": [
      "\u001b[1;33m------------------\u001b[0m\u001b[1;31m 2022-08-23 07:25:00 \u001b[0m\u001b[1;33m------------------\u001b[0m\n",
      "\u001b[1;33m\u001b[0m\u001b[1;32mDEBUG:\u001b[0m\u001b[1;33m at \u001b[0m\u001b[1;32m/home/TableSense/largedisk/wanrong/Curation-Modeling/utils.py:113 load_model\u001b[0m\u001b[1;33m\u001b[0m\n",
      "\u001b[1;33m\u001b[0m\u001b[1;36mLoading best model...\u001b[0m\u001b[1;33m\u001b[0m\n",
      "\u001b[1;33m------------------\u001b[0m\u001b[1;31m 2022-08-23 07:25:00 \u001b[0m\u001b[1;33m------------------\u001b[0m\n"
     ]
    }
   ],
   "source": [
    "model, _ = get_best_model(config, categorical_features, string_features, original_feature_map)"
   ]
  },
  {
   "cell_type": "code",
   "execution_count": 5,
   "metadata": {},
   "outputs": [
    {
     "name": "stdout",
     "output_type": "stream",
     "text": [
      "cuda:3\n"
     ]
    },
    {
     "data": {
      "text/html": [
       "<div>\n",
       "<style scoped>\n",
       "    .dataframe tbody tr th:only-of-type {\n",
       "        vertical-align: middle;\n",
       "    }\n",
       "\n",
       "    .dataframe tbody tr th {\n",
       "        vertical-align: top;\n",
       "    }\n",
       "\n",
       "    .dataframe thead th {\n",
       "        text-align: right;\n",
       "    }\n",
       "</style>\n",
       "<table border=\"1\" class=\"dataframe\">\n",
       "  <thead>\n",
       "    <tr style=\"text-align: right;\">\n",
       "      <th></th>\n",
       "      <th>SUBMISSION_ID</th>\n",
       "      <th>SUBREDDIT</th>\n",
       "      <th>CREATED_TIME</th>\n",
       "      <th>USERNAME</th>\n",
       "      <th>VOTE</th>\n",
       "      <th>TITLE</th>\n",
       "      <th>AUTHOR</th>\n",
       "      <th>#_COMMENTS</th>\n",
       "      <th>NSFW</th>\n",
       "      <th>SCORE</th>\n",
       "      <th>UPVOTED_%</th>\n",
       "      <th>LINK</th>\n",
       "      <th>SUBMISSION_TEXT</th>\n",
       "      <th>SUBMISSION_URL</th>\n",
       "    </tr>\n",
       "  </thead>\n",
       "  <tbody>\n",
       "    <tr>\n",
       "      <th>0</th>\n",
       "      <td>t3_dpesbw</td>\n",
       "      <td>r/teenagers</td>\n",
       "      <td>Wed Oct 30 2019</td>\n",
       "      <td>54180</td>\n",
       "      <td>1.0</td>\n",
       "      <td>Well boys, i finally did it.</td>\n",
       "      <td>118334</td>\n",
       "      <td>292</td>\n",
       "      <td>false</td>\n",
       "      <td>7158</td>\n",
       "      <td>0.96</td>\n",
       "      <td>https://www.reddit.com/r/teenagers/comments/dp...</td>\n",
       "      <td>Well boys, i finally did it. [SEP] [deleted]</td>\n",
       "      <td>https://i.redd.it/q5kh7gz3irv31.png</td>\n",
       "    </tr>\n",
       "    <tr>\n",
       "      <th>1</th>\n",
       "      <td>t3_e0xr9r</td>\n",
       "      <td>r/teenagers</td>\n",
       "      <td>Sun Nov 24 2019</td>\n",
       "      <td>23277</td>\n",
       "      <td>1.0</td>\n",
       "      <td>Why tf are there 17 hour posts and 1 minute po...</td>\n",
       "      <td>58381</td>\n",
       "      <td>74</td>\n",
       "      <td>false</td>\n",
       "      <td>5015</td>\n",
       "      <td>0.99</td>\n",
       "      <td>https://www.reddit.com/r/teenagers/comments/e0...</td>\n",
       "      <td>Why tf are there 17 hour posts and 1 minute po...</td>\n",
       "      <td>https://www.reddit.com/r/teenagers/comments/e0...</td>\n",
       "    </tr>\n",
       "  </tbody>\n",
       "</table>\n",
       "</div>"
      ],
      "text/plain": [
       "  SUBMISSION_ID    SUBREDDIT     CREATED_TIME  USERNAME  VOTE  \\\n",
       "0     t3_dpesbw  r/teenagers  Wed Oct 30 2019     54180   1.0   \n",
       "1     t3_e0xr9r  r/teenagers  Sun Nov 24 2019     23277   1.0   \n",
       "\n",
       "                                               TITLE  AUTHOR  #_COMMENTS  \\\n",
       "0                       Well boys, i finally did it.  118334         292   \n",
       "1  Why tf are there 17 hour posts and 1 minute po...   58381          74   \n",
       "\n",
       "    NSFW  SCORE  UPVOTED_%                                               LINK  \\\n",
       "0  false   7158       0.96  https://www.reddit.com/r/teenagers/comments/dp...   \n",
       "1  false   5015       0.99  https://www.reddit.com/r/teenagers/comments/e0...   \n",
       "\n",
       "                                     SUBMISSION_TEXT  \\\n",
       "0       Well boys, i finally did it. [SEP] [deleted]   \n",
       "1  Why tf are there 17 hour posts and 1 minute po...   \n",
       "\n",
       "                                      SUBMISSION_URL  \n",
       "0                https://i.redd.it/q5kh7gz3irv31.png  \n",
       "1  https://www.reddit.com/r/teenagers/comments/e0...  "
      ]
     },
     "execution_count": 5,
     "metadata": {},
     "output_type": "execute_result"
    }
   ],
   "source": [
    "print(model.device)\n",
    "test_data.iloc[:2]\n",
    "# !nvidia-smi"
   ]
  },
  {
   "cell_type": "markdown",
   "metadata": {},
   "source": [
    "Define functions to simulate new peer votes"
   ]
  },
  {
   "cell_type": "code",
   "execution_count": 6,
   "metadata": {},
   "outputs": [],
   "source": [
    "def count_new_vote_pred(peer_votes_num_acc_df, target_vote, pred_target_vote_score, peer_vote_num, peer_votes_data):\n",
    "    peer_votes_num_acc_df.at[peer_vote_num, \"Total\"] += 1\n",
    "    pred_target_vote = int(pred_target_vote_score >= 0.5)\n",
    "    if pred_target_vote == target_vote:\n",
    "        peer_votes_num_acc_df.at[peer_vote_num, \"Acc\"] += 1\n",
    "        peer_votes_num_acc_df.at[peer_vote_num, \"Acc confidence\"] += abs(pred_target_vote_score - 0.5)\n",
    "    else:\n",
    "        peer_votes_num_acc_df.at[peer_vote_num, \"Inacc confidence\"] += abs(pred_target_vote_score - 0.5)\n",
    "        \n",
    "    if peer_vote_num > 0:\n",
    "        majority_vote = -1\n",
    "        if sum(peer_votes_data[\"VOTE\"][:peer_vote_num])/peer_vote_num > 0.5:\n",
    "            majority_vote = 1\n",
    "        elif sum(peer_votes_data[\"VOTE\"][:peer_vote_num])/peer_vote_num < 0.5:\n",
    "            majority_vote = 0\n",
    "        if pred_target_vote == majority_vote:\n",
    "            peer_votes_num_acc_df.at[peer_vote_num, \"Same as majority\"] += 1\n",
    "\n",
    "\n",
    "def pred_acc_peer_feature(peer_votes_num_acc_df, target_vote, target_vote_data, peer_votes_data):\n",
    "    all_peer_users = peer_votes_data[\"USERNAME\"].to_numpy()\n",
    "    all_peer_votes = peer_votes_data[\"VOTE\"].to_numpy()\n",
    "    upvoted_users, downvoted_users = [], []\n",
    "    for new_user_i in range(-1, len(all_peer_users)):\n",
    "        peer_vote_num = new_user_i + 1\n",
    "        if new_user_i >= 0:\n",
    "            new_user = all_peer_users[new_user_i]\n",
    "            new_vote = all_peer_votes[new_user_i]\n",
    "            if new_vote == 1:\n",
    "                upvoted_users.append(int(new_user))\n",
    "            elif new_vote == 0:\n",
    "                downvoted_users.append(int(new_user))\n",
    "        target_vote_data.at[0, \"UPVOTED_USERS\"] = upvoted_users\n",
    "        target_vote_data.at[0, \"DOWNVOTED_USERS\"] = downvoted_users\n",
    "        pred_target_vote_score = evaluate_model(config, model, data = target_vote_data, weights = None, batch_size=1, sample_voted_users=False, extra_input = extra_input, ret=\"prediction\", disable_tqdm=True)[0,0]\n",
    "        count_new_vote_pred(peer_votes_num_acc_df, target_vote, pred_target_vote_score, peer_vote_num, peer_votes_data)\n",
    "\n",
    "def pred_acc_peer_finetune(peer_votes_num_acc_df, target_vote, target_vote_data, peer_votes_data, n_step_per_sample=1):\n",
    "    tmp_model = copy.deepcopy(model)\n",
    "    # 0 peer votes\n",
    "    pred_target_vote_score = evaluate_model(config, tmp_model, data = target_vote_data, weights = None, batch_size=1, sample_voted_users=False, extra_input = extra_input, ret=\"prediction\", disable_tqdm=True)[0,0]\n",
    "    count_new_vote_pred(peer_votes_num_acc_df, target_vote, pred_target_vote_score, 0, peer_votes_data)\n",
    "\n",
    "    if len(peer_votes_data) > 0:\n",
    "        for new_user_i, tmp_model in enumerate(train_model(config, tmp_model, data=peer_votes_data, weights = None, batch_size=1, epochs=1, verbose=2, validation_split=False, step_generator=True, n_step_per_sample=n_step_per_sample, extra_input = extra_input)):\n",
    "            if tmp_model is None:\n",
    "                break\n",
    "            peer_vote_num = new_user_i + 1\n",
    "            pred_target_vote_score = evaluate_model(config, tmp_model, data = target_vote_data, weights = None, batch_size=1, sample_voted_users=False, extra_input = extra_input, ret=\"prediction\", disable_tqdm=True)[0,0]\n",
    "            count_new_vote_pred(peer_votes_num_acc_df, target_vote, pred_target_vote_score, peer_vote_num, peer_votes_data)\n",
    "\n",
    "def pred_acc_peer_feature_finetune(peer_votes_num_acc_df, target_vote, target_vote_data, peer_votes_data, n_step_per_sample=1): # conbination of the upper two\n",
    "    pd.options.mode.chained_assignment = None\n",
    "    all_peer_users = peer_votes_data[\"USERNAME\"].to_numpy()\n",
    "    all_peer_votes = peer_votes_data[\"VOTE\"].to_numpy()\n",
    "    target_vote_model_input = {column: target_vote_data[column] for column in target_vote_data}\n",
    "\n",
    "    tmp_model = copy.deepcopy(model)\n",
    "    # 0 peer votes\n",
    "    upvoted_users, downvoted_users = [], []\n",
    "    target_vote_model_input[\"UPVOTED_USERS\"] = [upvoted_users]\n",
    "    target_vote_model_input[\"DOWNVOTED_USERS\"] = [downvoted_users]\n",
    "    pred_target_vote_score = evaluate_model(tmp_model, target_vote_model_input, target_vote_model_input.get(\"input_ids\", None), target_vote_model_input.get(\"token_type_ids\", None), target_vote_model_input.get(\"attention_mask\", None), target_vote_data[target].values, data = target_vote_data, weights = None, batch_size=1, max_voted_users=max_voted_users,sample_voted_users=False, ret=\"prediction\", disable_tqdm=True)[0,0]\n",
    "    count_new_vote_pred(peer_votes_num_acc_df, target_vote, pred_target_vote_score, 0, peer_votes_data)\n",
    "\n",
    "    if len(peer_votes_data) > 0:\n",
    "        peer_votes_model_input = {column: peer_votes_data[column] for column in peer_votes_data}\n",
    "        # construct train model peer_votes_model_input\n",
    "        peer_votes_model_input[\"UPVOTED_USERS\"].loc[0] = upvoted_users\n",
    "        peer_votes_model_input[\"DOWNVOTED_USERS\"].loc[0] = downvoted_users\n",
    "        for user_i in range(1, len(all_peer_users)):\n",
    "            new_user = all_peer_users[user_i - 1] # add last user (user_i - 1) to the peer votes for user_i\n",
    "            new_vote = all_peer_votes[user_i - 1]\n",
    "            if new_vote == 1:\n",
    "                upvoted_users.append(int(new_user))\n",
    "            elif new_vote == 0:\n",
    "                downvoted_users.append(int(new_user))\n",
    "            peer_votes_model_input[\"UPVOTED_USERS\"].loc[user_i] = upvoted_users\n",
    "            peer_votes_model_input[\"DOWNVOTED_USERS\"].loc[user_i] = downvoted_users\n",
    "        \n",
    "        # finetune the model\n",
    "        upvoted_users, downvoted_users = [], []\n",
    "        for new_user_i, tmp_model in enumerate(train_model(config, tmp_model, x=peer_votes_model_input, y=peer_votes_data[target].values, weights = None, batch_size=1, epochs=1, verbose=2, validation_split=False, max_voted_users=max_voted_users, step_generator=True, n_step_per_sample=n_step_per_sample)):\n",
    "            if tmp_model is None:\n",
    "                break\n",
    "            peer_vote_num = new_user_i + 1\n",
    "\n",
    "            # add peer votes to model input features\n",
    "            new_user = all_peer_users[new_user_i]\n",
    "            new_vote = all_peer_votes[new_user_i]\n",
    "            if new_vote == 1:\n",
    "                upvoted_users.append(int(new_user))\n",
    "            elif new_vote == 0:\n",
    "                downvoted_users.append(int(new_user))\n",
    "            target_vote_model_input[\"UPVOTED_USERS\"] = [upvoted_users]\n",
    "            target_vote_model_input[\"DOWNVOTED_USERS\"] = [downvoted_users]\n",
    "\n",
    "            pred_target_vote_score = evaluate_model(tmp_model, target_vote_model_input, target_vote_model_input.get(\"input_ids\", None), target_vote_model_input.get(\"token_type_ids\", None), target_vote_model_input.get(\"attention_mask\", None), target_vote_data[target].values, data = target_vote_data, weights = None, batch_size=1, max_voted_users=max_voted_users,sample_voted_users=False, ret=\"prediction\", disable_tqdm=True)[0,0]\n",
    "            count_new_vote_pred(peer_votes_num_acc_df, target_vote, pred_target_vote_score, peer_vote_num, peer_votes_data)"
   ]
  },
  {
   "cell_type": "code",
   "execution_count": 43,
   "metadata": {},
   "outputs": [],
   "source": [
    "n_step_per_sample = 1\n",
    "if not use_voted_users_feature:\n",
    "    model.optim = torch.optim.Adam(model.parameters(), lr = 1.2 * config[\"learning_rate\"]) # 2 还不错，5不行\n",
    "    n_step_per_sample = 1"
   ]
  },
  {
   "cell_type": "code",
   "execution_count": 44,
   "metadata": {},
   "outputs": [],
   "source": [
    "if peer_vote_option == \"similar_user_opposite_vote\":\n",
    "    existing_votes, existing_user_votes, existing_user_updown_votes, existing_submission_votes, existing_user_subreddits = record_existing_votes(train_data)\n",
    "\n",
    "    all_users = list(range(max(max(train_data[\"USERNAME\"]), max(test_data[\"USERNAME\"])) + 1))\n",
    "    all_username_tokens = [f\"USERNAME_{user_i}\" for user_i in all_users]\n",
    "    all_username_token_ids = torch.tensor(model.tokenizer.convert_tokens_to_ids(all_username_tokens))\n",
    "    all_username_token_ids = all_username_token_ids.to(model.device); model = model.to(model.device)\n",
    "    with torch.no_grad():\n",
    "        user_embedding = model.lm_encoder.embeddings.word_embeddings(all_username_token_ids)\n",
    "    # debug(all_username_tokens=all_username_tokens, all_username_token_ids=all_username_token_ids, user_embedding=user_embedding)\n",
    "    all_users_reps, all_user_i_user_map = get_user_reps(all_users, all_user_embedding=user_embedding, train_data=train_data, selected_submissions = {key: None for key in set(train_data[\"SUBMISSION_ID\"])}, user_grouping_method = \"votes\", do_PCA = False)\n",
    "\n",
    "    user_similarity = sklearn.metrics.pairwise.cosine_similarity(all_users_reps)\n"
   ]
  },
  {
   "cell_type": "markdown",
   "metadata": {},
   "source": [
    "Simulate new votes coming and calculate the accuracy"
   ]
  },
  {
   "cell_type": "code",
   "execution_count": 45,
   "metadata": {},
   "outputs": [],
   "source": [
    "from tqdm import tqdm\n",
    "\n",
    "test_submissions = list(set(test_data[\"SUBMISSION_ID\"]))\n",
    "max_voted_users = 1000\n",
    "peer_votes_num_acc_df = pd.DataFrame(np.zeros((max_voted_users + 1,5)), columns=['Acc', 'Acc confidence', 'Inacc confidence', 'Total', \"Same as majority\"])\n",
    "model = model.to(model.device)"
   ]
  },
  {
   "cell_type": "code",
   "execution_count": 46,
   "metadata": {},
   "outputs": [
    {
     "name": "stderr",
     "output_type": "stream",
     "text": [
      "100%|██████████| 500/500 [08:07<00:00,  1.03it/s]\n"
     ]
    }
   ],
   "source": [
    "# test_data[\"UPVOTED_USERS\"] = test_data[\"UPVOTED_USERS\"].astype('object')\n",
    "# test_data[\"DOWNVOTED_USERS\"] = test_data[\"DOWNVOTED_USERS\"].astype('object')\n",
    "for submission_id in tqdm(test_submissions[500:1000]):\n",
    "    submission_votes_data = test_data[test_data[\"SUBMISSION_ID\"] == submission_id]\n",
    "    submission_votes_data = submission_votes_data.sample(frac=1).reset_index(drop=True) # shuffle\n",
    "    target_vote_data = submission_votes_data.iloc[-1:].reset_index(drop=True)\n",
    "    target_vote = int(target_vote_data[\"VOTE\"])\n",
    "    peer_votes_data = submission_votes_data.iloc[:-1]\n",
    "    if peer_vote_option == \"real\":\n",
    "        pass\n",
    "    elif peer_vote_option == \"real_user_opposite_vote\":\n",
    "        peer_votes_data.loc[:,\"VOTE\"] = [1 - target_vote] * len(peer_votes_data)\n",
    "    elif peer_vote_option == \"similar_user_opposite_vote\":\n",
    "        target_user = int(target_vote_data[\"USERNAME\"])\n",
    "        similar_users = user_similarity[target_user].argsort()[::-1][:50]\n",
    "        peer_votes_data = pd.concat([target_vote_data] * 50, axis = 0)\n",
    "        peer_votes_data[\"USERNAME\"] = similar_users\n",
    "        peer_votes_data[\"VOTE\"] = [1 - target_vote] * 50\n",
    "    if use_voted_users_feature:\n",
    "        pred_acc_peer_feature(peer_votes_num_acc_df, target_vote, target_vote_data, peer_votes_data)\n",
    "        # pred_acc_peer_feature_finetune(peer_votes_num_acc_df, target_vote, target_vote_data, peer_votes_data, n_step_per_sample=n_step_per_sample)\n",
    "    else:\n",
    "        pred_acc_peer_finetune(peer_votes_num_acc_df, target_vote, target_vote_data, peer_votes_data, n_step_per_sample=n_step_per_sample)    "
   ]
  },
  {
   "cell_type": "code",
   "execution_count": 47,
   "metadata": {},
   "outputs": [
    {
     "data": {
      "text/html": [
       "<div>\n",
       "<style scoped>\n",
       "    .dataframe tbody tr th:only-of-type {\n",
       "        vertical-align: middle;\n",
       "    }\n",
       "\n",
       "    .dataframe tbody tr th {\n",
       "        vertical-align: top;\n",
       "    }\n",
       "\n",
       "    .dataframe thead th {\n",
       "        text-align: right;\n",
       "    }\n",
       "</style>\n",
       "<table border=\"1\" class=\"dataframe\">\n",
       "  <thead>\n",
       "    <tr style=\"text-align: right;\">\n",
       "      <th></th>\n",
       "      <th>Acc</th>\n",
       "      <th>Acc confidence</th>\n",
       "      <th>Inacc confidence</th>\n",
       "      <th>Total</th>\n",
       "      <th>Same as majority</th>\n",
       "      <th>Acc rate</th>\n",
       "      <th>Avg acc confidence</th>\n",
       "      <th>Avg inacc confidence</th>\n",
       "      <th>Same as majority rate</th>\n",
       "      <th>Total scaled</th>\n",
       "    </tr>\n",
       "  </thead>\n",
       "  <tbody>\n",
       "    <tr>\n",
       "      <th>0</th>\n",
       "      <td>360.0</td>\n",
       "      <td>144.080373</td>\n",
       "      <td>44.228818</td>\n",
       "      <td>500.0</td>\n",
       "      <td>0.0</td>\n",
       "      <td>0.720000</td>\n",
       "      <td>0.288161</td>\n",
       "      <td>0.088458</td>\n",
       "      <td>0.000000</td>\n",
       "      <td>1.000</td>\n",
       "    </tr>\n",
       "    <tr>\n",
       "      <th>1</th>\n",
       "      <td>138.0</td>\n",
       "      <td>54.549385</td>\n",
       "      <td>18.237809</td>\n",
       "      <td>197.0</td>\n",
       "      <td>118.0</td>\n",
       "      <td>0.700508</td>\n",
       "      <td>0.276900</td>\n",
       "      <td>0.092578</td>\n",
       "      <td>0.598985</td>\n",
       "      <td>0.394</td>\n",
       "    </tr>\n",
       "    <tr>\n",
       "      <th>2</th>\n",
       "      <td>82.0</td>\n",
       "      <td>32.567619</td>\n",
       "      <td>11.566731</td>\n",
       "      <td>122.0</td>\n",
       "      <td>61.0</td>\n",
       "      <td>0.672131</td>\n",
       "      <td>0.266948</td>\n",
       "      <td>0.094809</td>\n",
       "      <td>0.500000</td>\n",
       "      <td>0.244</td>\n",
       "    </tr>\n",
       "    <tr>\n",
       "      <th>3</th>\n",
       "      <td>62.0</td>\n",
       "      <td>25.547840</td>\n",
       "      <td>8.319005</td>\n",
       "      <td>91.0</td>\n",
       "      <td>59.0</td>\n",
       "      <td>0.681319</td>\n",
       "      <td>0.280745</td>\n",
       "      <td>0.091418</td>\n",
       "      <td>0.648352</td>\n",
       "      <td>0.182</td>\n",
       "    </tr>\n",
       "    <tr>\n",
       "      <th>4</th>\n",
       "      <td>53.0</td>\n",
       "      <td>21.553203</td>\n",
       "      <td>6.416773</td>\n",
       "      <td>76.0</td>\n",
       "      <td>44.0</td>\n",
       "      <td>0.697368</td>\n",
       "      <td>0.283595</td>\n",
       "      <td>0.084431</td>\n",
       "      <td>0.578947</td>\n",
       "      <td>0.152</td>\n",
       "    </tr>\n",
       "    <tr>\n",
       "      <th>...</th>\n",
       "      <td>...</td>\n",
       "      <td>...</td>\n",
       "      <td>...</td>\n",
       "      <td>...</td>\n",
       "      <td>...</td>\n",
       "      <td>...</td>\n",
       "      <td>...</td>\n",
       "      <td>...</td>\n",
       "      <td>...</td>\n",
       "      <td>...</td>\n",
       "    </tr>\n",
       "    <tr>\n",
       "      <th>157</th>\n",
       "      <td>1.0</td>\n",
       "      <td>0.486013</td>\n",
       "      <td>0.000000</td>\n",
       "      <td>1.0</td>\n",
       "      <td>1.0</td>\n",
       "      <td>1.000000</td>\n",
       "      <td>0.486013</td>\n",
       "      <td>0.000000</td>\n",
       "      <td>1.000000</td>\n",
       "      <td>0.002</td>\n",
       "    </tr>\n",
       "    <tr>\n",
       "      <th>158</th>\n",
       "      <td>1.0</td>\n",
       "      <td>0.487309</td>\n",
       "      <td>0.000000</td>\n",
       "      <td>1.0</td>\n",
       "      <td>1.0</td>\n",
       "      <td>1.000000</td>\n",
       "      <td>0.487309</td>\n",
       "      <td>0.000000</td>\n",
       "      <td>1.000000</td>\n",
       "      <td>0.002</td>\n",
       "    </tr>\n",
       "    <tr>\n",
       "      <th>159</th>\n",
       "      <td>1.0</td>\n",
       "      <td>0.488311</td>\n",
       "      <td>0.000000</td>\n",
       "      <td>1.0</td>\n",
       "      <td>1.0</td>\n",
       "      <td>1.000000</td>\n",
       "      <td>0.488311</td>\n",
       "      <td>0.000000</td>\n",
       "      <td>1.000000</td>\n",
       "      <td>0.002</td>\n",
       "    </tr>\n",
       "    <tr>\n",
       "      <th>160</th>\n",
       "      <td>1.0</td>\n",
       "      <td>0.489103</td>\n",
       "      <td>0.000000</td>\n",
       "      <td>1.0</td>\n",
       "      <td>1.0</td>\n",
       "      <td>1.000000</td>\n",
       "      <td>0.489103</td>\n",
       "      <td>0.000000</td>\n",
       "      <td>1.000000</td>\n",
       "      <td>0.002</td>\n",
       "    </tr>\n",
       "    <tr>\n",
       "      <th>161</th>\n",
       "      <td>1.0</td>\n",
       "      <td>0.489736</td>\n",
       "      <td>0.000000</td>\n",
       "      <td>1.0</td>\n",
       "      <td>1.0</td>\n",
       "      <td>1.000000</td>\n",
       "      <td>0.489736</td>\n",
       "      <td>0.000000</td>\n",
       "      <td>1.000000</td>\n",
       "      <td>0.002</td>\n",
       "    </tr>\n",
       "  </tbody>\n",
       "</table>\n",
       "<p>162 rows × 10 columns</p>\n",
       "</div>"
      ],
      "text/plain": [
       "       Acc  Acc confidence  Inacc confidence  Total  Same as majority  \\\n",
       "0    360.0      144.080373         44.228818  500.0               0.0   \n",
       "1    138.0       54.549385         18.237809  197.0             118.0   \n",
       "2     82.0       32.567619         11.566731  122.0              61.0   \n",
       "3     62.0       25.547840          8.319005   91.0              59.0   \n",
       "4     53.0       21.553203          6.416773   76.0              44.0   \n",
       "..     ...             ...               ...    ...               ...   \n",
       "157    1.0        0.486013          0.000000    1.0               1.0   \n",
       "158    1.0        0.487309          0.000000    1.0               1.0   \n",
       "159    1.0        0.488311          0.000000    1.0               1.0   \n",
       "160    1.0        0.489103          0.000000    1.0               1.0   \n",
       "161    1.0        0.489736          0.000000    1.0               1.0   \n",
       "\n",
       "     Acc rate  Avg acc confidence  Avg inacc confidence  \\\n",
       "0    0.720000            0.288161              0.088458   \n",
       "1    0.700508            0.276900              0.092578   \n",
       "2    0.672131            0.266948              0.094809   \n",
       "3    0.681319            0.280745              0.091418   \n",
       "4    0.697368            0.283595              0.084431   \n",
       "..        ...                 ...                   ...   \n",
       "157  1.000000            0.486013              0.000000   \n",
       "158  1.000000            0.487309              0.000000   \n",
       "159  1.000000            0.488311              0.000000   \n",
       "160  1.000000            0.489103              0.000000   \n",
       "161  1.000000            0.489736              0.000000   \n",
       "\n",
       "     Same as majority rate  Total scaled  \n",
       "0                 0.000000         1.000  \n",
       "1                 0.598985         0.394  \n",
       "2                 0.500000         0.244  \n",
       "3                 0.648352         0.182  \n",
       "4                 0.578947         0.152  \n",
       "..                     ...           ...  \n",
       "157               1.000000         0.002  \n",
       "158               1.000000         0.002  \n",
       "159               1.000000         0.002  \n",
       "160               1.000000         0.002  \n",
       "161               1.000000         0.002  \n",
       "\n",
       "[162 rows x 10 columns]"
      ]
     },
     "execution_count": 47,
     "metadata": {},
     "output_type": "execute_result"
    }
   ],
   "source": [
    "peer_votes_num_acc_df = peer_votes_num_acc_df[peer_votes_num_acc_df[\"Total\"] > 0]\n",
    "peer_votes_num_acc_df[\"Acc rate\"] = peer_votes_num_acc_df[\"Acc\"]/peer_votes_num_acc_df[\"Total\"]\n",
    "peer_votes_num_acc_df[\"Avg acc confidence\"] = peer_votes_num_acc_df[\"Acc confidence\"]/peer_votes_num_acc_df[\"Total\"]\n",
    "peer_votes_num_acc_df[\"Avg inacc confidence\"] = peer_votes_num_acc_df[\"Inacc confidence\"]/peer_votes_num_acc_df[\"Total\"]\n",
    "peer_votes_num_acc_df[\"Same as majority rate\"] = peer_votes_num_acc_df[\"Same as majority\"]/peer_votes_num_acc_df[\"Total\"]\n",
    "peer_votes_num_acc_df[\"Total scaled\"] = peer_votes_num_acc_df[\"Total\"]/max(peer_votes_num_acc_df[\"Total\"])\n",
    "peer_votes_num_acc_df"
   ]
  },
  {
   "cell_type": "code",
   "execution_count": 48,
   "metadata": {},
   "outputs": [
    {
     "name": "stdout",
     "output_type": "stream",
     "text": [
      "\u001b[1;33m------------------\u001b[0m\u001b[1;31m 2022-08-23 20:10:09 \u001b[0m\u001b[1;33m------------------\u001b[0m\n",
      "\u001b[1;33m\u001b[0m\u001b[1;32mDEBUG:\u001b[0m\u001b[1;33m at \u001b[0m\u001b[1;32m<ipython-input-48-15aafae776eb>:6 <module>\u001b[0m\u001b[1;33m\u001b[0m\n",
      "\u001b[1;33m\u001b[0m\u001b[1;36mAcc rate\u001b[0m\u001b[1;33m\u001b[0m\n",
      "\u001b[1;33m------------------\u001b[0m\u001b[1;31m 2022-08-23 20:10:09 \u001b[0m\u001b[1;33m------------------\u001b[0m\n"
     ]
    },
    {
     "data": {
      "text/plain": [
       "<AxesSubplot:ylabel='Avg acc confidence'>"
      ]
     },
     "execution_count": 48,
     "metadata": {},
     "output_type": "execute_result"
    },
    {
     "data": {
      "image/png": "[encoded data removed]",
      "text/plain": [
       "<Figure size 432x288 with 1 Axes>"
      ]
     },
     "metadata": {},
     "output_type": "display_data"
    }
   ],
   "source": [
    "def convert_df_to_dict(df: pd.DataFrame):\n",
    "    return {x:list(df[x]) for x in df}\n",
    "import seaborn as sns\n",
    "\n",
    "peer_votes_num_acc_df_part = peer_votes_num_acc_df.iloc[:50]\n",
    "debug(\"Acc rate\")\n",
    "sns.set_theme()\n",
    "sns.lineplot(data=peer_votes_num_acc_df_part, x=peer_votes_num_acc_df_part.index, y='Avg acc confidence')\n",
    "sns.lineplot(data=peer_votes_num_acc_df_part, x=peer_votes_num_acc_df_part.index, y='Total scaled')\n",
    "# ax.set_ylim(ymax=1)"
   ]
  },
  {
   "cell_type": "code",
   "execution_count": 49,
   "metadata": {},
   "outputs": [
    {
     "data": {
      "text/plain": [
       "<AxesSubplot:ylabel='Avg inacc confidence'>"
      ]
     },
     "execution_count": 49,
     "metadata": {},
     "output_type": "execute_result"
    },
    {
     "data": {
      "image/png": "[encoded data removed]",
      "text/plain": [
       "<Figure size 432x288 with 1 Axes>"
      ]
     },
     "metadata": {},
     "output_type": "display_data"
    }
   ],
   "source": [
    "sns.lineplot(data=peer_votes_num_acc_df_part, x=peer_votes_num_acc_df_part.index, y='Avg inacc confidence')\n",
    "sns.lineplot(data=peer_votes_num_acc_df_part, x=peer_votes_num_acc_df_part.index, y='Total scaled')"
   ]
  },
  {
   "cell_type": "code",
   "execution_count": 50,
   "metadata": {},
   "outputs": [
    {
     "data": {
      "text/plain": [
       "<AxesSubplot:ylabel='Acc rate'>"
      ]
     },
     "execution_count": 50,
     "metadata": {},
     "output_type": "execute_result"
    },
    {
     "data": {
      "image/png": "[encoded data removed]",
      "text/plain": [
       "<Figure size 432x288 with 1 Axes>"
      ]
     },
     "metadata": {},
     "output_type": "display_data"
    }
   ],
   "source": [
    "sns.lineplot(data=peer_votes_num_acc_df_part, x=peer_votes_num_acc_df_part.index, y='Acc rate')\n",
    "sns.lineplot(data=peer_votes_num_acc_df_part, x=peer_votes_num_acc_df_part.index, y='Total scaled')"
   ]
  },
  {
   "cell_type": "code",
   "execution_count": 51,
   "metadata": {},
   "outputs": [
    {
     "name": "stdout",
     "output_type": "stream",
     "text": [
      "\u001b[1;33m------------------\u001b[0m\u001b[1;31m 2022-08-23 20:10:10 \u001b[0m\u001b[1;33m------------------\u001b[0m\n",
      "\u001b[1;33m\u001b[0m\u001b[1;32mDEBUG:\u001b[0m\u001b[1;33m at \u001b[0m\u001b[1;32m<ipython-input-51-256f6a6658fb>:1 <module>\u001b[0m\u001b[1;33m\u001b[0m\n",
      "\u001b[1;33m\u001b[0m\u001b[1;36mSame as majority rate\u001b[0m\u001b[1;33m\u001b[0m\n",
      "\u001b[1;33m------------------\u001b[0m\u001b[1;31m 2022-08-23 20:10:10 \u001b[0m\u001b[1;33m------------------\u001b[0m\n"
     ]
    },
    {
     "data": {
      "text/plain": [
       "<AxesSubplot:ylabel='Same as majority rate'>"
      ]
     },
     "execution_count": 51,
     "metadata": {},
     "output_type": "execute_result"
    },
    {
     "data": {
      "image/png": "[encoded data removed]",
      "text/plain": [
       "<Figure size 432x288 with 1 Axes>"
      ]
     },
     "metadata": {},
     "output_type": "display_data"
    }
   ],
   "source": [
    "debug(\"Same as majority rate\")\n",
    "sns.lineplot(data=peer_votes_num_acc_df_part, x=peer_votes_num_acc_df_part.index, y='Same as majority rate')\n",
    "sns.lineplot(data=peer_votes_num_acc_df_part, x=peer_votes_num_acc_df_part.index, y='Total scaled')\n"
   ]
  }
 ],
 "metadata": {
  "kernelspec": {
   "display_name": "Python 3.6.12 ('cr4')",
   "language": "python",
   "name": "python3"
  },
  "language_info": {
   "codemirror_mode": {
    "name": "ipython",
    "version": 3
   },
   "file_extension": ".py",
   "mimetype": "text/x-python",
   "name": "python",
   "nbconvert_exporter": "python",
   "pygments_lexer": "ipython3",
   "version": "3.6.12"
  },
  "orig_nbformat": 4,
  "vscode": {
   "interpreter": {
    "hash": "740471d2bc5e6e0b41d12bdc2e64373746aa6a34800f381ff958ff5f02fa0c53"
   }
  }
 },
 "nbformat": 4,
 "nbformat_minor": 2
}
