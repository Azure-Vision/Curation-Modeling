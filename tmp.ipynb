{
 "cells": [
  {
   "cell_type": "code",
   "execution_count": 5,
   "metadata": {},
   "outputs": [],
   "source": [
    "a= {'/News/Politics': [26], '/News': [5], '/Law & Government': [4], '/Arts & Entertainment': [3], '/Law & Government/Government': [2], '/Sensitive Subjects': [2], '/Law & Government/Public Safety': [1], '/Law & Government/Legal/Legal Education': [1], '/Jobs & Education/Education/Colleges & Universities': [1], '/Law & Government/Public Safety/Law Enforcement': [1], '/Online Communities/Social Networks': [1], '/Online Communities/Blogging Resources & Services': [1], '/Law & Government/Legal': [1], '/Autos & Vehicles/Vehicle Codes & Driving Laws': [1], '/Autos & Vehicles/Motor Vehicles (By Type)/Hybrid & Alternative Vehicles': [1], '/People & Society/Social Issues & Advocacy': [1], '/Law & Government/Legal/Legal Services': [1]}\n",
    "import pandas as pd\n",
    "b = pd.DataFrame.from_dict(a)"
   ]
  },
  {
   "cell_type": "code",
   "execution_count": 11,
   "metadata": {},
   "outputs": [
    {
     "data": {
      "text/html": [
       "<div>\n",
       "<style scoped>\n",
       "    .dataframe tbody tr th:only-of-type {\n",
       "        vertical-align: middle;\n",
       "    }\n",
       "\n",
       "    .dataframe tbody tr th {\n",
       "        vertical-align: top;\n",
       "    }\n",
       "\n",
       "    .dataframe thead th {\n",
       "        text-align: right;\n",
       "    }\n",
       "</style>\n",
       "<table border=\"1\" class=\"dataframe\">\n",
       "  <thead>\n",
       "    <tr style=\"text-align: right;\">\n",
       "      <th></th>\n",
       "      <th>0</th>\n",
       "    </tr>\n",
       "  </thead>\n",
       "  <tbody>\n",
       "    <tr>\n",
       "      <th>/News/Politics</th>\n",
       "      <td>26</td>\n",
       "    </tr>\n",
       "    <tr>\n",
       "      <th>/News</th>\n",
       "      <td>5</td>\n",
       "    </tr>\n",
       "    <tr>\n",
       "      <th>/Law &amp; Government</th>\n",
       "      <td>4</td>\n",
       "    </tr>\n",
       "    <tr>\n",
       "      <th>/Arts &amp; Entertainment</th>\n",
       "      <td>3</td>\n",
       "    </tr>\n",
       "    <tr>\n",
       "      <th>/Law &amp; Government/Government</th>\n",
       "      <td>2</td>\n",
       "    </tr>\n",
       "    <tr>\n",
       "      <th>/Sensitive Subjects</th>\n",
       "      <td>2</td>\n",
       "    </tr>\n",
       "    <tr>\n",
       "      <th>/Law &amp; Government/Public Safety</th>\n",
       "      <td>1</td>\n",
       "    </tr>\n",
       "    <tr>\n",
       "      <th>/Law &amp; Government/Legal/Legal Education</th>\n",
       "      <td>1</td>\n",
       "    </tr>\n",
       "    <tr>\n",
       "      <th>/Jobs &amp; Education/Education/Colleges &amp; Universities</th>\n",
       "      <td>1</td>\n",
       "    </tr>\n",
       "    <tr>\n",
       "      <th>/Law &amp; Government/Public Safety/Law Enforcement</th>\n",
       "      <td>1</td>\n",
       "    </tr>\n",
       "    <tr>\n",
       "      <th>/Online Communities/Social Networks</th>\n",
       "      <td>1</td>\n",
       "    </tr>\n",
       "    <tr>\n",
       "      <th>/Online Communities/Blogging Resources &amp; Services</th>\n",
       "      <td>1</td>\n",
       "    </tr>\n",
       "    <tr>\n",
       "      <th>/Law &amp; Government/Legal</th>\n",
       "      <td>1</td>\n",
       "    </tr>\n",
       "    <tr>\n",
       "      <th>/Autos &amp; Vehicles/Vehicle Codes &amp; Driving Laws</th>\n",
       "      <td>1</td>\n",
       "    </tr>\n",
       "    <tr>\n",
       "      <th>/Autos &amp; Vehicles/Motor Vehicles (By Type)/Hybrid &amp; Alternative Vehicles</th>\n",
       "      <td>1</td>\n",
       "    </tr>\n",
       "    <tr>\n",
       "      <th>/People &amp; Society/Social Issues &amp; Advocacy</th>\n",
       "      <td>1</td>\n",
       "    </tr>\n",
       "    <tr>\n",
       "      <th>/Law &amp; Government/Legal/Legal Services</th>\n",
       "      <td>1</td>\n",
       "    </tr>\n",
       "  </tbody>\n",
       "</table>\n",
       "</div>"
      ],
      "text/plain": [
       "                                                     0\n",
       "/News/Politics                                      26\n",
       "/News                                                5\n",
       "/Law & Government                                    4\n",
       "/Arts & Entertainment                                3\n",
       "/Law & Government/Government                         2\n",
       "/Sensitive Subjects                                  2\n",
       "/Law & Government/Public Safety                      1\n",
       "/Law & Government/Legal/Legal Education              1\n",
       "/Jobs & Education/Education/Colleges & Universi...   1\n",
       "/Law & Government/Public Safety/Law Enforcement      1\n",
       "/Online Communities/Social Networks                  1\n",
       "/Online Communities/Blogging Resources & Services    1\n",
       "/Law & Government/Legal                              1\n",
       "/Autos & Vehicles/Vehicle Codes & Driving Laws       1\n",
       "/Autos & Vehicles/Motor Vehicles (By Type)/Hybr...   1\n",
       "/People & Society/Social Issues & Advocacy           1\n",
       "/Law & Government/Legal/Legal Services               1"
      ]
     },
     "execution_count": 11,
     "metadata": {},
     "output_type": "execute_result"
    }
   ],
   "source": [
    "b = b.transpose()\n"
   ]
  },
  {
   "cell_type": "code",
   "execution_count": 18,
   "metadata": {},
   "outputs": [
    {
     "data": {
      "text/plain": [
       "<AxesSubplot:ylabel='0'>"
      ]
     },
     "execution_count": 18,
     "metadata": {},
     "output_type": "execute_result"
    },
    {
     "data": {
      "image/png": "[encoded data removed]",
      "text/plain": [
       "<Figure size 432x288 with 1 Axes>"
      ]
     },
     "metadata": {
      "needs_background": "light"
     },
     "output_type": "display_data"
    }
   ],
   "source": [
    "import seaborn as sns\n",
    "sns.barplot(x=b.index, y=b[0])"
   ]
  }
 ],
 "metadata": {
  "kernelspec": {
   "display_name": "Python 3.6.12 ('cr4')",
   "language": "python",
   "name": "python3"
  },
  "language_info": {
   "codemirror_mode": {
    "name": "ipython",
    "version": 3
   },
   "file_extension": ".py",
   "mimetype": "text/x-python",
   "name": "python",
   "nbconvert_exporter": "python",
   "pygments_lexer": "ipython3",
   "version": "3.6.12"
  },
  "orig_nbformat": 4,
  "vscode": {
   "interpreter": {
    "hash": "740471d2bc5e6e0b41d12bdc2e64373746aa6a34800f381ff958ff5f02fa0c53"
   }
  }
 },
 "nbformat": 4,
 "nbformat_minor": 2
}
